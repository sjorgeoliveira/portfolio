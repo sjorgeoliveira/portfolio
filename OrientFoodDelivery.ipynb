{
 "cells": [
  {
   "cell_type": "markdown",
   "metadata": {},
   "source": [
    "<div class=\"alert alert-block alert-warning\">\n",
    "<h1> Orient Food Delivery Data Science Project - Product Segmentation</h1>\n",
    "</div>"
   ]
  },
  {
   "cell_type": "markdown",
   "metadata": {},
   "source": [
    "<div class=\"alert alert-block alert-info\">\n",
    "<h2>Mains Steps</h2>\n",
    "<ol style=\"list-style-type: decimal-leading-zero; padding-bottom: 0;\">\n",
    "    <li><h3>Business Statement</h3></li>\n",
    "    <li><h3>Business Data Understanding</h3></li>\n",
    "    <li><h3>Data Wrangling</h3></li>\n",
    "    <li><h3>Feature Engineering</h3></li>\n",
    "    <li><h3>Exploratory Analysis</h3></li>\n",
    "    <li><h3>Business Oportunity - Products Combos by Client Orders</h3></li>\n",
    "    <li><h3>Business Oportunity - Data Classification by Machine Learning</h3></li>\n",
    "    <li><h3>Conclusions and Insights</h3></li>\n",
    "</ol>\n",
    "</div>"
   ]
  },
  {
   "cell_type": "markdown",
   "metadata": {},
   "source": [
    "<div class=\"alert alert-block alert-info\">\n",
    "<h2>01. Business Statement</h2>\n",
    "\n",
    "> The Orient Food Delivery, OFD, needs know its sales standars more deeply.\n",
    "\n",
    "> The object is to figure out business oportunities to growth sales with product combinations that match by clients orders.\n",
    "\n",
    "> These opportunities must be documented in order to send business board of company\n",
    "\n",
    "> During the project it will be a must, nice to have, clients group by some way in order to explorer marketing initiatives.\n",
    "\n",
    "</div>"
   ]
  },
  {
   "cell_type": "markdown",
   "metadata": {},
   "source": [
    "<div class=\"alert alert-block alert-info\">\n",
    "<h2>02. Business Data Understanding</h2>\n",
    "\n",
    "> The business data is deliveried as a CVS file.\n",
    "\n",
    "> First of all, it´s necessary create a OFD Data Dictionary of these data \"AS IS\".\n",
    "\n",
    "</div>"
   ]
  },
  {
   "cell_type": "code",
   "execution_count": null,
   "metadata": {},
   "outputs": [],
   "source": []
  },
  {
   "cell_type": "code",
   "execution_count": 1,
   "metadata": {},
   "outputs": [],
   "source": [
    "# Imports\n",
    "\n",
    "# Data Visualization and Manupulation\n",
    "import time\n",
    "import sklearn\n",
    "import datetime\n",
    "import numpy as np\n",
    "import pandas as pd\n",
    "import seaborn as sns \n",
    "import matplotlib as m\n",
    "import matplotlib.pyplot as plt\n",
    "\n",
    "# Machine Learning\n",
    "from sklearn.cluster import KMeans\n",
    "from sklearn import metrics\n",
    "from sklearn.preprocessing import MinMaxScaler\n",
    "\n",
    "# Text Combinations e Count\n",
    "from itertools import combinations\n",
    "from collections import Counter\n",
    "\n",
    "# Plots Format\n",
    "plt.style.use('fivethirtyeight')\n",
    "plt.figure(1 , figsize = (15 , 6))\n",
    "%matplotlib inline"
   ]
  },
  {
   "cell_type": "markdown",
   "metadata": {},
   "source": [
    "<div class=\"alert alert-block alert-info\">\n",
    "<h2>02. Business Data Understanding</h2>\n",
    "<h3>02.1 Open, Show Document Information of CSV File</h3>\n",
    "</div>"
   ]
  },
  {
   "cell_type": "code",
   "execution_count": 2,
   "metadata": {},
   "outputs": [],
   "source": [
    "# Read the data file with the header as first line and semicolon as the delimiting character.\n",
    "dfPureData = pd.read_csv(\"data/OrientFoodDelivery.csv\",header=0, sep=\";\")"
   ]
  },
  {
   "cell_type": "code",
   "execution_count": 3,
   "metadata": {},
   "outputs": [
    {
     "data": {
      "text/plain": [
       "(9110, 15)"
      ]
     },
     "execution_count": 3,
     "metadata": {},
     "output_type": "execute_result"
    }
   ],
   "source": [
    "# Figure out the shape of this file (9110 Observations and 15 Collumns)\n",
    "dfPureData.shape"
   ]
  },
  {
   "cell_type": "code",
   "execution_count": 4,
   "metadata": {},
   "outputs": [
    {
     "data": {
      "text/html": [
       "<div>\n",
       "<style scoped>\n",
       "    .dataframe tbody tr th:only-of-type {\n",
       "        vertical-align: middle;\n",
       "    }\n",
       "\n",
       "    .dataframe tbody tr th {\n",
       "        vertical-align: top;\n",
       "    }\n",
       "\n",
       "    .dataframe thead th {\n",
       "        text-align: right;\n",
       "    }\n",
       "</style>\n",
       "<table border=\"1\" class=\"dataframe\">\n",
       "  <thead>\n",
       "    <tr style=\"text-align: right;\">\n",
       "      <th></th>\n",
       "      <th>Date</th>\n",
       "      <th>Sale_ID</th>\n",
       "      <th>Product_ID</th>\n",
       "      <th>Product_Name</th>\n",
       "      <th>Portion</th>\n",
       "      <th>Product_Type</th>\n",
       "      <th>Preparation</th>\n",
       "      <th>Product_Value</th>\n",
       "      <th>Payment_Method</th>\n",
       "      <th>Sales_Channel</th>\n",
       "      <th>Sale_City</th>\n",
       "      <th>District_ID</th>\n",
       "      <th>District_Name</th>\n",
       "      <th>City_Region</th>\n",
       "      <th>Client_Sex</th>\n",
       "    </tr>\n",
       "  </thead>\n",
       "  <tbody>\n",
       "    <tr>\n",
       "      <th>0</th>\n",
       "      <td>01/09/2018</td>\n",
       "      <td>47917.0</td>\n",
       "      <td>3.0</td>\n",
       "      <td>Chicken Yakisoba 1Pe</td>\n",
       "      <td>1 Person</td>\n",
       "      <td>Food</td>\n",
       "      <td>Cooked</td>\n",
       "      <td>28.90</td>\n",
       "      <td>Payment On-line</td>\n",
       "      <td>Ifood</td>\n",
       "      <td>Sao Paulo</td>\n",
       "      <td>18.0</td>\n",
       "      <td>Eucalyptus Forest</td>\n",
       "      <td>South</td>\n",
       "      <td>Male</td>\n",
       "    </tr>\n",
       "    <tr>\n",
       "      <th>1</th>\n",
       "      <td>01/09/2018</td>\n",
       "      <td>47918.0</td>\n",
       "      <td>47.0</td>\n",
       "      <td>Chess Chicken / Samurai Rice</td>\n",
       "      <td>2 Persons</td>\n",
       "      <td>Food</td>\n",
       "      <td>Cooked</td>\n",
       "      <td>30.90</td>\n",
       "      <td>Credit</td>\n",
       "      <td>N/I</td>\n",
       "      <td>Sao Paulo</td>\n",
       "      <td>97.0</td>\n",
       "      <td>American Garden</td>\n",
       "      <td>East</td>\n",
       "      <td>Female</td>\n",
       "    </tr>\n",
       "    <tr>\n",
       "      <th>2</th>\n",
       "      <td>01/09/2018</td>\n",
       "      <td>47918.0</td>\n",
       "      <td>49.0</td>\n",
       "      <td>Hot Roll Katana</td>\n",
       "      <td>2 Units</td>\n",
       "      <td>Food</td>\n",
       "      <td>Fried</td>\n",
       "      <td>16.90</td>\n",
       "      <td>Credit</td>\n",
       "      <td>N/I</td>\n",
       "      <td>Sao Paulo</td>\n",
       "      <td>97.0</td>\n",
       "      <td>American Garden</td>\n",
       "      <td>East</td>\n",
       "      <td>Female</td>\n",
       "    </tr>\n",
       "    <tr>\n",
       "      <th>3</th>\n",
       "      <td>01/09/2018</td>\n",
       "      <td>47919.0</td>\n",
       "      <td>47.0</td>\n",
       "      <td>Chess Chicken / Samurai Rice</td>\n",
       "      <td>2 Persons</td>\n",
       "      <td>Food</td>\n",
       "      <td>Cooked</td>\n",
       "      <td>30.90</td>\n",
       "      <td>Credit</td>\n",
       "      <td>N/I</td>\n",
       "      <td>Sao Paulo</td>\n",
       "      <td>179.0</td>\n",
       "      <td>Sant Ines Garden I</td>\n",
       "      <td>East</td>\n",
       "      <td>Female</td>\n",
       "    </tr>\n",
       "    <tr>\n",
       "      <th>4</th>\n",
       "      <td>01/09/2018</td>\n",
       "      <td>47920.0</td>\n",
       "      <td>49.0</td>\n",
       "      <td>Hot Roll Katana</td>\n",
       "      <td>2 Units</td>\n",
       "      <td>Food</td>\n",
       "      <td>Fried</td>\n",
       "      <td>16.90</td>\n",
       "      <td>Cash</td>\n",
       "      <td>N/I</td>\n",
       "      <td>Sao Paulo</td>\n",
       "      <td>146.0</td>\n",
       "      <td>Marian Garden</td>\n",
       "      <td>East</td>\n",
       "      <td>Male</td>\n",
       "    </tr>\n",
       "  </tbody>\n",
       "</table>\n",
       "</div>"
      ],
      "text/plain": [
       "         Date  Sale_ID  Product_ID                  Product_Name    Portion  \\\n",
       "0  01/09/2018  47917.0         3.0          Chicken Yakisoba 1Pe   1 Person   \n",
       "1  01/09/2018  47918.0        47.0  Chess Chicken / Samurai Rice  2 Persons   \n",
       "2  01/09/2018  47918.0        49.0               Hot Roll Katana    2 Units   \n",
       "3  01/09/2018  47919.0        47.0  Chess Chicken / Samurai Rice  2 Persons   \n",
       "4  01/09/2018  47920.0        49.0               Hot Roll Katana    2 Units   \n",
       "\n",
       "  Product_Type Preparation Product_Value   Payment_Method Sales_Channel  \\\n",
       "0         Food      Cooked        28.90   Payment On-line         Ifood   \n",
       "1         Food      Cooked        30.90            Credit           N/I   \n",
       "2         Food       Fried        16.90            Credit           N/I   \n",
       "3         Food      Cooked        30.90            Credit           N/I   \n",
       "4         Food       Fried        16.90              Cash           N/I   \n",
       "\n",
       "   Sale_City  District_ID       District_Name City_Region Client_Sex  \n",
       "0  Sao Paulo         18.0   Eucalyptus Forest       South       Male  \n",
       "1  Sao Paulo         97.0     American Garden        East     Female  \n",
       "2  Sao Paulo         97.0     American Garden        East     Female  \n",
       "3  Sao Paulo        179.0  Sant Ines Garden I        East     Female  \n",
       "4  Sao Paulo        146.0       Marian Garden        East       Male  "
      ]
     },
     "execution_count": 4,
     "metadata": {},
     "output_type": "execute_result"
    }
   ],
   "source": [
    "# Displaying Some Data\n",
    "dfPureData.head()"
   ]
  },
  {
   "cell_type": "markdown",
   "metadata": {},
   "source": [
    "<div class=\"alert alert-block alert-info\">\n",
    "<h2>02. Business Data Understanding</h2>\n",
    "<h3>02.2 Data Dictionary from CSV File Provided</h3>\n",
    "</div>\n",
    " \n",
    " Data Dictionary\n",
    " \n",
    "Field | Meaning\n",
    "------------ | -------------\n",
    " Date | Sale Date\n",
    "Sale_ID | Transaction ID from one sale. One Sale_ID can appears more than once due its number of items.\n",
    "Product_Name | Name of the product.\n",
    "Portion | It is a portion type of product.\n",
    "Product_Type | It is a product type. Ex. Food, Drink, Dessert, Complement\n",
    "Preparation | It is product item preparation type.\n",
    "Product_Value | It is product item price.\n",
    "Payment_Method | It is payment mode.\n",
    "Sales_Channel | It is a Sales Channel as Ifood, Uber Eats, etc.\n",
    "Sale_City | It is the city name of sale.\n",
    "District_ID | It district id of sale.\n",
    "District_Name | It is district name of sale.\n",
    "City_Region | It is District Region of sale like South, East and so on.\n",
    "Client_Sex | It is a client sex, showing by its name."
   ]
  },
  {
   "cell_type": "markdown",
   "metadata": {},
   "source": [
    "<div class=\"alert alert-block alert-info\">\n",
    "<h1>03. Data Wrangling</h1>\n",
    "\n",
    "> Find information with too many missing values.\n",
    "\n",
    "> Find information with insufficient number of occurrences for business analysis.\n",
    "    \n",
    "> Find and correct wrong information contents.\n",
    "    \n",
    "> Dicard not relevant information for the project.\n",
    "\n",
    "</div>"
   ]
  },
  {
   "cell_type": "markdown",
   "metadata": {},
   "source": [
    "<div class=\"alert alert-block alert-info\">\n",
    "<h2>03. Data Wrangling</h2>\n",
    "<h3>03.1 Missing Values Investigation</h3>\n",
    "</div>"
   ]
  },
  {
   "cell_type": "code",
   "execution_count": 5,
   "metadata": {},
   "outputs": [
    {
     "name": "stdout",
     "output_type": "stream",
     "text": [
      "Data Missing Values Percentage %\n",
      " \n",
      "Client_Sex        88.10\n",
      "Portion            3.81\n",
      "Product_ID         0.07\n",
      "Product_Name       0.07\n",
      "Product_Type       0.07\n",
      "Preparation        0.07\n",
      "Date               0.01\n",
      "Sale_ID            0.01\n",
      "Product_Value      0.01\n",
      "Payment_Method     0.01\n",
      "Sales_Channel      0.01\n",
      "Sale_City          0.01\n",
      "District_ID        0.01\n",
      "District_Name      0.01\n",
      "City_Region        0.01\n",
      "dtype: float64\n"
     ]
    }
   ],
   "source": [
    "print (\"Data Missing Values Percentage %\")\n",
    "print (\" \")\n",
    "print (round((dfPureData.isnull().sum() * 100/ len(dfPureData)),2).sort_values(ascending=False))"
   ]
  },
  {
   "cell_type": "markdown",
   "metadata": {},
   "source": [
    "#### It seems that Client_Sex can be discard due its high missing values percentage. Before discard Client_Sex field, it is health generate some statistics of it to be inform to."
   ]
  },
  {
   "cell_type": "code",
   "execution_count": 6,
   "metadata": {
    "scrolled": true
   },
   "outputs": [
    {
     "name": "stdout",
     "output_type": "stream",
     "text": [
      "Client_Sex Field Missing Values Number is 8026 of Total 9110 Observations!\n"
     ]
    }
   ],
   "source": [
    "print(\"Client_Sex Field Missing Values Number is \" + str(dfPureData.Client_Sex.isnull().sum()) +  \\\n",
    "      \" of Total \" + str(len(dfPureData)) + \" Observations!\") "
   ]
  },
  {
   "cell_type": "code",
   "execution_count": 7,
   "metadata": {},
   "outputs": [
    {
     "data": {
      "text/plain": [
       "Female    588\n",
       "Male      496\n",
       "Name: Client_Sex, dtype: int64"
      ]
     },
     "execution_count": 7,
     "metadata": {},
     "output_type": "execute_result"
    }
   ],
   "source": [
    "# Client_Sex Field really seems to be candidate to discard.\n",
    "# Discorver more information about this Field in the context.\n",
    "dfPureData.Client_Sex.value_counts()"
   ]
  },
  {
   "cell_type": "code",
   "execution_count": 8,
   "metadata": {},
   "outputs": [
    {
     "data": {
      "text/plain": [
       "count       1084\n",
       "unique         2\n",
       "top       Female\n",
       "freq         588\n",
       "Name: Client_Sex, dtype: object"
      ]
     },
     "execution_count": 8,
     "metadata": {},
     "output_type": "execute_result"
    }
   ],
   "source": [
    "dfPureData.Client_Sex.describe()\n",
    "# It seems that Female Sex is more frequent that Male, \n",
    "# but Client_Sex observations number IS NOT ENOUGH to this conclusion aganst number total observations."
   ]
  },
  {
   "cell_type": "code",
   "execution_count": 9,
   "metadata": {},
   "outputs": [],
   "source": [
    "# Discard Client_Sex Column\n",
    "dfPureData.drop('Client_Sex',axis=1,inplace=True)"
   ]
  },
  {
   "cell_type": "code",
   "execution_count": 10,
   "metadata": {},
   "outputs": [
    {
     "data": {
      "text/html": [
       "<div>\n",
       "<style scoped>\n",
       "    .dataframe tbody tr th:only-of-type {\n",
       "        vertical-align: middle;\n",
       "    }\n",
       "\n",
       "    .dataframe tbody tr th {\n",
       "        vertical-align: top;\n",
       "    }\n",
       "\n",
       "    .dataframe thead th {\n",
       "        text-align: right;\n",
       "    }\n",
       "</style>\n",
       "<table border=\"1\" class=\"dataframe\">\n",
       "  <thead>\n",
       "    <tr style=\"text-align: right;\">\n",
       "      <th></th>\n",
       "      <th>Date</th>\n",
       "      <th>Sale_ID</th>\n",
       "      <th>Product_ID</th>\n",
       "      <th>Product_Name</th>\n",
       "      <th>Portion</th>\n",
       "      <th>Product_Type</th>\n",
       "      <th>Preparation</th>\n",
       "      <th>Product_Value</th>\n",
       "      <th>Payment_Method</th>\n",
       "      <th>Sales_Channel</th>\n",
       "      <th>Sale_City</th>\n",
       "      <th>District_ID</th>\n",
       "      <th>District_Name</th>\n",
       "      <th>City_Region</th>\n",
       "    </tr>\n",
       "  </thead>\n",
       "  <tbody>\n",
       "    <tr>\n",
       "      <th>0</th>\n",
       "      <td>01/09/2018</td>\n",
       "      <td>47917.0</td>\n",
       "      <td>3.0</td>\n",
       "      <td>Chicken Yakisoba 1Pe</td>\n",
       "      <td>1 Person</td>\n",
       "      <td>Food</td>\n",
       "      <td>Cooked</td>\n",
       "      <td>28.90</td>\n",
       "      <td>Payment On-line</td>\n",
       "      <td>Ifood</td>\n",
       "      <td>Sao Paulo</td>\n",
       "      <td>18.0</td>\n",
       "      <td>Eucalyptus Forest</td>\n",
       "      <td>South</td>\n",
       "    </tr>\n",
       "    <tr>\n",
       "      <th>1</th>\n",
       "      <td>01/09/2018</td>\n",
       "      <td>47918.0</td>\n",
       "      <td>47.0</td>\n",
       "      <td>Chess Chicken / Samurai Rice</td>\n",
       "      <td>2 Persons</td>\n",
       "      <td>Food</td>\n",
       "      <td>Cooked</td>\n",
       "      <td>30.90</td>\n",
       "      <td>Credit</td>\n",
       "      <td>N/I</td>\n",
       "      <td>Sao Paulo</td>\n",
       "      <td>97.0</td>\n",
       "      <td>American Garden</td>\n",
       "      <td>East</td>\n",
       "    </tr>\n",
       "    <tr>\n",
       "      <th>2</th>\n",
       "      <td>01/09/2018</td>\n",
       "      <td>47918.0</td>\n",
       "      <td>49.0</td>\n",
       "      <td>Hot Roll Katana</td>\n",
       "      <td>2 Units</td>\n",
       "      <td>Food</td>\n",
       "      <td>Fried</td>\n",
       "      <td>16.90</td>\n",
       "      <td>Credit</td>\n",
       "      <td>N/I</td>\n",
       "      <td>Sao Paulo</td>\n",
       "      <td>97.0</td>\n",
       "      <td>American Garden</td>\n",
       "      <td>East</td>\n",
       "    </tr>\n",
       "    <tr>\n",
       "      <th>3</th>\n",
       "      <td>01/09/2018</td>\n",
       "      <td>47919.0</td>\n",
       "      <td>47.0</td>\n",
       "      <td>Chess Chicken / Samurai Rice</td>\n",
       "      <td>2 Persons</td>\n",
       "      <td>Food</td>\n",
       "      <td>Cooked</td>\n",
       "      <td>30.90</td>\n",
       "      <td>Credit</td>\n",
       "      <td>N/I</td>\n",
       "      <td>Sao Paulo</td>\n",
       "      <td>179.0</td>\n",
       "      <td>Sant Ines Garden I</td>\n",
       "      <td>East</td>\n",
       "    </tr>\n",
       "    <tr>\n",
       "      <th>4</th>\n",
       "      <td>01/09/2018</td>\n",
       "      <td>47920.0</td>\n",
       "      <td>49.0</td>\n",
       "      <td>Hot Roll Katana</td>\n",
       "      <td>2 Units</td>\n",
       "      <td>Food</td>\n",
       "      <td>Fried</td>\n",
       "      <td>16.90</td>\n",
       "      <td>Cash</td>\n",
       "      <td>N/I</td>\n",
       "      <td>Sao Paulo</td>\n",
       "      <td>146.0</td>\n",
       "      <td>Marian Garden</td>\n",
       "      <td>East</td>\n",
       "    </tr>\n",
       "  </tbody>\n",
       "</table>\n",
       "</div>"
      ],
      "text/plain": [
       "         Date  Sale_ID  Product_ID                  Product_Name    Portion  \\\n",
       "0  01/09/2018  47917.0         3.0          Chicken Yakisoba 1Pe   1 Person   \n",
       "1  01/09/2018  47918.0        47.0  Chess Chicken / Samurai Rice  2 Persons   \n",
       "2  01/09/2018  47918.0        49.0               Hot Roll Katana    2 Units   \n",
       "3  01/09/2018  47919.0        47.0  Chess Chicken / Samurai Rice  2 Persons   \n",
       "4  01/09/2018  47920.0        49.0               Hot Roll Katana    2 Units   \n",
       "\n",
       "  Product_Type Preparation Product_Value   Payment_Method Sales_Channel  \\\n",
       "0         Food      Cooked        28.90   Payment On-line         Ifood   \n",
       "1         Food      Cooked        30.90            Credit           N/I   \n",
       "2         Food       Fried        16.90            Credit           N/I   \n",
       "3         Food      Cooked        30.90            Credit           N/I   \n",
       "4         Food       Fried        16.90              Cash           N/I   \n",
       "\n",
       "   Sale_City  District_ID       District_Name City_Region  \n",
       "0  Sao Paulo         18.0   Eucalyptus Forest       South  \n",
       "1  Sao Paulo         97.0     American Garden        East  \n",
       "2  Sao Paulo         97.0     American Garden        East  \n",
       "3  Sao Paulo        179.0  Sant Ines Garden I        East  \n",
       "4  Sao Paulo        146.0       Marian Garden        East  "
      ]
     },
     "execution_count": 10,
     "metadata": {},
     "output_type": "execute_result"
    }
   ],
   "source": [
    "dfPureData.head()"
   ]
  },
  {
   "cell_type": "code",
   "execution_count": null,
   "metadata": {},
   "outputs": [],
   "source": []
  },
  {
   "cell_type": "code",
   "execution_count": 11,
   "metadata": {},
   "outputs": [
    {
     "name": "stdout",
     "output_type": "stream",
     "text": [
      "[5688, 5724, 5725, 6199, 6424, 9109]\n"
     ]
    }
   ],
   "source": [
    "# Missing Values Investigation of Product_Name\n",
    "print (dfPureData[dfPureData[\"Product_Name\"].isnull()].index.tolist())"
   ]
  },
  {
   "cell_type": "code",
   "execution_count": 12,
   "metadata": {},
   "outputs": [
    {
     "name": "stdout",
     "output_type": "stream",
     "text": [
      "[]\n"
     ]
    }
   ],
   "source": [
    "dfPureData.drop([5688, 5724, 5725, 6199, 6424, 9109], inplace=True)\n",
    "\n",
    "print (dfPureData[dfPureData[\"Product_Name\"].isnull()].index.tolist())"
   ]
  },
  {
   "cell_type": "code",
   "execution_count": 13,
   "metadata": {},
   "outputs": [
    {
     "name": "stdout",
     "output_type": "stream",
     "text": [
      "Data Missing Values Percentage %\n",
      " \n",
      "Portion           3.75\n",
      "Date              0.00\n",
      "Sale_ID           0.00\n",
      "Product_ID        0.00\n",
      "Product_Name      0.00\n",
      "Product_Type      0.00\n",
      "Preparation       0.00\n",
      "Product_Value     0.00\n",
      "Payment_Method    0.00\n",
      "Sales_Channel     0.00\n",
      "Sale_City         0.00\n",
      "District_ID       0.00\n",
      "District_Name     0.00\n",
      "City_Region       0.00\n",
      "dtype: float64\n"
     ]
    }
   ],
   "source": [
    "# Check again Missing Values Percentage \n",
    "print (\"Data Missing Values Percentage %\")\n",
    "print (\" \")\n",
    "print (round((dfPureData.isnull().sum() * 100/ len(dfPureData)),2).sort_values(ascending=False))"
   ]
  },
  {
   "cell_type": "markdown",
   "metadata": {},
   "source": [
    "<div class=\"alert alert-block alert-info\">\n",
    "<h2>03. Data Wrangling</h2>\n",
    "<h3>03.2 Wrong Information Contents Investigation</h3>\n",
    "</div>"
   ]
  },
  {
   "cell_type": "code",
   "execution_count": 14,
   "metadata": {},
   "outputs": [
    {
     "name": "stdout",
     "output_type": "stream",
     "text": [
      "['Chicken Yakisoba 1Pe' 'Chess Chicken / Samurai Rice' 'Hot Roll Katana'\n",
      " 'Banana Spring Roll w / Chocolate 3uG' 'Chicken Bacon Yakisoba 1Pe'\n",
      " 'Meat Yakisoba 1Pe' 'Filet Mignon Yakisoba 1Pe' 'Shrimp Yakisoba 1Pe'\n",
      " 'Yaki China 1pe' 'Mixed Yakisoba 1Pe' 'Samurai Fortune Cookie'\n",
      " 'Bid China Spring Roll' 'Vegetarian Yakisoba 1Pe' 'Chinese Pastel 1Per'\n",
      " 'Spring Roll 3 Cheeses 3uG' 'Spring Roll Vegetables 3uG'\n",
      " 'Spring Roll Romeo and Juliet 3uG' 'Pork Loin Yakisoba 1Pe'\n",
      " 'Bacon Yakisoba 1Pe' 'Yaki Samurai' 'Bid Chicken Chess Dojo'\n",
      " 'Spring Roll Shrimp w / Catupiry 3uG' 'Special Samurai Yakisoba 2pe'\n",
      " 'Spring Roll Chicken w/ Cream Cheese 3uG' 'Kit Kids']\n"
     ]
    }
   ],
   "source": [
    "# Product Name seems need some clean action to delete \"w/\" and \"w /\" of its content.\n",
    "print(dfPureData.Product_Name.unique())"
   ]
  },
  {
   "cell_type": "code",
   "execution_count": 15,
   "metadata": {},
   "outputs": [
    {
     "name": "stdout",
     "output_type": "stream",
     "text": [
      "['Chicken Yakisoba 1Pe' 'Chess Chicken Samurai Rice' 'Hot Roll Katana'\n",
      " 'Banana Spring Roll Chocolate 3uG' 'Chicken Bacon Yakisoba 1Pe'\n",
      " 'Meat Yakisoba 1Pe' 'Filet Mignon Yakisoba 1Pe' 'Shrimp Yakisoba 1Pe'\n",
      " 'Yaki China 1pe' 'Mixed Yakisoba 1Pe' 'Samurai Fortune Cookie'\n",
      " 'Bid China Spring Roll' 'Vegetarian Yakisoba 1Pe' 'Chinese Pastel 1Per'\n",
      " 'Spring Roll 3 Cheeses 3uG' 'Spring Roll Vegetables 3uG'\n",
      " 'Spring Roll Romeo and Juliet 3uG' 'Pork Loin Yakisoba 1Pe'\n",
      " 'Bacon Yakisoba 1Pe' 'Yaki Samurai' 'Bid Chicken Chess Dojo'\n",
      " 'Spring Roll Shrimp Catupiry 3uG' 'Special Samurai Yakisoba 2pe'\n",
      " 'Spring Roll Chicken Cream Cheese 3uG' 'Kit Kids']\n"
     ]
    }
   ],
   "source": [
    "dfPureData[\"Product_Name\"] = dfPureData[\"Product_Name\"].str.replace(\"w/ \",\"\", case = False)\n",
    "dfPureData[\"Product_Name\"] = dfPureData[\"Product_Name\"].str.replace(\"w /\",\"\", case = False)\n",
    "dfPureData[\"Product_Name\"] = dfPureData[\"Product_Name\"].str.replace(\"/\",\"\", case = False)\n",
    "dfPureData[\"Product_Name\"] = dfPureData[\"Product_Name\"].str.replace(\"  \",\" \")\n",
    "dfPureData[\"Product_Name\"] = dfPureData[\"Product_Name\"].str.replace(\"   \",\" \")\n",
    "\n",
    "print(dfPureData.Product_Name.unique())"
   ]
  },
  {
   "cell_type": "code",
   "execution_count": null,
   "metadata": {},
   "outputs": [],
   "source": []
  },
  {
   "cell_type": "code",
   "execution_count": null,
   "metadata": {},
   "outputs": [],
   "source": []
  },
  {
   "cell_type": "markdown",
   "metadata": {},
   "source": [
    "<div class=\"alert alert-block alert-info\">\n",
    "<h2>03. Data Wrangling</h2>\n",
    "<h3>03.3 Wrong Information Contents Investigation - Each File Information</h3>\n",
    "</div>"
   ]
  },
  {
   "cell_type": "code",
   "execution_count": null,
   "metadata": {},
   "outputs": [],
   "source": []
  },
  {
   "cell_type": "code",
   "execution_count": 16,
   "metadata": {},
   "outputs": [
    {
     "name": "stdout",
     "output_type": "stream",
     "text": [
      "count           9104\n",
      "unique           229\n",
      "top       20/05/2018\n",
      "freq             108\n",
      "Name: Date, dtype: object\n",
      "\n",
      "<bound method IndexOpsMixin.value_counts of 0       01/09/2018\n",
      "1       01/09/2018\n",
      "2       01/09/2018\n",
      "3       01/09/2018\n",
      "4       01/09/2018\n",
      "           ...    \n",
      "9104    19/01/2018\n",
      "9105    19/01/2018\n",
      "9106    19/01/2018\n",
      "9107    19/01/2018\n",
      "9108    19/01/2018\n",
      "Name: Date, Length: 9104, dtype: object>\n"
     ]
    }
   ],
   "source": [
    "# Checking Sale Date Column\n",
    "print(dfPureData.Date.describe())\n",
    "print()\n",
    "print(dfPureData.Date.value_counts)\n",
    "# It seems OK!"
   ]
  },
  {
   "cell_type": "code",
   "execution_count": 17,
   "metadata": {},
   "outputs": [
    {
     "name": "stdout",
     "output_type": "stream",
     "text": [
      "count     9104.000000\n",
      "mean     44920.330844\n",
      "std       2095.301484\n",
      "min      41161.000000\n",
      "25%      43187.750000\n",
      "50%      44789.500000\n",
      "75%      46552.250000\n",
      "max      48686.000000\n",
      "Name: Sale_ID, dtype: float64\n",
      "\n",
      "<bound method IndexOpsMixin.value_counts of 0       47917.0\n",
      "1       47918.0\n",
      "2       47918.0\n",
      "3       47919.0\n",
      "4       47920.0\n",
      "         ...   \n",
      "9104    41712.0\n",
      "9105    41712.0\n",
      "9106    41713.0\n",
      "9107    41713.0\n",
      "9108    41713.0\n",
      "Name: Sale_ID, Length: 9104, dtype: float64>\n"
     ]
    }
   ],
   "source": [
    "# Checking Sale ID Column\n",
    "print(dfPureData.Sale_ID.describe())\n",
    "print()\n",
    "print(dfPureData.Sale_ID.value_counts)\n",
    "# It seems OK!"
   ]
  },
  {
   "cell_type": "code",
   "execution_count": 18,
   "metadata": {},
   "outputs": [
    {
     "name": "stdout",
     "output_type": "stream",
     "text": [
      "count    9104.000000\n",
      "mean       19.869618\n",
      "std        16.647730\n",
      "min         1.000000\n",
      "25%         7.000000\n",
      "50%        13.000000\n",
      "75%        37.000000\n",
      "max        52.000000\n",
      "Name: Product_ID, dtype: float64\n",
      "\n",
      "<bound method IndexOpsMixin.value_counts of 0        3.0\n",
      "1       47.0\n",
      "2       49.0\n",
      "3       47.0\n",
      "4       49.0\n",
      "        ... \n",
      "9104     7.0\n",
      "9105    39.0\n",
      "9106    37.0\n",
      "9107    21.0\n",
      "9108    44.0\n",
      "Name: Product_ID, Length: 9104, dtype: float64>\n"
     ]
    }
   ],
   "source": [
    "# Checking Product ID Column\n",
    "print(dfPureData.Product_ID.describe())\n",
    "print()\n",
    "print(dfPureData.Product_ID.value_counts)\n",
    "# It seems OK!"
   ]
  },
  {
   "cell_type": "code",
   "execution_count": 19,
   "metadata": {},
   "outputs": [
    {
     "name": "stdout",
     "output_type": "stream",
     "text": [
      "count                   9104\n",
      "unique                    25\n",
      "top       Mixed Yakisoba 1Pe\n",
      "freq                    2246\n",
      "Name: Product_Name, dtype: object\n",
      "\n",
      "<bound method IndexOpsMixin.value_counts of 0                   Chicken Yakisoba 1Pe\n",
      "1             Chess Chicken Samurai Rice\n",
      "2                        Hot Roll Katana\n",
      "3             Chess Chicken Samurai Rice\n",
      "4                        Hot Roll Katana\n",
      "                      ...               \n",
      "9104                   Meat Yakisoba 1Pe\n",
      "9105    Banana Spring Roll Chocolate 3uG\n",
      "9106           Spring Roll 3 Cheeses 3uG\n",
      "9107                        Yaki Samurai\n",
      "9108        Special Samurai Yakisoba 2pe\n",
      "Name: Product_Name, Length: 9104, dtype: object>\n"
     ]
    }
   ],
   "source": [
    "# Checking Product Name Column\n",
    "print(dfPureData.Product_Name.describe())\n",
    "print()\n",
    "print(dfPureData.Product_Name.value_counts)\n",
    "# It seems OK!"
   ]
  },
  {
   "cell_type": "code",
   "execution_count": 20,
   "metadata": {},
   "outputs": [
    {
     "name": "stdout",
     "output_type": "stream",
     "text": [
      "count         8763\n",
      "unique           6\n",
      "top       1 Person\n",
      "freq          6863\n",
      "Name: Portion, dtype: object\n",
      "\n",
      "<bound method IndexOpsMixin.value_counts of 0        1 Person\n",
      "1       2 Persons\n",
      "2         2 Units\n",
      "3       2 Persons\n",
      "4         2 Units\n",
      "          ...    \n",
      "9104     1 Person\n",
      "9105    3 Units G\n",
      "9106    3 Units G\n",
      "9107     1 Person\n",
      "9108    2 Persons\n",
      "Name: Portion, Length: 9104, dtype: object>\n"
     ]
    }
   ],
   "source": [
    "# Checking Portion Column\n",
    "print(dfPureData.Portion.describe())\n",
    "print()\n",
    "print(dfPureData.Portion.value_counts)\n",
    "# As Missing Values Percentage shows above, there are 3.81 % of missing values, but its indice is acceptable.\n",
    "# 9104 - 8763 = 341 Missing Values"
   ]
  },
  {
   "cell_type": "code",
   "execution_count": 21,
   "metadata": {},
   "outputs": [
    {
     "name": "stdout",
     "output_type": "stream",
     "text": [
      "count     9104\n",
      "unique       1\n",
      "top       Food\n",
      "freq      9104\n",
      "Name: Product_Type, dtype: object\n",
      "\n",
      "<bound method IndexOpsMixin.value_counts of 0       Food\n",
      "1       Food\n",
      "2       Food\n",
      "3       Food\n",
      "4       Food\n",
      "        ... \n",
      "9104    Food\n",
      "9105    Food\n",
      "9106    Food\n",
      "9107    Food\n",
      "9108    Food\n",
      "Name: Product_Type, Length: 9104, dtype: object>\n"
     ]
    }
   ],
   "source": [
    "# Checking Product Type Column\n",
    "print(dfPureData.Product_Type.describe())\n",
    "print()\n",
    "print(dfPureData.Product_Type.value_counts)\n",
    "# It seems OK!"
   ]
  },
  {
   "cell_type": "code",
   "execution_count": 22,
   "metadata": {},
   "outputs": [
    {
     "name": "stdout",
     "output_type": "stream",
     "text": [
      "count       9104\n",
      "unique         3\n",
      "top       Cooked\n",
      "freq        7162\n",
      "Name: Preparation, dtype: object\n",
      "\n",
      "<bound method IndexOpsMixin.value_counts of 0       Cooked\n",
      "1       Cooked\n",
      "2        Fried\n",
      "3       Cooked\n",
      "4        Fried\n",
      "         ...  \n",
      "9104    Cooked\n",
      "9105     Fried\n",
      "9106     Fried\n",
      "9107    Cooked\n",
      "9108    Cooked\n",
      "Name: Preparation, Length: 9104, dtype: object>\n"
     ]
    }
   ],
   "source": [
    "# Checking Preparation Column\n",
    "print(dfPureData.Preparation.describe())\n",
    "print()\n",
    "print(dfPureData.Preparation.value_counts)\n",
    "# It seems OK!"
   ]
  },
  {
   "cell_type": "code",
   "execution_count": 23,
   "metadata": {},
   "outputs": [
    {
     "name": "stdout",
     "output_type": "stream",
     "text": [
      "count       9104\n",
      "unique       170\n",
      "top       32.90 \n",
      "freq         761\n",
      "Name: Product_Value, dtype: object\n",
      "\n",
      "<bound method IndexOpsMixin.value_counts of 0       28.90 \n",
      "1       30.90 \n",
      "2       16.90 \n",
      "3       30.90 \n",
      "4       16.90 \n",
      "         ...  \n",
      "9104    30.50 \n",
      "9105     8.90 \n",
      "9106    14.90 \n",
      "9107    31.50 \n",
      "9108    41.50 \n",
      "Name: Product_Value, Length: 9104, dtype: object>\n",
      "Checking all its content is number. If return is False, there is something wrong with some contents of it.\n"
     ]
    },
    {
     "data": {
      "text/plain": [
       "False"
      ]
     },
     "execution_count": 23,
     "metadata": {},
     "output_type": "execute_result"
    }
   ],
   "source": [
    "# Checking Product Value Column\n",
    "print(dfPureData.Product_Value.describe())\n",
    "print()\n",
    "print(dfPureData.Product_Value.value_counts)\n",
    "# It seems OK!\n",
    "\n",
    "# Checking all its content is number\n",
    "print(\"Checking all its content is number. If return is False, there is something wrong with some contents of it.\")\n",
    "pd.to_numeric(dfPureData['Product_Value'], errors='coerce').notnull().all()\n",
    "# It seems is not ok!\n"
   ]
  },
  {
   "cell_type": "code",
   "execution_count": 24,
   "metadata": {},
   "outputs": [
    {
     "ename": "ValueError",
     "evalue": "could not convert string to float: '-   '",
     "output_type": "error",
     "traceback": [
      "\u001b[1;31m---------------------------------------------------------------------------\u001b[0m",
      "\u001b[1;31mValueError\u001b[0m                                Traceback (most recent call last)",
      "\u001b[1;32m<ipython-input-24-bff8383420a9>\u001b[0m in \u001b[0;36m<module>\u001b[1;34m\u001b[0m\n\u001b[0;32m      1\u001b[0m \u001b[1;31m# Convert to Float to have some tip about what is wrong with this field\u001b[0m\u001b[1;33m\u001b[0m\u001b[1;33m\u001b[0m\u001b[1;33m\u001b[0m\u001b[0m\n\u001b[1;32m----> 2\u001b[1;33m \u001b[0mdfPureData\u001b[0m\u001b[1;33m.\u001b[0m\u001b[0mProduct_Value\u001b[0m \u001b[1;33m=\u001b[0m \u001b[0mdfPureData\u001b[0m\u001b[1;33m.\u001b[0m\u001b[0mProduct_Value\u001b[0m\u001b[1;33m.\u001b[0m\u001b[0mastype\u001b[0m\u001b[1;33m(\u001b[0m\u001b[0mnp\u001b[0m\u001b[1;33m.\u001b[0m\u001b[0mfloat64\u001b[0m\u001b[1;33m)\u001b[0m\u001b[1;33m\u001b[0m\u001b[1;33m\u001b[0m\u001b[0m\n\u001b[0m",
      "\u001b[1;32mC:\\anaconda3\\lib\\site-packages\\pandas\\core\\generic.py\u001b[0m in \u001b[0;36mastype\u001b[1;34m(self, dtype, copy, errors)\u001b[0m\n\u001b[0;32m   5875\u001b[0m         \u001b[1;32melse\u001b[0m\u001b[1;33m:\u001b[0m\u001b[1;33m\u001b[0m\u001b[1;33m\u001b[0m\u001b[0m\n\u001b[0;32m   5876\u001b[0m             \u001b[1;31m# else, only a single dtype is given\u001b[0m\u001b[1;33m\u001b[0m\u001b[1;33m\u001b[0m\u001b[1;33m\u001b[0m\u001b[0m\n\u001b[1;32m-> 5877\u001b[1;33m             \u001b[0mnew_data\u001b[0m \u001b[1;33m=\u001b[0m \u001b[0mself\u001b[0m\u001b[1;33m.\u001b[0m\u001b[0m_mgr\u001b[0m\u001b[1;33m.\u001b[0m\u001b[0mastype\u001b[0m\u001b[1;33m(\u001b[0m\u001b[0mdtype\u001b[0m\u001b[1;33m=\u001b[0m\u001b[0mdtype\u001b[0m\u001b[1;33m,\u001b[0m \u001b[0mcopy\u001b[0m\u001b[1;33m=\u001b[0m\u001b[0mcopy\u001b[0m\u001b[1;33m,\u001b[0m \u001b[0merrors\u001b[0m\u001b[1;33m=\u001b[0m\u001b[0merrors\u001b[0m\u001b[1;33m)\u001b[0m\u001b[1;33m\u001b[0m\u001b[1;33m\u001b[0m\u001b[0m\n\u001b[0m\u001b[0;32m   5878\u001b[0m             \u001b[1;32mreturn\u001b[0m \u001b[0mself\u001b[0m\u001b[1;33m.\u001b[0m\u001b[0m_constructor\u001b[0m\u001b[1;33m(\u001b[0m\u001b[0mnew_data\u001b[0m\u001b[1;33m)\u001b[0m\u001b[1;33m.\u001b[0m\u001b[0m__finalize__\u001b[0m\u001b[1;33m(\u001b[0m\u001b[0mself\u001b[0m\u001b[1;33m,\u001b[0m \u001b[0mmethod\u001b[0m\u001b[1;33m=\u001b[0m\u001b[1;34m\"astype\"\u001b[0m\u001b[1;33m)\u001b[0m\u001b[1;33m\u001b[0m\u001b[1;33m\u001b[0m\u001b[0m\n\u001b[0;32m   5879\u001b[0m \u001b[1;33m\u001b[0m\u001b[0m\n",
      "\u001b[1;32mC:\\anaconda3\\lib\\site-packages\\pandas\\core\\internals\\managers.py\u001b[0m in \u001b[0;36mastype\u001b[1;34m(self, dtype, copy, errors)\u001b[0m\n\u001b[0;32m    629\u001b[0m         \u001b[0mself\u001b[0m\u001b[1;33m,\u001b[0m \u001b[0mdtype\u001b[0m\u001b[1;33m,\u001b[0m \u001b[0mcopy\u001b[0m\u001b[1;33m:\u001b[0m \u001b[0mbool\u001b[0m \u001b[1;33m=\u001b[0m \u001b[1;32mFalse\u001b[0m\u001b[1;33m,\u001b[0m \u001b[0merrors\u001b[0m\u001b[1;33m:\u001b[0m \u001b[0mstr\u001b[0m \u001b[1;33m=\u001b[0m \u001b[1;34m\"raise\"\u001b[0m\u001b[1;33m\u001b[0m\u001b[1;33m\u001b[0m\u001b[0m\n\u001b[0;32m    630\u001b[0m     ) -> \"BlockManager\":\n\u001b[1;32m--> 631\u001b[1;33m         \u001b[1;32mreturn\u001b[0m \u001b[0mself\u001b[0m\u001b[1;33m.\u001b[0m\u001b[0mapply\u001b[0m\u001b[1;33m(\u001b[0m\u001b[1;34m\"astype\"\u001b[0m\u001b[1;33m,\u001b[0m \u001b[0mdtype\u001b[0m\u001b[1;33m=\u001b[0m\u001b[0mdtype\u001b[0m\u001b[1;33m,\u001b[0m \u001b[0mcopy\u001b[0m\u001b[1;33m=\u001b[0m\u001b[0mcopy\u001b[0m\u001b[1;33m,\u001b[0m \u001b[0merrors\u001b[0m\u001b[1;33m=\u001b[0m\u001b[0merrors\u001b[0m\u001b[1;33m)\u001b[0m\u001b[1;33m\u001b[0m\u001b[1;33m\u001b[0m\u001b[0m\n\u001b[0m\u001b[0;32m    632\u001b[0m \u001b[1;33m\u001b[0m\u001b[0m\n\u001b[0;32m    633\u001b[0m     def convert(\n",
      "\u001b[1;32mC:\\anaconda3\\lib\\site-packages\\pandas\\core\\internals\\managers.py\u001b[0m in \u001b[0;36mapply\u001b[1;34m(self, f, align_keys, ignore_failures, **kwargs)\u001b[0m\n\u001b[0;32m    425\u001b[0m                     \u001b[0mapplied\u001b[0m \u001b[1;33m=\u001b[0m \u001b[0mb\u001b[0m\u001b[1;33m.\u001b[0m\u001b[0mapply\u001b[0m\u001b[1;33m(\u001b[0m\u001b[0mf\u001b[0m\u001b[1;33m,\u001b[0m \u001b[1;33m**\u001b[0m\u001b[0mkwargs\u001b[0m\u001b[1;33m)\u001b[0m\u001b[1;33m\u001b[0m\u001b[1;33m\u001b[0m\u001b[0m\n\u001b[0;32m    426\u001b[0m                 \u001b[1;32melse\u001b[0m\u001b[1;33m:\u001b[0m\u001b[1;33m\u001b[0m\u001b[1;33m\u001b[0m\u001b[0m\n\u001b[1;32m--> 427\u001b[1;33m                     \u001b[0mapplied\u001b[0m \u001b[1;33m=\u001b[0m \u001b[0mgetattr\u001b[0m\u001b[1;33m(\u001b[0m\u001b[0mb\u001b[0m\u001b[1;33m,\u001b[0m \u001b[0mf\u001b[0m\u001b[1;33m)\u001b[0m\u001b[1;33m(\u001b[0m\u001b[1;33m**\u001b[0m\u001b[0mkwargs\u001b[0m\u001b[1;33m)\u001b[0m\u001b[1;33m\u001b[0m\u001b[1;33m\u001b[0m\u001b[0m\n\u001b[0m\u001b[0;32m    428\u001b[0m             \u001b[1;32mexcept\u001b[0m \u001b[1;33m(\u001b[0m\u001b[0mTypeError\u001b[0m\u001b[1;33m,\u001b[0m \u001b[0mNotImplementedError\u001b[0m\u001b[1;33m)\u001b[0m\u001b[1;33m:\u001b[0m\u001b[1;33m\u001b[0m\u001b[1;33m\u001b[0m\u001b[0m\n\u001b[0;32m    429\u001b[0m                 \u001b[1;32mif\u001b[0m \u001b[1;32mnot\u001b[0m \u001b[0mignore_failures\u001b[0m\u001b[1;33m:\u001b[0m\u001b[1;33m\u001b[0m\u001b[1;33m\u001b[0m\u001b[0m\n",
      "\u001b[1;32mC:\\anaconda3\\lib\\site-packages\\pandas\\core\\internals\\blocks.py\u001b[0m in \u001b[0;36mastype\u001b[1;34m(self, dtype, copy, errors)\u001b[0m\n\u001b[0;32m    671\u001b[0m             \u001b[0mvals1d\u001b[0m \u001b[1;33m=\u001b[0m \u001b[0mvalues\u001b[0m\u001b[1;33m.\u001b[0m\u001b[0mravel\u001b[0m\u001b[1;33m(\u001b[0m\u001b[1;33m)\u001b[0m\u001b[1;33m\u001b[0m\u001b[1;33m\u001b[0m\u001b[0m\n\u001b[0;32m    672\u001b[0m             \u001b[1;32mtry\u001b[0m\u001b[1;33m:\u001b[0m\u001b[1;33m\u001b[0m\u001b[1;33m\u001b[0m\u001b[0m\n\u001b[1;32m--> 673\u001b[1;33m                 \u001b[0mvalues\u001b[0m \u001b[1;33m=\u001b[0m \u001b[0mastype_nansafe\u001b[0m\u001b[1;33m(\u001b[0m\u001b[0mvals1d\u001b[0m\u001b[1;33m,\u001b[0m \u001b[0mdtype\u001b[0m\u001b[1;33m,\u001b[0m \u001b[0mcopy\u001b[0m\u001b[1;33m=\u001b[0m\u001b[1;32mTrue\u001b[0m\u001b[1;33m)\u001b[0m\u001b[1;33m\u001b[0m\u001b[1;33m\u001b[0m\u001b[0m\n\u001b[0m\u001b[0;32m    674\u001b[0m             \u001b[1;32mexcept\u001b[0m \u001b[1;33m(\u001b[0m\u001b[0mValueError\u001b[0m\u001b[1;33m,\u001b[0m \u001b[0mTypeError\u001b[0m\u001b[1;33m)\u001b[0m\u001b[1;33m:\u001b[0m\u001b[1;33m\u001b[0m\u001b[1;33m\u001b[0m\u001b[0m\n\u001b[0;32m    675\u001b[0m                 \u001b[1;31m# e.g. astype_nansafe can fail on object-dtype of strings\u001b[0m\u001b[1;33m\u001b[0m\u001b[1;33m\u001b[0m\u001b[1;33m\u001b[0m\u001b[0m\n",
      "\u001b[1;32mC:\\anaconda3\\lib\\site-packages\\pandas\\core\\dtypes\\cast.py\u001b[0m in \u001b[0;36mastype_nansafe\u001b[1;34m(arr, dtype, copy, skipna)\u001b[0m\n\u001b[0;32m   1095\u001b[0m     \u001b[1;32mif\u001b[0m \u001b[0mcopy\u001b[0m \u001b[1;32mor\u001b[0m \u001b[0mis_object_dtype\u001b[0m\u001b[1;33m(\u001b[0m\u001b[0marr\u001b[0m\u001b[1;33m)\u001b[0m \u001b[1;32mor\u001b[0m \u001b[0mis_object_dtype\u001b[0m\u001b[1;33m(\u001b[0m\u001b[0mdtype\u001b[0m\u001b[1;33m)\u001b[0m\u001b[1;33m:\u001b[0m\u001b[1;33m\u001b[0m\u001b[1;33m\u001b[0m\u001b[0m\n\u001b[0;32m   1096\u001b[0m         \u001b[1;31m# Explicit copy, or required since NumPy can't view from / to object.\u001b[0m\u001b[1;33m\u001b[0m\u001b[1;33m\u001b[0m\u001b[1;33m\u001b[0m\u001b[0m\n\u001b[1;32m-> 1097\u001b[1;33m         \u001b[1;32mreturn\u001b[0m \u001b[0marr\u001b[0m\u001b[1;33m.\u001b[0m\u001b[0mastype\u001b[0m\u001b[1;33m(\u001b[0m\u001b[0mdtype\u001b[0m\u001b[1;33m,\u001b[0m \u001b[0mcopy\u001b[0m\u001b[1;33m=\u001b[0m\u001b[1;32mTrue\u001b[0m\u001b[1;33m)\u001b[0m\u001b[1;33m\u001b[0m\u001b[1;33m\u001b[0m\u001b[0m\n\u001b[0m\u001b[0;32m   1098\u001b[0m \u001b[1;33m\u001b[0m\u001b[0m\n\u001b[0;32m   1099\u001b[0m     \u001b[1;32mreturn\u001b[0m \u001b[0marr\u001b[0m\u001b[1;33m.\u001b[0m\u001b[0mview\u001b[0m\u001b[1;33m(\u001b[0m\u001b[0mdtype\u001b[0m\u001b[1;33m)\u001b[0m\u001b[1;33m\u001b[0m\u001b[1;33m\u001b[0m\u001b[0m\n",
      "\u001b[1;31mValueError\u001b[0m: could not convert string to float: '-   '"
     ]
    }
   ],
   "source": [
    "# Convert to Float to have some tip about what is wrong with this field\n",
    "dfPureData.Product_Value = dfPureData.Product_Value.astype(np.float64)"
   ]
  },
  {
   "cell_type": "code",
   "execution_count": 25,
   "metadata": {
    "tags": []
   },
   "outputs": [
    {
     "data": {
      "text/html": [
       "<div>\n",
       "<style scoped>\n",
       "    .dataframe tbody tr th:only-of-type {\n",
       "        vertical-align: middle;\n",
       "    }\n",
       "\n",
       "    .dataframe tbody tr th {\n",
       "        vertical-align: top;\n",
       "    }\n",
       "\n",
       "    .dataframe thead th {\n",
       "        text-align: right;\n",
       "    }\n",
       "</style>\n",
       "<table border=\"1\" class=\"dataframe\">\n",
       "  <thead>\n",
       "    <tr style=\"text-align: right;\">\n",
       "      <th></th>\n",
       "      <th>Date</th>\n",
       "      <th>Sale_ID</th>\n",
       "      <th>Product_ID</th>\n",
       "      <th>Product_Name</th>\n",
       "      <th>Portion</th>\n",
       "      <th>Product_Type</th>\n",
       "      <th>Preparation</th>\n",
       "      <th>Product_Value</th>\n",
       "      <th>Payment_Method</th>\n",
       "      <th>Sales_Channel</th>\n",
       "      <th>Sale_City</th>\n",
       "      <th>District_ID</th>\n",
       "      <th>District_Name</th>\n",
       "      <th>City_Region</th>\n",
       "    </tr>\n",
       "  </thead>\n",
       "  <tbody>\n",
       "    <tr>\n",
       "      <th>6777</th>\n",
       "      <td>09/03/2018</td>\n",
       "      <td>42850.0</td>\n",
       "      <td>13.0</td>\n",
       "      <td>Mixed Yakisoba 1Pe</td>\n",
       "      <td>1 Person</td>\n",
       "      <td>Food</td>\n",
       "      <td>Cooked</td>\n",
       "      <td>-</td>\n",
       "      <td>Credit</td>\n",
       "      <td>N/I</td>\n",
       "      <td>Sao Paulo</td>\n",
       "      <td>172.0</td>\n",
       "      <td>Portugal Garden</td>\n",
       "      <td>South</td>\n",
       "    </tr>\n",
       "  </tbody>\n",
       "</table>\n",
       "</div>"
      ],
      "text/plain": [
       "            Date  Sale_ID  Product_ID        Product_Name   Portion  \\\n",
       "6777  09/03/2018  42850.0        13.0  Mixed Yakisoba 1Pe  1 Person   \n",
       "\n",
       "     Product_Type Preparation Product_Value Payment_Method Sales_Channel  \\\n",
       "6777         Food      Cooked          -            Credit           N/I   \n",
       "\n",
       "      Sale_City  District_ID    District_Name City_Region  \n",
       "6777  Sao Paulo        172.0  Portugal Garden       South  "
      ]
     },
     "execution_count": 25,
     "metadata": {},
     "output_type": "execute_result"
    }
   ],
   "source": [
    "# How message error shows, there is a hiphen as value in some line\n",
    "# Need replace this invalid value to a valid one\n",
    "# Let´s find de line\n",
    "dfPureData[dfPureData[\"Product_Value\"].str.contains(\"-\")==True]"
   ]
  },
  {
   "cell_type": "code",
   "execution_count": 26,
   "metadata": {},
   "outputs": [
    {
     "data": {
      "text/plain": [
       "count       2246\n",
       "unique        54\n",
       "top       32.90 \n",
       "freq         730\n",
       "Name: Product_Value, dtype: object"
      ]
     },
     "execution_count": 26,
     "metadata": {},
     "output_type": "execute_result"
    }
   ],
   "source": [
    "# Let´s describe the standard price of this specific product e update this specific with it.\n",
    "dfPureData[dfPureData[\"Product_Name\"] == \"Mixed Yakisoba 1Pe\"].Product_Value.describe()"
   ]
  },
  {
   "cell_type": "code",
   "execution_count": 27,
   "metadata": {},
   "outputs": [
    {
     "data": {
      "text/html": [
       "<div>\n",
       "<style scoped>\n",
       "    .dataframe tbody tr th:only-of-type {\n",
       "        vertical-align: middle;\n",
       "    }\n",
       "\n",
       "    .dataframe tbody tr th {\n",
       "        vertical-align: top;\n",
       "    }\n",
       "\n",
       "    .dataframe thead th {\n",
       "        text-align: right;\n",
       "    }\n",
       "</style>\n",
       "<table border=\"1\" class=\"dataframe\">\n",
       "  <thead>\n",
       "    <tr style=\"text-align: right;\">\n",
       "      <th></th>\n",
       "      <th>Date</th>\n",
       "      <th>Sale_ID</th>\n",
       "      <th>Product_ID</th>\n",
       "      <th>Product_Name</th>\n",
       "      <th>Portion</th>\n",
       "      <th>Product_Type</th>\n",
       "      <th>Preparation</th>\n",
       "      <th>Product_Value</th>\n",
       "      <th>Payment_Method</th>\n",
       "      <th>Sales_Channel</th>\n",
       "      <th>Sale_City</th>\n",
       "      <th>District_ID</th>\n",
       "      <th>District_Name</th>\n",
       "      <th>City_Region</th>\n",
       "    </tr>\n",
       "  </thead>\n",
       "  <tbody>\n",
       "  </tbody>\n",
       "</table>\n",
       "</div>"
      ],
      "text/plain": [
       "Empty DataFrame\n",
       "Columns: [Date, Sale_ID, Product_ID, Product_Name, Portion, Product_Type, Preparation, Product_Value, Payment_Method, Sales_Channel, Sale_City, District_ID, District_Name, City_Region]\n",
       "Index: []"
      ]
     },
     "execution_count": 27,
     "metadata": {},
     "output_type": "execute_result"
    }
   ],
   "source": [
    "# Update the specific line with the most value repeated for this field\n",
    "dfPureData.at[6777,\"Product_Value\"] = '32.90'\n",
    "\n",
    "# Let´s check again\n",
    "dfPureData[dfPureData[\"Product_Value\"].str.contains(\"-\")==True]\n",
    "\n",
    "# Seem to OK now!"
   ]
  },
  {
   "cell_type": "code",
   "execution_count": 28,
   "metadata": {},
   "outputs": [
    {
     "name": "stdout",
     "output_type": "stream",
     "text": [
      "count       9104\n",
      "unique         3\n",
      "top       Credit\n",
      "freq        5264\n",
      "Name: Payment_Method, dtype: object\n",
      "\n",
      "<bound method IndexOpsMixin.value_counts of 0       Payment On-line\n",
      "1                Credit\n",
      "2                Credit\n",
      "3                Credit\n",
      "4                  Cash\n",
      "             ...       \n",
      "9104             Credit\n",
      "9105             Credit\n",
      "9106             Credit\n",
      "9107             Credit\n",
      "9108             Credit\n",
      "Name: Payment_Method, Length: 9104, dtype: object>\n"
     ]
    }
   ],
   "source": [
    "# Checking Payment Method Column\n",
    "print(dfPureData.Payment_Method.describe())\n",
    "print()\n",
    "print(dfPureData.Payment_Method.value_counts)\n",
    "# It seems OK!"
   ]
  },
  {
   "cell_type": "code",
   "execution_count": 29,
   "metadata": {},
   "outputs": [
    {
     "name": "stdout",
     "output_type": "stream",
     "text": [
      "count     9104\n",
      "unique       2\n",
      "top        N/I\n",
      "freq      8868\n",
      "Name: Sales_Channel, dtype: object\n",
      "\n",
      "<bound method IndexOpsMixin.value_counts of 0       Ifood\n",
      "1         N/I\n",
      "2         N/I\n",
      "3         N/I\n",
      "4         N/I\n",
      "        ...  \n",
      "9104      N/I\n",
      "9105      N/I\n",
      "9106      N/I\n",
      "9107      N/I\n",
      "9108      N/I\n",
      "Name: Sales_Channel, Length: 9104, dtype: object>\n"
     ]
    }
   ],
   "source": [
    "# Checking Product Value Column\n",
    "print(dfPureData.Sales_Channel.describe())\n",
    "print()\n",
    "print(dfPureData.Sales_Channel.value_counts)\n",
    "# It seems there a lot of missing values called N/I content"
   ]
  },
  {
   "cell_type": "code",
   "execution_count": 30,
   "metadata": {},
   "outputs": [],
   "source": [
    "# Discard Sales_Channel Column\n",
    "dfPureData.drop('Sales_Channel',axis=1,inplace=True)"
   ]
  },
  {
   "cell_type": "code",
   "execution_count": 31,
   "metadata": {},
   "outputs": [
    {
     "name": "stdout",
     "output_type": "stream",
     "text": [
      "count          9104\n",
      "unique            2\n",
      "top       Sao Paulo\n",
      "freq           9080\n",
      "Name: Sale_City, dtype: object\n",
      "\n",
      "<bound method IndexOpsMixin.value_counts of 0       Sao Paulo\n",
      "1       Sao Paulo\n",
      "2       Sao Paulo\n",
      "3       Sao Paulo\n",
      "4       Sao Paulo\n",
      "          ...    \n",
      "9104    Sao Paulo\n",
      "9105    Sao Paulo\n",
      "9106    Sao Paulo\n",
      "9107    Sao Paulo\n",
      "9108    Sao Paulo\n",
      "Name: Sale_City, Length: 9104, dtype: object>\n"
     ]
    }
   ],
   "source": [
    "# Checking Sale City Column\n",
    "print(dfPureData.Sale_City.describe())\n",
    "print()\n",
    "print(dfPureData.Sale_City.value_counts)\n",
    "# It seems OK!"
   ]
  },
  {
   "cell_type": "code",
   "execution_count": 32,
   "metadata": {},
   "outputs": [
    {
     "name": "stdout",
     "output_type": "stream",
     "text": [
      "count    9104.000000\n",
      "mean      122.599627\n",
      "std       129.652555\n",
      "min         0.000000\n",
      "25%         0.000000\n",
      "50%        97.000000\n",
      "75%       197.000000\n",
      "max       532.000000\n",
      "Name: District_ID, dtype: float64\n",
      "\n",
      "<bound method IndexOpsMixin.value_counts of 0        18.0\n",
      "1        97.0\n",
      "2        97.0\n",
      "3       179.0\n",
      "4       146.0\n",
      "        ...  \n",
      "9104     97.0\n",
      "9105     97.0\n",
      "9106     97.0\n",
      "9107     97.0\n",
      "9108     97.0\n",
      "Name: District_ID, Length: 9104, dtype: float64>\n"
     ]
    }
   ],
   "source": [
    "# Checking District ID Column\n",
    "print(dfPureData.District_ID.describe())\n",
    "print()\n",
    "print(dfPureData.District_ID.value_counts)\n",
    "# It seems OK!"
   ]
  },
  {
   "cell_type": "code",
   "execution_count": 33,
   "metadata": {},
   "outputs": [
    {
     "name": "stdout",
     "output_type": "stream",
     "text": [
      "count       9104\n",
      "unique       105\n",
      "top       Balcão\n",
      "freq        2435\n",
      "Name: District_Name, dtype: object\n",
      "\n",
      "<bound method IndexOpsMixin.value_counts of 0        Eucalyptus Forest\n",
      "1          American Garden\n",
      "2          American Garden\n",
      "3       Sant Ines Garden I\n",
      "4            Marian Garden\n",
      "               ...        \n",
      "9104       American Garden\n",
      "9105       American Garden\n",
      "9106       American Garden\n",
      "9107       American Garden\n",
      "9108       American Garden\n",
      "Name: District_Name, Length: 9104, dtype: object>\n"
     ]
    }
   ],
   "source": [
    "# Checking District Name Column\n",
    "print(dfPureData.District_Name.describe())\n",
    "print()\n",
    "print(dfPureData.District_Name.value_counts)\n",
    "# It seems OK!"
   ]
  },
  {
   "cell_type": "code",
   "execution_count": 34,
   "metadata": {},
   "outputs": [
    {
     "name": "stdout",
     "output_type": "stream",
     "text": [
      "count      9104\n",
      "unique        7\n",
      "top       South\n",
      "freq       5724\n",
      "Name: City_Region, dtype: object\n",
      "\n",
      "<bound method IndexOpsMixin.value_counts of 0       South\n",
      "1        East\n",
      "2        East\n",
      "3        East\n",
      "4        East\n",
      "        ...  \n",
      "9104     East\n",
      "9105     East\n",
      "9106     East\n",
      "9107     East\n",
      "9108     East\n",
      "Name: City_Region, Length: 9104, dtype: object>\n"
     ]
    }
   ],
   "source": [
    "# Checking City Region Column\n",
    "print(dfPureData.City_Region.describe())\n",
    "print()\n",
    "print(dfPureData.City_Region.value_counts)\n",
    "# It seems OK!"
   ]
  },
  {
   "cell_type": "code",
   "execution_count": 35,
   "metadata": {},
   "outputs": [
    {
     "data": {
      "text/plain": [
       "(9104, 13)"
      ]
     },
     "execution_count": 35,
     "metadata": {},
     "output_type": "execute_result"
    }
   ],
   "source": [
    "dfPureData.shape"
   ]
  },
  {
   "cell_type": "code",
   "execution_count": 36,
   "metadata": {},
   "outputs": [
    {
     "data": {
      "text/plain": [
       "Date               object\n",
       "Sale_ID           float64\n",
       "Product_ID        float64\n",
       "Product_Name       object\n",
       "Portion            object\n",
       "Product_Type       object\n",
       "Preparation        object\n",
       "Product_Value      object\n",
       "Payment_Method     object\n",
       "Sale_City          object\n",
       "District_ID       float64\n",
       "District_Name      object\n",
       "City_Region        object\n",
       "dtype: object"
      ]
     },
     "execution_count": 36,
     "metadata": {},
     "output_type": "execute_result"
    }
   ],
   "source": [
    "dfPureData.dtypes"
   ]
  },
  {
   "cell_type": "code",
   "execution_count": 37,
   "metadata": {},
   "outputs": [],
   "source": [
    "# Serialize\n",
    "dfPureData.to_csv(\"data/OrientFoodDelivery_Cleaned.csv\")"
   ]
  },
  {
   "cell_type": "code",
   "execution_count": null,
   "metadata": {},
   "outputs": [],
   "source": []
  },
  {
   "cell_type": "code",
   "execution_count": 38,
   "metadata": {},
   "outputs": [],
   "source": [
    "# Read from Serialized CSV File\n",
    "dfDataCleaned = pd.read_csv(\"data/OrientFoodDelivery_Cleaned.csv\",header=0, sep=\",\")"
   ]
  },
  {
   "cell_type": "markdown",
   "metadata": {},
   "source": [
    "<div class=\"alert alert-block alert-info\">\n",
    "<h1>04. Feature Engineering</h1>\n",
    "\n",
    "> Create or Derive more Information to help data structure in order to provide better analysis.\n",
    "\n",
    "</div>"
   ]
  },
  {
   "cell_type": "markdown",
   "metadata": {},
   "source": [
    "<div class=\"alert alert-block alert-info\">\n",
    "<h2>04. Feature Engineering</h2>\n",
    "<h3>04.1 Create More Detailed Information from Others</h3>\n",
    "</div>"
   ]
  },
  {
   "cell_type": "code",
   "execution_count": 39,
   "metadata": {},
   "outputs": [
    {
     "name": "stderr",
     "output_type": "stream",
     "text": [
      "<ipython-input-39-b7e7a6f963fd>:7: FutureWarning: Series.dt.weekofyear and Series.dt.week have been deprecated.  Please use Series.dt.isocalendar().week instead.\n",
      "  dfDataCleaned[\"Sale_Week_Num\"] = dfDataCleaned[\"Date\"].dt.week\n"
     ]
    },
    {
     "data": {
      "text/html": [
       "<div>\n",
       "<style scoped>\n",
       "    .dataframe tbody tr th:only-of-type {\n",
       "        vertical-align: middle;\n",
       "    }\n",
       "\n",
       "    .dataframe tbody tr th {\n",
       "        vertical-align: top;\n",
       "    }\n",
       "\n",
       "    .dataframe thead th {\n",
       "        text-align: right;\n",
       "    }\n",
       "</style>\n",
       "<table border=\"1\" class=\"dataframe\">\n",
       "  <thead>\n",
       "    <tr style=\"text-align: right;\">\n",
       "      <th></th>\n",
       "      <th>Unnamed: 0</th>\n",
       "      <th>Date</th>\n",
       "      <th>Sale_ID</th>\n",
       "      <th>Product_ID</th>\n",
       "      <th>Product_Name</th>\n",
       "      <th>Portion</th>\n",
       "      <th>Product_Type</th>\n",
       "      <th>Preparation</th>\n",
       "      <th>Product_Value</th>\n",
       "      <th>Payment_Method</th>\n",
       "      <th>Sale_City</th>\n",
       "      <th>District_ID</th>\n",
       "      <th>District_Name</th>\n",
       "      <th>City_Region</th>\n",
       "      <th>Sale_Year</th>\n",
       "      <th>Sale_Mounth</th>\n",
       "      <th>Sale_Day</th>\n",
       "      <th>Sale_Day_Week</th>\n",
       "      <th>Sale_Week_Num</th>\n",
       "    </tr>\n",
       "  </thead>\n",
       "  <tbody>\n",
       "    <tr>\n",
       "      <th>0</th>\n",
       "      <td>0</td>\n",
       "      <td>2018-01-09</td>\n",
       "      <td>47917.0</td>\n",
       "      <td>3.0</td>\n",
       "      <td>Chicken Yakisoba 1Pe</td>\n",
       "      <td>1 Person</td>\n",
       "      <td>Food</td>\n",
       "      <td>Cooked</td>\n",
       "      <td>28.9</td>\n",
       "      <td>Payment On-line</td>\n",
       "      <td>Sao Paulo</td>\n",
       "      <td>18.0</td>\n",
       "      <td>Eucalyptus Forest</td>\n",
       "      <td>South</td>\n",
       "      <td>2018</td>\n",
       "      <td>1</td>\n",
       "      <td>9</td>\n",
       "      <td>Tuesday</td>\n",
       "      <td>2</td>\n",
       "    </tr>\n",
       "    <tr>\n",
       "      <th>1</th>\n",
       "      <td>1</td>\n",
       "      <td>2018-01-09</td>\n",
       "      <td>47918.0</td>\n",
       "      <td>47.0</td>\n",
       "      <td>Chess Chicken Samurai Rice</td>\n",
       "      <td>2 Persons</td>\n",
       "      <td>Food</td>\n",
       "      <td>Cooked</td>\n",
       "      <td>30.9</td>\n",
       "      <td>Credit</td>\n",
       "      <td>Sao Paulo</td>\n",
       "      <td>97.0</td>\n",
       "      <td>American Garden</td>\n",
       "      <td>East</td>\n",
       "      <td>2018</td>\n",
       "      <td>1</td>\n",
       "      <td>9</td>\n",
       "      <td>Tuesday</td>\n",
       "      <td>2</td>\n",
       "    </tr>\n",
       "    <tr>\n",
       "      <th>2</th>\n",
       "      <td>2</td>\n",
       "      <td>2018-01-09</td>\n",
       "      <td>47918.0</td>\n",
       "      <td>49.0</td>\n",
       "      <td>Hot Roll Katana</td>\n",
       "      <td>2 Units</td>\n",
       "      <td>Food</td>\n",
       "      <td>Fried</td>\n",
       "      <td>16.9</td>\n",
       "      <td>Credit</td>\n",
       "      <td>Sao Paulo</td>\n",
       "      <td>97.0</td>\n",
       "      <td>American Garden</td>\n",
       "      <td>East</td>\n",
       "      <td>2018</td>\n",
       "      <td>1</td>\n",
       "      <td>9</td>\n",
       "      <td>Tuesday</td>\n",
       "      <td>2</td>\n",
       "    </tr>\n",
       "    <tr>\n",
       "      <th>3</th>\n",
       "      <td>3</td>\n",
       "      <td>2018-01-09</td>\n",
       "      <td>47919.0</td>\n",
       "      <td>47.0</td>\n",
       "      <td>Chess Chicken Samurai Rice</td>\n",
       "      <td>2 Persons</td>\n",
       "      <td>Food</td>\n",
       "      <td>Cooked</td>\n",
       "      <td>30.9</td>\n",
       "      <td>Credit</td>\n",
       "      <td>Sao Paulo</td>\n",
       "      <td>179.0</td>\n",
       "      <td>Sant Ines Garden I</td>\n",
       "      <td>East</td>\n",
       "      <td>2018</td>\n",
       "      <td>1</td>\n",
       "      <td>9</td>\n",
       "      <td>Tuesday</td>\n",
       "      <td>2</td>\n",
       "    </tr>\n",
       "    <tr>\n",
       "      <th>4</th>\n",
       "      <td>4</td>\n",
       "      <td>2018-01-09</td>\n",
       "      <td>47920.0</td>\n",
       "      <td>49.0</td>\n",
       "      <td>Hot Roll Katana</td>\n",
       "      <td>2 Units</td>\n",
       "      <td>Food</td>\n",
       "      <td>Fried</td>\n",
       "      <td>16.9</td>\n",
       "      <td>Cash</td>\n",
       "      <td>Sao Paulo</td>\n",
       "      <td>146.0</td>\n",
       "      <td>Marian Garden</td>\n",
       "      <td>East</td>\n",
       "      <td>2018</td>\n",
       "      <td>1</td>\n",
       "      <td>9</td>\n",
       "      <td>Tuesday</td>\n",
       "      <td>2</td>\n",
       "    </tr>\n",
       "  </tbody>\n",
       "</table>\n",
       "</div>"
      ],
      "text/plain": [
       "   Unnamed: 0       Date  Sale_ID  Product_ID                Product_Name  \\\n",
       "0           0 2018-01-09  47917.0         3.0        Chicken Yakisoba 1Pe   \n",
       "1           1 2018-01-09  47918.0        47.0  Chess Chicken Samurai Rice   \n",
       "2           2 2018-01-09  47918.0        49.0             Hot Roll Katana   \n",
       "3           3 2018-01-09  47919.0        47.0  Chess Chicken Samurai Rice   \n",
       "4           4 2018-01-09  47920.0        49.0             Hot Roll Katana   \n",
       "\n",
       "     Portion Product_Type Preparation  Product_Value   Payment_Method  \\\n",
       "0   1 Person         Food      Cooked           28.9  Payment On-line   \n",
       "1  2 Persons         Food      Cooked           30.9           Credit   \n",
       "2    2 Units         Food       Fried           16.9           Credit   \n",
       "3  2 Persons         Food      Cooked           30.9           Credit   \n",
       "4    2 Units         Food       Fried           16.9             Cash   \n",
       "\n",
       "   Sale_City  District_ID       District_Name City_Region  Sale_Year  \\\n",
       "0  Sao Paulo         18.0   Eucalyptus Forest       South       2018   \n",
       "1  Sao Paulo         97.0     American Garden        East       2018   \n",
       "2  Sao Paulo         97.0     American Garden        East       2018   \n",
       "3  Sao Paulo        179.0  Sant Ines Garden I        East       2018   \n",
       "4  Sao Paulo        146.0       Marian Garden        East       2018   \n",
       "\n",
       "   Sale_Mounth  Sale_Day Sale_Day_Week  Sale_Week_Num  \n",
       "0            1         9       Tuesday              2  \n",
       "1            1         9       Tuesday              2  \n",
       "2            1         9       Tuesday              2  \n",
       "3            1         9       Tuesday              2  \n",
       "4            1         9       Tuesday              2  "
      ]
     },
     "execution_count": 39,
     "metadata": {},
     "output_type": "execute_result"
    }
   ],
   "source": [
    "# Split Sale Date in Day, Mounth, Year, Day of Week and Week Number\n",
    "dfDataCleaned[\"Date\"] = pd.to_datetime(dfDataCleaned[\"Date\"])\n",
    "dfDataCleaned[\"Sale_Year\"] = dfDataCleaned[\"Date\"].dt.year\n",
    "dfDataCleaned[\"Sale_Mounth\"] = dfDataCleaned[\"Date\"].dt.month\n",
    "dfDataCleaned[\"Sale_Day\"] = dfDataCleaned[\"Date\"].dt.day\n",
    "dfDataCleaned[\"Sale_Day_Week\"] = dfDataCleaned[\"Date\"].dt.day_name()\n",
    "dfDataCleaned[\"Sale_Week_Num\"] = dfDataCleaned[\"Date\"].dt.week\n",
    "\n",
    "dfDataCleaned.head()"
   ]
  },
  {
   "cell_type": "code",
   "execution_count": null,
   "metadata": {},
   "outputs": [],
   "source": []
  },
  {
   "cell_type": "code",
   "execution_count": 40,
   "metadata": {},
   "outputs": [],
   "source": [
    "# Save now with Feature Engineering Applied as CSV File\n",
    "dfDataCleaned.to_csv(\"data/OrientFoodDelivery_Featured.csv\")"
   ]
  },
  {
   "cell_type": "code",
   "execution_count": 41,
   "metadata": {},
   "outputs": [],
   "source": [
    "# Read from CSV File\n",
    "dfDataFeatured = pd.read_csv(\"data/OrientFoodDelivery_Featured.csv\",header=0, sep=\",\")"
   ]
  },
  {
   "cell_type": "markdown",
   "metadata": {},
   "source": [
    "<div class=\"alert alert-block alert-info\">\n",
    "<h2>04. Feature Engineering</h2>\n",
    "<h3>04.2 Internal Convertions - Categorical, Numeric and DateTime Types</h3>\n",
    "</div>"
   ]
  },
  {
   "cell_type": "code",
   "execution_count": 42,
   "metadata": {},
   "outputs": [],
   "source": [
    "# Change Columns to Respective Specific Types\n",
    "dfDataFeatured.Date = pd.to_datetime(dfDataFeatured[\"Date\"]).dt.strftime('%Y-%m-%d')\n",
    "dfDataFeatured.Sale_ID = dfDataFeatured.Sale_ID.astype('int')\n",
    "dfDataFeatured.Product_ID = dfDataFeatured.Product_ID.astype(\"int\")\n",
    "dfDataFeatured.Product_Value = dfDataFeatured.Product_Value.astype(np.float64)"
   ]
  },
  {
   "cell_type": "code",
   "execution_count": 43,
   "metadata": {},
   "outputs": [],
   "source": [
    "# Reindex de DataFrame\n",
    "del dfDataFeatured[\"Unnamed: 0\"]\n",
    "del dfDataFeatured[\"Unnamed: 0.1\"]\n",
    "#dfDataFeatured.reset_index()"
   ]
  },
  {
   "cell_type": "markdown",
   "metadata": {},
   "source": [
    "<div class=\"alert alert-block alert-info\">\n",
    "<h2>04. Feature Engineering</h2>\n",
    "<h3>04.3 Generate Header File for CSV File Provided</h3>\n",
    "</div>"
   ]
  },
  {
   "cell_type": "code",
   "execution_count": 44,
   "metadata": {},
   "outputs": [],
   "source": [
    "# Header Sales Creation\n",
    "\n",
    "# 1st Aggregation => Sales Items Count and Sale Total Value\n",
    "#agg_ItemCount_SaleTotal = {'Product_ID': ['count'], 'Product_Value': ['sum']}\n",
    "agg_ItemCount_SaleTotal = {'Product_ID': ['count'], 'Product_Value': ['sum'], \n",
    "                           'City_Region':['first'],\n",
    "                           'Payment_Method':['first'],\n",
    "                           'Sale_City':['first'],\n",
    "                           'District_Name':['first'],\n",
    "                           'City_Region':['first'],\n",
    "                           'Sale_Mounth':['first'],\n",
    "                           'Sale_Day':['first'],\n",
    "                           'Sale_Day_Week':['first'],\n",
    "                           'District_ID':['first']\n",
    "                          }\n",
    "\n",
    "dfSaleHdr = dfDataFeatured.groupby(['Sale_ID']).agg(agg_ItemCount_SaleTotal)"
   ]
  },
  {
   "cell_type": "code",
   "execution_count": 45,
   "metadata": {},
   "outputs": [
    {
     "data": {
      "text/html": [
       "<div>\n",
       "<style scoped>\n",
       "    .dataframe tbody tr th:only-of-type {\n",
       "        vertical-align: middle;\n",
       "    }\n",
       "\n",
       "    .dataframe tbody tr th {\n",
       "        vertical-align: top;\n",
       "    }\n",
       "\n",
       "    .dataframe thead tr th {\n",
       "        text-align: left;\n",
       "    }\n",
       "\n",
       "    .dataframe thead tr:last-of-type th {\n",
       "        text-align: right;\n",
       "    }\n",
       "</style>\n",
       "<table border=\"1\" class=\"dataframe\">\n",
       "  <thead>\n",
       "    <tr>\n",
       "      <th></th>\n",
       "      <th>Product_ID</th>\n",
       "      <th>Product_Value</th>\n",
       "      <th>City_Region</th>\n",
       "      <th>Payment_Method</th>\n",
       "      <th>Sale_City</th>\n",
       "      <th>District_Name</th>\n",
       "      <th>Sale_Mounth</th>\n",
       "      <th>Sale_Day</th>\n",
       "      <th>Sale_Day_Week</th>\n",
       "      <th>District_ID</th>\n",
       "    </tr>\n",
       "    <tr>\n",
       "      <th></th>\n",
       "      <th>count</th>\n",
       "      <th>sum</th>\n",
       "      <th>first</th>\n",
       "      <th>first</th>\n",
       "      <th>first</th>\n",
       "      <th>first</th>\n",
       "      <th>first</th>\n",
       "      <th>first</th>\n",
       "      <th>first</th>\n",
       "      <th>first</th>\n",
       "    </tr>\n",
       "    <tr>\n",
       "      <th>Sale_ID</th>\n",
       "      <th></th>\n",
       "      <th></th>\n",
       "      <th></th>\n",
       "      <th></th>\n",
       "      <th></th>\n",
       "      <th></th>\n",
       "      <th></th>\n",
       "      <th></th>\n",
       "      <th></th>\n",
       "      <th></th>\n",
       "    </tr>\n",
       "  </thead>\n",
       "  <tbody>\n",
       "    <tr>\n",
       "      <th>41161</th>\n",
       "      <td>1</td>\n",
       "      <td>31.5</td>\n",
       "      <td>Downtown</td>\n",
       "      <td>Credit</td>\n",
       "      <td>Sao Paulo</td>\n",
       "      <td>Paulis Garden</td>\n",
       "      <td>3</td>\n",
       "      <td>1</td>\n",
       "      <td>Thursday</td>\n",
       "      <td>169.0</td>\n",
       "    </tr>\n",
       "    <tr>\n",
       "      <th>41162</th>\n",
       "      <td>1</td>\n",
       "      <td>26.5</td>\n",
       "      <td>South</td>\n",
       "      <td>Credit</td>\n",
       "      <td>Sao Paulo</td>\n",
       "      <td>Del Rey Garden</td>\n",
       "      <td>3</td>\n",
       "      <td>1</td>\n",
       "      <td>Thursday</td>\n",
       "      <td>125.0</td>\n",
       "    </tr>\n",
       "    <tr>\n",
       "      <th>41163</th>\n",
       "      <td>2</td>\n",
       "      <td>36.4</td>\n",
       "      <td>South</td>\n",
       "      <td>Credit</td>\n",
       "      <td>Sao Paulo</td>\n",
       "      <td>Industry Garden</td>\n",
       "      <td>3</td>\n",
       "      <td>1</td>\n",
       "      <td>Thursday</td>\n",
       "      <td>416.0</td>\n",
       "    </tr>\n",
       "    <tr>\n",
       "      <th>41164</th>\n",
       "      <td>2</td>\n",
       "      <td>59.0</td>\n",
       "      <td>South</td>\n",
       "      <td>Cash</td>\n",
       "      <td>Sao Paulo</td>\n",
       "      <td>Balcão</td>\n",
       "      <td>3</td>\n",
       "      <td>1</td>\n",
       "      <td>Thursday</td>\n",
       "      <td>0.0</td>\n",
       "    </tr>\n",
       "    <tr>\n",
       "      <th>41165</th>\n",
       "      <td>2</td>\n",
       "      <td>39.4</td>\n",
       "      <td>West</td>\n",
       "      <td>Credit</td>\n",
       "      <td>Sao Paulo</td>\n",
       "      <td>Dawn Garden</td>\n",
       "      <td>3</td>\n",
       "      <td>1</td>\n",
       "      <td>Thursday</td>\n",
       "      <td>95.0</td>\n",
       "    </tr>\n",
       "  </tbody>\n",
       "</table>\n",
       "</div>"
      ],
      "text/plain": [
       "        Product_ID Product_Value City_Region Payment_Method  Sale_City  \\\n",
       "             count           sum       first          first      first   \n",
       "Sale_ID                                                                  \n",
       "41161            1          31.5    Downtown         Credit  Sao Paulo   \n",
       "41162            1          26.5       South         Credit  Sao Paulo   \n",
       "41163            2          36.4       South         Credit  Sao Paulo   \n",
       "41164            2          59.0       South           Cash  Sao Paulo   \n",
       "41165            2          39.4        West         Credit  Sao Paulo   \n",
       "\n",
       "           District_Name Sale_Mounth Sale_Day Sale_Day_Week District_ID  \n",
       "                   first       first    first         first       first  \n",
       "Sale_ID                                                                  \n",
       "41161      Paulis Garden           3        1      Thursday       169.0  \n",
       "41162     Del Rey Garden           3        1      Thursday       125.0  \n",
       "41163    Industry Garden           3        1      Thursday       416.0  \n",
       "41164             Balcão           3        1      Thursday         0.0  \n",
       "41165        Dawn Garden           3        1      Thursday        95.0  "
      ]
     },
     "execution_count": 45,
     "metadata": {},
     "output_type": "execute_result"
    }
   ],
   "source": [
    "dfSaleHdr.head()"
   ]
  },
  {
   "cell_type": "code",
   "execution_count": 46,
   "metadata": {},
   "outputs": [],
   "source": [
    "# Rename Aggregations Columns Names\n",
    "dfSaleHdr.columns = ['Num_Items', \n",
    "                     'Total_Value', 'City_Region',\n",
    "                     'Payment_Method','Sale_City',\n",
    "                     'District_Name','Sale_Mounth',\n",
    "                     'Sale_Day','Sale_Day_Week','District_ID'\n",
    "                    ]\n"
   ]
  },
  {
   "cell_type": "code",
   "execution_count": 47,
   "metadata": {},
   "outputs": [
    {
     "data": {
      "text/html": [
       "<div>\n",
       "<style scoped>\n",
       "    .dataframe tbody tr th:only-of-type {\n",
       "        vertical-align: middle;\n",
       "    }\n",
       "\n",
       "    .dataframe tbody tr th {\n",
       "        vertical-align: top;\n",
       "    }\n",
       "\n",
       "    .dataframe thead th {\n",
       "        text-align: right;\n",
       "    }\n",
       "</style>\n",
       "<table border=\"1\" class=\"dataframe\">\n",
       "  <thead>\n",
       "    <tr style=\"text-align: right;\">\n",
       "      <th></th>\n",
       "      <th>Num_Items</th>\n",
       "      <th>Total_Value</th>\n",
       "      <th>City_Region</th>\n",
       "      <th>Payment_Method</th>\n",
       "      <th>Sale_City</th>\n",
       "      <th>District_Name</th>\n",
       "      <th>Sale_Mounth</th>\n",
       "      <th>Sale_Day</th>\n",
       "      <th>Sale_Day_Week</th>\n",
       "      <th>District_ID</th>\n",
       "    </tr>\n",
       "    <tr>\n",
       "      <th>Sale_ID</th>\n",
       "      <th></th>\n",
       "      <th></th>\n",
       "      <th></th>\n",
       "      <th></th>\n",
       "      <th></th>\n",
       "      <th></th>\n",
       "      <th></th>\n",
       "      <th></th>\n",
       "      <th></th>\n",
       "      <th></th>\n",
       "    </tr>\n",
       "  </thead>\n",
       "  <tbody>\n",
       "    <tr>\n",
       "      <th>41161</th>\n",
       "      <td>1</td>\n",
       "      <td>31.5</td>\n",
       "      <td>Downtown</td>\n",
       "      <td>Credit</td>\n",
       "      <td>Sao Paulo</td>\n",
       "      <td>Paulis Garden</td>\n",
       "      <td>3</td>\n",
       "      <td>1</td>\n",
       "      <td>Thursday</td>\n",
       "      <td>169.0</td>\n",
       "    </tr>\n",
       "    <tr>\n",
       "      <th>41162</th>\n",
       "      <td>1</td>\n",
       "      <td>26.5</td>\n",
       "      <td>South</td>\n",
       "      <td>Credit</td>\n",
       "      <td>Sao Paulo</td>\n",
       "      <td>Del Rey Garden</td>\n",
       "      <td>3</td>\n",
       "      <td>1</td>\n",
       "      <td>Thursday</td>\n",
       "      <td>125.0</td>\n",
       "    </tr>\n",
       "    <tr>\n",
       "      <th>41163</th>\n",
       "      <td>2</td>\n",
       "      <td>36.4</td>\n",
       "      <td>South</td>\n",
       "      <td>Credit</td>\n",
       "      <td>Sao Paulo</td>\n",
       "      <td>Industry Garden</td>\n",
       "      <td>3</td>\n",
       "      <td>1</td>\n",
       "      <td>Thursday</td>\n",
       "      <td>416.0</td>\n",
       "    </tr>\n",
       "    <tr>\n",
       "      <th>41164</th>\n",
       "      <td>2</td>\n",
       "      <td>59.0</td>\n",
       "      <td>South</td>\n",
       "      <td>Cash</td>\n",
       "      <td>Sao Paulo</td>\n",
       "      <td>Balcão</td>\n",
       "      <td>3</td>\n",
       "      <td>1</td>\n",
       "      <td>Thursday</td>\n",
       "      <td>0.0</td>\n",
       "    </tr>\n",
       "    <tr>\n",
       "      <th>41165</th>\n",
       "      <td>2</td>\n",
       "      <td>39.4</td>\n",
       "      <td>West</td>\n",
       "      <td>Credit</td>\n",
       "      <td>Sao Paulo</td>\n",
       "      <td>Dawn Garden</td>\n",
       "      <td>3</td>\n",
       "      <td>1</td>\n",
       "      <td>Thursday</td>\n",
       "      <td>95.0</td>\n",
       "    </tr>\n",
       "  </tbody>\n",
       "</table>\n",
       "</div>"
      ],
      "text/plain": [
       "         Num_Items  Total_Value City_Region Payment_Method  Sale_City  \\\n",
       "Sale_ID                                                                 \n",
       "41161            1         31.5    Downtown         Credit  Sao Paulo   \n",
       "41162            1         26.5       South         Credit  Sao Paulo   \n",
       "41163            2         36.4       South         Credit  Sao Paulo   \n",
       "41164            2         59.0       South           Cash  Sao Paulo   \n",
       "41165            2         39.4        West         Credit  Sao Paulo   \n",
       "\n",
       "           District_Name  Sale_Mounth  Sale_Day Sale_Day_Week  District_ID  \n",
       "Sale_ID                                                                     \n",
       "41161      Paulis Garden            3         1      Thursday        169.0  \n",
       "41162     Del Rey Garden            3         1      Thursday        125.0  \n",
       "41163    Industry Garden            3         1      Thursday        416.0  \n",
       "41164             Balcão            3         1      Thursday          0.0  \n",
       "41165        Dawn Garden            3         1      Thursday         95.0  "
      ]
     },
     "execution_count": 47,
     "metadata": {},
     "output_type": "execute_result"
    }
   ],
   "source": [
    "dfSaleHdr.head()"
   ]
  },
  {
   "cell_type": "code",
   "execution_count": 48,
   "metadata": {},
   "outputs": [],
   "source": [
    "dfSaleHdr_indx = dfSaleHdr.reset_index() "
   ]
  },
  {
   "cell_type": "code",
   "execution_count": 49,
   "metadata": {},
   "outputs": [
    {
     "data": {
      "text/html": [
       "<div>\n",
       "<style scoped>\n",
       "    .dataframe tbody tr th:only-of-type {\n",
       "        vertical-align: middle;\n",
       "    }\n",
       "\n",
       "    .dataframe tbody tr th {\n",
       "        vertical-align: top;\n",
       "    }\n",
       "\n",
       "    .dataframe thead th {\n",
       "        text-align: right;\n",
       "    }\n",
       "</style>\n",
       "<table border=\"1\" class=\"dataframe\">\n",
       "  <thead>\n",
       "    <tr style=\"text-align: right;\">\n",
       "      <th></th>\n",
       "      <th>Sale_ID</th>\n",
       "      <th>Num_Items</th>\n",
       "      <th>Total_Value</th>\n",
       "      <th>City_Region</th>\n",
       "      <th>Payment_Method</th>\n",
       "      <th>Sale_City</th>\n",
       "      <th>District_Name</th>\n",
       "      <th>Sale_Mounth</th>\n",
       "      <th>Sale_Day</th>\n",
       "      <th>Sale_Day_Week</th>\n",
       "      <th>District_ID</th>\n",
       "    </tr>\n",
       "  </thead>\n",
       "  <tbody>\n",
       "    <tr>\n",
       "      <th>0</th>\n",
       "      <td>41161</td>\n",
       "      <td>1</td>\n",
       "      <td>31.5</td>\n",
       "      <td>Downtown</td>\n",
       "      <td>Credit</td>\n",
       "      <td>Sao Paulo</td>\n",
       "      <td>Paulis Garden</td>\n",
       "      <td>3</td>\n",
       "      <td>1</td>\n",
       "      <td>Thursday</td>\n",
       "      <td>169.0</td>\n",
       "    </tr>\n",
       "    <tr>\n",
       "      <th>1</th>\n",
       "      <td>41162</td>\n",
       "      <td>1</td>\n",
       "      <td>26.5</td>\n",
       "      <td>South</td>\n",
       "      <td>Credit</td>\n",
       "      <td>Sao Paulo</td>\n",
       "      <td>Del Rey Garden</td>\n",
       "      <td>3</td>\n",
       "      <td>1</td>\n",
       "      <td>Thursday</td>\n",
       "      <td>125.0</td>\n",
       "    </tr>\n",
       "    <tr>\n",
       "      <th>2</th>\n",
       "      <td>41163</td>\n",
       "      <td>2</td>\n",
       "      <td>36.4</td>\n",
       "      <td>South</td>\n",
       "      <td>Credit</td>\n",
       "      <td>Sao Paulo</td>\n",
       "      <td>Industry Garden</td>\n",
       "      <td>3</td>\n",
       "      <td>1</td>\n",
       "      <td>Thursday</td>\n",
       "      <td>416.0</td>\n",
       "    </tr>\n",
       "    <tr>\n",
       "      <th>3</th>\n",
       "      <td>41164</td>\n",
       "      <td>2</td>\n",
       "      <td>59.0</td>\n",
       "      <td>South</td>\n",
       "      <td>Cash</td>\n",
       "      <td>Sao Paulo</td>\n",
       "      <td>Balcão</td>\n",
       "      <td>3</td>\n",
       "      <td>1</td>\n",
       "      <td>Thursday</td>\n",
       "      <td>0.0</td>\n",
       "    </tr>\n",
       "    <tr>\n",
       "      <th>4</th>\n",
       "      <td>41165</td>\n",
       "      <td>2</td>\n",
       "      <td>39.4</td>\n",
       "      <td>West</td>\n",
       "      <td>Credit</td>\n",
       "      <td>Sao Paulo</td>\n",
       "      <td>Dawn Garden</td>\n",
       "      <td>3</td>\n",
       "      <td>1</td>\n",
       "      <td>Thursday</td>\n",
       "      <td>95.0</td>\n",
       "    </tr>\n",
       "  </tbody>\n",
       "</table>\n",
       "</div>"
      ],
      "text/plain": [
       "   Sale_ID  Num_Items  Total_Value City_Region Payment_Method  Sale_City  \\\n",
       "0    41161          1         31.5    Downtown         Credit  Sao Paulo   \n",
       "1    41162          1         26.5       South         Credit  Sao Paulo   \n",
       "2    41163          2         36.4       South         Credit  Sao Paulo   \n",
       "3    41164          2         59.0       South           Cash  Sao Paulo   \n",
       "4    41165          2         39.4        West         Credit  Sao Paulo   \n",
       "\n",
       "     District_Name  Sale_Mounth  Sale_Day Sale_Day_Week  District_ID  \n",
       "0    Paulis Garden            3         1      Thursday        169.0  \n",
       "1   Del Rey Garden            3         1      Thursday        125.0  \n",
       "2  Industry Garden            3         1      Thursday        416.0  \n",
       "3           Balcão            3         1      Thursday          0.0  \n",
       "4      Dawn Garden            3         1      Thursday         95.0  "
      ]
     },
     "execution_count": 49,
     "metadata": {},
     "output_type": "execute_result"
    }
   ],
   "source": [
    "dfSaleHdr_indx.head()"
   ]
  },
  {
   "cell_type": "code",
   "execution_count": 50,
   "metadata": {},
   "outputs": [],
   "source": [
    "#Save Sales Headers to CSV\n",
    "dfSaleHdr_indx.to_csv(\"data/SalesHeader.csv\")"
   ]
  },
  {
   "cell_type": "code",
   "execution_count": 51,
   "metadata": {},
   "outputs": [
    {
     "data": {
      "text/plain": [
       "Sale_ID           0\n",
       "Num_Items         0\n",
       "Total_Value       0\n",
       "City_Region       0\n",
       "Payment_Method    0\n",
       "Sale_City         0\n",
       "District_Name     0\n",
       "Sale_Mounth       0\n",
       "Sale_Day          0\n",
       "Sale_Day_Week     0\n",
       "District_ID       0\n",
       "dtype: int64"
      ]
     },
     "execution_count": 51,
     "metadata": {},
     "output_type": "execute_result"
    }
   ],
   "source": [
    "# Missing Values Checking\n",
    "dfSaleHdr_indx.isnull().sum()"
   ]
  },
  {
   "cell_type": "code",
   "execution_count": 52,
   "metadata": {},
   "outputs": [
    {
     "data": {
      "text/plain": [
       "Sale_ID             int64\n",
       "Num_Items           int64\n",
       "Total_Value       float64\n",
       "City_Region        object\n",
       "Payment_Method     object\n",
       "Sale_City          object\n",
       "District_Name      object\n",
       "Sale_Mounth         int64\n",
       "Sale_Day            int64\n",
       "Sale_Day_Week      object\n",
       "District_ID       float64\n",
       "dtype: object"
      ]
     },
     "execution_count": 52,
     "metadata": {},
     "output_type": "execute_result"
    }
   ],
   "source": [
    "# Show Columns Data Types \n",
    "dfSaleHdr_indx.dtypes"
   ]
  },
  {
   "cell_type": "code",
   "execution_count": 53,
   "metadata": {},
   "outputs": [
    {
     "data": {
      "text/html": [
       "<div>\n",
       "<style scoped>\n",
       "    .dataframe tbody tr th:only-of-type {\n",
       "        vertical-align: middle;\n",
       "    }\n",
       "\n",
       "    .dataframe tbody tr th {\n",
       "        vertical-align: top;\n",
       "    }\n",
       "\n",
       "    .dataframe thead th {\n",
       "        text-align: right;\n",
       "    }\n",
       "</style>\n",
       "<table border=\"1\" class=\"dataframe\">\n",
       "  <thead>\n",
       "    <tr style=\"text-align: right;\">\n",
       "      <th></th>\n",
       "      <th>Sale_ID</th>\n",
       "      <th>Num_Items</th>\n",
       "      <th>Total_Value</th>\n",
       "      <th>City_Region</th>\n",
       "      <th>Payment_Method</th>\n",
       "      <th>Sale_City</th>\n",
       "      <th>District_Name</th>\n",
       "      <th>Sale_Mounth</th>\n",
       "      <th>Sale_Day</th>\n",
       "      <th>Sale_Day_Week</th>\n",
       "      <th>District_ID</th>\n",
       "    </tr>\n",
       "  </thead>\n",
       "  <tbody>\n",
       "    <tr>\n",
       "      <th>0</th>\n",
       "      <td>41161</td>\n",
       "      <td>1</td>\n",
       "      <td>31.5</td>\n",
       "      <td>Downtown</td>\n",
       "      <td>Credit</td>\n",
       "      <td>Sao Paulo</td>\n",
       "      <td>Paulis Garden</td>\n",
       "      <td>3</td>\n",
       "      <td>1</td>\n",
       "      <td>Thursday</td>\n",
       "      <td>169.0</td>\n",
       "    </tr>\n",
       "    <tr>\n",
       "      <th>1</th>\n",
       "      <td>41162</td>\n",
       "      <td>1</td>\n",
       "      <td>26.5</td>\n",
       "      <td>South</td>\n",
       "      <td>Credit</td>\n",
       "      <td>Sao Paulo</td>\n",
       "      <td>Del Rey Garden</td>\n",
       "      <td>3</td>\n",
       "      <td>1</td>\n",
       "      <td>Thursday</td>\n",
       "      <td>125.0</td>\n",
       "    </tr>\n",
       "    <tr>\n",
       "      <th>2</th>\n",
       "      <td>41163</td>\n",
       "      <td>2</td>\n",
       "      <td>36.4</td>\n",
       "      <td>South</td>\n",
       "      <td>Credit</td>\n",
       "      <td>Sao Paulo</td>\n",
       "      <td>Industry Garden</td>\n",
       "      <td>3</td>\n",
       "      <td>1</td>\n",
       "      <td>Thursday</td>\n",
       "      <td>416.0</td>\n",
       "    </tr>\n",
       "    <tr>\n",
       "      <th>3</th>\n",
       "      <td>41164</td>\n",
       "      <td>2</td>\n",
       "      <td>59.0</td>\n",
       "      <td>South</td>\n",
       "      <td>Cash</td>\n",
       "      <td>Sao Paulo</td>\n",
       "      <td>Balcão</td>\n",
       "      <td>3</td>\n",
       "      <td>1</td>\n",
       "      <td>Thursday</td>\n",
       "      <td>0.0</td>\n",
       "    </tr>\n",
       "    <tr>\n",
       "      <th>4</th>\n",
       "      <td>41165</td>\n",
       "      <td>2</td>\n",
       "      <td>39.4</td>\n",
       "      <td>West</td>\n",
       "      <td>Credit</td>\n",
       "      <td>Sao Paulo</td>\n",
       "      <td>Dawn Garden</td>\n",
       "      <td>3</td>\n",
       "      <td>1</td>\n",
       "      <td>Thursday</td>\n",
       "      <td>95.0</td>\n",
       "    </tr>\n",
       "  </tbody>\n",
       "</table>\n",
       "</div>"
      ],
      "text/plain": [
       "   Sale_ID  Num_Items  Total_Value City_Region Payment_Method  Sale_City  \\\n",
       "0    41161          1         31.5    Downtown         Credit  Sao Paulo   \n",
       "1    41162          1         26.5       South         Credit  Sao Paulo   \n",
       "2    41163          2         36.4       South         Credit  Sao Paulo   \n",
       "3    41164          2         59.0       South           Cash  Sao Paulo   \n",
       "4    41165          2         39.4        West         Credit  Sao Paulo   \n",
       "\n",
       "     District_Name  Sale_Mounth  Sale_Day Sale_Day_Week  District_ID  \n",
       "0    Paulis Garden            3         1      Thursday        169.0  \n",
       "1   Del Rey Garden            3         1      Thursday        125.0  \n",
       "2  Industry Garden            3         1      Thursday        416.0  \n",
       "3           Balcão            3         1      Thursday          0.0  \n",
       "4      Dawn Garden            3         1      Thursday         95.0  "
      ]
     },
     "execution_count": 53,
     "metadata": {},
     "output_type": "execute_result"
    }
   ],
   "source": [
    "# Show Some Lines\n",
    "dfSaleHdr_indx.head()"
   ]
  },
  {
   "cell_type": "code",
   "execution_count": null,
   "metadata": {},
   "outputs": [],
   "source": []
  },
  {
   "cell_type": "markdown",
   "metadata": {},
   "source": [
    "<div class=\"alert alert-block alert-info\">\n",
    "<h1>05. Exploratory Analysis</h1>\n",
    "\n",
    "> Explorer data and recognize its meaning as a business vision.\n",
    "\n",
    "</div>"
   ]
  },
  {
   "cell_type": "markdown",
   "metadata": {},
   "source": [
    "<div class=\"alert alert-block alert-info\">\n",
    "<h2>05. Exploratory Analysis</h2>\n",
    "<h3>05.1 Discovering Unique Values from Data</h3>\n",
    "</div>"
   ]
  },
  {
   "cell_type": "code",
   "execution_count": 54,
   "metadata": {},
   "outputs": [
    {
     "data": {
      "text/plain": [
       "RangeIndex(start=0, stop=9104, step=1)"
      ]
     },
     "execution_count": 54,
     "metadata": {},
     "output_type": "execute_result"
    }
   ],
   "source": [
    "dfDataFeatured.index"
   ]
  },
  {
   "cell_type": "code",
   "execution_count": 55,
   "metadata": {},
   "outputs": [
    {
     "data": {
      "text/plain": [
       "Date               229\n",
       "Sale_ID           6254\n",
       "Product_ID          25\n",
       "Product_Name        25\n",
       "Portion              6\n",
       "Product_Type         1\n",
       "Preparation          3\n",
       "Product_Value      169\n",
       "Payment_Method       3\n",
       "Sale_City            2\n",
       "District_ID        103\n",
       "District_Name      105\n",
       "City_Region          7\n",
       "Sale_Year            1\n",
       "Sale_Mounth         12\n",
       "Sale_Day            28\n",
       "Sale_Day_Week        7\n",
       "Sale_Week_Num       43\n",
       "dtype: int64"
      ]
     },
     "execution_count": 55,
     "metadata": {},
     "output_type": "execute_result"
    }
   ],
   "source": [
    "# Checking Columns Unique Values\n",
    "dfDataFeatured.nunique()"
   ]
  },
  {
   "cell_type": "markdown",
   "metadata": {},
   "source": [
    "<div class=\"alert alert-block alert-success\">\n",
    "<h2>Tips about Unique Values</h2>\n",
    "<p>The Total of Obervations on data is 9104 and Sale ID Unique Values are 6254. It seems that one Sale ID has more than 1 item.</p>\n",
    "<ol>\n",
    "    <li>It seems there are 25 Distinct Products saled.</li>\n",
    "    <li>It seems there are 6 Distinct Portion types.</li>\n",
    "    <li>It seems there are 3 Distinct Preparations types.</li>\n",
    "    <li>It seems there are 105 Distinct District Names.</li>\n",
    "    <li>It seems there are 105 Distinct City Names.</li>\n",
    "</ol>\n",
    "</div>"
   ]
  },
  {
   "cell_type": "code",
   "execution_count": null,
   "metadata": {},
   "outputs": [],
   "source": []
  },
  {
   "cell_type": "code",
   "execution_count": 56,
   "metadata": {},
   "outputs": [
    {
     "data": {
      "text/plain": [
       "count    9104.000000\n",
       "mean       27.177905\n",
       "std         9.551394\n",
       "min         1.000000\n",
       "25%        24.900000\n",
       "50%        30.500000\n",
       "75%        32.900000\n",
       "max       100.000000\n",
       "Name: Product_Value, dtype: float64"
      ]
     },
     "execution_count": 56,
     "metadata": {},
     "output_type": "execute_result"
    }
   ],
   "source": [
    "dfDataFeatured.Product_Value.describe()"
   ]
  },
  {
   "cell_type": "markdown",
   "metadata": {},
   "source": [
    "<div class=\"alert alert-block alert-success\">\n",
    "<h2>Tips about Product_Value Statistics</h2>\n",
    "<p>The Total of Obervations on data is 9104 and Sale ID Unique Values are 6254. It seems that one Sale ID has more than 1 item.</p>\n",
    "<ol>\n",
    "    <li>It seems Product Mean Value is 27.17</li>\n",
    "    <li>It seems that most of product vales (price) are between 24 and 32.90</li>    \n",
    "</ol>\n",
    "</div>"
   ]
  },
  {
   "cell_type": "code",
   "execution_count": null,
   "metadata": {},
   "outputs": [],
   "source": []
  },
  {
   "cell_type": "code",
   "execution_count": 57,
   "metadata": {},
   "outputs": [
    {
     "data": {
      "text/plain": [
       "count    6254.000000\n",
       "mean        1.455708\n",
       "std         0.754668\n",
       "min         1.000000\n",
       "25%         1.000000\n",
       "50%         1.000000\n",
       "75%         2.000000\n",
       "max        11.000000\n",
       "Name: Num_Items, dtype: float64"
      ]
     },
     "execution_count": 57,
     "metadata": {},
     "output_type": "execute_result"
    }
   ],
   "source": [
    "# Show Statistics of Sales Number of Items\n",
    "dfSaleHdr_indx.Num_Items.describe()"
   ]
  },
  {
   "cell_type": "markdown",
   "metadata": {},
   "source": [
    "<div class=\"alert alert-block alert-success\">\n",
    "<h2>Tips About Sale Number of Items per Sale Statistics - Sales Headers Data</h2>\n",
    "<ol>\n",
    "    <li>Maximum item number per sale is 2.</li>\n",
    "    <li>The number 11 that appears seems be an outlier, an excepection.</li>    \n",
    "</ol>\n",
    "</div>"
   ]
  },
  {
   "cell_type": "markdown",
   "metadata": {},
   "source": [
    "<div class=\"alert alert-block alert-warning\">\n",
    "<h3> Opportunity 01 => Increase number of items per sale! Some Combo? Some discount in others items? </h3>\n",
    "</div>"
   ]
  },
  {
   "cell_type": "code",
   "execution_count": null,
   "metadata": {},
   "outputs": [],
   "source": []
  },
  {
   "cell_type": "code",
   "execution_count": 58,
   "metadata": {},
   "outputs": [
    {
     "data": {
      "text/plain": [
       "count    6254.000000\n",
       "mean       39.563104\n",
       "std        15.663207\n",
       "min         5.900000\n",
       "25%        30.500000\n",
       "50%        32.900000\n",
       "75%        45.800000\n",
       "max       184.500000\n",
       "Name: Total_Value, dtype: float64"
      ]
     },
     "execution_count": 58,
     "metadata": {},
     "output_type": "execute_result"
    }
   ],
   "source": [
    "dfSaleHdr_indx.Total_Value.describe()"
   ]
  },
  {
   "cell_type": "markdown",
   "metadata": {},
   "source": [
    "<div class=\"alert alert-block alert-success\">\n",
    "<h2>Tips About Sale Total Value Statistics - Sales Headers Data</h2>\n",
    "<ol>\n",
    "    <li>Mean Ticket is 39.60.</li>\n",
    "    <li>Max Ticket is 45.80, discarding outliers like 184.50.</li>    \n",
    "</ol>\n",
    "</div>"
   ]
  },
  {
   "cell_type": "code",
   "execution_count": null,
   "metadata": {},
   "outputs": [],
   "source": []
  },
  {
   "cell_type": "code",
   "execution_count": null,
   "metadata": {},
   "outputs": [],
   "source": []
  },
  {
   "cell_type": "code",
   "execution_count": 59,
   "metadata": {},
   "outputs": [
    {
     "data": {
      "text/html": [
       "<div>\n",
       "<style scoped>\n",
       "    .dataframe tbody tr th:only-of-type {\n",
       "        vertical-align: middle;\n",
       "    }\n",
       "\n",
       "    .dataframe tbody tr th {\n",
       "        vertical-align: top;\n",
       "    }\n",
       "\n",
       "    .dataframe thead tr th {\n",
       "        text-align: left;\n",
       "    }\n",
       "\n",
       "    .dataframe thead tr:last-of-type th {\n",
       "        text-align: right;\n",
       "    }\n",
       "</style>\n",
       "<table border=\"1\" class=\"dataframe\">\n",
       "  <thead>\n",
       "    <tr>\n",
       "      <th></th>\n",
       "      <th>Sale_ID</th>\n",
       "      <th colspan=\"2\" halign=\"left\">Total_Value</th>\n",
       "    </tr>\n",
       "    <tr>\n",
       "      <th></th>\n",
       "      <th>count</th>\n",
       "      <th>sum</th>\n",
       "      <th>mean</th>\n",
       "    </tr>\n",
       "    <tr>\n",
       "      <th>Sale_City</th>\n",
       "      <th></th>\n",
       "      <th></th>\n",
       "      <th></th>\n",
       "    </tr>\n",
       "  </thead>\n",
       "  <tbody>\n",
       "    <tr>\n",
       "      <th>Sao Paulo</th>\n",
       "      <td>6236</td>\n",
       "      <td>246737.55</td>\n",
       "      <td>39.566637</td>\n",
       "    </tr>\n",
       "    <tr>\n",
       "      <th>Guarulhos</th>\n",
       "      <td>18</td>\n",
       "      <td>690.10</td>\n",
       "      <td>38.338889</td>\n",
       "    </tr>\n",
       "  </tbody>\n",
       "</table>\n",
       "</div>"
      ],
      "text/plain": [
       "          Sale_ID Total_Value           \n",
       "            count         sum       mean\n",
       "Sale_City                               \n",
       "Sao Paulo    6236   246737.55  39.566637\n",
       "Guarulhos      18      690.10  38.338889"
      ]
     },
     "execution_count": 59,
     "metadata": {},
     "output_type": "execute_result"
    }
   ],
   "source": [
    "# N# of Sales per City\n",
    "\n",
    "agg_Sales_Per_City = {'Sale_ID': ['count'], \n",
    "                      'Total_Value': ['sum','mean']                                              \n",
    "                          }\n",
    "#dfSalesStsPerCitu = dfSaleHdr.groupby(['Sale_City']).agg(agg_Sales_Per_City).reset_index()\n",
    "dfSalesStsPerCity = dfSaleHdr_indx.groupby(['Sale_City']).agg(agg_Sales_Per_City).sort_values(('Sale_ID','count'),ascending=False)\n",
    "\n",
    "dfSalesStsPerCity"
   ]
  },
  {
   "cell_type": "markdown",
   "metadata": {},
   "source": [
    "<div class=\"alert alert-block alert-success\">\n",
    "<h2>Tips About Number ot The Sales Per City Statistics - Sales Headers Data</h2>\n",
    "<ol>\n",
    "    <li>Guarulhos City has smallest party of number of sales, but Mean Ticket is the same of Sao Paulo city is the greater.</li>\n",
    "    <li>Sao Paulo is great sales champion city!</li>    \n",
    "</ol>\n",
    "</div>"
   ]
  },
  {
   "cell_type": "markdown",
   "metadata": {},
   "source": [
    "<div class=\"alert alert-block alert-warning\">\n",
    "<h3>Opportunities About Number ot The Sales Per City</h3>\n",
    "<ol>\n",
    "    <li><b>Increase number of sales in Guaruhos city</b></li>\n",
    "    <li><b>More Regional Digital Marketing</b></li>\n",
    "</ol>\n",
    "</div>"
   ]
  },
  {
   "cell_type": "code",
   "execution_count": null,
   "metadata": {},
   "outputs": [],
   "source": []
  },
  {
   "cell_type": "code",
   "execution_count": 60,
   "metadata": {},
   "outputs": [
    {
     "data": {
      "text/plain": [
       "Int64Index([   0,    1,    2,    3,    4,    5,    6,    7,    8,    9,\n",
       "            ...\n",
       "            6244, 6245, 6246, 6247, 6248, 6249, 6250, 6251, 6252, 6253],\n",
       "           dtype='int64', length=6236)"
      ]
     },
     "execution_count": 60,
     "metadata": {},
     "output_type": "execute_result"
    }
   ],
   "source": [
    "# Focus on Sao Paulo Sales After here!\n",
    "dfSalesSPCity = dfSaleHdr_indx[dfSaleHdr_indx['Sale_City']=='Sao Paulo']\n",
    "dfSalesSPCity.index"
   ]
  },
  {
   "cell_type": "code",
   "execution_count": 61,
   "metadata": {},
   "outputs": [
    {
     "data": {
      "text/html": [
       "<div>\n",
       "<style scoped>\n",
       "    .dataframe tbody tr th:only-of-type {\n",
       "        vertical-align: middle;\n",
       "    }\n",
       "\n",
       "    .dataframe tbody tr th {\n",
       "        vertical-align: top;\n",
       "    }\n",
       "\n",
       "    .dataframe thead tr th {\n",
       "        text-align: left;\n",
       "    }\n",
       "</style>\n",
       "<table border=\"1\" class=\"dataframe\">\n",
       "  <thead>\n",
       "    <tr>\n",
       "      <th></th>\n",
       "      <th>City_Region</th>\n",
       "      <th>Sale_ID</th>\n",
       "      <th colspan=\"2\" halign=\"left\">Total_Value</th>\n",
       "    </tr>\n",
       "    <tr>\n",
       "      <th></th>\n",
       "      <th></th>\n",
       "      <th>count</th>\n",
       "      <th>sum</th>\n",
       "      <th>mean</th>\n",
       "    </tr>\n",
       "  </thead>\n",
       "  <tbody>\n",
       "    <tr>\n",
       "      <th>0</th>\n",
       "      <td>South</td>\n",
       "      <td>4025</td>\n",
       "      <td>156548.55</td>\n",
       "      <td>38.894050</td>\n",
       "    </tr>\n",
       "    <tr>\n",
       "      <th>1</th>\n",
       "      <td>East</td>\n",
       "      <td>913</td>\n",
       "      <td>37844.20</td>\n",
       "      <td>41.450383</td>\n",
       "    </tr>\n",
       "    <tr>\n",
       "      <th>2</th>\n",
       "      <td>Downtown</td>\n",
       "      <td>539</td>\n",
       "      <td>21080.20</td>\n",
       "      <td>39.109833</td>\n",
       "    </tr>\n",
       "    <tr>\n",
       "      <th>3</th>\n",
       "      <td>West</td>\n",
       "      <td>524</td>\n",
       "      <td>21274.30</td>\n",
       "      <td>40.599809</td>\n",
       "    </tr>\n",
       "    <tr>\n",
       "      <th>4</th>\n",
       "      <td>Southeast</td>\n",
       "      <td>129</td>\n",
       "      <td>5495.80</td>\n",
       "      <td>42.603101</td>\n",
       "    </tr>\n",
       "    <tr>\n",
       "      <th>5</th>\n",
       "      <td>North</td>\n",
       "      <td>74</td>\n",
       "      <td>3225.10</td>\n",
       "      <td>43.582432</td>\n",
       "    </tr>\n",
       "    <tr>\n",
       "      <th>6</th>\n",
       "      <td>Sudest</td>\n",
       "      <td>32</td>\n",
       "      <td>1269.40</td>\n",
       "      <td>39.668750</td>\n",
       "    </tr>\n",
       "  </tbody>\n",
       "</table>\n",
       "</div>"
      ],
      "text/plain": [
       "  City_Region Sale_ID Total_Value           \n",
       "                count         sum       mean\n",
       "0       South    4025   156548.55  38.894050\n",
       "1        East     913    37844.20  41.450383\n",
       "2    Downtown     539    21080.20  39.109833\n",
       "3        West     524    21274.30  40.599809\n",
       "4   Southeast     129     5495.80  42.603101\n",
       "5       North      74     3225.10  43.582432\n",
       "6      Sudest      32     1269.40  39.668750"
      ]
     },
     "execution_count": 61,
     "metadata": {},
     "output_type": "execute_result"
    }
   ],
   "source": [
    "# N# of Sales per Region for Sao Paulo City (Most of number of sales)\n",
    "agg_Sales_Per_Region_SP = {'Sale_ID': ['count'], \n",
    "                      'Total_Value': ['sum','mean']                                              \n",
    "                          }\n",
    "#dfSalesStsPerCitu = dfSaleHdr.groupby(['Sale_City']).agg(agg_Sales_Per_City).reset_index()\n",
    "dfSalesPerRegionSP = dfSalesSPCity.groupby(['City_Region']).agg(agg_Sales_Per_Region_SP).sort_values(('Sale_ID', 'count'),ascending=False)\n",
    "dfSalesPerRegionSP.reset_index()"
   ]
  },
  {
   "cell_type": "code",
   "execution_count": 62,
   "metadata": {},
   "outputs": [],
   "source": [
    "# Change Aggregation Columns Names automated generated to more simple names\n",
    "dfSalesPerRegionSP.columns = dfSalesPerRegionSP.columns.droplevel(1)\n",
    "dfSalesPerRegionSP.columns = ['Num_Sales','Total_Sales','Mean_Sales']"
   ]
  },
  {
   "cell_type": "code",
   "execution_count": 63,
   "metadata": {},
   "outputs": [
    {
     "data": {
      "image/png": "[encoded data removed]",
      "text/plain": [
       "<Figure size 432x288 with 1 Axes>"
      ]
     },
     "metadata": {
      "needs_background": "light"
     },
     "output_type": "display_data"
    }
   ],
   "source": [
    "# Some Plot about this Data View\n",
    "dfSalesPerRegionSP['Num_Sales'].plot(kind=\"bar\")\n",
    "# Rotate the x-labels by 30 degrees, and keep the text aligned horizontally\n",
    "plt.xticks(rotation=30, horizontalalignment=\"center\")\n",
    "plt.xlabel(\"Sao Paulo Regions\")\n",
    "plt.ylabel(\"Sales\")\n",
    "plt.show()"
   ]
  },
  {
   "cell_type": "markdown",
   "metadata": {},
   "source": [
    "<div class=\"alert alert-block alert-success\">\n",
    "<h2>Tips About Number ot The Sales Per Rergion at São Paulo Statistics - São Paulo Sales Data</h2>\n",
    "<ol>\n",
    "    <li>South, East and Downtown are 3 greatest sales regions</li>\n",
    "    <li>Southeast, North and Sudest are 3 smallest sales regions</li>    \n",
    "</ol>\n",
    "</div>"
   ]
  },
  {
   "cell_type": "markdown",
   "metadata": {},
   "source": [
    "<div class=\"alert alert-block alert-warning\">\n",
    "<h3> Opportunities - Number ot The Sales Per Rergion at São Paulo</h3>\n",
    "    <ol>\n",
    "       <li><b>Increase number of sales in smallest regions</b></li>\n",
    "       <li><b>Open new branchs on strong regions</b></li>\n",
    "       <li><b>More regional marketing actions</b></li>       \n",
    "    </ol>\n",
    "</div>"
   ]
  },
  {
   "cell_type": "code",
   "execution_count": null,
   "metadata": {},
   "outputs": [],
   "source": []
  },
  {
   "cell_type": "code",
   "execution_count": 64,
   "metadata": {},
   "outputs": [
    {
     "data": {
      "text/html": [
       "<div>\n",
       "<style scoped>\n",
       "    .dataframe tbody tr th:only-of-type {\n",
       "        vertical-align: middle;\n",
       "    }\n",
       "\n",
       "    .dataframe tbody tr th {\n",
       "        vertical-align: top;\n",
       "    }\n",
       "\n",
       "    .dataframe thead tr th {\n",
       "        text-align: left;\n",
       "    }\n",
       "\n",
       "    .dataframe thead tr:last-of-type th {\n",
       "        text-align: right;\n",
       "    }\n",
       "</style>\n",
       "<table border=\"1\" class=\"dataframe\">\n",
       "  <thead>\n",
       "    <tr>\n",
       "      <th></th>\n",
       "      <th>Sale_ID</th>\n",
       "      <th>Total_Value</th>\n",
       "    </tr>\n",
       "    <tr>\n",
       "      <th></th>\n",
       "      <th>count</th>\n",
       "      <th>sum</th>\n",
       "    </tr>\n",
       "    <tr>\n",
       "      <th>District_Name</th>\n",
       "      <th></th>\n",
       "      <th></th>\n",
       "    </tr>\n",
       "  </thead>\n",
       "  <tbody>\n",
       "    <tr>\n",
       "      <th>Balcão</th>\n",
       "      <td>1703</td>\n",
       "      <td>67337.25</td>\n",
       "    </tr>\n",
       "    <tr>\n",
       "      <th>American Garden</th>\n",
       "      <td>476</td>\n",
       "      <td>20460.70</td>\n",
       "    </tr>\n",
       "    <tr>\n",
       "      <th>Eucalyptus Forest</th>\n",
       "      <td>420</td>\n",
       "      <td>16576.70</td>\n",
       "    </tr>\n",
       "    <tr>\n",
       "      <th>Sputnik Garden</th>\n",
       "      <td>275</td>\n",
       "      <td>10459.60</td>\n",
       "    </tr>\n",
       "    <tr>\n",
       "      <th>Aquarius Park</th>\n",
       "      <td>252</td>\n",
       "      <td>10054.70</td>\n",
       "    </tr>\n",
       "    <tr>\n",
       "      <th>Morumbi City</th>\n",
       "      <td>227</td>\n",
       "      <td>8622.00</td>\n",
       "    </tr>\n",
       "    <tr>\n",
       "      <th>Industry Garden</th>\n",
       "      <td>209</td>\n",
       "      <td>8483.60</td>\n",
       "    </tr>\n",
       "    <tr>\n",
       "      <th>Industrial Park</th>\n",
       "      <td>186</td>\n",
       "      <td>6895.60</td>\n",
       "    </tr>\n",
       "    <tr>\n",
       "      <th>Orient Garden</th>\n",
       "      <td>177</td>\n",
       "      <td>6455.50</td>\n",
       "    </tr>\n",
       "    <tr>\n",
       "      <th>Portugal Garden</th>\n",
       "      <td>150</td>\n",
       "      <td>5654.30</td>\n",
       "    </tr>\n",
       "  </tbody>\n",
       "</table>\n",
       "</div>"
      ],
      "text/plain": [
       "                  Sale_ID Total_Value\n",
       "                    count         sum\n",
       "District_Name                        \n",
       "Balcão               1703    67337.25\n",
       "American Garden       476    20460.70\n",
       "Eucalyptus Forest     420    16576.70\n",
       "Sputnik Garden        275    10459.60\n",
       "Aquarius Park         252    10054.70\n",
       "Morumbi City          227     8622.00\n",
       "Industry Garden       209     8483.60\n",
       "Industrial Park       186     6895.60\n",
       "Orient Garden         177     6455.50\n",
       "Portugal Garden       150     5654.30"
      ]
     },
     "execution_count": 64,
     "metadata": {},
     "output_type": "execute_result"
    }
   ],
   "source": [
    "# N# of Sales per Sao Paulo District - TOP 10\n",
    "agg_Sales_Per_District_SP = {'Sale_ID': ['count'], \n",
    "                             'Total_Value': ['sum']                                               \n",
    "                            }\n",
    "\n",
    "dfSalesPerDistrictSP = dfSalesSPCity.groupby(['District_Name']).agg(agg_Sales_Per_District_SP) \\\n",
    ".sort_values(('Sale_ID', 'count'),ascending=False).nlargest(10,columns=(('Sale_ID', 'count')))\n",
    "dfSalesPerDistrictSP.reset_index()\n",
    "dfSalesPerDistrictSP"
   ]
  },
  {
   "cell_type": "code",
   "execution_count": 65,
   "metadata": {},
   "outputs": [],
   "source": [
    "# Change Aggregation Columns Names automated generated to more simple names\n",
    "dfSalesPerDistrictSP.columns = dfSalesPerDistrictSP.columns.droplevel(1)\n",
    "dfSalesPerDistrictSP.columns = ['Num_Sales','Total_Sales']"
   ]
  },
  {
   "cell_type": "code",
   "execution_count": 66,
   "metadata": {},
   "outputs": [
    {
     "data": {
      "text/plain": [
       "Text(0, 0.5, 'Sales')"
      ]
     },
     "execution_count": 66,
     "metadata": {},
     "output_type": "execute_result"
    },
    {
     "data": {
      "image/png": "[encoded data removed]",
      "text/plain": [
       "<Figure size 720x720 with 1 Axes>"
      ]
     },
     "metadata": {
      "needs_background": "light"
     },
     "output_type": "display_data"
    }
   ],
   "source": [
    "# Some Plot about this Data View\n",
    "dfSalesPerDistrictSP['Num_Sales'].plot(kind=\"bar\",figsize=(10,10))\n",
    "plt.xticks(rotation=30, horizontalalignment=\"right\")\n",
    "plt.xlabel(\"Sao Paulo Districts\")\n",
    "plt.ylabel(\"Sales\")"
   ]
  },
  {
   "cell_type": "markdown",
   "metadata": {},
   "source": [
    "<div class=\"alert alert-block alert-success\">\n",
    "<h2>Number of Sales per Sao Paulo District - Top 10 - São Paulo Data</h2>\n",
    "<ol>\n",
    "    <li>Balcão is Generic District Name that does not have real district name registred.</li>\n",
    "    <li>South Region confirms its leadership on sales by its regions, 8 of TOP 15 BEST!</li>    \n",
    "</ol>\n",
    "</div>"
   ]
  },
  {
   "cell_type": "markdown",
   "metadata": {},
   "source": [
    "<div class=\"alert alert-block alert-warning\">\n",
    "<h3> Opportunities - Number of Sales per Sao Paulo District - Top 10</h3>\n",
    "    <ol>\n",
    "       <li><b>Districts <em>American Garden and/or Eucalyptus Forest</em> deserves its own store branch?</b></li> \n",
    "    </ol>\n",
    "</div>"
   ]
  },
  {
   "cell_type": "code",
   "execution_count": 67,
   "metadata": {},
   "outputs": [
    {
     "data": {
      "text/html": [
       "<div>\n",
       "<style scoped>\n",
       "    .dataframe tbody tr th:only-of-type {\n",
       "        vertical-align: middle;\n",
       "    }\n",
       "\n",
       "    .dataframe tbody tr th {\n",
       "        vertical-align: top;\n",
       "    }\n",
       "\n",
       "    .dataframe thead th {\n",
       "        text-align: right;\n",
       "    }\n",
       "</style>\n",
       "<table border=\"1\" class=\"dataframe\">\n",
       "  <thead>\n",
       "    <tr style=\"text-align: right;\">\n",
       "      <th></th>\n",
       "      <th>Sale_ID</th>\n",
       "      <th>Num_Items</th>\n",
       "      <th>Total_Value</th>\n",
       "      <th>City_Region</th>\n",
       "      <th>Payment_Method</th>\n",
       "      <th>Sale_City</th>\n",
       "      <th>District_Name</th>\n",
       "      <th>Sale_Mounth</th>\n",
       "      <th>Sale_Day</th>\n",
       "      <th>Sale_Day_Week</th>\n",
       "      <th>District_ID</th>\n",
       "    </tr>\n",
       "  </thead>\n",
       "  <tbody>\n",
       "    <tr>\n",
       "      <th>0</th>\n",
       "      <td>41161</td>\n",
       "      <td>1</td>\n",
       "      <td>31.5</td>\n",
       "      <td>Downtown</td>\n",
       "      <td>Credit</td>\n",
       "      <td>Sao Paulo</td>\n",
       "      <td>Paulis Garden</td>\n",
       "      <td>3</td>\n",
       "      <td>1</td>\n",
       "      <td>Thursday</td>\n",
       "      <td>169.0</td>\n",
       "    </tr>\n",
       "    <tr>\n",
       "      <th>1</th>\n",
       "      <td>41162</td>\n",
       "      <td>1</td>\n",
       "      <td>26.5</td>\n",
       "      <td>South</td>\n",
       "      <td>Credit</td>\n",
       "      <td>Sao Paulo</td>\n",
       "      <td>Del Rey Garden</td>\n",
       "      <td>3</td>\n",
       "      <td>1</td>\n",
       "      <td>Thursday</td>\n",
       "      <td>125.0</td>\n",
       "    </tr>\n",
       "    <tr>\n",
       "      <th>2</th>\n",
       "      <td>41163</td>\n",
       "      <td>2</td>\n",
       "      <td>36.4</td>\n",
       "      <td>South</td>\n",
       "      <td>Credit</td>\n",
       "      <td>Sao Paulo</td>\n",
       "      <td>Industry Garden</td>\n",
       "      <td>3</td>\n",
       "      <td>1</td>\n",
       "      <td>Thursday</td>\n",
       "      <td>416.0</td>\n",
       "    </tr>\n",
       "    <tr>\n",
       "      <th>3</th>\n",
       "      <td>41164</td>\n",
       "      <td>2</td>\n",
       "      <td>59.0</td>\n",
       "      <td>South</td>\n",
       "      <td>Cash</td>\n",
       "      <td>Sao Paulo</td>\n",
       "      <td>Balcão</td>\n",
       "      <td>3</td>\n",
       "      <td>1</td>\n",
       "      <td>Thursday</td>\n",
       "      <td>0.0</td>\n",
       "    </tr>\n",
       "    <tr>\n",
       "      <th>4</th>\n",
       "      <td>41165</td>\n",
       "      <td>2</td>\n",
       "      <td>39.4</td>\n",
       "      <td>West</td>\n",
       "      <td>Credit</td>\n",
       "      <td>Sao Paulo</td>\n",
       "      <td>Dawn Garden</td>\n",
       "      <td>3</td>\n",
       "      <td>1</td>\n",
       "      <td>Thursday</td>\n",
       "      <td>95.0</td>\n",
       "    </tr>\n",
       "  </tbody>\n",
       "</table>\n",
       "</div>"
      ],
      "text/plain": [
       "   Sale_ID  Num_Items  Total_Value City_Region Payment_Method  Sale_City  \\\n",
       "0    41161          1         31.5    Downtown         Credit  Sao Paulo   \n",
       "1    41162          1         26.5       South         Credit  Sao Paulo   \n",
       "2    41163          2         36.4       South         Credit  Sao Paulo   \n",
       "3    41164          2         59.0       South           Cash  Sao Paulo   \n",
       "4    41165          2         39.4        West         Credit  Sao Paulo   \n",
       "\n",
       "     District_Name  Sale_Mounth  Sale_Day Sale_Day_Week  District_ID  \n",
       "0    Paulis Garden            3         1      Thursday        169.0  \n",
       "1   Del Rey Garden            3         1      Thursday        125.0  \n",
       "2  Industry Garden            3         1      Thursday        416.0  \n",
       "3           Balcão            3         1      Thursday          0.0  \n",
       "4      Dawn Garden            3         1      Thursday         95.0  "
      ]
     },
     "execution_count": 67,
     "metadata": {},
     "output_type": "execute_result"
    }
   ],
   "source": [
    "dfSalesSPCity.head()"
   ]
  },
  {
   "cell_type": "code",
   "execution_count": 68,
   "metadata": {},
   "outputs": [
    {
     "data": {
      "text/html": [
       "<div>\n",
       "<style scoped>\n",
       "    .dataframe tbody tr th:only-of-type {\n",
       "        vertical-align: middle;\n",
       "    }\n",
       "\n",
       "    .dataframe tbody tr th {\n",
       "        vertical-align: top;\n",
       "    }\n",
       "\n",
       "    .dataframe thead tr th {\n",
       "        text-align: left;\n",
       "    }\n",
       "\n",
       "    .dataframe thead tr:last-of-type th {\n",
       "        text-align: right;\n",
       "    }\n",
       "</style>\n",
       "<table border=\"1\" class=\"dataframe\">\n",
       "  <thead>\n",
       "    <tr>\n",
       "      <th></th>\n",
       "      <th>Sale_ID</th>\n",
       "      <th>Total_Value</th>\n",
       "    </tr>\n",
       "    <tr>\n",
       "      <th></th>\n",
       "      <th>count</th>\n",
       "      <th>sum</th>\n",
       "    </tr>\n",
       "    <tr>\n",
       "      <th>Sale_Mounth</th>\n",
       "      <th></th>\n",
       "      <th></th>\n",
       "    </tr>\n",
       "  </thead>\n",
       "  <tbody>\n",
       "    <tr>\n",
       "      <th>5</th>\n",
       "      <td>716</td>\n",
       "      <td>28718.95</td>\n",
       "    </tr>\n",
       "    <tr>\n",
       "      <th>4</th>\n",
       "      <td>682</td>\n",
       "      <td>26733.10</td>\n",
       "    </tr>\n",
       "    <tr>\n",
       "      <th>3</th>\n",
       "      <td>674</td>\n",
       "      <td>26892.10</td>\n",
       "    </tr>\n",
       "    <tr>\n",
       "      <th>7</th>\n",
       "      <td>661</td>\n",
       "      <td>26099.20</td>\n",
       "    </tr>\n",
       "    <tr>\n",
       "      <th>6</th>\n",
       "      <td>655</td>\n",
       "      <td>26512.90</td>\n",
       "    </tr>\n",
       "    <tr>\n",
       "      <th>8</th>\n",
       "      <td>578</td>\n",
       "      <td>23119.90</td>\n",
       "    </tr>\n",
       "    <tr>\n",
       "      <th>2</th>\n",
       "      <td>577</td>\n",
       "      <td>22022.90</td>\n",
       "    </tr>\n",
       "    <tr>\n",
       "      <th>9</th>\n",
       "      <td>549</td>\n",
       "      <td>22019.20</td>\n",
       "    </tr>\n",
       "    <tr>\n",
       "      <th>1</th>\n",
       "      <td>387</td>\n",
       "      <td>15256.90</td>\n",
       "    </tr>\n",
       "    <tr>\n",
       "      <th>11</th>\n",
       "      <td>268</td>\n",
       "      <td>10286.10</td>\n",
       "    </tr>\n",
       "    <tr>\n",
       "      <th>12</th>\n",
       "      <td>264</td>\n",
       "      <td>10209.90</td>\n",
       "    </tr>\n",
       "    <tr>\n",
       "      <th>10</th>\n",
       "      <td>225</td>\n",
       "      <td>8866.40</td>\n",
       "    </tr>\n",
       "  </tbody>\n",
       "</table>\n",
       "</div>"
      ],
      "text/plain": [
       "            Sale_ID Total_Value\n",
       "              count         sum\n",
       "Sale_Mounth                    \n",
       "5               716    28718.95\n",
       "4               682    26733.10\n",
       "3               674    26892.10\n",
       "7               661    26099.20\n",
       "6               655    26512.90\n",
       "8               578    23119.90\n",
       "2               577    22022.90\n",
       "9               549    22019.20\n",
       "1               387    15256.90\n",
       "11              268    10286.10\n",
       "12              264    10209.90\n",
       "10              225     8866.40"
      ]
     },
     "execution_count": 68,
     "metadata": {},
     "output_type": "execute_result"
    }
   ],
   "source": [
    "# N# of Sales per Mouth on Sao Paulo City\n",
    "agg_Sales_Per_Mounth = {'Sale_ID': ['count'], \n",
    "                             'Total_Value': ['sum']                                               \n",
    "                            }\n",
    "dfSalesPerMounthSP = dfSalesSPCity.groupby(['Sale_Mounth']).agg(agg_Sales_Per_Mounth) \\\n",
    ".sort_values(('Sale_ID', 'count'),ascending=False).nlargest(15,columns=(('Sale_ID', 'count')))\n",
    "dfSalesPerMounthSP"
   ]
  },
  {
   "cell_type": "code",
   "execution_count": 69,
   "metadata": {},
   "outputs": [],
   "source": [
    "# Change Aggregation Columns Names automated generated to more simple names\n",
    "dfSalesPerMounthSP.columns = dfSalesPerMounthSP.columns.droplevel(1)\n",
    "dfSalesPerMounthSP.columns = ['Num_Sales','Total_Sales']"
   ]
  },
  {
   "cell_type": "code",
   "execution_count": 70,
   "metadata": {},
   "outputs": [
    {
     "data": {
      "text/plain": [
       "Text(0, 0.5, 'Total $')"
      ]
     },
     "execution_count": 70,
     "metadata": {},
     "output_type": "execute_result"
    },
    {
     "data": {
      "image/png": "[encoded data removed]",
      "text/plain": [
       "<Figure size 360x360 with 1 Axes>"
      ]
     },
     "metadata": {
      "needs_background": "light"
     },
     "output_type": "display_data"
    }
   ],
   "source": [
    "# Some Plot about this Data View\n",
    "dfSalesPerMounthSP['Total_Sales'].plot(kind=\"bar\",figsize=(5,5))\n",
    "plt.xticks(rotation=0, horizontalalignment='center')\n",
    "plt.xlabel(\"Mounth\")\n",
    "plt.ylabel(\"Total $\")"
   ]
  },
  {
   "cell_type": "markdown",
   "metadata": {},
   "source": [
    "<div class=\"alert alert-block alert-success\">\n",
    "<h2>Number of Sales per Mounth at Sao Paulo - São Paulo Data</h2>\n",
    "<ol>\n",
    "    <li>The period between febuary and september is the best for sale </li>\n",
    "    <li>Mounths March, April and May are the best mouths for sale</li>    \n",
    "</ol>\n",
    "</div>"
   ]
  },
  {
   "cell_type": "markdown",
   "metadata": {},
   "source": [
    "<div class=\"alert alert-block alert-warning\">\n",
    "<h3> Opportunities - Number of Sales per Mounth at Sao Paulo</h3>\n",
    "    <ol>\n",
    "       <li><b>Flyers can be distribute on mounths with smallest sales</b></li> \n",
    "    </ol>\n",
    "</div>"
   ]
  },
  {
   "cell_type": "code",
   "execution_count": null,
   "metadata": {},
   "outputs": [],
   "source": []
  },
  {
   "cell_type": "code",
   "execution_count": 71,
   "metadata": {},
   "outputs": [
    {
     "data": {
      "text/html": [
       "<div>\n",
       "<style scoped>\n",
       "    .dataframe tbody tr th:only-of-type {\n",
       "        vertical-align: middle;\n",
       "    }\n",
       "\n",
       "    .dataframe tbody tr th {\n",
       "        vertical-align: top;\n",
       "    }\n",
       "\n",
       "    .dataframe thead tr th {\n",
       "        text-align: left;\n",
       "    }\n",
       "\n",
       "    .dataframe thead tr:last-of-type th {\n",
       "        text-align: right;\n",
       "    }\n",
       "</style>\n",
       "<table border=\"1\" class=\"dataframe\">\n",
       "  <thead>\n",
       "    <tr>\n",
       "      <th></th>\n",
       "      <th>Sale_ID</th>\n",
       "      <th>Total_Value</th>\n",
       "    </tr>\n",
       "    <tr>\n",
       "      <th></th>\n",
       "      <th>count</th>\n",
       "      <th>sum</th>\n",
       "    </tr>\n",
       "    <tr>\n",
       "      <th>Sale_Day_Week</th>\n",
       "      <th></th>\n",
       "      <th></th>\n",
       "    </tr>\n",
       "  </thead>\n",
       "  <tbody>\n",
       "    <tr>\n",
       "      <th>Saturday</th>\n",
       "      <td>1065</td>\n",
       "      <td>42187.15</td>\n",
       "    </tr>\n",
       "    <tr>\n",
       "      <th>Friday</th>\n",
       "      <td>1043</td>\n",
       "      <td>41413.80</td>\n",
       "    </tr>\n",
       "    <tr>\n",
       "      <th>Sunday</th>\n",
       "      <td>1014</td>\n",
       "      <td>39640.70</td>\n",
       "    </tr>\n",
       "    <tr>\n",
       "      <th>Thursday</th>\n",
       "      <td>831</td>\n",
       "      <td>33533.10</td>\n",
       "    </tr>\n",
       "    <tr>\n",
       "      <th>Tuesday</th>\n",
       "      <td>826</td>\n",
       "      <td>33152.40</td>\n",
       "    </tr>\n",
       "    <tr>\n",
       "      <th>Monday</th>\n",
       "      <td>741</td>\n",
       "      <td>28738.00</td>\n",
       "    </tr>\n",
       "    <tr>\n",
       "      <th>Wednesday</th>\n",
       "      <td>716</td>\n",
       "      <td>28072.40</td>\n",
       "    </tr>\n",
       "  </tbody>\n",
       "</table>\n",
       "</div>"
      ],
      "text/plain": [
       "              Sale_ID Total_Value\n",
       "                count         sum\n",
       "Sale_Day_Week                    \n",
       "Saturday         1065    42187.15\n",
       "Friday           1043    41413.80\n",
       "Sunday           1014    39640.70\n",
       "Thursday          831    33533.10\n",
       "Tuesday           826    33152.40\n",
       "Monday            741    28738.00\n",
       "Wednesday         716    28072.40"
      ]
     },
     "execution_count": 71,
     "metadata": {},
     "output_type": "execute_result"
    }
   ],
   "source": [
    "# N# of Sales per Sale_Day_Week\n",
    "agg_Sales_Per_Day_Week = {'Sale_ID': ['count'], \n",
    "                             'Total_Value': ['sum']                                               \n",
    "                         }\n",
    "\n",
    "dfSalesPerDayWeekSP = dfSalesSPCity.groupby(['Sale_Day_Week']).agg(agg_Sales_Per_Mounth).sort_values(('Sale_ID', 'count'),ascending=False)\n",
    "dfSalesPerDayWeekSP"
   ]
  },
  {
   "cell_type": "code",
   "execution_count": 72,
   "metadata": {},
   "outputs": [],
   "source": [
    "# Change Aggregation Columns Names automated generated to more simple names\n",
    "dfSalesPerDayWeekSP.columns = dfSalesPerDayWeekSP.columns.droplevel(1)\n",
    "dfSalesPerDayWeekSP.columns = ['Num_Sales','Total_Sales']"
   ]
  },
  {
   "cell_type": "code",
   "execution_count": 73,
   "metadata": {},
   "outputs": [
    {
     "data": {
      "text/plain": [
       "Text(0, 0.5, 'Total $')"
      ]
     },
     "execution_count": 73,
     "metadata": {},
     "output_type": "execute_result"
    },
    {
     "data": {
      "image/png": "[encoded data removed]",
      "text/plain": [
       "<Figure size 360x360 with 1 Axes>"
      ]
     },
     "metadata": {
      "needs_background": "light"
     },
     "output_type": "display_data"
    }
   ],
   "source": [
    "# Some Plot about this Data View\n",
    "dfSalesPerDayWeekSP['Total_Sales'].plot(kind=\"bar\",figsize=(5,5))\n",
    "plt.xticks(rotation=30, horizontalalignment=\"right\")\n",
    "\n",
    "plt.xlabel(\"Day Week\")\n",
    "plt.ylabel(\"Total $\")"
   ]
  },
  {
   "cell_type": "markdown",
   "metadata": {},
   "source": [
    "<div class=\"alert alert-block alert-success\">\n",
    "<h2>Number of Sales per Day of Week - São Paulo Data</h2>\n",
    "<ol>\n",
    "    <li>Friday, Saturday and Sunday are the best days!</li>\n",
    "    <li>Wednesday is the worst!</li>    \n",
    "</ol>\n",
    "</div>"
   ]
  },
  {
   "cell_type": "markdown",
   "metadata": {},
   "source": [
    "<div class=\"alert alert-block alert-warning\">\n",
    "<h3> Opportunities - Number of Sales per Day of Week - São Paulo</h3>\n",
    "    <ol>\n",
    "       <li>Increase more marketing actions on Tuesday to get effect on Wednesday</li>\n",
    "       <li>Create a promotion or discount for Wednesdays</li>  \n",
    "    </ol>\n",
    "</div>"
   ]
  },
  {
   "cell_type": "markdown",
   "metadata": {},
   "source": []
  },
  {
   "cell_type": "code",
   "execution_count": 74,
   "metadata": {},
   "outputs": [],
   "source": [
    "# Sold Quantity per Product - Descending - All 25 types"
   ]
  },
  {
   "cell_type": "code",
   "execution_count": 75,
   "metadata": {},
   "outputs": [
    {
     "data": {
      "image/png": "[encoded data removed]",
      "text/plain": [
       "<Figure size 360x720 with 1 Axes>"
      ]
     },
     "metadata": {
      "needs_background": "light"
     },
     "output_type": "display_data"
    }
   ],
   "source": [
    "plt.figure(1,figsize=(5,10))\n",
    "sns.countplot(y='Product_Name',data=dfDataFeatured,order=dfDataFeatured['Product_Name'].value_counts().index)\n",
    "plt.show()"
   ]
  },
  {
   "cell_type": "markdown",
   "metadata": {},
   "source": [
    "<div class=\"alert alert-block alert-success\">\n",
    "<h2>Sold Quantity per Product - Descending - All 25 types - All Data</h2>\n",
    "<ol>\n",
    "    <li>Mixed, Meat and Chicken Yakisova are the champions</li>\n",
    "    <li>Kit Kids, Spring Roll Chicken Cream and Spring Roll Shrimp Catupiry are the worst</li>    \n",
    "</ol>\n",
    "</div>"
   ]
  },
  {
   "cell_type": "markdown",
   "metadata": {},
   "source": [
    "<div class=\"alert alert-block alert-warning\">\n",
    "<h3> Opportunities - Sold Quantity per Product</h3>\n",
    "    <ol>\n",
    "       <li>Create promotions for champions items</li>\n",
    "       <li>Discontinue the worst items from menu</li>  \n",
    "    </ol>\n",
    "</div>"
   ]
  },
  {
   "cell_type": "code",
   "execution_count": null,
   "metadata": {},
   "outputs": [],
   "source": []
  },
  {
   "cell_type": "code",
   "execution_count": 76,
   "metadata": {},
   "outputs": [],
   "source": [
    "# Sold Quantity per Portion - Descending - 5 types"
   ]
  },
  {
   "cell_type": "code",
   "execution_count": 77,
   "metadata": {},
   "outputs": [
    {
     "data": {
      "image/png": "[encoded data removed]",
      "text/plain": [
       "<Figure size 432x288 with 1 Axes>"
      ]
     },
     "metadata": {
      "needs_background": "light"
     },
     "output_type": "display_data"
    }
   ],
   "source": [
    "sns.countplot(y='Portion',data=dfDataFeatured,order=dfDataFeatured['Portion'].value_counts().index)\n",
    "plt.show()"
   ]
  },
  {
   "cell_type": "markdown",
   "metadata": {},
   "source": [
    "<div class=\"alert alert-block alert-success\">\n",
    "<h2>Sold Quantity per Product Portion - Descending - 5 types - All Data</h2>\n",
    "<ol>\n",
    "    <li> 1 Person Portion type is the champion</li>\n",
    "    <li>Kids is the worst</li>    \n",
    "</ol>\n",
    "</div>"
   ]
  },
  {
   "cell_type": "markdown",
   "metadata": {},
   "source": [
    "<div class=\"alert alert-block alert-warning\">\n",
    "<h3> Opportunities - Sold Quantity per Product Portion</h3>\n",
    "    <ol>\n",
    "       <li>Discount to promote 2 Persons Portion</li>\n",
    "       <li>Discontinue Kids Portion Type from menu</li>  \n",
    "    </ol>\n",
    "</div>"
   ]
  },
  {
   "cell_type": "code",
   "execution_count": null,
   "metadata": {},
   "outputs": [],
   "source": []
  },
  {
   "cell_type": "code",
   "execution_count": 78,
   "metadata": {},
   "outputs": [],
   "source": [
    "# Sold Quantity per Preparation - Descending"
   ]
  },
  {
   "cell_type": "code",
   "execution_count": 79,
   "metadata": {},
   "outputs": [
    {
     "data": {
      "image/png": "[encoded data removed]",
      "text/plain": [
       "<Figure size 432x288 with 1 Axes>"
      ]
     },
     "metadata": {
      "needs_background": "light"
     },
     "output_type": "display_data"
    }
   ],
   "source": [
    "sns.countplot(y='Preparation',data=dfDataFeatured,order=dfDataFeatured['Preparation'].value_counts().index)\n",
    "plt.show()"
   ]
  },
  {
   "cell_type": "markdown",
   "metadata": {},
   "source": [
    "<div class=\"alert alert-block alert-success\">\n",
    "<h2>Sold Quantity per Food Preparation Type - Descending - All Data</h2>\n",
    "<ol>\n",
    "    <li> Cooked Food is the champion</li>\n",
    "</ol>\n",
    "</div>"
   ]
  },
  {
   "cell_type": "markdown",
   "metadata": {},
   "source": [
    "<div class=\"alert alert-block alert-warning\">\n",
    "<h3> Opportunities - Sold Quantity per Food Preparation Type</h3>\n",
    "    <ol>\n",
    "       <li>Increase cooked menu items</li>\n",
    "       <li>Emphazize the cooked food on marketing actions</li>  \n",
    "    </ol>\n",
    "</div>"
   ]
  },
  {
   "cell_type": "code",
   "execution_count": null,
   "metadata": {},
   "outputs": [],
   "source": []
  },
  {
   "cell_type": "markdown",
   "metadata": {},
   "source": [
    "<div class=\"alert alert-block alert-info\">\n",
    "<h2>06. Business Oportunity - Products Combos by Client Orders</h2>\n",
    "\n",
    "> Based on sales historic, discover the best products match in order to increase sales creating combos.\n",
    "\n",
    "</div>"
   ]
  },
  {
   "cell_type": "markdown",
   "metadata": {},
   "source": [
    "<div class=\"alert alert-block alert-info\">\n",
    "<h2>06. Business Oportunity - Products Combos by Client Orders</h2>\n",
    "<h3>06.1 Discouver Products Sold Together - All Data</h3>\n",
    "</div>"
   ]
  },
  {
   "cell_type": "code",
   "execution_count": null,
   "metadata": {},
   "outputs": [],
   "source": []
  },
  {
   "cell_type": "code",
   "execution_count": 80,
   "metadata": {},
   "outputs": [
    {
     "data": {
      "text/html": [
       "<div>\n",
       "<style scoped>\n",
       "    .dataframe tbody tr th:only-of-type {\n",
       "        vertical-align: middle;\n",
       "    }\n",
       "\n",
       "    .dataframe tbody tr th {\n",
       "        vertical-align: top;\n",
       "    }\n",
       "\n",
       "    .dataframe thead th {\n",
       "        text-align: right;\n",
       "    }\n",
       "</style>\n",
       "<table border=\"1\" class=\"dataframe\">\n",
       "  <thead>\n",
       "    <tr style=\"text-align: right;\">\n",
       "      <th></th>\n",
       "      <th>Product_Name</th>\n",
       "    </tr>\n",
       "    <tr>\n",
       "      <th>Sale_ID</th>\n",
       "      <th></th>\n",
       "    </tr>\n",
       "  </thead>\n",
       "  <tbody>\n",
       "    <tr>\n",
       "      <th>41163</th>\n",
       "      <td>Spring_Roll_Romeo_and_Juliet_3uG &amp; Vegetarian_...</td>\n",
       "    </tr>\n",
       "    <tr>\n",
       "      <th>41164</th>\n",
       "      <td>Meat_Yakisoba_1Pe &amp; Chicken_Yakisoba_1Pe</td>\n",
       "    </tr>\n",
       "    <tr>\n",
       "      <th>41165</th>\n",
       "      <td>Spring_Roll_Romeo_and_Juliet_3uG &amp; Meat_Yakiso...</td>\n",
       "    </tr>\n",
       "    <tr>\n",
       "      <th>41168</th>\n",
       "      <td>Mixed_Yakisoba_1Pe &amp; Spring_Roll_3_Cheeses_3uG</td>\n",
       "    </tr>\n",
       "    <tr>\n",
       "      <th>41169</th>\n",
       "      <td>Bacon_Yakisoba_1Pe &amp; Vegetarian_Yakisoba_1Pe</td>\n",
       "    </tr>\n",
       "    <tr>\n",
       "      <th>...</th>\n",
       "      <td>...</td>\n",
       "    </tr>\n",
       "    <tr>\n",
       "      <th>48675</th>\n",
       "      <td>Meat_Yakisoba_1Pe &amp; Meat_Yakisoba_1Pe</td>\n",
       "    </tr>\n",
       "    <tr>\n",
       "      <th>48676</th>\n",
       "      <td>Mixed_Yakisoba_1Pe &amp; Mixed_Yakisoba_1Pe &amp; Spri...</td>\n",
       "    </tr>\n",
       "    <tr>\n",
       "      <th>48679</th>\n",
       "      <td>Hot_Roll_Katana &amp; Spring_Roll_3_Cheeses_3uG &amp; ...</td>\n",
       "    </tr>\n",
       "    <tr>\n",
       "      <th>48680</th>\n",
       "      <td>Bid_Chicken_Chess_Dojo &amp; Hot_Roll_Katana</td>\n",
       "    </tr>\n",
       "    <tr>\n",
       "      <th>48685</th>\n",
       "      <td>Bid_China_Spring_Roll &amp; Chicken_Bacon_Yakisoba...</td>\n",
       "    </tr>\n",
       "  </tbody>\n",
       "</table>\n",
       "<p>2167 rows × 1 columns</p>\n",
       "</div>"
      ],
      "text/plain": [
       "                                              Product_Name\n",
       "Sale_ID                                                   \n",
       "41163    Spring_Roll_Romeo_and_Juliet_3uG & Vegetarian_...\n",
       "41164             Meat_Yakisoba_1Pe & Chicken_Yakisoba_1Pe\n",
       "41165    Spring_Roll_Romeo_and_Juliet_3uG & Meat_Yakiso...\n",
       "41168       Mixed_Yakisoba_1Pe & Spring_Roll_3_Cheeses_3uG\n",
       "41169         Bacon_Yakisoba_1Pe & Vegetarian_Yakisoba_1Pe\n",
       "...                                                    ...\n",
       "48675                Meat_Yakisoba_1Pe & Meat_Yakisoba_1Pe\n",
       "48676    Mixed_Yakisoba_1Pe & Mixed_Yakisoba_1Pe & Spri...\n",
       "48679    Hot_Roll_Katana & Spring_Roll_3_Cheeses_3uG & ...\n",
       "48680             Bid_Chicken_Chess_Dojo & Hot_Roll_Katana\n",
       "48685    Bid_China_Spring_Roll & Chicken_Bacon_Yakisoba...\n",
       "\n",
       "[2167 rows x 1 columns]"
      ]
     },
     "execution_count": 80,
     "metadata": {},
     "output_type": "execute_result"
    }
   ],
   "source": [
    "\n",
    "dfProdsNamesConcatened = dfDataFeatured\n",
    "\n",
    "# Handle Product Names \n",
    "dfProdsNamesConcatened['Product_Name'] = dfProdsNamesConcatened.Product_Name.replace(' ','_',regex=True)\n",
    "dfProdsNamesConcatened_Dupli = dfProdsNamesConcatened[dfProdsNamesConcatened['Sale_ID'].duplicated(keep=False)]\n",
    "dfProductsNamesTogehter =pd.DataFrame(dfProdsNamesConcatened_Dupli.groupby('Sale_ID')['Product_Name'].agg(' & '.join))\n",
    "dfProductsNamesTogehter"
   ]
  },
  {
   "cell_type": "code",
   "execution_count": 81,
   "metadata": {},
   "outputs": [
    {
     "data": {
      "text/html": [
       "<div>\n",
       "<style scoped>\n",
       "    .dataframe tbody tr th:only-of-type {\n",
       "        vertical-align: middle;\n",
       "    }\n",
       "\n",
       "    .dataframe tbody tr th {\n",
       "        vertical-align: top;\n",
       "    }\n",
       "\n",
       "    .dataframe thead tr th {\n",
       "        text-align: left;\n",
       "    }\n",
       "\n",
       "    .dataframe thead tr:last-of-type th {\n",
       "        text-align: right;\n",
       "    }\n",
       "</style>\n",
       "<table border=\"1\" class=\"dataframe\">\n",
       "  <thead>\n",
       "    <tr>\n",
       "      <th></th>\n",
       "      <th>Product_Name</th>\n",
       "    </tr>\n",
       "    <tr>\n",
       "      <th></th>\n",
       "      <th>count</th>\n",
       "    </tr>\n",
       "    <tr>\n",
       "      <th>Product_Name</th>\n",
       "      <th></th>\n",
       "    </tr>\n",
       "  </thead>\n",
       "  <tbody>\n",
       "    <tr>\n",
       "      <th>Mixed_Yakisoba_1Pe &amp; Mixed_Yakisoba_1Pe</th>\n",
       "      <td>140</td>\n",
       "    </tr>\n",
       "    <tr>\n",
       "      <th>Meat_Yakisoba_1Pe &amp; Meat_Yakisoba_1Pe</th>\n",
       "      <td>79</td>\n",
       "    </tr>\n",
       "    <tr>\n",
       "      <th>Chicken_Yakisoba_1Pe &amp; Chicken_Yakisoba_1Pe</th>\n",
       "      <td>46</td>\n",
       "    </tr>\n",
       "    <tr>\n",
       "      <th>Mixed_Yakisoba_1Pe &amp; Hot_Roll_Katana</th>\n",
       "      <td>46</td>\n",
       "    </tr>\n",
       "    <tr>\n",
       "      <th>Hot_Roll_Katana &amp; Mixed_Yakisoba_1Pe</th>\n",
       "      <td>44</td>\n",
       "    </tr>\n",
       "    <tr>\n",
       "      <th>Spring_Roll_3_Cheeses_3uG &amp; Mixed_Yakisoba_1Pe</th>\n",
       "      <td>37</td>\n",
       "    </tr>\n",
       "    <tr>\n",
       "      <th>Mixed_Yakisoba_1Pe &amp; Spring_Roll_3_Cheeses_3uG</th>\n",
       "      <td>31</td>\n",
       "    </tr>\n",
       "    <tr>\n",
       "      <th>Meat_Yakisoba_1Pe &amp; Chicken_Yakisoba_1Pe</th>\n",
       "      <td>30</td>\n",
       "    </tr>\n",
       "    <tr>\n",
       "      <th>Chicken_Yakisoba_1Pe &amp; Meat_Yakisoba_1Pe</th>\n",
       "      <td>26</td>\n",
       "    </tr>\n",
       "    <tr>\n",
       "      <th>Spring_Roll_Vegetables_3uG &amp; Mixed_Yakisoba_1Pe</th>\n",
       "      <td>26</td>\n",
       "    </tr>\n",
       "    <tr>\n",
       "      <th>Chicken_Yakisoba_1Pe &amp; Samurai_Fortune_Cookie</th>\n",
       "      <td>22</td>\n",
       "    </tr>\n",
       "    <tr>\n",
       "      <th>Meat_Yakisoba_1Pe &amp; Spring_Roll_Vegetables_3uG</th>\n",
       "      <td>22</td>\n",
       "    </tr>\n",
       "    <tr>\n",
       "      <th>Hot_Roll_Katana &amp; Hot_Roll_Katana</th>\n",
       "      <td>20</td>\n",
       "    </tr>\n",
       "    <tr>\n",
       "      <th>Samurai_Fortune_Cookie &amp; Chicken_Yakisoba_1Pe</th>\n",
       "      <td>20</td>\n",
       "    </tr>\n",
       "    <tr>\n",
       "      <th>Hot_Roll_Katana &amp; Meat_Yakisoba_1Pe</th>\n",
       "      <td>19</td>\n",
       "    </tr>\n",
       "    <tr>\n",
       "      <th>Spring_Roll_Vegetables_3uG &amp; Meat_Yakisoba_1Pe</th>\n",
       "      <td>19</td>\n",
       "    </tr>\n",
       "    <tr>\n",
       "      <th>Meat_Yakisoba_1Pe &amp; Spring_Roll_3_Cheeses_3uG</th>\n",
       "      <td>17</td>\n",
       "    </tr>\n",
       "    <tr>\n",
       "      <th>Mixed_Yakisoba_1Pe &amp; Spring_Roll_Vegetables_3uG</th>\n",
       "      <td>17</td>\n",
       "    </tr>\n",
       "    <tr>\n",
       "      <th>Hot_Roll_Katana &amp; Chicken_Yakisoba_1Pe</th>\n",
       "      <td>16</td>\n",
       "    </tr>\n",
       "    <tr>\n",
       "      <th>Mixed_Yakisoba_1Pe &amp; Spring_Roll_Romeo_and_Juliet_3uG</th>\n",
       "      <td>16</td>\n",
       "    </tr>\n",
       "  </tbody>\n",
       "</table>\n",
       "</div>"
      ],
      "text/plain": [
       "                                                   Product_Name\n",
       "                                                          count\n",
       "Product_Name                                                   \n",
       "Mixed_Yakisoba_1Pe & Mixed_Yakisoba_1Pe                     140\n",
       "Meat_Yakisoba_1Pe & Meat_Yakisoba_1Pe                        79\n",
       "Chicken_Yakisoba_1Pe & Chicken_Yakisoba_1Pe                  46\n",
       "Mixed_Yakisoba_1Pe & Hot_Roll_Katana                         46\n",
       "Hot_Roll_Katana & Mixed_Yakisoba_1Pe                         44\n",
       "Spring_Roll_3_Cheeses_3uG & Mixed_Yakisoba_1Pe               37\n",
       "Mixed_Yakisoba_1Pe & Spring_Roll_3_Cheeses_3uG               31\n",
       "Meat_Yakisoba_1Pe & Chicken_Yakisoba_1Pe                     30\n",
       "Chicken_Yakisoba_1Pe & Meat_Yakisoba_1Pe                     26\n",
       "Spring_Roll_Vegetables_3uG & Mixed_Yakisoba_1Pe              26\n",
       "Chicken_Yakisoba_1Pe & Samurai_Fortune_Cookie                22\n",
       "Meat_Yakisoba_1Pe & Spring_Roll_Vegetables_3uG               22\n",
       "Hot_Roll_Katana & Hot_Roll_Katana                            20\n",
       "Samurai_Fortune_Cookie & Chicken_Yakisoba_1Pe                20\n",
       "Hot_Roll_Katana & Meat_Yakisoba_1Pe                          19\n",
       "Spring_Roll_Vegetables_3uG & Meat_Yakisoba_1Pe               19\n",
       "Meat_Yakisoba_1Pe & Spring_Roll_3_Cheeses_3uG                17\n",
       "Mixed_Yakisoba_1Pe & Spring_Roll_Vegetables_3uG              17\n",
       "Hot_Roll_Katana & Chicken_Yakisoba_1Pe                       16\n",
       "Mixed_Yakisoba_1Pe & Spring_Roll_Romeo_and_Juli...           16"
      ]
     },
     "execution_count": 81,
     "metadata": {},
     "output_type": "execute_result"
    }
   ],
   "source": [
    "# Aggregation do Count Products Sold Together\n",
    "agg_Produc_Names = {'Product_Name': ['count']}\n",
    "dfProductsNamesTogehter.groupby('Product_Name').agg(agg_Produc_Names)\n",
    "\n",
    "df = dfProductsNamesTogehter.groupby('Product_Name').agg(agg_Produc_Names).nlargest(20,columns=(('Product_Name', 'count')))\n",
    "df"
   ]
  },
  {
   "cell_type": "code",
   "execution_count": 82,
   "metadata": {},
   "outputs": [],
   "source": [
    "dfNamesTogetherCounted = df.reset_index()"
   ]
  },
  {
   "cell_type": "code",
   "execution_count": 83,
   "metadata": {},
   "outputs": [],
   "source": [
    "dfNamesTogetherCounted.columns = ['ProductsTogether','Num_Together']"
   ]
  },
  {
   "cell_type": "code",
   "execution_count": 84,
   "metadata": {},
   "outputs": [
    {
     "data": {
      "text/html": [
       "<div>\n",
       "<style scoped>\n",
       "    .dataframe tbody tr th:only-of-type {\n",
       "        vertical-align: middle;\n",
       "    }\n",
       "\n",
       "    .dataframe tbody tr th {\n",
       "        vertical-align: top;\n",
       "    }\n",
       "\n",
       "    .dataframe thead th {\n",
       "        text-align: right;\n",
       "    }\n",
       "</style>\n",
       "<table border=\"1\" class=\"dataframe\">\n",
       "  <thead>\n",
       "    <tr style=\"text-align: right;\">\n",
       "      <th></th>\n",
       "      <th>ProductsTogether</th>\n",
       "      <th>Num_Together</th>\n",
       "    </tr>\n",
       "  </thead>\n",
       "  <tbody>\n",
       "    <tr>\n",
       "      <th>0</th>\n",
       "      <td>Mixed_Yakisoba_1Pe &amp; Mixed_Yakisoba_1Pe</td>\n",
       "      <td>140</td>\n",
       "    </tr>\n",
       "    <tr>\n",
       "      <th>1</th>\n",
       "      <td>Meat_Yakisoba_1Pe &amp; Meat_Yakisoba_1Pe</td>\n",
       "      <td>79</td>\n",
       "    </tr>\n",
       "    <tr>\n",
       "      <th>2</th>\n",
       "      <td>Chicken_Yakisoba_1Pe &amp; Chicken_Yakisoba_1Pe</td>\n",
       "      <td>46</td>\n",
       "    </tr>\n",
       "    <tr>\n",
       "      <th>3</th>\n",
       "      <td>Mixed_Yakisoba_1Pe &amp; Hot_Roll_Katana</td>\n",
       "      <td>46</td>\n",
       "    </tr>\n",
       "    <tr>\n",
       "      <th>4</th>\n",
       "      <td>Hot_Roll_Katana &amp; Mixed_Yakisoba_1Pe</td>\n",
       "      <td>44</td>\n",
       "    </tr>\n",
       "    <tr>\n",
       "      <th>5</th>\n",
       "      <td>Spring_Roll_3_Cheeses_3uG &amp; Mixed_Yakisoba_1Pe</td>\n",
       "      <td>37</td>\n",
       "    </tr>\n",
       "    <tr>\n",
       "      <th>6</th>\n",
       "      <td>Mixed_Yakisoba_1Pe &amp; Spring_Roll_3_Cheeses_3uG</td>\n",
       "      <td>31</td>\n",
       "    </tr>\n",
       "    <tr>\n",
       "      <th>7</th>\n",
       "      <td>Meat_Yakisoba_1Pe &amp; Chicken_Yakisoba_1Pe</td>\n",
       "      <td>30</td>\n",
       "    </tr>\n",
       "    <tr>\n",
       "      <th>8</th>\n",
       "      <td>Chicken_Yakisoba_1Pe &amp; Meat_Yakisoba_1Pe</td>\n",
       "      <td>26</td>\n",
       "    </tr>\n",
       "    <tr>\n",
       "      <th>9</th>\n",
       "      <td>Spring_Roll_Vegetables_3uG &amp; Mixed_Yakisoba_1Pe</td>\n",
       "      <td>26</td>\n",
       "    </tr>\n",
       "    <tr>\n",
       "      <th>10</th>\n",
       "      <td>Chicken_Yakisoba_1Pe &amp; Samurai_Fortune_Cookie</td>\n",
       "      <td>22</td>\n",
       "    </tr>\n",
       "    <tr>\n",
       "      <th>11</th>\n",
       "      <td>Meat_Yakisoba_1Pe &amp; Spring_Roll_Vegetables_3uG</td>\n",
       "      <td>22</td>\n",
       "    </tr>\n",
       "    <tr>\n",
       "      <th>12</th>\n",
       "      <td>Hot_Roll_Katana &amp; Hot_Roll_Katana</td>\n",
       "      <td>20</td>\n",
       "    </tr>\n",
       "    <tr>\n",
       "      <th>13</th>\n",
       "      <td>Samurai_Fortune_Cookie &amp; Chicken_Yakisoba_1Pe</td>\n",
       "      <td>20</td>\n",
       "    </tr>\n",
       "    <tr>\n",
       "      <th>14</th>\n",
       "      <td>Hot_Roll_Katana &amp; Meat_Yakisoba_1Pe</td>\n",
       "      <td>19</td>\n",
       "    </tr>\n",
       "    <tr>\n",
       "      <th>15</th>\n",
       "      <td>Spring_Roll_Vegetables_3uG &amp; Meat_Yakisoba_1Pe</td>\n",
       "      <td>19</td>\n",
       "    </tr>\n",
       "    <tr>\n",
       "      <th>16</th>\n",
       "      <td>Meat_Yakisoba_1Pe &amp; Spring_Roll_3_Cheeses_3uG</td>\n",
       "      <td>17</td>\n",
       "    </tr>\n",
       "    <tr>\n",
       "      <th>17</th>\n",
       "      <td>Mixed_Yakisoba_1Pe &amp; Spring_Roll_Vegetables_3uG</td>\n",
       "      <td>17</td>\n",
       "    </tr>\n",
       "    <tr>\n",
       "      <th>18</th>\n",
       "      <td>Hot_Roll_Katana &amp; Chicken_Yakisoba_1Pe</td>\n",
       "      <td>16</td>\n",
       "    </tr>\n",
       "    <tr>\n",
       "      <th>19</th>\n",
       "      <td>Mixed_Yakisoba_1Pe &amp; Spring_Roll_Romeo_and_Jul...</td>\n",
       "      <td>16</td>\n",
       "    </tr>\n",
       "  </tbody>\n",
       "</table>\n",
       "</div>"
      ],
      "text/plain": [
       "                                     ProductsTogether  Num_Together\n",
       "0             Mixed_Yakisoba_1Pe & Mixed_Yakisoba_1Pe           140\n",
       "1               Meat_Yakisoba_1Pe & Meat_Yakisoba_1Pe            79\n",
       "2         Chicken_Yakisoba_1Pe & Chicken_Yakisoba_1Pe            46\n",
       "3                Mixed_Yakisoba_1Pe & Hot_Roll_Katana            46\n",
       "4                Hot_Roll_Katana & Mixed_Yakisoba_1Pe            44\n",
       "5      Spring_Roll_3_Cheeses_3uG & Mixed_Yakisoba_1Pe            37\n",
       "6      Mixed_Yakisoba_1Pe & Spring_Roll_3_Cheeses_3uG            31\n",
       "7            Meat_Yakisoba_1Pe & Chicken_Yakisoba_1Pe            30\n",
       "8            Chicken_Yakisoba_1Pe & Meat_Yakisoba_1Pe            26\n",
       "9     Spring_Roll_Vegetables_3uG & Mixed_Yakisoba_1Pe            26\n",
       "10      Chicken_Yakisoba_1Pe & Samurai_Fortune_Cookie            22\n",
       "11     Meat_Yakisoba_1Pe & Spring_Roll_Vegetables_3uG            22\n",
       "12                  Hot_Roll_Katana & Hot_Roll_Katana            20\n",
       "13      Samurai_Fortune_Cookie & Chicken_Yakisoba_1Pe            20\n",
       "14                Hot_Roll_Katana & Meat_Yakisoba_1Pe            19\n",
       "15     Spring_Roll_Vegetables_3uG & Meat_Yakisoba_1Pe            19\n",
       "16      Meat_Yakisoba_1Pe & Spring_Roll_3_Cheeses_3uG            17\n",
       "17    Mixed_Yakisoba_1Pe & Spring_Roll_Vegetables_3uG            17\n",
       "18             Hot_Roll_Katana & Chicken_Yakisoba_1Pe            16\n",
       "19  Mixed_Yakisoba_1Pe & Spring_Roll_Romeo_and_Jul...            16"
      ]
     },
     "execution_count": 84,
     "metadata": {},
     "output_type": "execute_result"
    }
   ],
   "source": [
    "dfNamesTogetherCounted"
   ]
  },
  {
   "cell_type": "code",
   "execution_count": 85,
   "metadata": {},
   "outputs": [],
   "source": [
    "# Treat doubles of reversed product names\n",
    "dfProdsSoldTogetherFinal = pd.DataFrame(columns=['ProdsSoldTogether','Sales_Num'])\n",
    "\n",
    "dfTrab = pd.DataFrame(dfNamesTogetherCounted['ProductsTogether'])\n",
    "for index, row in dfTrab.iterrows(): \n",
    "    \n",
    "    ProdsNamesTogether = row['ProductsTogether']\n",
    "    ProdsNamesSplitted = ProdsNamesTogether.split(' & ')\n",
    "    \n",
    "    if (ProdsNamesSplitted[0]== ProdsNamesSplitted[1]):        \n",
    "        continue\n",
    "    else:\n",
    "        Nome1 = str(ProdsNamesSplitted[0]).strip()        \n",
    "        Nome2 = str(ProdsNamesSplitted[1]).strip()\n",
    "        NomeInverso = Nome2 + ' & ' + Nome1\n",
    "        NumTotalSalesProdsTogether = dfNamesTogetherCounted.loc[(dfNamesTogetherCounted['ProductsTogether'] == ProdsNamesTogether) | (dfNamesTogetherCounted['ProductsTogether'] == NomeInverso), 'Num_Together'].sum()        \n",
    "        ind1 = dfNamesTogetherCounted[dfNamesTogetherCounted['ProductsTogether'] == ProdsNamesTogether].index\n",
    "        ind2 = dfNamesTogetherCounted[dfNamesTogetherCounted['ProductsTogether'] == NomeInverso].index        \n",
    "        dfNamesTogetherCounted.drop(ind1, inplace=True)\n",
    "        dfNamesTogetherCounted.drop(ind2, inplace=True)                \n",
    "        new_row = {'ProdsSoldTogether': ProdsNamesTogether,'Sales_Num':int(NumTotalSalesProdsTogether)}\n",
    "        dfProdsSoldTogetherFinal = dfProdsSoldTogetherFinal.append(new_row, ignore_index=True)\n",
    "        \n",
    "dfProdsSoldTogetherFinal = dfProdsSoldTogetherFinal[dfProdsSoldTogetherFinal ['Sales_Num'] > 0]\n"
   ]
  },
  {
   "cell_type": "code",
   "execution_count": 86,
   "metadata": {},
   "outputs": [
    {
     "data": {
      "text/html": [
       "<div>\n",
       "<style scoped>\n",
       "    .dataframe tbody tr th:only-of-type {\n",
       "        vertical-align: middle;\n",
       "    }\n",
       "\n",
       "    .dataframe tbody tr th {\n",
       "        vertical-align: top;\n",
       "    }\n",
       "\n",
       "    .dataframe thead th {\n",
       "        text-align: right;\n",
       "    }\n",
       "</style>\n",
       "<table border=\"1\" class=\"dataframe\">\n",
       "  <thead>\n",
       "    <tr style=\"text-align: right;\">\n",
       "      <th></th>\n",
       "      <th>ProdsSoldTogether</th>\n",
       "      <th>Sales_Num</th>\n",
       "    </tr>\n",
       "  </thead>\n",
       "  <tbody>\n",
       "    <tr>\n",
       "      <th>0</th>\n",
       "      <td>Mixed_Yakisoba_1Pe &amp; Hot_Roll_Katana</td>\n",
       "      <td>90</td>\n",
       "    </tr>\n",
       "    <tr>\n",
       "      <th>2</th>\n",
       "      <td>Spring_Roll_3_Cheeses_3uG &amp; Mixed_Yakisoba_1Pe</td>\n",
       "      <td>68</td>\n",
       "    </tr>\n",
       "    <tr>\n",
       "      <th>4</th>\n",
       "      <td>Meat_Yakisoba_1Pe &amp; Chicken_Yakisoba_1Pe</td>\n",
       "      <td>56</td>\n",
       "    </tr>\n",
       "    <tr>\n",
       "      <th>6</th>\n",
       "      <td>Spring_Roll_Vegetables_3uG &amp; Mixed_Yakisoba_1Pe</td>\n",
       "      <td>43</td>\n",
       "    </tr>\n",
       "    <tr>\n",
       "      <th>7</th>\n",
       "      <td>Chicken_Yakisoba_1Pe &amp; Samurai_Fortune_Cookie</td>\n",
       "      <td>42</td>\n",
       "    </tr>\n",
       "    <tr>\n",
       "      <th>8</th>\n",
       "      <td>Meat_Yakisoba_1Pe &amp; Spring_Roll_Vegetables_3uG</td>\n",
       "      <td>41</td>\n",
       "    </tr>\n",
       "    <tr>\n",
       "      <th>10</th>\n",
       "      <td>Hot_Roll_Katana &amp; Meat_Yakisoba_1Pe</td>\n",
       "      <td>19</td>\n",
       "    </tr>\n",
       "    <tr>\n",
       "      <th>12</th>\n",
       "      <td>Meat_Yakisoba_1Pe &amp; Spring_Roll_3_Cheeses_3uG</td>\n",
       "      <td>17</td>\n",
       "    </tr>\n",
       "    <tr>\n",
       "      <th>14</th>\n",
       "      <td>Hot_Roll_Katana &amp; Chicken_Yakisoba_1Pe</td>\n",
       "      <td>16</td>\n",
       "    </tr>\n",
       "    <tr>\n",
       "      <th>15</th>\n",
       "      <td>Mixed_Yakisoba_1Pe &amp; Spring_Roll_Romeo_and_Jul...</td>\n",
       "      <td>16</td>\n",
       "    </tr>\n",
       "  </tbody>\n",
       "</table>\n",
       "</div>"
      ],
      "text/plain": [
       "                                    ProdsSoldTogether Sales_Num\n",
       "0                Mixed_Yakisoba_1Pe & Hot_Roll_Katana        90\n",
       "2      Spring_Roll_3_Cheeses_3uG & Mixed_Yakisoba_1Pe        68\n",
       "4            Meat_Yakisoba_1Pe & Chicken_Yakisoba_1Pe        56\n",
       "6     Spring_Roll_Vegetables_3uG & Mixed_Yakisoba_1Pe        43\n",
       "7       Chicken_Yakisoba_1Pe & Samurai_Fortune_Cookie        42\n",
       "8      Meat_Yakisoba_1Pe & Spring_Roll_Vegetables_3uG        41\n",
       "10                Hot_Roll_Katana & Meat_Yakisoba_1Pe        19\n",
       "12      Meat_Yakisoba_1Pe & Spring_Roll_3_Cheeses_3uG        17\n",
       "14             Hot_Roll_Katana & Chicken_Yakisoba_1Pe        16\n",
       "15  Mixed_Yakisoba_1Pe & Spring_Roll_Romeo_and_Jul...        16"
      ]
     },
     "execution_count": 86,
     "metadata": {},
     "output_type": "execute_result"
    }
   ],
   "source": [
    "dfProdsSoldTogetherFinal = dfProdsSoldTogetherFinal[dfProdsSoldTogetherFinal ['Sales_Num'] > 0]\n",
    "dfProdsSoldTogetherFinal"
   ]
  },
  {
   "cell_type": "markdown",
   "metadata": {},
   "source": [
    "<div class=\"alert alert-block alert-success\">\n",
    "<h2> Most Doubles of Products Best Sold - Descending - All Data</h2>\n",
    "<ol>\n",
    "    <li> Mixed_Yakisoba_1Pe & Hot_Roll_Katana is the champion</li>\n",
    "    <li> The Top 4 has at last one yakisoba type menu</li>\n",
    "</ol>\n",
    "</div>"
   ]
  },
  {
   "cell_type": "markdown",
   "metadata": {},
   "source": [
    "<div class=\"alert alert-block alert-warning\">\n",
    "<h3> Opportunities - Most Doubles of Products Best Sold</h3>\n",
    "    <ol>\n",
    "       <li>Create some Products Combos to increase sales</li>\n",
    "       <li>Create new Yakisoba menu items</li> \n",
    "    </ol>\n",
    "</div>"
   ]
  },
  {
   "cell_type": "code",
   "execution_count": null,
   "metadata": {},
   "outputs": [],
   "source": []
  },
  {
   "cell_type": "markdown",
   "metadata": {},
   "source": [
    "<div class=\"alert alert-block alert-info\">\n",
    "<h2>07. Business Oportunity - Data Classification by Machine Learning</h2>\n",
    "\n",
    "> By Machine Learning, classify sales items in groups per similarity.\n",
    "\n",
    "> It will use unsupervised classification by K-Means Algorithm.\n",
    "\n",
    "</div>"
   ]
  },
  {
   "cell_type": "code",
   "execution_count": 87,
   "metadata": {},
   "outputs": [
    {
     "data": {
      "text/html": [
       "<div>\n",
       "<style scoped>\n",
       "    .dataframe tbody tr th:only-of-type {\n",
       "        vertical-align: middle;\n",
       "    }\n",
       "\n",
       "    .dataframe tbody tr th {\n",
       "        vertical-align: top;\n",
       "    }\n",
       "\n",
       "    .dataframe thead th {\n",
       "        text-align: right;\n",
       "    }\n",
       "</style>\n",
       "<table border=\"1\" class=\"dataframe\">\n",
       "  <thead>\n",
       "    <tr style=\"text-align: right;\">\n",
       "      <th></th>\n",
       "      <th>Date</th>\n",
       "      <th>Sale_ID</th>\n",
       "      <th>Product_ID</th>\n",
       "      <th>Product_Name</th>\n",
       "      <th>Portion</th>\n",
       "      <th>Product_Type</th>\n",
       "      <th>Preparation</th>\n",
       "      <th>Product_Value</th>\n",
       "      <th>Payment_Method</th>\n",
       "      <th>Sale_City</th>\n",
       "      <th>District_ID</th>\n",
       "      <th>District_Name</th>\n",
       "      <th>City_Region</th>\n",
       "      <th>Sale_Year</th>\n",
       "      <th>Sale_Mounth</th>\n",
       "      <th>Sale_Day</th>\n",
       "      <th>Sale_Day_Week</th>\n",
       "      <th>Sale_Week_Num</th>\n",
       "    </tr>\n",
       "  </thead>\n",
       "  <tbody>\n",
       "    <tr>\n",
       "      <th>0</th>\n",
       "      <td>2018-01-09</td>\n",
       "      <td>47917</td>\n",
       "      <td>3</td>\n",
       "      <td>Chicken_Yakisoba_1Pe</td>\n",
       "      <td>1 Person</td>\n",
       "      <td>Food</td>\n",
       "      <td>Cooked</td>\n",
       "      <td>28.9</td>\n",
       "      <td>Payment On-line</td>\n",
       "      <td>Sao Paulo</td>\n",
       "      <td>18.0</td>\n",
       "      <td>Eucalyptus Forest</td>\n",
       "      <td>South</td>\n",
       "      <td>2018</td>\n",
       "      <td>1</td>\n",
       "      <td>9</td>\n",
       "      <td>Tuesday</td>\n",
       "      <td>2</td>\n",
       "    </tr>\n",
       "    <tr>\n",
       "      <th>1</th>\n",
       "      <td>2018-01-09</td>\n",
       "      <td>47918</td>\n",
       "      <td>47</td>\n",
       "      <td>Chess_Chicken_Samurai_Rice</td>\n",
       "      <td>2 Persons</td>\n",
       "      <td>Food</td>\n",
       "      <td>Cooked</td>\n",
       "      <td>30.9</td>\n",
       "      <td>Credit</td>\n",
       "      <td>Sao Paulo</td>\n",
       "      <td>97.0</td>\n",
       "      <td>American Garden</td>\n",
       "      <td>East</td>\n",
       "      <td>2018</td>\n",
       "      <td>1</td>\n",
       "      <td>9</td>\n",
       "      <td>Tuesday</td>\n",
       "      <td>2</td>\n",
       "    </tr>\n",
       "    <tr>\n",
       "      <th>2</th>\n",
       "      <td>2018-01-09</td>\n",
       "      <td>47918</td>\n",
       "      <td>49</td>\n",
       "      <td>Hot_Roll_Katana</td>\n",
       "      <td>2 Units</td>\n",
       "      <td>Food</td>\n",
       "      <td>Fried</td>\n",
       "      <td>16.9</td>\n",
       "      <td>Credit</td>\n",
       "      <td>Sao Paulo</td>\n",
       "      <td>97.0</td>\n",
       "      <td>American Garden</td>\n",
       "      <td>East</td>\n",
       "      <td>2018</td>\n",
       "      <td>1</td>\n",
       "      <td>9</td>\n",
       "      <td>Tuesday</td>\n",
       "      <td>2</td>\n",
       "    </tr>\n",
       "    <tr>\n",
       "      <th>3</th>\n",
       "      <td>2018-01-09</td>\n",
       "      <td>47919</td>\n",
       "      <td>47</td>\n",
       "      <td>Chess_Chicken_Samurai_Rice</td>\n",
       "      <td>2 Persons</td>\n",
       "      <td>Food</td>\n",
       "      <td>Cooked</td>\n",
       "      <td>30.9</td>\n",
       "      <td>Credit</td>\n",
       "      <td>Sao Paulo</td>\n",
       "      <td>179.0</td>\n",
       "      <td>Sant Ines Garden I</td>\n",
       "      <td>East</td>\n",
       "      <td>2018</td>\n",
       "      <td>1</td>\n",
       "      <td>9</td>\n",
       "      <td>Tuesday</td>\n",
       "      <td>2</td>\n",
       "    </tr>\n",
       "    <tr>\n",
       "      <th>4</th>\n",
       "      <td>2018-01-09</td>\n",
       "      <td>47920</td>\n",
       "      <td>49</td>\n",
       "      <td>Hot_Roll_Katana</td>\n",
       "      <td>2 Units</td>\n",
       "      <td>Food</td>\n",
       "      <td>Fried</td>\n",
       "      <td>16.9</td>\n",
       "      <td>Cash</td>\n",
       "      <td>Sao Paulo</td>\n",
       "      <td>146.0</td>\n",
       "      <td>Marian Garden</td>\n",
       "      <td>East</td>\n",
       "      <td>2018</td>\n",
       "      <td>1</td>\n",
       "      <td>9</td>\n",
       "      <td>Tuesday</td>\n",
       "      <td>2</td>\n",
       "    </tr>\n",
       "  </tbody>\n",
       "</table>\n",
       "</div>"
      ],
      "text/plain": [
       "         Date  Sale_ID  Product_ID                Product_Name    Portion  \\\n",
       "0  2018-01-09    47917           3        Chicken_Yakisoba_1Pe   1 Person   \n",
       "1  2018-01-09    47918          47  Chess_Chicken_Samurai_Rice  2 Persons   \n",
       "2  2018-01-09    47918          49             Hot_Roll_Katana    2 Units   \n",
       "3  2018-01-09    47919          47  Chess_Chicken_Samurai_Rice  2 Persons   \n",
       "4  2018-01-09    47920          49             Hot_Roll_Katana    2 Units   \n",
       "\n",
       "  Product_Type Preparation  Product_Value   Payment_Method  Sale_City  \\\n",
       "0         Food      Cooked           28.9  Payment On-line  Sao Paulo   \n",
       "1         Food      Cooked           30.9           Credit  Sao Paulo   \n",
       "2         Food       Fried           16.9           Credit  Sao Paulo   \n",
       "3         Food      Cooked           30.9           Credit  Sao Paulo   \n",
       "4         Food       Fried           16.9             Cash  Sao Paulo   \n",
       "\n",
       "   District_ID       District_Name City_Region  Sale_Year  Sale_Mounth  \\\n",
       "0         18.0   Eucalyptus Forest       South       2018            1   \n",
       "1         97.0     American Garden        East       2018            1   \n",
       "2         97.0     American Garden        East       2018            1   \n",
       "3        179.0  Sant Ines Garden I        East       2018            1   \n",
       "4        146.0       Marian Garden        East       2018            1   \n",
       "\n",
       "   Sale_Day Sale_Day_Week  Sale_Week_Num  \n",
       "0         9       Tuesday              2  \n",
       "1         9       Tuesday              2  \n",
       "2         9       Tuesday              2  \n",
       "3         9       Tuesday              2  \n",
       "4         9       Tuesday              2  "
      ]
     },
     "execution_count": 87,
     "metadata": {},
     "output_type": "execute_result"
    }
   ],
   "source": [
    "dfDataFeatured.head()"
   ]
  },
  {
   "cell_type": "code",
   "execution_count": 88,
   "metadata": {},
   "outputs": [
    {
     "data": {
      "text/html": [
       "<div>\n",
       "<style scoped>\n",
       "    .dataframe tbody tr th:only-of-type {\n",
       "        vertical-align: middle;\n",
       "    }\n",
       "\n",
       "    .dataframe tbody tr th {\n",
       "        vertical-align: top;\n",
       "    }\n",
       "\n",
       "    .dataframe thead th {\n",
       "        text-align: right;\n",
       "    }\n",
       "</style>\n",
       "<table border=\"1\" class=\"dataframe\">\n",
       "  <thead>\n",
       "    <tr style=\"text-align: right;\">\n",
       "      <th></th>\n",
       "      <th>Date</th>\n",
       "      <th>Sale_ID</th>\n",
       "      <th>Product_ID</th>\n",
       "      <th>Product_Name</th>\n",
       "      <th>Portion</th>\n",
       "      <th>Product_Type</th>\n",
       "      <th>Preparation</th>\n",
       "      <th>Product_Value</th>\n",
       "      <th>Payment_Method</th>\n",
       "      <th>Sale_City</th>\n",
       "      <th>District_ID</th>\n",
       "      <th>District_Name</th>\n",
       "      <th>City_Region</th>\n",
       "      <th>Sale_Year</th>\n",
       "      <th>Sale_Mounth</th>\n",
       "      <th>Sale_Day</th>\n",
       "      <th>Sale_Day_Week</th>\n",
       "      <th>Sale_Week_Num</th>\n",
       "      <th>Portion_Cat</th>\n",
       "      <th>City_Region_Cat</th>\n",
       "    </tr>\n",
       "  </thead>\n",
       "  <tbody>\n",
       "    <tr>\n",
       "      <th>0</th>\n",
       "      <td>2018-01-09</td>\n",
       "      <td>47917</td>\n",
       "      <td>3</td>\n",
       "      <td>Chicken_Yakisoba_1Pe</td>\n",
       "      <td>1 Person</td>\n",
       "      <td>Food</td>\n",
       "      <td>Cooked</td>\n",
       "      <td>28.9</td>\n",
       "      <td>Payment On-line</td>\n",
       "      <td>Sao Paulo</td>\n",
       "      <td>18.0</td>\n",
       "      <td>Eucalyptus Forest</td>\n",
       "      <td>South</td>\n",
       "      <td>2018</td>\n",
       "      <td>1</td>\n",
       "      <td>9</td>\n",
       "      <td>Tuesday</td>\n",
       "      <td>2</td>\n",
       "      <td>0</td>\n",
       "      <td>3</td>\n",
       "    </tr>\n",
       "    <tr>\n",
       "      <th>1</th>\n",
       "      <td>2018-01-09</td>\n",
       "      <td>47918</td>\n",
       "      <td>47</td>\n",
       "      <td>Chess_Chicken_Samurai_Rice</td>\n",
       "      <td>2 Persons</td>\n",
       "      <td>Food</td>\n",
       "      <td>Cooked</td>\n",
       "      <td>30.9</td>\n",
       "      <td>Credit</td>\n",
       "      <td>Sao Paulo</td>\n",
       "      <td>97.0</td>\n",
       "      <td>American Garden</td>\n",
       "      <td>East</td>\n",
       "      <td>2018</td>\n",
       "      <td>1</td>\n",
       "      <td>9</td>\n",
       "      <td>Tuesday</td>\n",
       "      <td>2</td>\n",
       "      <td>1</td>\n",
       "      <td>1</td>\n",
       "    </tr>\n",
       "    <tr>\n",
       "      <th>2</th>\n",
       "      <td>2018-01-09</td>\n",
       "      <td>47918</td>\n",
       "      <td>49</td>\n",
       "      <td>Hot_Roll_Katana</td>\n",
       "      <td>2 Units</td>\n",
       "      <td>Food</td>\n",
       "      <td>Fried</td>\n",
       "      <td>16.9</td>\n",
       "      <td>Credit</td>\n",
       "      <td>Sao Paulo</td>\n",
       "      <td>97.0</td>\n",
       "      <td>American Garden</td>\n",
       "      <td>East</td>\n",
       "      <td>2018</td>\n",
       "      <td>1</td>\n",
       "      <td>9</td>\n",
       "      <td>Tuesday</td>\n",
       "      <td>2</td>\n",
       "      <td>2</td>\n",
       "      <td>1</td>\n",
       "    </tr>\n",
       "    <tr>\n",
       "      <th>3</th>\n",
       "      <td>2018-01-09</td>\n",
       "      <td>47919</td>\n",
       "      <td>47</td>\n",
       "      <td>Chess_Chicken_Samurai_Rice</td>\n",
       "      <td>2 Persons</td>\n",
       "      <td>Food</td>\n",
       "      <td>Cooked</td>\n",
       "      <td>30.9</td>\n",
       "      <td>Credit</td>\n",
       "      <td>Sao Paulo</td>\n",
       "      <td>179.0</td>\n",
       "      <td>Sant Ines Garden I</td>\n",
       "      <td>East</td>\n",
       "      <td>2018</td>\n",
       "      <td>1</td>\n",
       "      <td>9</td>\n",
       "      <td>Tuesday</td>\n",
       "      <td>2</td>\n",
       "      <td>1</td>\n",
       "      <td>1</td>\n",
       "    </tr>\n",
       "    <tr>\n",
       "      <th>4</th>\n",
       "      <td>2018-01-09</td>\n",
       "      <td>47920</td>\n",
       "      <td>49</td>\n",
       "      <td>Hot_Roll_Katana</td>\n",
       "      <td>2 Units</td>\n",
       "      <td>Food</td>\n",
       "      <td>Fried</td>\n",
       "      <td>16.9</td>\n",
       "      <td>Cash</td>\n",
       "      <td>Sao Paulo</td>\n",
       "      <td>146.0</td>\n",
       "      <td>Marian Garden</td>\n",
       "      <td>East</td>\n",
       "      <td>2018</td>\n",
       "      <td>1</td>\n",
       "      <td>9</td>\n",
       "      <td>Tuesday</td>\n",
       "      <td>2</td>\n",
       "      <td>2</td>\n",
       "      <td>1</td>\n",
       "    </tr>\n",
       "  </tbody>\n",
       "</table>\n",
       "</div>"
      ],
      "text/plain": [
       "         Date  Sale_ID  Product_ID                Product_Name    Portion  \\\n",
       "0  2018-01-09    47917           3        Chicken_Yakisoba_1Pe   1 Person   \n",
       "1  2018-01-09    47918          47  Chess_Chicken_Samurai_Rice  2 Persons   \n",
       "2  2018-01-09    47918          49             Hot_Roll_Katana    2 Units   \n",
       "3  2018-01-09    47919          47  Chess_Chicken_Samurai_Rice  2 Persons   \n",
       "4  2018-01-09    47920          49             Hot_Roll_Katana    2 Units   \n",
       "\n",
       "  Product_Type Preparation  Product_Value   Payment_Method  Sale_City  \\\n",
       "0         Food      Cooked           28.9  Payment On-line  Sao Paulo   \n",
       "1         Food      Cooked           30.9           Credit  Sao Paulo   \n",
       "2         Food       Fried           16.9           Credit  Sao Paulo   \n",
       "3         Food      Cooked           30.9           Credit  Sao Paulo   \n",
       "4         Food       Fried           16.9             Cash  Sao Paulo   \n",
       "\n",
       "   District_ID       District_Name City_Region  Sale_Year  Sale_Mounth  \\\n",
       "0         18.0   Eucalyptus Forest       South       2018            1   \n",
       "1         97.0     American Garden        East       2018            1   \n",
       "2         97.0     American Garden        East       2018            1   \n",
       "3        179.0  Sant Ines Garden I        East       2018            1   \n",
       "4        146.0       Marian Garden        East       2018            1   \n",
       "\n",
       "   Sale_Day Sale_Day_Week  Sale_Week_Num  Portion_Cat  City_Region_Cat  \n",
       "0         9       Tuesday              2            0                3  \n",
       "1         9       Tuesday              2            1                1  \n",
       "2         9       Tuesday              2            2                1  \n",
       "3         9       Tuesday              2            1                1  \n",
       "4         9       Tuesday              2            2                1  "
      ]
     },
     "execution_count": 88,
     "metadata": {},
     "output_type": "execute_result"
    }
   ],
   "source": [
    "# Create Categories for some columns to Modeling\n",
    "dfDataFeatured['Portion']= pd.Categorical(dfDataFeatured['Portion'])\n",
    "dfDataFeatured['Portion_Cat'] = dfDataFeatured['Portion'].cat.codes\n",
    "dfDataFeatured['Portion'] = dfDataFeatured['Portion'].astype(str)\n",
    "\n",
    "dfDataFeatured['City_Region']= pd.Categorical(dfDataFeatured['City_Region'])\n",
    "dfDataFeatured['City_Region_Cat'] = dfDataFeatured['City_Region'].cat.codes\n",
    "dfDataFeatured['City_Region'] = dfDataFeatured['City_Region'].astype(str)\n",
    "\n",
    "dfDataFeatured.head()\n"
   ]
  },
  {
   "cell_type": "code",
   "execution_count": null,
   "metadata": {},
   "outputs": [],
   "source": []
  },
  {
   "cell_type": "code",
   "execution_count": 89,
   "metadata": {},
   "outputs": [],
   "source": [
    "# Cluster per Product_ID, Portion_Cat and City_Region_Cat"
   ]
  },
  {
   "cell_type": "code",
   "execution_count": 90,
   "metadata": {},
   "outputs": [
    {
     "data": {
      "text/plain": [
       "array([[ 3,  0,  3],\n",
       "       [47,  1,  1],\n",
       "       [49,  2,  1],\n",
       "       ...,\n",
       "       [37,  4,  1],\n",
       "       [21,  0,  1],\n",
       "       [44,  1,  1]], dtype=int32)"
      ]
     },
     "execution_count": 90,
     "metadata": {},
     "output_type": "execute_result"
    }
   ],
   "source": [
    "X1 = dfDataFeatured[['Product_ID','Portion_Cat','City_Region_Cat']].iloc[: , :].values\n",
    "X1"
   ]
  },
  {
   "cell_type": "code",
   "execution_count": 91,
   "metadata": {},
   "outputs": [],
   "source": [
    "wcss_X1 = []"
   ]
  },
  {
   "cell_type": "code",
   "execution_count": 92,
   "metadata": {},
   "outputs": [],
   "source": [
    "# Figure out the best cluster number fit for these three columns"
   ]
  },
  {
   "cell_type": "code",
   "execution_count": 93,
   "metadata": {},
   "outputs": [],
   "source": [
    "for n in range(2, 11):\n",
    "    modelo = (KMeans(n_clusters = n,\n",
    "                     init = 'k-means++', \n",
    "                     n_init = 10,\n",
    "                     max_iter = 300, \n",
    "                     tol = 0.0001,  \n",
    "                     random_state = 111, \n",
    "                     algorithm = 'elkan'))\n",
    "    modelo.fit(X1)\n",
    "    wcss_X1.append(modelo.inertia_)"
   ]
  },
  {
   "cell_type": "code",
   "execution_count": 94,
   "metadata": {},
   "outputs": [
    {
     "data": {
      "image/png": "[encoded data removed]",
      "text/plain": [
       "<Figure size 1080x432 with 1 Axes>"
      ]
     },
     "metadata": {
      "needs_background": "light"
     },
     "output_type": "display_data"
    }
   ],
   "source": [
    "plt.figure(1 , figsize = (15 ,6))\n",
    "plt.plot(np.arange(2 , 11) , wcss_X1 , 'o')\n",
    "plt.plot(np.arange(2 , 11) , wcss_X1 , '-' , alpha = 0.5)\n",
    "plt.xlabel('Número de Clusters') , plt.ylabel('WCSS')\n",
    "plt.show()"
   ]
  },
  {
   "cell_type": "code",
   "execution_count": 95,
   "metadata": {},
   "outputs": [],
   "source": [
    "# The smaller WCSS is better as Elbow Curve is showing\n",
    "# K Value as 3, seems to be a good number of the group for clustering."
   ]
  },
  {
   "cell_type": "code",
   "execution_count": 96,
   "metadata": {},
   "outputs": [],
   "source": [
    "# Create a Model Object with its hyper parameters"
   ]
  },
  {
   "cell_type": "code",
   "execution_count": 97,
   "metadata": {},
   "outputs": [],
   "source": [
    "modelo_seg1 = KMeans(n_clusters = 3, \n",
    "                     init = 'k-means++', \n",
    "                     n_init = 10, \n",
    "                     max_iter = 300, \n",
    "                     tol = 0.0001,  \n",
    "                     random_state = 111, \n",
    "                     algorithm = 'elkan')"
   ]
  },
  {
   "cell_type": "code",
   "execution_count": 98,
   "metadata": {},
   "outputs": [
    {
     "data": {
      "text/plain": [
       "KMeans(algorithm='elkan', n_clusters=3, random_state=111)"
      ]
     },
     "execution_count": 98,
     "metadata": {},
     "output_type": "execute_result"
    }
   ],
   "source": [
    "# Model apply its algorithm against data\n",
    "modelo_seg1.fit(X1)"
   ]
  },
  {
   "cell_type": "code",
   "execution_count": 99,
   "metadata": {},
   "outputs": [],
   "source": [
    "# Get Labels (Groups ID) generated by ML Model"
   ]
  },
  {
   "cell_type": "code",
   "execution_count": 100,
   "metadata": {},
   "outputs": [],
   "source": [
    "labels1 = modelo_seg1.labels_"
   ]
  },
  {
   "cell_type": "code",
   "execution_count": 101,
   "metadata": {},
   "outputs": [
    {
     "data": {
      "text/plain": [
       "array([2, 0, 0, ..., 0, 1, 0])"
      ]
     },
     "execution_count": 101,
     "metadata": {},
     "output_type": "execute_result"
    }
   ],
   "source": [
    "labels1"
   ]
  },
  {
   "cell_type": "code",
   "execution_count": 102,
   "metadata": {},
   "outputs": [],
   "source": [
    "centroids1 = modelo_seg1.cluster_centers_"
   ]
  },
  {
   "cell_type": "code",
   "execution_count": null,
   "metadata": {},
   "outputs": [],
   "source": []
  },
  {
   "cell_type": "code",
   "execution_count": 103,
   "metadata": {},
   "outputs": [
    {
     "data": {
      "text/html": [
       "<div>\n",
       "<style scoped>\n",
       "    .dataframe tbody tr th:only-of-type {\n",
       "        vertical-align: middle;\n",
       "    }\n",
       "\n",
       "    .dataframe tbody tr th {\n",
       "        vertical-align: top;\n",
       "    }\n",
       "\n",
       "    .dataframe thead th {\n",
       "        text-align: right;\n",
       "    }\n",
       "</style>\n",
       "<table border=\"1\" class=\"dataframe\">\n",
       "  <thead>\n",
       "    <tr style=\"text-align: right;\">\n",
       "      <th></th>\n",
       "      <th>Label</th>\n",
       "    </tr>\n",
       "  </thead>\n",
       "  <tbody>\n",
       "    <tr>\n",
       "      <th>0</th>\n",
       "      <td>2</td>\n",
       "    </tr>\n",
       "    <tr>\n",
       "      <th>1</th>\n",
       "      <td>0</td>\n",
       "    </tr>\n",
       "    <tr>\n",
       "      <th>2</th>\n",
       "      <td>0</td>\n",
       "    </tr>\n",
       "    <tr>\n",
       "      <th>3</th>\n",
       "      <td>0</td>\n",
       "    </tr>\n",
       "    <tr>\n",
       "      <th>4</th>\n",
       "      <td>0</td>\n",
       "    </tr>\n",
       "    <tr>\n",
       "      <th>...</th>\n",
       "      <td>...</td>\n",
       "    </tr>\n",
       "    <tr>\n",
       "      <th>9099</th>\n",
       "      <td>2</td>\n",
       "    </tr>\n",
       "    <tr>\n",
       "      <th>9100</th>\n",
       "      <td>0</td>\n",
       "    </tr>\n",
       "    <tr>\n",
       "      <th>9101</th>\n",
       "      <td>0</td>\n",
       "    </tr>\n",
       "    <tr>\n",
       "      <th>9102</th>\n",
       "      <td>1</td>\n",
       "    </tr>\n",
       "    <tr>\n",
       "      <th>9103</th>\n",
       "      <td>0</td>\n",
       "    </tr>\n",
       "  </tbody>\n",
       "</table>\n",
       "<p>9104 rows × 1 columns</p>\n",
       "</div>"
      ],
      "text/plain": [
       "      Label\n",
       "0         2\n",
       "1         0\n",
       "2         0\n",
       "3         0\n",
       "4         0\n",
       "...     ...\n",
       "9099      2\n",
       "9100      0\n",
       "9101      0\n",
       "9102      1\n",
       "9103      0\n",
       "\n",
       "[9104 rows x 1 columns]"
      ]
     },
     "execution_count": 103,
     "metadata": {},
     "output_type": "execute_result"
    }
   ],
   "source": [
    "# Create Dataframe with Model Labels List\n",
    "df_Labels = pd.DataFrame({'Label':labels1})\n",
    "df_Labels.head()\n",
    "df_Labels_indx = df_Labels\n",
    "df_Labels_indx.columns\n",
    "df_Labels_indx"
   ]
  },
  {
   "cell_type": "code",
   "execution_count": 104,
   "metadata": {},
   "outputs": [
    {
     "data": {
      "text/html": [
       "<div>\n",
       "<style scoped>\n",
       "    .dataframe tbody tr th:only-of-type {\n",
       "        vertical-align: middle;\n",
       "    }\n",
       "\n",
       "    .dataframe tbody tr th {\n",
       "        vertical-align: top;\n",
       "    }\n",
       "\n",
       "    .dataframe thead th {\n",
       "        text-align: right;\n",
       "    }\n",
       "</style>\n",
       "<table border=\"1\" class=\"dataframe\">\n",
       "  <thead>\n",
       "    <tr style=\"text-align: right;\">\n",
       "      <th></th>\n",
       "      <th>Date</th>\n",
       "      <th>Sale_ID</th>\n",
       "      <th>Product_ID</th>\n",
       "      <th>Product_Name</th>\n",
       "      <th>Portion</th>\n",
       "      <th>Product_Type</th>\n",
       "      <th>Preparation</th>\n",
       "      <th>Product_Value</th>\n",
       "      <th>Payment_Method</th>\n",
       "      <th>Sale_City</th>\n",
       "      <th>...</th>\n",
       "      <th>District_Name</th>\n",
       "      <th>City_Region</th>\n",
       "      <th>Sale_Year</th>\n",
       "      <th>Sale_Mounth</th>\n",
       "      <th>Sale_Day</th>\n",
       "      <th>Sale_Day_Week</th>\n",
       "      <th>Sale_Week_Num</th>\n",
       "      <th>Portion_Cat</th>\n",
       "      <th>City_Region_Cat</th>\n",
       "      <th>Label</th>\n",
       "    </tr>\n",
       "  </thead>\n",
       "  <tbody>\n",
       "    <tr>\n",
       "      <th>0</th>\n",
       "      <td>2018-01-09</td>\n",
       "      <td>47917</td>\n",
       "      <td>3</td>\n",
       "      <td>Chicken_Yakisoba_1Pe</td>\n",
       "      <td>1 Person</td>\n",
       "      <td>Food</td>\n",
       "      <td>Cooked</td>\n",
       "      <td>28.9</td>\n",
       "      <td>Payment On-line</td>\n",
       "      <td>Sao Paulo</td>\n",
       "      <td>...</td>\n",
       "      <td>Eucalyptus Forest</td>\n",
       "      <td>South</td>\n",
       "      <td>2018</td>\n",
       "      <td>1</td>\n",
       "      <td>9</td>\n",
       "      <td>Tuesday</td>\n",
       "      <td>2</td>\n",
       "      <td>0</td>\n",
       "      <td>3</td>\n",
       "      <td>2</td>\n",
       "    </tr>\n",
       "    <tr>\n",
       "      <th>1</th>\n",
       "      <td>2018-01-09</td>\n",
       "      <td>47918</td>\n",
       "      <td>47</td>\n",
       "      <td>Chess_Chicken_Samurai_Rice</td>\n",
       "      <td>2 Persons</td>\n",
       "      <td>Food</td>\n",
       "      <td>Cooked</td>\n",
       "      <td>30.9</td>\n",
       "      <td>Credit</td>\n",
       "      <td>Sao Paulo</td>\n",
       "      <td>...</td>\n",
       "      <td>American Garden</td>\n",
       "      <td>East</td>\n",
       "      <td>2018</td>\n",
       "      <td>1</td>\n",
       "      <td>9</td>\n",
       "      <td>Tuesday</td>\n",
       "      <td>2</td>\n",
       "      <td>1</td>\n",
       "      <td>1</td>\n",
       "      <td>0</td>\n",
       "    </tr>\n",
       "    <tr>\n",
       "      <th>2</th>\n",
       "      <td>2018-01-09</td>\n",
       "      <td>47918</td>\n",
       "      <td>49</td>\n",
       "      <td>Hot_Roll_Katana</td>\n",
       "      <td>2 Units</td>\n",
       "      <td>Food</td>\n",
       "      <td>Fried</td>\n",
       "      <td>16.9</td>\n",
       "      <td>Credit</td>\n",
       "      <td>Sao Paulo</td>\n",
       "      <td>...</td>\n",
       "      <td>American Garden</td>\n",
       "      <td>East</td>\n",
       "      <td>2018</td>\n",
       "      <td>1</td>\n",
       "      <td>9</td>\n",
       "      <td>Tuesday</td>\n",
       "      <td>2</td>\n",
       "      <td>2</td>\n",
       "      <td>1</td>\n",
       "      <td>0</td>\n",
       "    </tr>\n",
       "    <tr>\n",
       "      <th>3</th>\n",
       "      <td>2018-01-09</td>\n",
       "      <td>47919</td>\n",
       "      <td>47</td>\n",
       "      <td>Chess_Chicken_Samurai_Rice</td>\n",
       "      <td>2 Persons</td>\n",
       "      <td>Food</td>\n",
       "      <td>Cooked</td>\n",
       "      <td>30.9</td>\n",
       "      <td>Credit</td>\n",
       "      <td>Sao Paulo</td>\n",
       "      <td>...</td>\n",
       "      <td>Sant Ines Garden I</td>\n",
       "      <td>East</td>\n",
       "      <td>2018</td>\n",
       "      <td>1</td>\n",
       "      <td>9</td>\n",
       "      <td>Tuesday</td>\n",
       "      <td>2</td>\n",
       "      <td>1</td>\n",
       "      <td>1</td>\n",
       "      <td>0</td>\n",
       "    </tr>\n",
       "    <tr>\n",
       "      <th>4</th>\n",
       "      <td>2018-01-09</td>\n",
       "      <td>47920</td>\n",
       "      <td>49</td>\n",
       "      <td>Hot_Roll_Katana</td>\n",
       "      <td>2 Units</td>\n",
       "      <td>Food</td>\n",
       "      <td>Fried</td>\n",
       "      <td>16.9</td>\n",
       "      <td>Cash</td>\n",
       "      <td>Sao Paulo</td>\n",
       "      <td>...</td>\n",
       "      <td>Marian Garden</td>\n",
       "      <td>East</td>\n",
       "      <td>2018</td>\n",
       "      <td>1</td>\n",
       "      <td>9</td>\n",
       "      <td>Tuesday</td>\n",
       "      <td>2</td>\n",
       "      <td>2</td>\n",
       "      <td>1</td>\n",
       "      <td>0</td>\n",
       "    </tr>\n",
       "  </tbody>\n",
       "</table>\n",
       "<p>5 rows × 21 columns</p>\n",
       "</div>"
      ],
      "text/plain": [
       "         Date  Sale_ID  Product_ID                Product_Name    Portion  \\\n",
       "0  2018-01-09    47917           3        Chicken_Yakisoba_1Pe   1 Person   \n",
       "1  2018-01-09    47918          47  Chess_Chicken_Samurai_Rice  2 Persons   \n",
       "2  2018-01-09    47918          49             Hot_Roll_Katana    2 Units   \n",
       "3  2018-01-09    47919          47  Chess_Chicken_Samurai_Rice  2 Persons   \n",
       "4  2018-01-09    47920          49             Hot_Roll_Katana    2 Units   \n",
       "\n",
       "  Product_Type Preparation  Product_Value   Payment_Method  Sale_City  ...  \\\n",
       "0         Food      Cooked           28.9  Payment On-line  Sao Paulo  ...   \n",
       "1         Food      Cooked           30.9           Credit  Sao Paulo  ...   \n",
       "2         Food       Fried           16.9           Credit  Sao Paulo  ...   \n",
       "3         Food      Cooked           30.9           Credit  Sao Paulo  ...   \n",
       "4         Food       Fried           16.9             Cash  Sao Paulo  ...   \n",
       "\n",
       "        District_Name City_Region Sale_Year  Sale_Mounth  Sale_Day  \\\n",
       "0   Eucalyptus Forest       South      2018            1         9   \n",
       "1     American Garden        East      2018            1         9   \n",
       "2     American Garden        East      2018            1         9   \n",
       "3  Sant Ines Garden I        East      2018            1         9   \n",
       "4       Marian Garden        East      2018            1         9   \n",
       "\n",
       "   Sale_Day_Week Sale_Week_Num  Portion_Cat  City_Region_Cat  Label  \n",
       "0        Tuesday             2            0                3      2  \n",
       "1        Tuesday             2            1                1      0  \n",
       "2        Tuesday             2            2                1      0  \n",
       "3        Tuesday             2            1                1      0  \n",
       "4        Tuesday             2            2                1      0  \n",
       "\n",
       "[5 rows x 21 columns]"
      ]
     },
     "execution_count": 104,
     "metadata": {},
     "output_type": "execute_result"
    }
   ],
   "source": [
    "# Concatenat DataFrame Sales Items with DataFrame Labels\n",
    "df_Clustered = pd.concat([dfDataFeatured,df_Labels_indx], axis=1)\n",
    "df_Clustered.head()"
   ]
  },
  {
   "cell_type": "code",
   "execution_count": 105,
   "metadata": {},
   "outputs": [
    {
     "data": {
      "text/plain": [
       "(9104, 21)"
      ]
     },
     "execution_count": 105,
     "metadata": {},
     "output_type": "execute_result"
    }
   ],
   "source": [
    "df_Clustered.shape"
   ]
  },
  {
   "cell_type": "markdown",
   "metadata": {},
   "source": []
  },
  {
   "cell_type": "markdown",
   "metadata": {},
   "source": [
    "<div class=\"alert alert-block alert-info\">\n",
    "<h2>07. Business Oportunity - Data Classification by Machine Learning</h2>\n",
    "<h3>06.1 Insight 01 - Grouping Clustered Data by Labels (Groups ID), summing Total Sales and its Values</h3>\n",
    "</div>"
   ]
  },
  {
   "cell_type": "code",
   "execution_count": 106,
   "metadata": {},
   "outputs": [],
   "source": [
    "# Insight 01\n",
    "agg_Cluster_Insight_01 = {'Sale_ID': ['count'], \n",
    "                             'Product_Value': ['sum']                                               \n",
    "                            }\n",
    "dfInsight_01 = df_Clustered.groupby(['Label']).agg(agg_Cluster_Insight_01) \\\n",
    ".sort_values(('Sale_ID', 'count'),ascending=False).nlargest(15,columns=(('Sale_ID', 'count')))"
   ]
  },
  {
   "cell_type": "code",
   "execution_count": 107,
   "metadata": {},
   "outputs": [],
   "source": [
    "dfInsight_01.columns = ['Num_Sales','Tota_Value_Sales']"
   ]
  },
  {
   "cell_type": "code",
   "execution_count": 108,
   "metadata": {},
   "outputs": [
    {
     "data": {
      "text/html": [
       "<div>\n",
       "<style scoped>\n",
       "    .dataframe tbody tr th:only-of-type {\n",
       "        vertical-align: middle;\n",
       "    }\n",
       "\n",
       "    .dataframe tbody tr th {\n",
       "        vertical-align: top;\n",
       "    }\n",
       "\n",
       "    .dataframe thead th {\n",
       "        text-align: right;\n",
       "    }\n",
       "</style>\n",
       "<table border=\"1\" class=\"dataframe\">\n",
       "  <thead>\n",
       "    <tr style=\"text-align: right;\">\n",
       "      <th></th>\n",
       "      <th>Num_Sales</th>\n",
       "      <th>Tota_Value_Sales</th>\n",
       "    </tr>\n",
       "    <tr>\n",
       "      <th>Label</th>\n",
       "      <th></th>\n",
       "      <th></th>\n",
       "    </tr>\n",
       "  </thead>\n",
       "  <tbody>\n",
       "    <tr>\n",
       "      <th>1</th>\n",
       "      <td>3595</td>\n",
       "      <td>114813.90</td>\n",
       "    </tr>\n",
       "    <tr>\n",
       "      <th>2</th>\n",
       "      <td>3027</td>\n",
       "      <td>89975.90</td>\n",
       "    </tr>\n",
       "    <tr>\n",
       "      <th>0</th>\n",
       "      <td>2482</td>\n",
       "      <td>42637.85</td>\n",
       "    </tr>\n",
       "  </tbody>\n",
       "</table>\n",
       "</div>"
      ],
      "text/plain": [
       "       Num_Sales  Tota_Value_Sales\n",
       "Label                             \n",
       "1           3595         114813.90\n",
       "2           3027          89975.90\n",
       "0           2482          42637.85"
      ]
     },
     "execution_count": 108,
     "metadata": {},
     "output_type": "execute_result"
    }
   ],
   "source": [
    "dfInsight_01"
   ]
  },
  {
   "cell_type": "markdown",
   "metadata": {},
   "source": [
    "<div class=\"alert alert-block alert-warning\">\n",
    "<h3> Opportunities - Insight 0 - Grouping Clustered Data by Labels (Groups ID), summing Total Sales and its Valued</h3>\n",
    "    <ol>\n",
    "       <li>What are the similarities inside Label 0 Group? Based on reponse, the board can implement many actions in order to make Label 1 group became Label 0</li>\n",
    "       <li>What are the similarities inside Label 1 Group that produces this smallest sales number</li> \n",
    "    </ol>\n",
    "</div>"
   ]
  },
  {
   "cell_type": "code",
   "execution_count": null,
   "metadata": {},
   "outputs": [],
   "source": []
  },
  {
   "cell_type": "markdown",
   "metadata": {},
   "source": [
    "<div class=\"alert alert-block alert-info\">\n",
    "<h2>07. Business Oportunity - Data Classification by Machine Learning</h2>\n",
    "<h3>06.2 Insight 02 - Grouping Clustered Data by Labels (Groups ID and Product Name), summing Total Sales and its Values</h3>\n",
    "</div>"
   ]
  },
  {
   "cell_type": "code",
   "execution_count": 109,
   "metadata": {},
   "outputs": [],
   "source": [
    "# Insight 02\n",
    "agg_Cluster_Insight_02 = {'Sale_ID': ['count'], \n",
    "                             'Product_Value': ['sum']                                               \n",
    "                            }\n",
    "dfInsight_02 = df_Clustered.groupby(['Label','Product_Name']).agg(agg_Cluster_Insight_02) #\\\n",
    "                # .sort_values(('Product_Value', 'sum'),ascending=False) \n",
    "                #.nlargest(15,columns=(('Sale_ID', 'count')))"
   ]
  },
  {
   "cell_type": "code",
   "execution_count": 110,
   "metadata": {},
   "outputs": [],
   "source": [
    "dfInsight_02.columns = dfInsight_02.columns.droplevel(1)\n",
    "dfInsight_02.columns = ['Num_Sales','Tota_Sales_Value']"
   ]
  },
  {
   "cell_type": "code",
   "execution_count": 111,
   "metadata": {},
   "outputs": [
    {
     "data": {
      "text/html": [
       "<div>\n",
       "<style scoped>\n",
       "    .dataframe tbody tr th:only-of-type {\n",
       "        vertical-align: middle;\n",
       "    }\n",
       "\n",
       "    .dataframe tbody tr th {\n",
       "        vertical-align: top;\n",
       "    }\n",
       "\n",
       "    .dataframe thead th {\n",
       "        text-align: right;\n",
       "    }\n",
       "</style>\n",
       "<table border=\"1\" class=\"dataframe\">\n",
       "  <thead>\n",
       "    <tr style=\"text-align: right;\">\n",
       "      <th></th>\n",
       "      <th></th>\n",
       "      <th>Num_Sales</th>\n",
       "      <th>Tota_Sales_Value</th>\n",
       "    </tr>\n",
       "    <tr>\n",
       "      <th>Label</th>\n",
       "      <th>Product_Name</th>\n",
       "      <th></th>\n",
       "      <th></th>\n",
       "    </tr>\n",
       "  </thead>\n",
       "  <tbody>\n",
       "    <tr>\n",
       "      <th rowspan=\"13\" valign=\"top\">0</th>\n",
       "      <th>Banana_Spring_Roll_Chocolate_3uG</th>\n",
       "      <td>108</td>\n",
       "      <td>1325.70</td>\n",
       "    </tr>\n",
       "    <tr>\n",
       "      <th>Bid_Chicken_Chess_Dojo</th>\n",
       "      <td>97</td>\n",
       "      <td>2518.30</td>\n",
       "    </tr>\n",
       "    <tr>\n",
       "      <th>Bid_China_Spring_Roll</th>\n",
       "      <td>98</td>\n",
       "      <td>578.70</td>\n",
       "    </tr>\n",
       "    <tr>\n",
       "      <th>Chess_Chicken_Samurai_Rice</th>\n",
       "      <td>163</td>\n",
       "      <td>5069.20</td>\n",
       "    </tr>\n",
       "    <tr>\n",
       "      <th>Hot_Roll_Katana</th>\n",
       "      <td>498</td>\n",
       "      <td>8579.70</td>\n",
       "    </tr>\n",
       "    <tr>\n",
       "      <th>Samurai_Fortune_Cookie</th>\n",
       "      <td>341</td>\n",
       "      <td>355.60</td>\n",
       "    </tr>\n",
       "    <tr>\n",
       "      <th>Special_Samurai_Yakisoba_2pe</th>\n",
       "      <td>152</td>\n",
       "      <td>6282.90</td>\n",
       "    </tr>\n",
       "    <tr>\n",
       "      <th>Spring_Roll_3_Cheeses_3uG</th>\n",
       "      <td>320</td>\n",
       "      <td>3717.40</td>\n",
       "    </tr>\n",
       "    <tr>\n",
       "      <th>Spring_Roll_Chicken_Cream_Cheese_3uG</th>\n",
       "      <td>34</td>\n",
       "      <td>507.60</td>\n",
       "    </tr>\n",
       "    <tr>\n",
       "      <th>Spring_Roll_Romeo_and_Juliet_3uG</th>\n",
       "      <td>136</td>\n",
       "      <td>1623.60</td>\n",
       "    </tr>\n",
       "    <tr>\n",
       "      <th>Spring_Roll_Shrimp_Catupiry_3uG</th>\n",
       "      <td>28</td>\n",
       "      <td>436.70</td>\n",
       "    </tr>\n",
       "    <tr>\n",
       "      <th>Spring_Roll_Vegetables_3uG</th>\n",
       "      <td>219</td>\n",
       "      <td>2930.70</td>\n",
       "    </tr>\n",
       "    <tr>\n",
       "      <th>Yaki_China_1pe</th>\n",
       "      <td>288</td>\n",
       "      <td>8711.75</td>\n",
       "    </tr>\n",
       "    <tr>\n",
       "      <th rowspan=\"8\" valign=\"top\">1</th>\n",
       "      <th>Chicken_Bacon_Yakisoba_1Pe</th>\n",
       "      <td>430</td>\n",
       "      <td>13436.70</td>\n",
       "    </tr>\n",
       "    <tr>\n",
       "      <th>Chinese_Pastel_1Per</th>\n",
       "      <td>160</td>\n",
       "      <td>2229.30</td>\n",
       "    </tr>\n",
       "    <tr>\n",
       "      <th>Filet_Mignon_Yakisoba_1Pe</th>\n",
       "      <td>267</td>\n",
       "      <td>9958.00</td>\n",
       "    </tr>\n",
       "    <tr>\n",
       "      <th>Kit_Kids</th>\n",
       "      <td>47</td>\n",
       "      <td>939.70</td>\n",
       "    </tr>\n",
       "    <tr>\n",
       "      <th>Mixed_Yakisoba_1Pe</th>\n",
       "      <td>2246</td>\n",
       "      <td>71587.90</td>\n",
       "    </tr>\n",
       "    <tr>\n",
       "      <th>Pork_Loin_Yakisoba_1Pe</th>\n",
       "      <td>69</td>\n",
       "      <td>2165.60</td>\n",
       "    </tr>\n",
       "    <tr>\n",
       "      <th>Shrimp_Yakisoba_1Pe</th>\n",
       "      <td>291</td>\n",
       "      <td>11331.40</td>\n",
       "    </tr>\n",
       "    <tr>\n",
       "      <th>Yaki_Samurai</th>\n",
       "      <td>85</td>\n",
       "      <td>3165.30</td>\n",
       "    </tr>\n",
       "    <tr>\n",
       "      <th rowspan=\"4\" valign=\"top\">2</th>\n",
       "      <th>Bacon_Yakisoba_1Pe</th>\n",
       "      <td>173</td>\n",
       "      <td>5203.40</td>\n",
       "    </tr>\n",
       "    <tr>\n",
       "      <th>Chicken_Yakisoba_1Pe</th>\n",
       "      <td>1133</td>\n",
       "      <td>31860.80</td>\n",
       "    </tr>\n",
       "    <tr>\n",
       "      <th>Meat_Yakisoba_1Pe</th>\n",
       "      <td>1459</td>\n",
       "      <td>45778.80</td>\n",
       "    </tr>\n",
       "    <tr>\n",
       "      <th>Vegetarian_Yakisoba_1Pe</th>\n",
       "      <td>262</td>\n",
       "      <td>7132.90</td>\n",
       "    </tr>\n",
       "  </tbody>\n",
       "</table>\n",
       "</div>"
      ],
      "text/plain": [
       "                                            Num_Sales  Tota_Sales_Value\n",
       "Label Product_Name                                                     \n",
       "0     Banana_Spring_Roll_Chocolate_3uG            108           1325.70\n",
       "      Bid_Chicken_Chess_Dojo                       97           2518.30\n",
       "      Bid_China_Spring_Roll                        98            578.70\n",
       "      Chess_Chicken_Samurai_Rice                  163           5069.20\n",
       "      Hot_Roll_Katana                             498           8579.70\n",
       "      Samurai_Fortune_Cookie                      341            355.60\n",
       "      Special_Samurai_Yakisoba_2pe                152           6282.90\n",
       "      Spring_Roll_3_Cheeses_3uG                   320           3717.40\n",
       "      Spring_Roll_Chicken_Cream_Cheese_3uG         34            507.60\n",
       "      Spring_Roll_Romeo_and_Juliet_3uG            136           1623.60\n",
       "      Spring_Roll_Shrimp_Catupiry_3uG              28            436.70\n",
       "      Spring_Roll_Vegetables_3uG                  219           2930.70\n",
       "      Yaki_China_1pe                              288           8711.75\n",
       "1     Chicken_Bacon_Yakisoba_1Pe                  430          13436.70\n",
       "      Chinese_Pastel_1Per                         160           2229.30\n",
       "      Filet_Mignon_Yakisoba_1Pe                   267           9958.00\n",
       "      Kit_Kids                                     47            939.70\n",
       "      Mixed_Yakisoba_1Pe                         2246          71587.90\n",
       "      Pork_Loin_Yakisoba_1Pe                       69           2165.60\n",
       "      Shrimp_Yakisoba_1Pe                         291          11331.40\n",
       "      Yaki_Samurai                                 85           3165.30\n",
       "2     Bacon_Yakisoba_1Pe                          173           5203.40\n",
       "      Chicken_Yakisoba_1Pe                       1133          31860.80\n",
       "      Meat_Yakisoba_1Pe                          1459          45778.80\n",
       "      Vegetarian_Yakisoba_1Pe                     262           7132.90"
      ]
     },
     "execution_count": 111,
     "metadata": {},
     "output_type": "execute_result"
    }
   ],
   "source": [
    "dfInsight_02"
   ]
  },
  {
   "cell_type": "markdown",
   "metadata": {},
   "source": [
    "<div class=\"alert alert-block alert-warning\">\n",
    "<h3> Opportunities - Insight 2 - Grouping Clustered Data by Labels (Groups ID and Product Name), summing Total Sales and its Valued</h3>\n",
    "    <ol>\n",
    "       <li>Label 0 shows most menu items that must maintain the quality</li>\n",
    "       <li>The Menu Items Chicken Yakisoba 1Pe, Hot Roll Katana and Chicken Bacon Yakisoba 1Pe, Mixed Yakisoba 1Pe are the big sales champions</li>\n",
    "       <li>Product from Label 0, most profitable label, could be the source of new products, portions and combos</li>\n",
    "    </ol>\n",
    "</div>"
   ]
  },
  {
   "cell_type": "code",
   "execution_count": null,
   "metadata": {},
   "outputs": [],
   "source": []
  }
 ],
 "metadata": {
  "kernelspec": {
   "display_name": "Python 3",
   "language": "python",
   "name": "python3"
  },
  "language_info": {
   "codemirror_mode": {
    "name": "ipython",
    "version": 3
   },
   "file_extension": ".py",
   "mimetype": "text/x-python",
   "name": "python",
   "nbconvert_exporter": "python",
   "pygments_lexer": "ipython3",
   "version": "3.8.8"
  }
 },
 "nbformat": 4,
 "nbformat_minor": 4
}
