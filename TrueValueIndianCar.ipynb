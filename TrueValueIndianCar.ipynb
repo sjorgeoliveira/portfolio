{
 "metadata": {
  "language_info": {
   "codemirror_mode": {
    "name": "ipython",
    "version": 3
   },
   "file_extension": ".py",
   "mimetype": "text/x-python",
   "name": "python",
   "nbconvert_exporter": "python",
   "pygments_lexer": "ipython3",
   "version": "3.8.8"
  },
  "orig_nbformat": 4,
  "kernelspec": {
   "name": "python3",
   "display_name": "Python 3.8.8 64-bit ('base': conda)"
  },
  "interpreter": {
   "hash": "cef9e06bb236b2a8629b07e87a04b187b952a0f661eff5533360a155783f0c33"
  }
 },
 "nbformat": 4,
 "nbformat_minor": 2,
 "cells": [
  {
   "source": [
    "\n"
   ],
   "cell_type": "markdown",
   "metadata": {}
  },
  {
   "source": [
    "<h1>Declaração de Negócio</h1>\n",
    "\n",
    "> Existe um site de vendas de carros na India chamado https://www.cars24.com. Foram extraídos 2 datasets via web scrapping para criação de modelo preditivo para prever o preço de venda do carro baseado nas informações contidas nos datasets.\n"
   ],
   "cell_type": "markdown",
   "metadata": {}
  },
  {
   "cell_type": "code",
   "execution_count": 1,
   "metadata": {},
   "outputs": [],
   "source": [
    "# ↓↓ Bibliotecas de análise de dados Python\n",
    "# ↓↓ Python Data Analytics Libraries\n",
    "\n",
    "import numpy as np\n",
    "import pandas as pd\n",
    "\n",
    "# ↓↓ Bibliotecas de gráficos\n",
    "# ↓↓ Graph Libraries\n",
    "import matplotlib.pyplot as plt\n",
    "import matplotlib as mpl\n",
    "\n",
    "# ↓↓ Biblioteca SciKit Learn\n",
    "# ↓↓ SciKit Learn Library\n",
    "from sklearn.datasets import load_boston\n",
    "from sklearn import linear_model\n",
    "from sklearn.metrics import r2_score\n",
    "from sklearn.pipeline import make_pipeline\n",
    "from sklearn.preprocessing import StandardScaler\n",
    "\n",
    "# ↓↓ Biblioteca StatsModel\n",
    "# ↓↓ StatsModel Library\n",
    "import statsmodels.api as sm\n",
    "import statsmodels.formula.api as smf\n",
    "\n",
    "# ↓↓ Oculte o máximo de avisos possível\n",
    "# ↓↓ Hide many warnigs as possible\n",
    "import warnings\n",
    "warnings.filterwarnings(\"ignore\")\n"
   ]
  },
  {
   "cell_type": "code",
   "execution_count": 2,
   "metadata": {},
   "outputs": [],
   "source": [
    "# ↓↓ Reading training file data\n",
    "# ↓↓ Lendo  os dados do arquivo de treino\n",
    "dfPureCars = pd.read_csv(\"data/train.csv\",header=0)"
   ]
  },
  {
   "cell_type": "code",
   "execution_count": 3,
   "metadata": {},
   "outputs": [
    {
     "output_type": "execute_result",
     "data": {
      "text/plain": [
       "Index(['id', 'car_name', 'yr_mfr', 'fuel_type', 'kms_run', 'sale_price',\n",
       "       'city', 'times_viewed', 'body_type', 'transmission', 'variant',\n",
       "       'assured_buy', 'registered_city', 'registered_state', 'is_hot', 'rto',\n",
       "       'source', 'make', 'model', 'car_availability', 'total_owners',\n",
       "       'broker_quote', 'original_price', 'car_rating', 'ad_created_on',\n",
       "       'fitness_certificate', 'emi_starts_from', 'booking_down_pymnt',\n",
       "       'reserved', 'warranty_avail'],\n",
       "      dtype='object')"
      ]
     },
     "metadata": {},
     "execution_count": 3
    }
   ],
   "source": [
    "# ↓↓ Listing training dataset columns\n",
    "# ↓↓ Listando as colunas do dataset de treino\n",
    "dfPureCars.columns"
   ]
  },
  {
   "cell_type": "code",
   "execution_count": 4,
   "metadata": {},
   "outputs": [
    {
     "output_type": "execute_result",
     "data": {
      "text/plain": [
       "        id           car_name  yr_mfr fuel_type  kms_run  sale_price     city  \\\n",
       "0        1       maruti swift    2015    petrol     8063      386399    noida   \n",
       "1        2    maruti alto 800    2016    petrol    23104      265499    noida   \n",
       "2        3  hyundai grand i10    2017    petrol    23402      477699    noida   \n",
       "3        4       maruti swift    2013    diesel    39124      307999    noida   \n",
       "4        5  hyundai grand i10    2015    petrol    22116      361499    noida   \n",
       "...    ...                ...     ...       ...      ...         ...      ...   \n",
       "6394  6395    toyota fortuner    2012    diesel   116838     1100000  lucknow   \n",
       "6395  6396        hyundai i20    2012    diesel    47317      370000  lucknow   \n",
       "6396  6397      toyota innova    2009    diesel   274167      415000  lucknow   \n",
       "6397  6398    tata indica ev2    2011    diesel   119634      150000  lucknow   \n",
       "6398  6399  hyundai grand i10    2015    diesel   101527      350000  lucknow   \n",
       "\n",
       "      times_viewed   body_type transmission  ... total_owners  broker_quote  \\\n",
       "0            18715   hatchback       manual  ...            2        397677   \n",
       "1             2676   hatchback       manual  ...            1        272935   \n",
       "2              609   hatchback       manual  ...            1        469605   \n",
       "3             6511   hatchback       manual  ...            1        294262   \n",
       "4             3225   hatchback       manual  ...            1        360716   \n",
       "...            ...         ...          ...  ...          ...           ...   \n",
       "6394           327  luxury suv       manual  ...            2        765000   \n",
       "6395           214   hatchback       manual  ...            1             0   \n",
       "6396           247         suv       manual  ...            2        250000   \n",
       "6397           157   hatchback       manual  ...            2         33000   \n",
       "6398           144   hatchback       manual  ...            2        232000   \n",
       "\n",
       "     original_price  car_rating            ad_created_on fitness_certificate  \\\n",
       "0          404177.0       great  2021-04-04T07:09:18.583                True   \n",
       "1          354313.0       great  2021-03-22T14:07:32.833                True   \n",
       "2               NaN       great  2021-03-20T05:36:31.311                True   \n",
       "3          374326.0       great  2021-01-21T12:59:19.299                True   \n",
       "4          367216.0       great  2021-04-01T13:33:40.733                True   \n",
       "...             ...         ...                      ...                 ...   \n",
       "6394            NaN        good  2019-09-06T04:20:28.916               False   \n",
       "6395            NaN  overpriced  2019-09-02T09:43:11.541               False   \n",
       "6396            NaN  overpriced  2019-08-28T14:42:16.246               False   \n",
       "6397            NaN  overpriced  2019-08-26T06:10:57.269               False   \n",
       "6398            NaN        good  2019-08-25T06:09:38.375               False   \n",
       "\n",
       "     emi_starts_from booking_down_pymnt reserved warranty_avail  \n",
       "0               8975              57960    False          False  \n",
       "1               6167              39825    False          False  \n",
       "2              11096              71655    False          False  \n",
       "3               7154              46200    False          False  \n",
       "4               8397              54225    False          False  \n",
       "...              ...                ...      ...            ...  \n",
       "6394           25550             165000    False           True  \n",
       "6395            8594              55500    False           True  \n",
       "6396            9639              62250    False          False  \n",
       "6397            3484              22500    False          False  \n",
       "6398            8130              52500    False           True  \n",
       "\n",
       "[6399 rows x 30 columns]"
      ],
      "text/html": "<div>\n<style scoped>\n    .dataframe tbody tr th:only-of-type {\n        vertical-align: middle;\n    }\n\n    .dataframe tbody tr th {\n        vertical-align: top;\n    }\n\n    .dataframe thead th {\n        text-align: right;\n    }\n</style>\n<table border=\"1\" class=\"dataframe\">\n  <thead>\n    <tr style=\"text-align: right;\">\n      <th></th>\n      <th>id</th>\n      <th>car_name</th>\n      <th>yr_mfr</th>\n      <th>fuel_type</th>\n      <th>kms_run</th>\n      <th>sale_price</th>\n      <th>city</th>\n      <th>times_viewed</th>\n      <th>body_type</th>\n      <th>transmission</th>\n      <th>...</th>\n      <th>total_owners</th>\n      <th>broker_quote</th>\n      <th>original_price</th>\n      <th>car_rating</th>\n      <th>ad_created_on</th>\n      <th>fitness_certificate</th>\n      <th>emi_starts_from</th>\n      <th>booking_down_pymnt</th>\n      <th>reserved</th>\n      <th>warranty_avail</th>\n    </tr>\n  </thead>\n  <tbody>\n    <tr>\n      <th>0</th>\n      <td>1</td>\n      <td>maruti swift</td>\n      <td>2015</td>\n      <td>petrol</td>\n      <td>8063</td>\n      <td>386399</td>\n      <td>noida</td>\n      <td>18715</td>\n      <td>hatchback</td>\n      <td>manual</td>\n      <td>...</td>\n      <td>2</td>\n      <td>397677</td>\n      <td>404177.0</td>\n      <td>great</td>\n      <td>2021-04-04T07:09:18.583</td>\n      <td>True</td>\n      <td>8975</td>\n      <td>57960</td>\n      <td>False</td>\n      <td>False</td>\n    </tr>\n    <tr>\n      <th>1</th>\n      <td>2</td>\n      <td>maruti alto 800</td>\n      <td>2016</td>\n      <td>petrol</td>\n      <td>23104</td>\n      <td>265499</td>\n      <td>noida</td>\n      <td>2676</td>\n      <td>hatchback</td>\n      <td>manual</td>\n      <td>...</td>\n      <td>1</td>\n      <td>272935</td>\n      <td>354313.0</td>\n      <td>great</td>\n      <td>2021-03-22T14:07:32.833</td>\n      <td>True</td>\n      <td>6167</td>\n      <td>39825</td>\n      <td>False</td>\n      <td>False</td>\n    </tr>\n    <tr>\n      <th>2</th>\n      <td>3</td>\n      <td>hyundai grand i10</td>\n      <td>2017</td>\n      <td>petrol</td>\n      <td>23402</td>\n      <td>477699</td>\n      <td>noida</td>\n      <td>609</td>\n      <td>hatchback</td>\n      <td>manual</td>\n      <td>...</td>\n      <td>1</td>\n      <td>469605</td>\n      <td>NaN</td>\n      <td>great</td>\n      <td>2021-03-20T05:36:31.311</td>\n      <td>True</td>\n      <td>11096</td>\n      <td>71655</td>\n      <td>False</td>\n      <td>False</td>\n    </tr>\n    <tr>\n      <th>3</th>\n      <td>4</td>\n      <td>maruti swift</td>\n      <td>2013</td>\n      <td>diesel</td>\n      <td>39124</td>\n      <td>307999</td>\n      <td>noida</td>\n      <td>6511</td>\n      <td>hatchback</td>\n      <td>manual</td>\n      <td>...</td>\n      <td>1</td>\n      <td>294262</td>\n      <td>374326.0</td>\n      <td>great</td>\n      <td>2021-01-21T12:59:19.299</td>\n      <td>True</td>\n      <td>7154</td>\n      <td>46200</td>\n      <td>False</td>\n      <td>False</td>\n    </tr>\n    <tr>\n      <th>4</th>\n      <td>5</td>\n      <td>hyundai grand i10</td>\n      <td>2015</td>\n      <td>petrol</td>\n      <td>22116</td>\n      <td>361499</td>\n      <td>noida</td>\n      <td>3225</td>\n      <td>hatchback</td>\n      <td>manual</td>\n      <td>...</td>\n      <td>1</td>\n      <td>360716</td>\n      <td>367216.0</td>\n      <td>great</td>\n      <td>2021-04-01T13:33:40.733</td>\n      <td>True</td>\n      <td>8397</td>\n      <td>54225</td>\n      <td>False</td>\n      <td>False</td>\n    </tr>\n    <tr>\n      <th>...</th>\n      <td>...</td>\n      <td>...</td>\n      <td>...</td>\n      <td>...</td>\n      <td>...</td>\n      <td>...</td>\n      <td>...</td>\n      <td>...</td>\n      <td>...</td>\n      <td>...</td>\n      <td>...</td>\n      <td>...</td>\n      <td>...</td>\n      <td>...</td>\n      <td>...</td>\n      <td>...</td>\n      <td>...</td>\n      <td>...</td>\n      <td>...</td>\n      <td>...</td>\n      <td>...</td>\n    </tr>\n    <tr>\n      <th>6394</th>\n      <td>6395</td>\n      <td>toyota fortuner</td>\n      <td>2012</td>\n      <td>diesel</td>\n      <td>116838</td>\n      <td>1100000</td>\n      <td>lucknow</td>\n      <td>327</td>\n      <td>luxury suv</td>\n      <td>manual</td>\n      <td>...</td>\n      <td>2</td>\n      <td>765000</td>\n      <td>NaN</td>\n      <td>good</td>\n      <td>2019-09-06T04:20:28.916</td>\n      <td>False</td>\n      <td>25550</td>\n      <td>165000</td>\n      <td>False</td>\n      <td>True</td>\n    </tr>\n    <tr>\n      <th>6395</th>\n      <td>6396</td>\n      <td>hyundai i20</td>\n      <td>2012</td>\n      <td>diesel</td>\n      <td>47317</td>\n      <td>370000</td>\n      <td>lucknow</td>\n      <td>214</td>\n      <td>hatchback</td>\n      <td>manual</td>\n      <td>...</td>\n      <td>1</td>\n      <td>0</td>\n      <td>NaN</td>\n      <td>overpriced</td>\n      <td>2019-09-02T09:43:11.541</td>\n      <td>False</td>\n      <td>8594</td>\n      <td>55500</td>\n      <td>False</td>\n      <td>True</td>\n    </tr>\n    <tr>\n      <th>6396</th>\n      <td>6397</td>\n      <td>toyota innova</td>\n      <td>2009</td>\n      <td>diesel</td>\n      <td>274167</td>\n      <td>415000</td>\n      <td>lucknow</td>\n      <td>247</td>\n      <td>suv</td>\n      <td>manual</td>\n      <td>...</td>\n      <td>2</td>\n      <td>250000</td>\n      <td>NaN</td>\n      <td>overpriced</td>\n      <td>2019-08-28T14:42:16.246</td>\n      <td>False</td>\n      <td>9639</td>\n      <td>62250</td>\n      <td>False</td>\n      <td>False</td>\n    </tr>\n    <tr>\n      <th>6397</th>\n      <td>6398</td>\n      <td>tata indica ev2</td>\n      <td>2011</td>\n      <td>diesel</td>\n      <td>119634</td>\n      <td>150000</td>\n      <td>lucknow</td>\n      <td>157</td>\n      <td>hatchback</td>\n      <td>manual</td>\n      <td>...</td>\n      <td>2</td>\n      <td>33000</td>\n      <td>NaN</td>\n      <td>overpriced</td>\n      <td>2019-08-26T06:10:57.269</td>\n      <td>False</td>\n      <td>3484</td>\n      <td>22500</td>\n      <td>False</td>\n      <td>False</td>\n    </tr>\n    <tr>\n      <th>6398</th>\n      <td>6399</td>\n      <td>hyundai grand i10</td>\n      <td>2015</td>\n      <td>diesel</td>\n      <td>101527</td>\n      <td>350000</td>\n      <td>lucknow</td>\n      <td>144</td>\n      <td>hatchback</td>\n      <td>manual</td>\n      <td>...</td>\n      <td>2</td>\n      <td>232000</td>\n      <td>NaN</td>\n      <td>good</td>\n      <td>2019-08-25T06:09:38.375</td>\n      <td>False</td>\n      <td>8130</td>\n      <td>52500</td>\n      <td>False</td>\n      <td>True</td>\n    </tr>\n  </tbody>\n</table>\n<p>6399 rows × 30 columns</p>\n</div>"
     },
     "metadata": {},
     "execution_count": 4
    }
   ],
   "source": [
    "# ↓↓ Listing training dataset\n",
    "# ↓↓ Listando o dataset de treino\n",
    "dfPureCars"
   ]
  },
  {
   "source": [
    "#Data Dictionary of Working CSV File\n",
    "#Dicionário do Dados do Arquivo CSV de Trabalho\n",
    "\n",
    "<table>\n",
    "<thead>\n",
    "<tr><th>Field(Campo)</th><th>Meaning (Significado)</th></tr>\n",
    "</thead>\n",
    "<tbody>\n",
    "<tr><td>id</td><td>Unique ID for every car | ID único para cada carro</td></tr>\n",
    "<tr><td>car_name</td><td>Name of a car | Nome de um carro</td></tr>\n",
    "<tr><td>yr_mfr</td><td>Car manufactured year | Ano de fabricação do carro</td></tr>\n",
    "<tr><td>fuel_type</td><td>Type of fuel car runs on | Tipo de combustível que o carro usa</td></tr>\n",
    "<tr><td>kms_run</td><td>Number of kilometers run | Número de quilômetros percorridos</td></tr>\n",
    "<tr><td>body_type</td><td>Car body type. Ex: Sedan, hatchback etc. | Tipo de carroceria do carro. Ex: Sedan, hatchback etc.</td></tr>\n",
    "<tr><td>transmission</td><td>Type of transmission. Ex: Manual, Automatic | Tipo de transmissão. Ex: Manual, Automático</td></tr>\n",
    "<tr><td>variant</td><td>Car variant | Variante de carro</td></tr>\n",
    "\n",
    "<tr><td>make</td><td>Car manufacturing company | Empresa de fabricação de automóveis</td></tr>\n",
    "<tr><td>model</td><td>Car model name | Nome do modelo do carro</td></tr>\n",
    "<tr><td>is_hot</td><td>Is it a top selling car? Indicates the demand for a car. | É um carro mais vendido? Indica a demanda por um carro.</td></tr>\n",
    "<tr><td>car_availability</td><td>Car availability status | Status de disponibilidade do carro</td></tr>\n",
    "<tr><td>total_owners</td><td>How many owners have already owned it? | Quantos proprietários já o possuem?</td></tr>\n",
    "<tr><td>car_rating</td><td>How good is the car to buy? | Quão bom é o carro para comprar?</td></tr>\n",
    "<tr><td>fitness_certificate</td><td>Does the car have fitness certificate? | O carro tem certificado de aptidão física?</td></tr>\n",
    "<tr><td>source</td><td>Method of selling a car | Método de venda de carro</td></tr>\n",
    "<tr><td>registered_city</td><td>City where the car is registered | Cidade onde o carro está registrado</td></tr>\n",
    "<tr><td>registered_state</td><td>State where the car is registered | Indique estado onde o carro está registrado</td></tr>\n",
    "\n",
    "<tr><td>rto</td><td>Regional Transport Office where the car is registered | Escritório de Transporte Regional onde o carro está registrado</td></tr>\n",
    "<tr><td>city</td><td>City where the car is being sold | Cidade onde o carro está sendo vendido</td></tr>\n",
    "<tr><td>times_viewed</td><td>Number of times people have shown interest for the car | Número de vezes que as pessoas mostraram interesse pelo carro</td></tr>\n",
    "<tr><td>assured_buy</td><td>Broker assured car | Corretor de carro assegurado</td></tr>\n",
    "<tr><td>broker_quote</td><td>Price quoted for previous owner (in INR) | Preço cotado para o proprietário anterior (em INR)</td></tr>\n",
    "<tr><td>original_price</td><td>Original price of a car (in INR) | Preço original de um carro (em INR)</td></tr>\n",
    "<tr><td>emi_starts_from</td><td>Opting for EMI? Monthly EMI for the car starts from! (in INR) | Optando pela EMI? EMI mensal para o carro começa! (em INR)</td></tr>\n",
    "<tr><td>booking_down_pymnt</td><td>Decided to buy? Please pay the down payment (in INR) | Decidiu comprar? Pague o adiantamento (em INR)</td></tr>\n",
    "<tr><td>ad_created_on</td><td>Listed date for selling a car | Data listada para a venda de um carro</td></tr>\n",
    "<tr><td>reserved</td><td>Car reserved status | Status de reserva do carro</td></tr>\n",
    "<tr><td>warranty_avail</td><td>Warranty availability status | Status de disponibilidade de garantia</td></tr>\n",
    "<tr><td>sale_price</td><td>Selling price of a car (in INR) | Preço de venda de um carro (em INR)</td></tr>\n",
    "\n",
    "</tbody>\n",
    "</table>\n",
    "\n"
   ],
   "cell_type": "markdown",
   "metadata": {}
  },
  {
   "source": [
    "Pela experiência os campos 'id','car_availability','source','emi_starts_from','booking_down_pymnt','ad_created_on' e 'reserved' não influenciam no preço de venda do carro, vamos excluir estes campos.\n",
    "\n",
    "From experience the fields 'id','car_availability','source','emi_starts_from','booking_down_pymnt','ad_created_on' and 'reserved' do not influence the sale price of the car, let's exclude these fields."
   ],
   "cell_type": "markdown",
   "metadata": {}
  },
  {
   "cell_type": "code",
   "execution_count": 5,
   "metadata": {},
   "outputs": [
    {
     "output_type": "execute_result",
     "data": {
      "text/plain": [
       "               car_name  yr_mfr fuel_type  kms_run  sale_price     city  \\\n",
       "0          maruti swift    2015    petrol     8063      386399    noida   \n",
       "1       maruti alto 800    2016    petrol    23104      265499    noida   \n",
       "2     hyundai grand i10    2017    petrol    23402      477699    noida   \n",
       "3          maruti swift    2013    diesel    39124      307999    noida   \n",
       "4     hyundai grand i10    2015    petrol    22116      361499    noida   \n",
       "...                 ...     ...       ...      ...         ...      ...   \n",
       "6394    toyota fortuner    2012    diesel   116838     1100000  lucknow   \n",
       "6395        hyundai i20    2012    diesel    47317      370000  lucknow   \n",
       "6396      toyota innova    2009    diesel   274167      415000  lucknow   \n",
       "6397    tata indica ev2    2011    diesel   119634      150000  lucknow   \n",
       "6398  hyundai grand i10    2015    diesel   101527      350000  lucknow   \n",
       "\n",
       "      times_viewed   body_type transmission                        variant  \\\n",
       "0            18715   hatchback       manual                        lxi opt   \n",
       "1             2676   hatchback       manual                            lxi   \n",
       "2              609   hatchback       manual                sports 1.2 vtvt   \n",
       "3             6511   hatchback       manual                            vdi   \n",
       "4             3225   hatchback       manual                 magna 1.2 vtvt   \n",
       "...            ...         ...          ...                            ...   \n",
       "6394           327  luxury suv       manual                     3.0 mt 4x2   \n",
       "6395           214   hatchback       manual  sportz 1.4 crdi 6 speed bs iv   \n",
       "6396           247         suv       manual                   2.5 g4 7 str   \n",
       "6397           157   hatchback       manual                             lx   \n",
       "6398           144   hatchback       manual                sportz 1.1 crdi   \n",
       "\n",
       "      ...  is_hot   rto     make       model total_owners broker_quote  \\\n",
       "0     ...    True  dl6c   maruti       swift            2       397677   \n",
       "1     ...    True  up16   maruti    alto 800            1       272935   \n",
       "2     ...    True  up80  hyundai   grand i10            1       469605   \n",
       "3     ...    True  dl1c   maruti       swift            1       294262   \n",
       "4     ...    True  dl12  hyundai   grand i10            1       360716   \n",
       "...   ...     ...   ...      ...         ...          ...          ...   \n",
       "6394  ...   False  up72   toyota    fortuner            2       765000   \n",
       "6395  ...   False  hr26  hyundai         i20            1            0   \n",
       "6396  ...   False  up32   toyota      innova            2       250000   \n",
       "6397  ...   False  up32     tata  indica ev2            2        33000   \n",
       "6398  ...   False  up32  hyundai   grand i10            2       232000   \n",
       "\n",
       "     original_price  car_rating  fitness_certificate  warranty_avail  \n",
       "0          404177.0       great                 True           False  \n",
       "1          354313.0       great                 True           False  \n",
       "2               NaN       great                 True           False  \n",
       "3          374326.0       great                 True           False  \n",
       "4          367216.0       great                 True           False  \n",
       "...             ...         ...                  ...             ...  \n",
       "6394            NaN        good                False            True  \n",
       "6395            NaN  overpriced                False            True  \n",
       "6396            NaN  overpriced                False           False  \n",
       "6397            NaN  overpriced                False           False  \n",
       "6398            NaN        good                False            True  \n",
       "\n",
       "[6399 rows x 23 columns]"
      ],
      "text/html": "<div>\n<style scoped>\n    .dataframe tbody tr th:only-of-type {\n        vertical-align: middle;\n    }\n\n    .dataframe tbody tr th {\n        vertical-align: top;\n    }\n\n    .dataframe thead th {\n        text-align: right;\n    }\n</style>\n<table border=\"1\" class=\"dataframe\">\n  <thead>\n    <tr style=\"text-align: right;\">\n      <th></th>\n      <th>car_name</th>\n      <th>yr_mfr</th>\n      <th>fuel_type</th>\n      <th>kms_run</th>\n      <th>sale_price</th>\n      <th>city</th>\n      <th>times_viewed</th>\n      <th>body_type</th>\n      <th>transmission</th>\n      <th>variant</th>\n      <th>...</th>\n      <th>is_hot</th>\n      <th>rto</th>\n      <th>make</th>\n      <th>model</th>\n      <th>total_owners</th>\n      <th>broker_quote</th>\n      <th>original_price</th>\n      <th>car_rating</th>\n      <th>fitness_certificate</th>\n      <th>warranty_avail</th>\n    </tr>\n  </thead>\n  <tbody>\n    <tr>\n      <th>0</th>\n      <td>maruti swift</td>\n      <td>2015</td>\n      <td>petrol</td>\n      <td>8063</td>\n      <td>386399</td>\n      <td>noida</td>\n      <td>18715</td>\n      <td>hatchback</td>\n      <td>manual</td>\n      <td>lxi opt</td>\n      <td>...</td>\n      <td>True</td>\n      <td>dl6c</td>\n      <td>maruti</td>\n      <td>swift</td>\n      <td>2</td>\n      <td>397677</td>\n      <td>404177.0</td>\n      <td>great</td>\n      <td>True</td>\n      <td>False</td>\n    </tr>\n    <tr>\n      <th>1</th>\n      <td>maruti alto 800</td>\n      <td>2016</td>\n      <td>petrol</td>\n      <td>23104</td>\n      <td>265499</td>\n      <td>noida</td>\n      <td>2676</td>\n      <td>hatchback</td>\n      <td>manual</td>\n      <td>lxi</td>\n      <td>...</td>\n      <td>True</td>\n      <td>up16</td>\n      <td>maruti</td>\n      <td>alto 800</td>\n      <td>1</td>\n      <td>272935</td>\n      <td>354313.0</td>\n      <td>great</td>\n      <td>True</td>\n      <td>False</td>\n    </tr>\n    <tr>\n      <th>2</th>\n      <td>hyundai grand i10</td>\n      <td>2017</td>\n      <td>petrol</td>\n      <td>23402</td>\n      <td>477699</td>\n      <td>noida</td>\n      <td>609</td>\n      <td>hatchback</td>\n      <td>manual</td>\n      <td>sports 1.2 vtvt</td>\n      <td>...</td>\n      <td>True</td>\n      <td>up80</td>\n      <td>hyundai</td>\n      <td>grand i10</td>\n      <td>1</td>\n      <td>469605</td>\n      <td>NaN</td>\n      <td>great</td>\n      <td>True</td>\n      <td>False</td>\n    </tr>\n    <tr>\n      <th>3</th>\n      <td>maruti swift</td>\n      <td>2013</td>\n      <td>diesel</td>\n      <td>39124</td>\n      <td>307999</td>\n      <td>noida</td>\n      <td>6511</td>\n      <td>hatchback</td>\n      <td>manual</td>\n      <td>vdi</td>\n      <td>...</td>\n      <td>True</td>\n      <td>dl1c</td>\n      <td>maruti</td>\n      <td>swift</td>\n      <td>1</td>\n      <td>294262</td>\n      <td>374326.0</td>\n      <td>great</td>\n      <td>True</td>\n      <td>False</td>\n    </tr>\n    <tr>\n      <th>4</th>\n      <td>hyundai grand i10</td>\n      <td>2015</td>\n      <td>petrol</td>\n      <td>22116</td>\n      <td>361499</td>\n      <td>noida</td>\n      <td>3225</td>\n      <td>hatchback</td>\n      <td>manual</td>\n      <td>magna 1.2 vtvt</td>\n      <td>...</td>\n      <td>True</td>\n      <td>dl12</td>\n      <td>hyundai</td>\n      <td>grand i10</td>\n      <td>1</td>\n      <td>360716</td>\n      <td>367216.0</td>\n      <td>great</td>\n      <td>True</td>\n      <td>False</td>\n    </tr>\n    <tr>\n      <th>...</th>\n      <td>...</td>\n      <td>...</td>\n      <td>...</td>\n      <td>...</td>\n      <td>...</td>\n      <td>...</td>\n      <td>...</td>\n      <td>...</td>\n      <td>...</td>\n      <td>...</td>\n      <td>...</td>\n      <td>...</td>\n      <td>...</td>\n      <td>...</td>\n      <td>...</td>\n      <td>...</td>\n      <td>...</td>\n      <td>...</td>\n      <td>...</td>\n      <td>...</td>\n      <td>...</td>\n    </tr>\n    <tr>\n      <th>6394</th>\n      <td>toyota fortuner</td>\n      <td>2012</td>\n      <td>diesel</td>\n      <td>116838</td>\n      <td>1100000</td>\n      <td>lucknow</td>\n      <td>327</td>\n      <td>luxury suv</td>\n      <td>manual</td>\n      <td>3.0 mt 4x2</td>\n      <td>...</td>\n      <td>False</td>\n      <td>up72</td>\n      <td>toyota</td>\n      <td>fortuner</td>\n      <td>2</td>\n      <td>765000</td>\n      <td>NaN</td>\n      <td>good</td>\n      <td>False</td>\n      <td>True</td>\n    </tr>\n    <tr>\n      <th>6395</th>\n      <td>hyundai i20</td>\n      <td>2012</td>\n      <td>diesel</td>\n      <td>47317</td>\n      <td>370000</td>\n      <td>lucknow</td>\n      <td>214</td>\n      <td>hatchback</td>\n      <td>manual</td>\n      <td>sportz 1.4 crdi 6 speed bs iv</td>\n      <td>...</td>\n      <td>False</td>\n      <td>hr26</td>\n      <td>hyundai</td>\n      <td>i20</td>\n      <td>1</td>\n      <td>0</td>\n      <td>NaN</td>\n      <td>overpriced</td>\n      <td>False</td>\n      <td>True</td>\n    </tr>\n    <tr>\n      <th>6396</th>\n      <td>toyota innova</td>\n      <td>2009</td>\n      <td>diesel</td>\n      <td>274167</td>\n      <td>415000</td>\n      <td>lucknow</td>\n      <td>247</td>\n      <td>suv</td>\n      <td>manual</td>\n      <td>2.5 g4 7 str</td>\n      <td>...</td>\n      <td>False</td>\n      <td>up32</td>\n      <td>toyota</td>\n      <td>innova</td>\n      <td>2</td>\n      <td>250000</td>\n      <td>NaN</td>\n      <td>overpriced</td>\n      <td>False</td>\n      <td>False</td>\n    </tr>\n    <tr>\n      <th>6397</th>\n      <td>tata indica ev2</td>\n      <td>2011</td>\n      <td>diesel</td>\n      <td>119634</td>\n      <td>150000</td>\n      <td>lucknow</td>\n      <td>157</td>\n      <td>hatchback</td>\n      <td>manual</td>\n      <td>lx</td>\n      <td>...</td>\n      <td>False</td>\n      <td>up32</td>\n      <td>tata</td>\n      <td>indica ev2</td>\n      <td>2</td>\n      <td>33000</td>\n      <td>NaN</td>\n      <td>overpriced</td>\n      <td>False</td>\n      <td>False</td>\n    </tr>\n    <tr>\n      <th>6398</th>\n      <td>hyundai grand i10</td>\n      <td>2015</td>\n      <td>diesel</td>\n      <td>101527</td>\n      <td>350000</td>\n      <td>lucknow</td>\n      <td>144</td>\n      <td>hatchback</td>\n      <td>manual</td>\n      <td>sportz 1.1 crdi</td>\n      <td>...</td>\n      <td>False</td>\n      <td>up32</td>\n      <td>hyundai</td>\n      <td>grand i10</td>\n      <td>2</td>\n      <td>232000</td>\n      <td>NaN</td>\n      <td>good</td>\n      <td>False</td>\n      <td>True</td>\n    </tr>\n  </tbody>\n</table>\n<p>6399 rows × 23 columns</p>\n</div>"
     },
     "metadata": {},
     "execution_count": 5
    }
   ],
   "source": [
    "# ↓↓ Exclui um lista de campos que não influenciam no preço de venda do carro \n",
    "# ↓↓ Deletes a list of fields that do not influence the car's sales price\n",
    "dfPureCars.drop(columns=['id','car_availability','source','emi_starts_from','booking_down_pymnt','ad_created_on','reserved'], inplace=True, axis=1) ; dfPureCars"
   ]
  },
  {
   "cell_type": "code",
   "execution_count": 6,
   "metadata": {},
   "outputs": [
    {
     "output_type": "execute_result",
     "data": {
      "text/plain": [
       "car_name                  0\n",
       "yr_mfr                    0\n",
       "fuel_type                 0\n",
       "kms_run                   0\n",
       "sale_price                0\n",
       "city                      0\n",
       "times_viewed              0\n",
       "body_type                90\n",
       "transmission            474\n",
       "variant                   0\n",
       "assured_buy               0\n",
       "registered_city           8\n",
       "registered_state          8\n",
       "is_hot                    0\n",
       "rto                       0\n",
       "make                      0\n",
       "model                     0\n",
       "total_owners              0\n",
       "broker_quote              0\n",
       "original_price         2824\n",
       "car_rating                7\n",
       "fitness_certificate       8\n",
       "warranty_avail            0\n",
       "dtype: int64"
      ]
     },
     "metadata": {},
     "execution_count": 6
    }
   ],
   "source": [
    "# ↓↓ Verificando existência de valores ausentes\n",
    "# ↓↓ Checking for missing values\n",
    "dfPureCars.isna().sum()"
   ]
  },
  {
   "source": [
    "* Para o campo original_price, temos 2824 valores ausentes neste campo. Vamos escolher excluir este campo (coluna) devido ter quase 50% valores ausentes do total de linhas de 6399.\n"
   ],
   "cell_type": "markdown",
   "metadata": {}
  },
  {
   "cell_type": "code",
   "execution_count": 7,
   "metadata": {},
   "outputs": [
    {
     "output_type": "execute_result",
     "data": {
      "text/plain": [
       "               car_name  yr_mfr fuel_type  kms_run  sale_price     city  \\\n",
       "0          maruti swift    2015    petrol     8063      386399    noida   \n",
       "1       maruti alto 800    2016    petrol    23104      265499    noida   \n",
       "2     hyundai grand i10    2017    petrol    23402      477699    noida   \n",
       "3          maruti swift    2013    diesel    39124      307999    noida   \n",
       "4     hyundai grand i10    2015    petrol    22116      361499    noida   \n",
       "...                 ...     ...       ...      ...         ...      ...   \n",
       "6394    toyota fortuner    2012    diesel   116838     1100000  lucknow   \n",
       "6395        hyundai i20    2012    diesel    47317      370000  lucknow   \n",
       "6396      toyota innova    2009    diesel   274167      415000  lucknow   \n",
       "6397    tata indica ev2    2011    diesel   119634      150000  lucknow   \n",
       "6398  hyundai grand i10    2015    diesel   101527      350000  lucknow   \n",
       "\n",
       "      times_viewed   body_type transmission                        variant  \\\n",
       "0            18715   hatchback       manual                        lxi opt   \n",
       "1             2676   hatchback       manual                            lxi   \n",
       "2              609   hatchback       manual                sports 1.2 vtvt   \n",
       "3             6511   hatchback       manual                            vdi   \n",
       "4             3225   hatchback       manual                 magna 1.2 vtvt   \n",
       "...            ...         ...          ...                            ...   \n",
       "6394           327  luxury suv       manual                     3.0 mt 4x2   \n",
       "6395           214   hatchback       manual  sportz 1.4 crdi 6 speed bs iv   \n",
       "6396           247         suv       manual                   2.5 g4 7 str   \n",
       "6397           157   hatchback       manual                             lx   \n",
       "6398           144   hatchback       manual                sportz 1.1 crdi   \n",
       "\n",
       "      ...  registered_state is_hot   rto     make       model total_owners  \\\n",
       "0     ...             delhi   True  dl6c   maruti       swift            2   \n",
       "1     ...     uttar pradesh   True  up16   maruti    alto 800            1   \n",
       "2     ...     uttar pradesh   True  up80  hyundai   grand i10            1   \n",
       "3     ...             delhi   True  dl1c   maruti       swift            1   \n",
       "4     ...             delhi   True  dl12  hyundai   grand i10            1   \n",
       "...   ...               ...    ...   ...      ...         ...          ...   \n",
       "6394  ...     uttar pradesh  False  up72   toyota    fortuner            2   \n",
       "6395  ...           haryana  False  hr26  hyundai         i20            1   \n",
       "6396  ...     uttar pradesh  False  up32   toyota      innova            2   \n",
       "6397  ...     uttar pradesh  False  up32     tata  indica ev2            2   \n",
       "6398  ...     uttar pradesh  False  up32  hyundai   grand i10            2   \n",
       "\n",
       "     broker_quote  car_rating  fitness_certificate warranty_avail  \n",
       "0          397677       great                 True          False  \n",
       "1          272935       great                 True          False  \n",
       "2          469605       great                 True          False  \n",
       "3          294262       great                 True          False  \n",
       "4          360716       great                 True          False  \n",
       "...           ...         ...                  ...            ...  \n",
       "6394       765000        good                False           True  \n",
       "6395            0  overpriced                False           True  \n",
       "6396       250000  overpriced                False          False  \n",
       "6397        33000  overpriced                False          False  \n",
       "6398       232000        good                False           True  \n",
       "\n",
       "[6399 rows x 22 columns]"
      ],
      "text/html": "<div>\n<style scoped>\n    .dataframe tbody tr th:only-of-type {\n        vertical-align: middle;\n    }\n\n    .dataframe tbody tr th {\n        vertical-align: top;\n    }\n\n    .dataframe thead th {\n        text-align: right;\n    }\n</style>\n<table border=\"1\" class=\"dataframe\">\n  <thead>\n    <tr style=\"text-align: right;\">\n      <th></th>\n      <th>car_name</th>\n      <th>yr_mfr</th>\n      <th>fuel_type</th>\n      <th>kms_run</th>\n      <th>sale_price</th>\n      <th>city</th>\n      <th>times_viewed</th>\n      <th>body_type</th>\n      <th>transmission</th>\n      <th>variant</th>\n      <th>...</th>\n      <th>registered_state</th>\n      <th>is_hot</th>\n      <th>rto</th>\n      <th>make</th>\n      <th>model</th>\n      <th>total_owners</th>\n      <th>broker_quote</th>\n      <th>car_rating</th>\n      <th>fitness_certificate</th>\n      <th>warranty_avail</th>\n    </tr>\n  </thead>\n  <tbody>\n    <tr>\n      <th>0</th>\n      <td>maruti swift</td>\n      <td>2015</td>\n      <td>petrol</td>\n      <td>8063</td>\n      <td>386399</td>\n      <td>noida</td>\n      <td>18715</td>\n      <td>hatchback</td>\n      <td>manual</td>\n      <td>lxi opt</td>\n      <td>...</td>\n      <td>delhi</td>\n      <td>True</td>\n      <td>dl6c</td>\n      <td>maruti</td>\n      <td>swift</td>\n      <td>2</td>\n      <td>397677</td>\n      <td>great</td>\n      <td>True</td>\n      <td>False</td>\n    </tr>\n    <tr>\n      <th>1</th>\n      <td>maruti alto 800</td>\n      <td>2016</td>\n      <td>petrol</td>\n      <td>23104</td>\n      <td>265499</td>\n      <td>noida</td>\n      <td>2676</td>\n      <td>hatchback</td>\n      <td>manual</td>\n      <td>lxi</td>\n      <td>...</td>\n      <td>uttar pradesh</td>\n      <td>True</td>\n      <td>up16</td>\n      <td>maruti</td>\n      <td>alto 800</td>\n      <td>1</td>\n      <td>272935</td>\n      <td>great</td>\n      <td>True</td>\n      <td>False</td>\n    </tr>\n    <tr>\n      <th>2</th>\n      <td>hyundai grand i10</td>\n      <td>2017</td>\n      <td>petrol</td>\n      <td>23402</td>\n      <td>477699</td>\n      <td>noida</td>\n      <td>609</td>\n      <td>hatchback</td>\n      <td>manual</td>\n      <td>sports 1.2 vtvt</td>\n      <td>...</td>\n      <td>uttar pradesh</td>\n      <td>True</td>\n      <td>up80</td>\n      <td>hyundai</td>\n      <td>grand i10</td>\n      <td>1</td>\n      <td>469605</td>\n      <td>great</td>\n      <td>True</td>\n      <td>False</td>\n    </tr>\n    <tr>\n      <th>3</th>\n      <td>maruti swift</td>\n      <td>2013</td>\n      <td>diesel</td>\n      <td>39124</td>\n      <td>307999</td>\n      <td>noida</td>\n      <td>6511</td>\n      <td>hatchback</td>\n      <td>manual</td>\n      <td>vdi</td>\n      <td>...</td>\n      <td>delhi</td>\n      <td>True</td>\n      <td>dl1c</td>\n      <td>maruti</td>\n      <td>swift</td>\n      <td>1</td>\n      <td>294262</td>\n      <td>great</td>\n      <td>True</td>\n      <td>False</td>\n    </tr>\n    <tr>\n      <th>4</th>\n      <td>hyundai grand i10</td>\n      <td>2015</td>\n      <td>petrol</td>\n      <td>22116</td>\n      <td>361499</td>\n      <td>noida</td>\n      <td>3225</td>\n      <td>hatchback</td>\n      <td>manual</td>\n      <td>magna 1.2 vtvt</td>\n      <td>...</td>\n      <td>delhi</td>\n      <td>True</td>\n      <td>dl12</td>\n      <td>hyundai</td>\n      <td>grand i10</td>\n      <td>1</td>\n      <td>360716</td>\n      <td>great</td>\n      <td>True</td>\n      <td>False</td>\n    </tr>\n    <tr>\n      <th>...</th>\n      <td>...</td>\n      <td>...</td>\n      <td>...</td>\n      <td>...</td>\n      <td>...</td>\n      <td>...</td>\n      <td>...</td>\n      <td>...</td>\n      <td>...</td>\n      <td>...</td>\n      <td>...</td>\n      <td>...</td>\n      <td>...</td>\n      <td>...</td>\n      <td>...</td>\n      <td>...</td>\n      <td>...</td>\n      <td>...</td>\n      <td>...</td>\n      <td>...</td>\n      <td>...</td>\n    </tr>\n    <tr>\n      <th>6394</th>\n      <td>toyota fortuner</td>\n      <td>2012</td>\n      <td>diesel</td>\n      <td>116838</td>\n      <td>1100000</td>\n      <td>lucknow</td>\n      <td>327</td>\n      <td>luxury suv</td>\n      <td>manual</td>\n      <td>3.0 mt 4x2</td>\n      <td>...</td>\n      <td>uttar pradesh</td>\n      <td>False</td>\n      <td>up72</td>\n      <td>toyota</td>\n      <td>fortuner</td>\n      <td>2</td>\n      <td>765000</td>\n      <td>good</td>\n      <td>False</td>\n      <td>True</td>\n    </tr>\n    <tr>\n      <th>6395</th>\n      <td>hyundai i20</td>\n      <td>2012</td>\n      <td>diesel</td>\n      <td>47317</td>\n      <td>370000</td>\n      <td>lucknow</td>\n      <td>214</td>\n      <td>hatchback</td>\n      <td>manual</td>\n      <td>sportz 1.4 crdi 6 speed bs iv</td>\n      <td>...</td>\n      <td>haryana</td>\n      <td>False</td>\n      <td>hr26</td>\n      <td>hyundai</td>\n      <td>i20</td>\n      <td>1</td>\n      <td>0</td>\n      <td>overpriced</td>\n      <td>False</td>\n      <td>True</td>\n    </tr>\n    <tr>\n      <th>6396</th>\n      <td>toyota innova</td>\n      <td>2009</td>\n      <td>diesel</td>\n      <td>274167</td>\n      <td>415000</td>\n      <td>lucknow</td>\n      <td>247</td>\n      <td>suv</td>\n      <td>manual</td>\n      <td>2.5 g4 7 str</td>\n      <td>...</td>\n      <td>uttar pradesh</td>\n      <td>False</td>\n      <td>up32</td>\n      <td>toyota</td>\n      <td>innova</td>\n      <td>2</td>\n      <td>250000</td>\n      <td>overpriced</td>\n      <td>False</td>\n      <td>False</td>\n    </tr>\n    <tr>\n      <th>6397</th>\n      <td>tata indica ev2</td>\n      <td>2011</td>\n      <td>diesel</td>\n      <td>119634</td>\n      <td>150000</td>\n      <td>lucknow</td>\n      <td>157</td>\n      <td>hatchback</td>\n      <td>manual</td>\n      <td>lx</td>\n      <td>...</td>\n      <td>uttar pradesh</td>\n      <td>False</td>\n      <td>up32</td>\n      <td>tata</td>\n      <td>indica ev2</td>\n      <td>2</td>\n      <td>33000</td>\n      <td>overpriced</td>\n      <td>False</td>\n      <td>False</td>\n    </tr>\n    <tr>\n      <th>6398</th>\n      <td>hyundai grand i10</td>\n      <td>2015</td>\n      <td>diesel</td>\n      <td>101527</td>\n      <td>350000</td>\n      <td>lucknow</td>\n      <td>144</td>\n      <td>hatchback</td>\n      <td>manual</td>\n      <td>sportz 1.1 crdi</td>\n      <td>...</td>\n      <td>uttar pradesh</td>\n      <td>False</td>\n      <td>up32</td>\n      <td>hyundai</td>\n      <td>grand i10</td>\n      <td>2</td>\n      <td>232000</td>\n      <td>good</td>\n      <td>False</td>\n      <td>True</td>\n    </tr>\n  </tbody>\n</table>\n<p>6399 rows × 22 columns</p>\n</div>"
     },
     "metadata": {},
     "execution_count": 7
    }
   ],
   "source": [
    "# ↓↓ Excluindo Coluna Original Price\n",
    "# ↓↓ Deleting Original Price Column\n",
    "dfPureCars.drop(columns=['original_price'], inplace=True, axis=1) ; dfPureCars"
   ]
  },
  {
   "cell_type": "code",
   "execution_count": 8,
   "metadata": {},
   "outputs": [
    {
     "output_type": "execute_result",
     "data": {
      "text/plain": [
       "car_name                 0\n",
       "yr_mfr                   0\n",
       "fuel_type                0\n",
       "kms_run                  0\n",
       "sale_price               0\n",
       "city                     0\n",
       "times_viewed             0\n",
       "body_type               90\n",
       "transmission           474\n",
       "variant                  0\n",
       "assured_buy              0\n",
       "registered_city          8\n",
       "registered_state         8\n",
       "is_hot                   0\n",
       "rto                      0\n",
       "make                     0\n",
       "model                    0\n",
       "total_owners             0\n",
       "broker_quote             0\n",
       "car_rating               7\n",
       "fitness_certificate      8\n",
       "warranty_avail           0\n",
       "dtype: int64"
      ]
     },
     "metadata": {},
     "execution_count": 8
    }
   ],
   "source": [
    "# ↓↓ Verificando novamente os valores ausentes\n",
    "# ↓↓ Rechecking for missing values\n",
    "dfPureCars.isna().sum()"
   ]
  },
  {
   "source": [
    "* Para o campo body_type temos 90 linhas com valores ausentes. Podemos excluir estas 90 linhas devdido seu número e não ser um campo onde podemos colocar valores de média ou moda.\n",
    "* Para o campo transmission temos 474 linhas com valroes ausentes e também podemos excluir estas devdido seu número e não ser um campo onde podemos colocar valores de média ou moda da informação.\n",
    "\n",
    "* For the body_type field we have 90 lines with missing values. We can exclude these 90 lines due to their number and not be a field where we can put mean or mode values.\n",
    "* For the transmission field, we have 474 lines with missing values and we can also exclude these due to their number and not be a field where we can place mean or mode values of the information."
   ],
   "cell_type": "markdown",
   "metadata": {}
  },
  {
   "cell_type": "code",
   "execution_count": 9,
   "metadata": {},
   "outputs": [],
   "source": [
    "# ↓↓ Excluindo das linhas com valores ausentes em body_type e transmission\n",
    "# ↓↓ Excluding lines with missing values in body_type and transmission\n",
    "dfPureCars = dfPureCars.dropna()"
   ]
  },
  {
   "cell_type": "code",
   "execution_count": 10,
   "metadata": {},
   "outputs": [
    {
     "output_type": "execute_result",
     "data": {
      "text/plain": [
       "car_name               0\n",
       "yr_mfr                 0\n",
       "fuel_type              0\n",
       "kms_run                0\n",
       "sale_price             0\n",
       "city                   0\n",
       "times_viewed           0\n",
       "body_type              0\n",
       "transmission           0\n",
       "variant                0\n",
       "assured_buy            0\n",
       "registered_city        0\n",
       "registered_state       0\n",
       "is_hot                 0\n",
       "rto                    0\n",
       "make                   0\n",
       "model                  0\n",
       "total_owners           0\n",
       "broker_quote           0\n",
       "car_rating             0\n",
       "fitness_certificate    0\n",
       "warranty_avail         0\n",
       "dtype: int64"
      ]
     },
     "metadata": {},
     "execution_count": 10
    }
   ],
   "source": [
    "# ↓↓ Verificando novamente e agora sem valores ausentes em nenhuma coluna\n",
    "# ↓↓ Checking again and now with no missing values in any column\n",
    "dfPureCars.isna().sum()"
   ]
  },
  {
   "cell_type": "code",
   "execution_count": 11,
   "metadata": {},
   "outputs": [
    {
     "output_type": "execute_result",
     "data": {
      "text/plain": [
       "(5917, 22)"
      ]
     },
     "metadata": {},
     "execution_count": 11
    }
   ],
   "source": [
    "dfPureCars.shape\n",
    "# ↓↓ O dataframe agora possui 5.917 linhas e 22 colunas\n",
    "# ↓↓ The dataframe now has 5,917 rows and 22 columns"
   ]
  },
  {
   "cell_type": "code",
   "execution_count": 132,
   "metadata": {},
   "outputs": [
    {
     "output_type": "execute_result",
     "data": {
      "text/plain": [
       "car_name                category\n",
       "yr_mfr                     int64\n",
       "fuel_type               category\n",
       "kms_run                    int64\n",
       "sale_price                 int64\n",
       "city                    category\n",
       "body_type               category\n",
       "transmission            category\n",
       "variant                 category\n",
       "assured_buy             category\n",
       "registered_city         category\n",
       "registered_state        category\n",
       "is_hot                  category\n",
       "rto                     category\n",
       "make                    category\n",
       "model                   category\n",
       "total_owners               int64\n",
       "broker_quote               int64\n",
       "sale_price_log           float64\n",
       "car_name_cat               int16\n",
       "fuel_type_cat               int8\n",
       "city_cat                    int8\n",
       "body_type_cat               int8\n",
       "transmission_cat            int8\n",
       "variant_cat                int16\n",
       "assured_buy_cat             int8\n",
       "registered_city_cat        int16\n",
       "registered_state_cat        int8\n",
       "is_hot_cat                  int8\n",
       "rto_cat                    int16\n",
       "make_cat                    int8\n",
       "model_cat                  int16\n",
       "dtype: object"
      ]
     },
     "metadata": {},
     "execution_count": 132
    }
   ],
   "source": [
    "dfPureCars.dtypes\n",
    "# ↓↓ Listando os tipos de campos das colunas do dataframe\n",
    "# ↓↓ Listing dataframe column field types"
   ]
  },
  {
   "cell_type": "code",
   "execution_count": 12,
   "metadata": {},
   "outputs": [
    {
     "output_type": "execute_result",
     "data": {
      "text/plain": [
       "count             5917\n",
       "unique             159\n",
       "top       maruti swift\n",
       "freq               472\n",
       "Name: car_name, dtype: object"
      ]
     },
     "metadata": {},
     "execution_count": 12
    }
   ],
   "source": [
    "dfPureCars.car_name.describe()\n",
    "# ↓↓ Listar as estatísticas da coluna car_name\n",
    "\n",
    "# → count   => Total de linhas da coluna\n",
    "# → unique  => Total de valores únicos da coluna\n",
    "# → top     => Valor que mais aparece na coluna\n",
    "# → freq    => Nº de vezes que o valor aparece na coluna\n",
    "\n",
    "# ↓↓ List car_name column statistics\n",
    "\n",
    "# → count => Total rows in column\n",
    "# → unique => Total unique column values\n",
    "# → top => Value that most appears in the column\n",
    "# → freq => Number of times the value appears in the column"
   ]
  },
  {
   "cell_type": "code",
   "execution_count": 13,
   "metadata": {},
   "outputs": [
    {
     "output_type": "execute_result",
     "data": {
      "text/plain": [
       "count       5917\n",
       "unique         5\n",
       "top       petrol\n",
       "freq        3702\n",
       "Name: fuel_type, dtype: object"
      ]
     },
     "metadata": {},
     "execution_count": 13
    }
   ],
   "source": [
    "dfPureCars.fuel_type.describe()\n",
    "# ↓↓ Listar as estatísticas da coluna fuel_type\n",
    "# ↓↓ List fuel_type column statistics"
   ]
  },
  {
   "cell_type": "code",
   "execution_count": 14,
   "metadata": {},
   "outputs": [
    {
     "output_type": "execute_result",
     "data": {
      "text/plain": [
       "array(['petrol', 'diesel', 'petrol & cng', 'electric', 'petrol & lpg'],\n",
       "      dtype=object)"
      ]
     },
     "metadata": {},
     "execution_count": 14
    }
   ],
   "source": [
    "dfPureCars.fuel_type.unique()\n",
    "# ↓↓ Lista os valores únicos da coluna fuel_type\n",
    "# ↓↓ Lists the unique values of the fuel_type column"
   ]
  },
  {
   "cell_type": "code",
   "execution_count": 15,
   "metadata": {},
   "outputs": [
    {
     "output_type": "execute_result",
     "data": {
      "text/plain": [
       "count          5917\n",
       "unique            5\n",
       "top       hatchback\n",
       "freq           3656\n",
       "Name: body_type, dtype: object"
      ]
     },
     "metadata": {},
     "execution_count": 15
    }
   ],
   "source": [
    "dfPureCars.body_type.describe()\n",
    "# ↓↓ List body_type column statistics\n",
    "\n",
    "# → count   => Total de linhas da coluna\n",
    "# → unique  => Total de valores únicos da coluna\n",
    "# → top     => Valor que mais aparece na coluna\n",
    "# → freq    => Nº de vezes que o valor aparece na coluna\n",
    "\n",
    "# → count => Total rows in column\n",
    "# → unique => Total unique column values\n",
    "# → top => Value that most appears in the column\n",
    "# → freq => Number of times the value appears in the column"
   ]
  },
  {
   "cell_type": "code",
   "execution_count": 16,
   "metadata": {},
   "outputs": [
    {
     "output_type": "execute_result",
     "data": {
      "text/plain": [
       "count       5917\n",
       "unique         2\n",
       "top       manual\n",
       "freq        5373\n",
       "Name: transmission, dtype: object"
      ]
     },
     "metadata": {},
     "execution_count": 16
    }
   ],
   "source": [
    "dfPureCars.transmission.describe()\n",
    "# ↓↓ Listar as estatísticas da coluna transmission\n",
    "# ↓↓ List transmission column statistics\n",
    "\n",
    "# → count   => Total de linhas da coluna\n",
    "# → unique  => Total de valores únicos da coluna\n",
    "# → top     => Valor que mais aparece na coluna\n",
    "# → freq    => Nº de vezes que o valor aparece na coluna\n",
    "\n",
    "# → count => Total rows in column\n",
    "# → unique => Total unique column values\n",
    "# → top => Value that most appears in the column\n",
    "# → freq => Number of times the value appears in the column"
   ]
  },
  {
   "cell_type": "code",
   "execution_count": 17,
   "metadata": {},
   "outputs": [
    {
     "output_type": "execute_result",
     "data": {
      "text/plain": [
       "count     5917\n",
       "unique     680\n",
       "top        vxi\n",
       "freq       570\n",
       "Name: variant, dtype: object"
      ]
     },
     "metadata": {},
     "execution_count": 17
    }
   ],
   "source": [
    "dfPureCars.variant.describe()\n",
    "# ↓↓ Listar as estatísticas da coluna variant\n",
    "# ↓↓ List variant column statistics\n",
    "\n",
    "# → count   => Total de linhas da coluna\n",
    "# → unique  => Total de valores únicos da coluna\n",
    "# → top     => Valor que mais aparece na coluna\n",
    "# → freq    => Nº de vezes que o valor aparece na coluna\n",
    "\n",
    "# → count => Total rows in column\n",
    "# → unique => Total unique column values\n",
    "# → top => Value that most appears in the column\n",
    "# → freq => Number of times the value appears in the column"
   ]
  },
  {
   "cell_type": "code",
   "execution_count": 18,
   "metadata": {},
   "outputs": [
    {
     "output_type": "execute_result",
     "data": {
      "text/plain": [
       "count       5917\n",
       "unique        24\n",
       "top       maruti\n",
       "freq        2603\n",
       "Name: make, dtype: object"
      ]
     },
     "metadata": {},
     "execution_count": 18
    }
   ],
   "source": [
    "dfPureCars.make.describe()\n",
    "# ↓↓ Listar as estatísticas da coluna make\n",
    "# ↓↓ List make column statistics\n",
    "\n",
    "# → count   => Total de linhas da coluna\n",
    "# → unique  => Total de valores únicos da coluna\n",
    "# → top     => Valor que mais aparece na coluna\n",
    "# → freq    => Nº de vezes que o valor aparece na coluna\n",
    "\n",
    "# → count => Total rows in column\n",
    "# → unique => Total unique column values\n",
    "# → top => Value that most appears in the column\n",
    "# → freq => Number of times the value appears in the column"
   ]
  },
  {
   "cell_type": "code",
   "execution_count": 19,
   "metadata": {},
   "outputs": [
    {
     "output_type": "execute_result",
     "data": {
      "text/plain": [
       "count      5917\n",
       "unique      159\n",
       "top       swift\n",
       "freq        472\n",
       "Name: model, dtype: object"
      ]
     },
     "metadata": {},
     "execution_count": 19
    }
   ],
   "source": [
    "dfPureCars.model.describe()\n",
    "# ↓↓ Listar as estatísticas da coluna model\n",
    "# ↓↓ List model column statistics\n",
    "\n",
    "# → count   => Total de linhas da coluna\n",
    "# → unique  => Total de valores únicos da coluna\n",
    "# → top     => Valor que mais aparece na coluna\n",
    "# → freq    => Nº de vezes que o valor aparece na coluna\n",
    "\n",
    "# → count => Total rows in column\n",
    "# → unique => Total unique column values\n",
    "# → top => Value that most appears in the column\n",
    "# → freq => Number of times the value appears in the column"
   ]
  },
  {
   "cell_type": "code",
   "execution_count": 20,
   "metadata": {},
   "outputs": [
    {
     "output_type": "execute_result",
     "data": {
      "text/plain": [
       "count      5917\n",
       "unique        4\n",
       "top       great\n",
       "freq       4997\n",
       "Name: car_rating, dtype: object"
      ]
     },
     "metadata": {},
     "execution_count": 20
    }
   ],
   "source": [
    "dfPureCars.car_rating.describe()\n",
    "# ↓↓ Listar as estatísticas da coluna car_rating\n",
    "# ↓↓ List car_rating column statistics\n",
    "\n",
    "# → count   => Total de linhas da coluna\n",
    "# → unique  => Total de valores únicos da coluna\n",
    "# → top     => Valor que mais aparece na coluna\n",
    "# → freq    => Nº de vezes que o valor aparece na coluna\n",
    "\n",
    "# → count => Total rows in column\n",
    "# → unique => Total unique column values\n",
    "# → top => Value that most appears in the column\n",
    "# → freq => Number of times the value appears in the column"
   ]
  },
  {
   "cell_type": "code",
   "execution_count": 21,
   "metadata": {},
   "outputs": [
    {
     "output_type": "execute_result",
     "data": {
      "text/plain": [
       "array(['great', 'good', 'fair', 'overpriced'], dtype=object)"
      ]
     },
     "metadata": {},
     "execution_count": 21
    }
   ],
   "source": [
    "dfPureCars.car_rating.unique()\n",
    "# ↓↓ Lista os valores únicos do campo car_rating\n",
    "# ↓↓ Lists the unique values of the car_rating field"
   ]
  },
  {
   "cell_type": "code",
   "execution_count": 22,
   "metadata": {},
   "outputs": [
    {
     "output_type": "execute_result",
     "data": {
      "text/plain": [
       "great         4997\n",
       "good           740\n",
       "fair           111\n",
       "overpriced      69\n",
       "Name: car_rating, dtype: int64"
      ]
     },
     "metadata": {},
     "execution_count": 22
    }
   ],
   "source": [
    "dfPureCars.car_rating.value_counts()\n",
    "# ↓↓ Lista as estatísticas dos valores da coluna car_rating\n",
    "# ↓↓ Lists statistics for car_rating column values"
   ]
  },
  {
   "cell_type": "code",
   "execution_count": 23,
   "metadata": {},
   "outputs": [],
   "source": [
    "# Como apenas menos de 1/4 dos dados possuem valor diferente de great, vamos retirar esta coluna.\n",
    "dfPureCars.drop(columns=['car_rating'], inplace=True, axis=1)"
   ]
  },
  {
   "cell_type": "code",
   "execution_count": 24,
   "metadata": {},
   "outputs": [
    {
     "output_type": "execute_result",
     "data": {
      "text/plain": [
       "               car_name  yr_mfr fuel_type  kms_run  sale_price     city  \\\n",
       "0          maruti swift    2015    petrol     8063      386399    noida   \n",
       "1       maruti alto 800    2016    petrol    23104      265499    noida   \n",
       "2     hyundai grand i10    2017    petrol    23402      477699    noida   \n",
       "3          maruti swift    2013    diesel    39124      307999    noida   \n",
       "4     hyundai grand i10    2015    petrol    22116      361499    noida   \n",
       "...                 ...     ...       ...      ...         ...      ...   \n",
       "6394    toyota fortuner    2012    diesel   116838     1100000  lucknow   \n",
       "6395        hyundai i20    2012    diesel    47317      370000  lucknow   \n",
       "6396      toyota innova    2009    diesel   274167      415000  lucknow   \n",
       "6397    tata indica ev2    2011    diesel   119634      150000  lucknow   \n",
       "6398  hyundai grand i10    2015    diesel   101527      350000  lucknow   \n",
       "\n",
       "      times_viewed   body_type transmission                        variant  \\\n",
       "0            18715   hatchback       manual                        lxi opt   \n",
       "1             2676   hatchback       manual                            lxi   \n",
       "2              609   hatchback       manual                sports 1.2 vtvt   \n",
       "3             6511   hatchback       manual                            vdi   \n",
       "4             3225   hatchback       manual                 magna 1.2 vtvt   \n",
       "...            ...         ...          ...                            ...   \n",
       "6394           327  luxury suv       manual                     3.0 mt 4x2   \n",
       "6395           214   hatchback       manual  sportz 1.4 crdi 6 speed bs iv   \n",
       "6396           247         suv       manual                   2.5 g4 7 str   \n",
       "6397           157   hatchback       manual                             lx   \n",
       "6398           144   hatchback       manual                sportz 1.1 crdi   \n",
       "\n",
       "      ...  registered_city registered_state is_hot   rto     make       model  \\\n",
       "0     ...            delhi            delhi   True  dl6c   maruti       swift   \n",
       "1     ...            noida    uttar pradesh   True  up16   maruti    alto 800   \n",
       "2     ...             agra    uttar pradesh   True  up80  hyundai   grand i10   \n",
       "3     ...            delhi            delhi   True  dl1c   maruti       swift   \n",
       "4     ...        new delhi            delhi   True  dl12  hyundai   grand i10   \n",
       "...   ...              ...              ...    ...   ...      ...         ...   \n",
       "6394  ...       pratapgarh    uttar pradesh  False  up72   toyota    fortuner   \n",
       "6395  ...          gurgaon          haryana  False  hr26  hyundai         i20   \n",
       "6396  ...          lucknow    uttar pradesh  False  up32   toyota      innova   \n",
       "6397  ...          lucknow    uttar pradesh  False  up32     tata  indica ev2   \n",
       "6398  ...          lucknow    uttar pradesh  False  up32  hyundai   grand i10   \n",
       "\n",
       "     total_owners  broker_quote  fitness_certificate warranty_avail  \n",
       "0               2        397677                 True          False  \n",
       "1               1        272935                 True          False  \n",
       "2               1        469605                 True          False  \n",
       "3               1        294262                 True          False  \n",
       "4               1        360716                 True          False  \n",
       "...           ...           ...                  ...            ...  \n",
       "6394            2        765000                False           True  \n",
       "6395            1             0                False           True  \n",
       "6396            2        250000                False          False  \n",
       "6397            2         33000                False          False  \n",
       "6398            2        232000                False           True  \n",
       "\n",
       "[5917 rows x 21 columns]"
      ],
      "text/html": "<div>\n<style scoped>\n    .dataframe tbody tr th:only-of-type {\n        vertical-align: middle;\n    }\n\n    .dataframe tbody tr th {\n        vertical-align: top;\n    }\n\n    .dataframe thead th {\n        text-align: right;\n    }\n</style>\n<table border=\"1\" class=\"dataframe\">\n  <thead>\n    <tr style=\"text-align: right;\">\n      <th></th>\n      <th>car_name</th>\n      <th>yr_mfr</th>\n      <th>fuel_type</th>\n      <th>kms_run</th>\n      <th>sale_price</th>\n      <th>city</th>\n      <th>times_viewed</th>\n      <th>body_type</th>\n      <th>transmission</th>\n      <th>variant</th>\n      <th>...</th>\n      <th>registered_city</th>\n      <th>registered_state</th>\n      <th>is_hot</th>\n      <th>rto</th>\n      <th>make</th>\n      <th>model</th>\n      <th>total_owners</th>\n      <th>broker_quote</th>\n      <th>fitness_certificate</th>\n      <th>warranty_avail</th>\n    </tr>\n  </thead>\n  <tbody>\n    <tr>\n      <th>0</th>\n      <td>maruti swift</td>\n      <td>2015</td>\n      <td>petrol</td>\n      <td>8063</td>\n      <td>386399</td>\n      <td>noida</td>\n      <td>18715</td>\n      <td>hatchback</td>\n      <td>manual</td>\n      <td>lxi opt</td>\n      <td>...</td>\n      <td>delhi</td>\n      <td>delhi</td>\n      <td>True</td>\n      <td>dl6c</td>\n      <td>maruti</td>\n      <td>swift</td>\n      <td>2</td>\n      <td>397677</td>\n      <td>True</td>\n      <td>False</td>\n    </tr>\n    <tr>\n      <th>1</th>\n      <td>maruti alto 800</td>\n      <td>2016</td>\n      <td>petrol</td>\n      <td>23104</td>\n      <td>265499</td>\n      <td>noida</td>\n      <td>2676</td>\n      <td>hatchback</td>\n      <td>manual</td>\n      <td>lxi</td>\n      <td>...</td>\n      <td>noida</td>\n      <td>uttar pradesh</td>\n      <td>True</td>\n      <td>up16</td>\n      <td>maruti</td>\n      <td>alto 800</td>\n      <td>1</td>\n      <td>272935</td>\n      <td>True</td>\n      <td>False</td>\n    </tr>\n    <tr>\n      <th>2</th>\n      <td>hyundai grand i10</td>\n      <td>2017</td>\n      <td>petrol</td>\n      <td>23402</td>\n      <td>477699</td>\n      <td>noida</td>\n      <td>609</td>\n      <td>hatchback</td>\n      <td>manual</td>\n      <td>sports 1.2 vtvt</td>\n      <td>...</td>\n      <td>agra</td>\n      <td>uttar pradesh</td>\n      <td>True</td>\n      <td>up80</td>\n      <td>hyundai</td>\n      <td>grand i10</td>\n      <td>1</td>\n      <td>469605</td>\n      <td>True</td>\n      <td>False</td>\n    </tr>\n    <tr>\n      <th>3</th>\n      <td>maruti swift</td>\n      <td>2013</td>\n      <td>diesel</td>\n      <td>39124</td>\n      <td>307999</td>\n      <td>noida</td>\n      <td>6511</td>\n      <td>hatchback</td>\n      <td>manual</td>\n      <td>vdi</td>\n      <td>...</td>\n      <td>delhi</td>\n      <td>delhi</td>\n      <td>True</td>\n      <td>dl1c</td>\n      <td>maruti</td>\n      <td>swift</td>\n      <td>1</td>\n      <td>294262</td>\n      <td>True</td>\n      <td>False</td>\n    </tr>\n    <tr>\n      <th>4</th>\n      <td>hyundai grand i10</td>\n      <td>2015</td>\n      <td>petrol</td>\n      <td>22116</td>\n      <td>361499</td>\n      <td>noida</td>\n      <td>3225</td>\n      <td>hatchback</td>\n      <td>manual</td>\n      <td>magna 1.2 vtvt</td>\n      <td>...</td>\n      <td>new delhi</td>\n      <td>delhi</td>\n      <td>True</td>\n      <td>dl12</td>\n      <td>hyundai</td>\n      <td>grand i10</td>\n      <td>1</td>\n      <td>360716</td>\n      <td>True</td>\n      <td>False</td>\n    </tr>\n    <tr>\n      <th>...</th>\n      <td>...</td>\n      <td>...</td>\n      <td>...</td>\n      <td>...</td>\n      <td>...</td>\n      <td>...</td>\n      <td>...</td>\n      <td>...</td>\n      <td>...</td>\n      <td>...</td>\n      <td>...</td>\n      <td>...</td>\n      <td>...</td>\n      <td>...</td>\n      <td>...</td>\n      <td>...</td>\n      <td>...</td>\n      <td>...</td>\n      <td>...</td>\n      <td>...</td>\n      <td>...</td>\n    </tr>\n    <tr>\n      <th>6394</th>\n      <td>toyota fortuner</td>\n      <td>2012</td>\n      <td>diesel</td>\n      <td>116838</td>\n      <td>1100000</td>\n      <td>lucknow</td>\n      <td>327</td>\n      <td>luxury suv</td>\n      <td>manual</td>\n      <td>3.0 mt 4x2</td>\n      <td>...</td>\n      <td>pratapgarh</td>\n      <td>uttar pradesh</td>\n      <td>False</td>\n      <td>up72</td>\n      <td>toyota</td>\n      <td>fortuner</td>\n      <td>2</td>\n      <td>765000</td>\n      <td>False</td>\n      <td>True</td>\n    </tr>\n    <tr>\n      <th>6395</th>\n      <td>hyundai i20</td>\n      <td>2012</td>\n      <td>diesel</td>\n      <td>47317</td>\n      <td>370000</td>\n      <td>lucknow</td>\n      <td>214</td>\n      <td>hatchback</td>\n      <td>manual</td>\n      <td>sportz 1.4 crdi 6 speed bs iv</td>\n      <td>...</td>\n      <td>gurgaon</td>\n      <td>haryana</td>\n      <td>False</td>\n      <td>hr26</td>\n      <td>hyundai</td>\n      <td>i20</td>\n      <td>1</td>\n      <td>0</td>\n      <td>False</td>\n      <td>True</td>\n    </tr>\n    <tr>\n      <th>6396</th>\n      <td>toyota innova</td>\n      <td>2009</td>\n      <td>diesel</td>\n      <td>274167</td>\n      <td>415000</td>\n      <td>lucknow</td>\n      <td>247</td>\n      <td>suv</td>\n      <td>manual</td>\n      <td>2.5 g4 7 str</td>\n      <td>...</td>\n      <td>lucknow</td>\n      <td>uttar pradesh</td>\n      <td>False</td>\n      <td>up32</td>\n      <td>toyota</td>\n      <td>innova</td>\n      <td>2</td>\n      <td>250000</td>\n      <td>False</td>\n      <td>False</td>\n    </tr>\n    <tr>\n      <th>6397</th>\n      <td>tata indica ev2</td>\n      <td>2011</td>\n      <td>diesel</td>\n      <td>119634</td>\n      <td>150000</td>\n      <td>lucknow</td>\n      <td>157</td>\n      <td>hatchback</td>\n      <td>manual</td>\n      <td>lx</td>\n      <td>...</td>\n      <td>lucknow</td>\n      <td>uttar pradesh</td>\n      <td>False</td>\n      <td>up32</td>\n      <td>tata</td>\n      <td>indica ev2</td>\n      <td>2</td>\n      <td>33000</td>\n      <td>False</td>\n      <td>False</td>\n    </tr>\n    <tr>\n      <th>6398</th>\n      <td>hyundai grand i10</td>\n      <td>2015</td>\n      <td>diesel</td>\n      <td>101527</td>\n      <td>350000</td>\n      <td>lucknow</td>\n      <td>144</td>\n      <td>hatchback</td>\n      <td>manual</td>\n      <td>sportz 1.1 crdi</td>\n      <td>...</td>\n      <td>lucknow</td>\n      <td>uttar pradesh</td>\n      <td>False</td>\n      <td>up32</td>\n      <td>hyundai</td>\n      <td>grand i10</td>\n      <td>2</td>\n      <td>232000</td>\n      <td>False</td>\n      <td>True</td>\n    </tr>\n  </tbody>\n</table>\n<p>5917 rows × 21 columns</p>\n</div>"
     },
     "metadata": {},
     "execution_count": 24
    }
   ],
   "source": [
    "dfPureCars"
   ]
  },
  {
   "cell_type": "code",
   "execution_count": 25,
   "metadata": {},
   "outputs": [
    {
     "output_type": "execute_result",
     "data": {
      "text/plain": [
       "count     5917\n",
       "unique       2\n",
       "top       True\n",
       "freq      5800\n",
       "Name: fitness_certificate, dtype: object"
      ]
     },
     "metadata": {},
     "execution_count": 25
    }
   ],
   "source": [
    "dfPureCars.fitness_certificate.describe()\n",
    "# ↓↓ Listar as estatísticas da coluna fitness_certificate\n",
    "# ↓↓ List the fitness_certificate column statistics\n",
    "\n",
    "# → count   => Total de linhas da coluna\n",
    "# → unique  => Total de valores únicos da coluna\n",
    "# → top     => Valor que mais aparece na coluna\n",
    "# → freq    => Nº de vezes que o valor aparece na coluna\n",
    "\n",
    "# → count => Total rows in column\n",
    "# → unique => Total unique column values\n",
    "# → top => Value that most appears in the column\n",
    "# → freq => Number of times the value appears in the column"
   ]
  },
  {
   "cell_type": "code",
   "execution_count": 26,
   "metadata": {},
   "outputs": [],
   "source": [
    "# ↓↓ Como quase 100% dos valores são True, vamos remover esta coluna.\n",
    "# ↓↓ Since almost 100% of the values are True, let's remove this column.\n",
    "dfPureCars.drop(columns=['fitness_certificate'], inplace=True, axis=1)\n"
   ]
  },
  {
   "cell_type": "code",
   "execution_count": 27,
   "metadata": {},
   "outputs": [
    {
     "output_type": "execute_result",
     "data": {
      "text/plain": [
       "count      5917\n",
       "unique        2\n",
       "top       False\n",
       "freq       5744\n",
       "Name: warranty_avail, dtype: object"
      ]
     },
     "metadata": {},
     "execution_count": 27
    }
   ],
   "source": [
    "dfPureCars.warranty_avail.describe()\n",
    "# ↓↓ Listar as estatísticas da coluna warranty_avail\n",
    "\n",
    "# → count   => Total de linhas da coluna\n",
    "# → unique  => Total de valores únicos da coluna\n",
    "# → top     => Valor que mais aparece na coluna\n",
    "# → freq    => Nº de vezes que o valor aparece na coluna\n",
    "\n",
    "# → count => Total rows in column\n",
    "# → unique => Total unique column values\n",
    "# → top => Value that most appears in the column\n",
    "# → freq => Number of times the value appears in the column"
   ]
  },
  {
   "cell_type": "code",
   "execution_count": 28,
   "metadata": {},
   "outputs": [],
   "source": [
    "# ↓↓ Como quase 100% dos valores são False, vamos retirar esta coluna.\n",
    "# ↓↓ Since almost 100% of the values are False, let's remove this column.\n",
    "dfPureCars.drop(columns=['warranty_avail'], inplace=True, axis=1) \n"
   ]
  },
  {
   "cell_type": "code",
   "execution_count": 29,
   "metadata": {},
   "outputs": [
    {
     "output_type": "execute_result",
     "data": {
      "text/plain": [
       "               car_name  yr_mfr fuel_type  kms_run  sale_price     city  \\\n",
       "0          maruti swift    2015    petrol     8063      386399    noida   \n",
       "1       maruti alto 800    2016    petrol    23104      265499    noida   \n",
       "2     hyundai grand i10    2017    petrol    23402      477699    noida   \n",
       "3          maruti swift    2013    diesel    39124      307999    noida   \n",
       "4     hyundai grand i10    2015    petrol    22116      361499    noida   \n",
       "...                 ...     ...       ...      ...         ...      ...   \n",
       "6394    toyota fortuner    2012    diesel   116838     1100000  lucknow   \n",
       "6395        hyundai i20    2012    diesel    47317      370000  lucknow   \n",
       "6396      toyota innova    2009    diesel   274167      415000  lucknow   \n",
       "6397    tata indica ev2    2011    diesel   119634      150000  lucknow   \n",
       "6398  hyundai grand i10    2015    diesel   101527      350000  lucknow   \n",
       "\n",
       "      times_viewed   body_type transmission                        variant  \\\n",
       "0            18715   hatchback       manual                        lxi opt   \n",
       "1             2676   hatchback       manual                            lxi   \n",
       "2              609   hatchback       manual                sports 1.2 vtvt   \n",
       "3             6511   hatchback       manual                            vdi   \n",
       "4             3225   hatchback       manual                 magna 1.2 vtvt   \n",
       "...            ...         ...          ...                            ...   \n",
       "6394           327  luxury suv       manual                     3.0 mt 4x2   \n",
       "6395           214   hatchback       manual  sportz 1.4 crdi 6 speed bs iv   \n",
       "6396           247         suv       manual                   2.5 g4 7 str   \n",
       "6397           157   hatchback       manual                             lx   \n",
       "6398           144   hatchback       manual                sportz 1.1 crdi   \n",
       "\n",
       "      assured_buy registered_city registered_state  is_hot   rto     make  \\\n",
       "0            True           delhi            delhi    True  dl6c   maruti   \n",
       "1            True           noida    uttar pradesh    True  up16   maruti   \n",
       "2            True            agra    uttar pradesh    True  up80  hyundai   \n",
       "3            True           delhi            delhi    True  dl1c   maruti   \n",
       "4           False       new delhi            delhi    True  dl12  hyundai   \n",
       "...           ...             ...              ...     ...   ...      ...   \n",
       "6394         True      pratapgarh    uttar pradesh   False  up72   toyota   \n",
       "6395        False         gurgaon          haryana   False  hr26  hyundai   \n",
       "6396         True         lucknow    uttar pradesh   False  up32   toyota   \n",
       "6397        False         lucknow    uttar pradesh   False  up32     tata   \n",
       "6398         True         lucknow    uttar pradesh   False  up32  hyundai   \n",
       "\n",
       "           model  total_owners  broker_quote  \n",
       "0          swift             2        397677  \n",
       "1       alto 800             1        272935  \n",
       "2      grand i10             1        469605  \n",
       "3          swift             1        294262  \n",
       "4      grand i10             1        360716  \n",
       "...          ...           ...           ...  \n",
       "6394    fortuner             2        765000  \n",
       "6395         i20             1             0  \n",
       "6396      innova             2        250000  \n",
       "6397  indica ev2             2         33000  \n",
       "6398   grand i10             2        232000  \n",
       "\n",
       "[5917 rows x 19 columns]"
      ],
      "text/html": "<div>\n<style scoped>\n    .dataframe tbody tr th:only-of-type {\n        vertical-align: middle;\n    }\n\n    .dataframe tbody tr th {\n        vertical-align: top;\n    }\n\n    .dataframe thead th {\n        text-align: right;\n    }\n</style>\n<table border=\"1\" class=\"dataframe\">\n  <thead>\n    <tr style=\"text-align: right;\">\n      <th></th>\n      <th>car_name</th>\n      <th>yr_mfr</th>\n      <th>fuel_type</th>\n      <th>kms_run</th>\n      <th>sale_price</th>\n      <th>city</th>\n      <th>times_viewed</th>\n      <th>body_type</th>\n      <th>transmission</th>\n      <th>variant</th>\n      <th>assured_buy</th>\n      <th>registered_city</th>\n      <th>registered_state</th>\n      <th>is_hot</th>\n      <th>rto</th>\n      <th>make</th>\n      <th>model</th>\n      <th>total_owners</th>\n      <th>broker_quote</th>\n    </tr>\n  </thead>\n  <tbody>\n    <tr>\n      <th>0</th>\n      <td>maruti swift</td>\n      <td>2015</td>\n      <td>petrol</td>\n      <td>8063</td>\n      <td>386399</td>\n      <td>noida</td>\n      <td>18715</td>\n      <td>hatchback</td>\n      <td>manual</td>\n      <td>lxi opt</td>\n      <td>True</td>\n      <td>delhi</td>\n      <td>delhi</td>\n      <td>True</td>\n      <td>dl6c</td>\n      <td>maruti</td>\n      <td>swift</td>\n      <td>2</td>\n      <td>397677</td>\n    </tr>\n    <tr>\n      <th>1</th>\n      <td>maruti alto 800</td>\n      <td>2016</td>\n      <td>petrol</td>\n      <td>23104</td>\n      <td>265499</td>\n      <td>noida</td>\n      <td>2676</td>\n      <td>hatchback</td>\n      <td>manual</td>\n      <td>lxi</td>\n      <td>True</td>\n      <td>noida</td>\n      <td>uttar pradesh</td>\n      <td>True</td>\n      <td>up16</td>\n      <td>maruti</td>\n      <td>alto 800</td>\n      <td>1</td>\n      <td>272935</td>\n    </tr>\n    <tr>\n      <th>2</th>\n      <td>hyundai grand i10</td>\n      <td>2017</td>\n      <td>petrol</td>\n      <td>23402</td>\n      <td>477699</td>\n      <td>noida</td>\n      <td>609</td>\n      <td>hatchback</td>\n      <td>manual</td>\n      <td>sports 1.2 vtvt</td>\n      <td>True</td>\n      <td>agra</td>\n      <td>uttar pradesh</td>\n      <td>True</td>\n      <td>up80</td>\n      <td>hyundai</td>\n      <td>grand i10</td>\n      <td>1</td>\n      <td>469605</td>\n    </tr>\n    <tr>\n      <th>3</th>\n      <td>maruti swift</td>\n      <td>2013</td>\n      <td>diesel</td>\n      <td>39124</td>\n      <td>307999</td>\n      <td>noida</td>\n      <td>6511</td>\n      <td>hatchback</td>\n      <td>manual</td>\n      <td>vdi</td>\n      <td>True</td>\n      <td>delhi</td>\n      <td>delhi</td>\n      <td>True</td>\n      <td>dl1c</td>\n      <td>maruti</td>\n      <td>swift</td>\n      <td>1</td>\n      <td>294262</td>\n    </tr>\n    <tr>\n      <th>4</th>\n      <td>hyundai grand i10</td>\n      <td>2015</td>\n      <td>petrol</td>\n      <td>22116</td>\n      <td>361499</td>\n      <td>noida</td>\n      <td>3225</td>\n      <td>hatchback</td>\n      <td>manual</td>\n      <td>magna 1.2 vtvt</td>\n      <td>False</td>\n      <td>new delhi</td>\n      <td>delhi</td>\n      <td>True</td>\n      <td>dl12</td>\n      <td>hyundai</td>\n      <td>grand i10</td>\n      <td>1</td>\n      <td>360716</td>\n    </tr>\n    <tr>\n      <th>...</th>\n      <td>...</td>\n      <td>...</td>\n      <td>...</td>\n      <td>...</td>\n      <td>...</td>\n      <td>...</td>\n      <td>...</td>\n      <td>...</td>\n      <td>...</td>\n      <td>...</td>\n      <td>...</td>\n      <td>...</td>\n      <td>...</td>\n      <td>...</td>\n      <td>...</td>\n      <td>...</td>\n      <td>...</td>\n      <td>...</td>\n      <td>...</td>\n    </tr>\n    <tr>\n      <th>6394</th>\n      <td>toyota fortuner</td>\n      <td>2012</td>\n      <td>diesel</td>\n      <td>116838</td>\n      <td>1100000</td>\n      <td>lucknow</td>\n      <td>327</td>\n      <td>luxury suv</td>\n      <td>manual</td>\n      <td>3.0 mt 4x2</td>\n      <td>True</td>\n      <td>pratapgarh</td>\n      <td>uttar pradesh</td>\n      <td>False</td>\n      <td>up72</td>\n      <td>toyota</td>\n      <td>fortuner</td>\n      <td>2</td>\n      <td>765000</td>\n    </tr>\n    <tr>\n      <th>6395</th>\n      <td>hyundai i20</td>\n      <td>2012</td>\n      <td>diesel</td>\n      <td>47317</td>\n      <td>370000</td>\n      <td>lucknow</td>\n      <td>214</td>\n      <td>hatchback</td>\n      <td>manual</td>\n      <td>sportz 1.4 crdi 6 speed bs iv</td>\n      <td>False</td>\n      <td>gurgaon</td>\n      <td>haryana</td>\n      <td>False</td>\n      <td>hr26</td>\n      <td>hyundai</td>\n      <td>i20</td>\n      <td>1</td>\n      <td>0</td>\n    </tr>\n    <tr>\n      <th>6396</th>\n      <td>toyota innova</td>\n      <td>2009</td>\n      <td>diesel</td>\n      <td>274167</td>\n      <td>415000</td>\n      <td>lucknow</td>\n      <td>247</td>\n      <td>suv</td>\n      <td>manual</td>\n      <td>2.5 g4 7 str</td>\n      <td>True</td>\n      <td>lucknow</td>\n      <td>uttar pradesh</td>\n      <td>False</td>\n      <td>up32</td>\n      <td>toyota</td>\n      <td>innova</td>\n      <td>2</td>\n      <td>250000</td>\n    </tr>\n    <tr>\n      <th>6397</th>\n      <td>tata indica ev2</td>\n      <td>2011</td>\n      <td>diesel</td>\n      <td>119634</td>\n      <td>150000</td>\n      <td>lucknow</td>\n      <td>157</td>\n      <td>hatchback</td>\n      <td>manual</td>\n      <td>lx</td>\n      <td>False</td>\n      <td>lucknow</td>\n      <td>uttar pradesh</td>\n      <td>False</td>\n      <td>up32</td>\n      <td>tata</td>\n      <td>indica ev2</td>\n      <td>2</td>\n      <td>33000</td>\n    </tr>\n    <tr>\n      <th>6398</th>\n      <td>hyundai grand i10</td>\n      <td>2015</td>\n      <td>diesel</td>\n      <td>101527</td>\n      <td>350000</td>\n      <td>lucknow</td>\n      <td>144</td>\n      <td>hatchback</td>\n      <td>manual</td>\n      <td>sportz 1.1 crdi</td>\n      <td>True</td>\n      <td>lucknow</td>\n      <td>uttar pradesh</td>\n      <td>False</td>\n      <td>up32</td>\n      <td>hyundai</td>\n      <td>grand i10</td>\n      <td>2</td>\n      <td>232000</td>\n    </tr>\n  </tbody>\n</table>\n<p>5917 rows × 19 columns</p>\n</div>"
     },
     "metadata": {},
     "execution_count": 29
    }
   ],
   "source": [
    "dfPureCars"
   ]
  },
  {
   "cell_type": "code",
   "execution_count": 30,
   "metadata": {},
   "outputs": [],
   "source": [
    "# ↓↓ Provavelmente este campo não influencia no valor de venda do carro! Dever ser tirado já no começo\n",
    "# ↓↓ This field probably doesn't influence the car's sales value! It should be taken from the beginning\n",
    "dfPureCars.drop(columns=\"times_viewed\",inplace=True,axis=1)"
   ]
  },
  {
   "cell_type": "code",
   "execution_count": 31,
   "metadata": {},
   "outputs": [
    {
     "output_type": "execute_result",
     "data": {
      "text/plain": [
       "True     5454\n",
       "False     463\n",
       "Name: is_hot, dtype: int64"
      ]
     },
     "metadata": {},
     "execution_count": 31
    }
   ],
   "source": [
    "dfPureCars.is_hot.value_counts()\n",
    "# ↓↓ Listar as estatísticas da coluna is_hot\n",
    "# ↓↓ List is_hot column statistics\n",
    "\n",
    "# → count   => Total de linhas da coluna\n",
    "# → unique  => Total de valores únicos da coluna\n",
    "# → top     => Valor que mais aparece na coluna\n",
    "# → freq    => Nº de vezes que o valor aparece na coluna\n",
    "\n",
    "# → count => Total rows in column\n",
    "# → unique => Total unique column values\n",
    "# → top => Value that most appears in the column\n",
    "# → freq => Number of times the value appears in the column"
   ]
  },
  {
   "cell_type": "code",
   "execution_count": 32,
   "metadata": {},
   "outputs": [
    {
     "output_type": "execute_result",
     "data": {
      "text/plain": [
       "(5917, 18)"
      ]
     },
     "metadata": {},
     "execution_count": 32
    }
   ],
   "source": [
    "dfPureCars.shape\n",
    "# ↓↓ O dataframe agora possui 5.917 linhas e 18 colunas\n",
    "# ↓↓ The dataframe now has 5,917 rows and 18 columns"
   ]
  },
  {
   "cell_type": "code",
   "execution_count": 33,
   "metadata": {},
   "outputs": [
    {
     "output_type": "execute_result",
     "data": {
      "text/plain": [
       "<AxesSubplot:>"
      ]
     },
     "metadata": {},
     "execution_count": 33
    },
    {
     "output_type": "display_data",
     "data": {
      "text/plain": "<Figure size 432x288 with 1 Axes>",
      "image/svg+xml": "<?xml version=\"1.0\" encoding=\"utf-8\" standalone=\"no\"?>\r\n<!DOCTYPE svg PUBLIC \"-//W3C//DTD SVG 1.1//EN\"\r\n  \"http://www.w3.org/Graphics/SVG/1.1/DTD/svg11.dtd\">\r\n<!-- Created with matplotlib (https://matplotlib.org/) -->\r\n<svg height=\"261.19625pt\" version=\"1.1\" viewBox=\"0 0 381.65 261.19625\" width=\"381.65pt\" xmlns=\"http://www.w3.org/2000/svg\" xmlns:xlink=\"http://www.w3.org/1999/xlink\">\r\n <metadata>\r\n  <rdf:RDF xmlns:cc=\"http://creativecommons.org/ns#\" xmlns:dc=\"http://purl.org/dc/elements/1.1/\" xmlns:rdf=\"http://www.w3.org/1999/02/22-rdf-syntax-ns#\">\r\n   <cc:Work>\r\n    <dc:type rdf:resource=\"http://purl.org/dc/dcmitype/StillImage\"/>\r\n    <dc:date>2021-07-16T10:06:51.315853</dc:date>\r\n    <dc:format>image/svg+xml</dc:format>\r\n    <dc:creator>\r\n     <cc:Agent>\r\n      <dc:title>Matplotlib v3.3.4, https://matplotlib.org/</dc:title>\r\n     </cc:Agent>\r\n    </dc:creator>\r\n   </cc:Work>\r\n  </rdf:RDF>\r\n </metadata>\r\n <defs>\r\n  <style type=\"text/css\">*{stroke-linecap:butt;stroke-linejoin:round;}</style>\r\n </defs>\r\n <g id=\"figure_1\">\r\n  <g id=\"patch_1\">\r\n   <path d=\"M -0 261.19625 \r\nL 381.65 261.19625 \r\nL 381.65 0 \r\nL -0 0 \r\nz\r\n\" style=\"fill:none;\"/>\r\n  </g>\r\n  <g id=\"axes_1\">\r\n   <g id=\"patch_2\">\r\n    <path d=\"M 39.65 224.64 \r\nL 374.45 224.64 \r\nL 374.45 7.2 \r\nL 39.65 7.2 \r\nz\r\n\" style=\"fill:#ffffff;\"/>\r\n   </g>\r\n   <g id=\"patch_3\">\r\n    <path clip-path=\"url(#pe2c7243b95)\" d=\"M 54.868182 224.64 \r\nL 85.304545 224.64 \r\nL 85.304545 17.554286 \r\nL 54.868182 17.554286 \r\nz\r\n\" style=\"fill:#1f77b4;\"/>\r\n   </g>\r\n   <g id=\"patch_4\">\r\n    <path clip-path=\"url(#pe2c7243b95)\" d=\"M 85.304545 224.64 \r\nL 115.740909 224.64 \r\nL 115.740909 64.606786 \r\nL 85.304545 64.606786 \r\nz\r\n\" style=\"fill:#1f77b4;\"/>\r\n   </g>\r\n   <g id=\"patch_5\">\r\n    <path clip-path=\"url(#pe2c7243b95)\" d=\"M 115.740909 224.64 \r\nL 146.177273 224.64 \r\nL 146.177273 197.489066 \r\nL 115.740909 197.489066 \r\nz\r\n\" style=\"fill:#1f77b4;\"/>\r\n   </g>\r\n   <g id=\"patch_6\">\r\n    <path clip-path=\"url(#pe2c7243b95)\" d=\"M 146.177273 224.64 \r\nL 176.613636 224.64 \r\nL 176.613636 218.621657 \r\nL 146.177273 218.621657 \r\nz\r\n\" style=\"fill:#1f77b4;\"/>\r\n   </g>\r\n   <g id=\"patch_7\">\r\n    <path clip-path=\"url(#pe2c7243b95)\" d=\"M 176.613636 224.64 \r\nL 207.05 224.64 \r\nL 207.05 221.699219 \r\nL 176.613636 221.699219 \r\nz\r\n\" style=\"fill:#1f77b4;\"/>\r\n   </g>\r\n   <g id=\"patch_8\">\r\n    <path clip-path=\"url(#pe2c7243b95)\" d=\"M 207.05 224.64 \r\nL 237.486364 224.64 \r\nL 237.486364 223.682536 \r\nL 207.05 223.682536 \r\nz\r\n\" style=\"fill:#1f77b4;\"/>\r\n   </g>\r\n   <g id=\"patch_9\">\r\n    <path clip-path=\"url(#pe2c7243b95)\" d=\"M 237.486364 224.64 \r\nL 267.922727 224.64 \r\nL 267.922727 224.434829 \r\nL 237.486364 224.434829 \r\nz\r\n\" style=\"fill:#1f77b4;\"/>\r\n   </g>\r\n   <g id=\"patch_10\">\r\n    <path clip-path=\"url(#pe2c7243b95)\" d=\"M 267.922727 224.64 \r\nL 298.359091 224.64 \r\nL 298.359091 224.503219 \r\nL 267.922727 224.503219 \r\nz\r\n\" style=\"fill:#1f77b4;\"/>\r\n   </g>\r\n   <g id=\"patch_11\">\r\n    <path clip-path=\"url(#pe2c7243b95)\" d=\"M 298.359091 224.64 \r\nL 328.795455 224.64 \r\nL 328.795455 224.64 \r\nL 298.359091 224.64 \r\nz\r\n\" style=\"fill:#1f77b4;\"/>\r\n   </g>\r\n   <g id=\"patch_12\">\r\n    <path clip-path=\"url(#pe2c7243b95)\" d=\"M 328.795455 224.64 \r\nL 359.231818 224.64 \r\nL 359.231818 224.503219 \r\nL 328.795455 224.503219 \r\nz\r\n\" style=\"fill:#1f77b4;\"/>\r\n   </g>\r\n   <g id=\"matplotlib.axis_1\">\r\n    <g id=\"xtick_1\">\r\n     <g id=\"line2d_1\">\r\n      <path clip-path=\"url(#pe2c7243b95)\" d=\"M 53.167826 224.64 \r\nL 53.167826 7.2 \r\n\" style=\"fill:none;stroke:#b0b0b0;stroke-linecap:square;stroke-width:0.8;\"/>\r\n     </g>\r\n     <g id=\"line2d_2\">\r\n      <defs>\r\n       <path d=\"M 0 0 \r\nL 0 3.5 \r\n\" id=\"mf8f605507f\" style=\"stroke:#000000;stroke-width:0.8;\"/>\r\n      </defs>\r\n      <g>\r\n       <use style=\"stroke:#000000;stroke-width:0.8;\" x=\"53.167826\" xlink:href=\"#mf8f605507f\" y=\"224.64\"/>\r\n      </g>\r\n     </g>\r\n     <g id=\"text_1\">\r\n      <!-- 0.0 -->\r\n      <g transform=\"translate(45.216264 239.238438)scale(0.1 -0.1)\">\r\n       <defs>\r\n        <path d=\"M 31.78125 66.40625 \r\nQ 24.171875 66.40625 20.328125 58.90625 \r\nQ 16.5 51.421875 16.5 36.375 \r\nQ 16.5 21.390625 20.328125 13.890625 \r\nQ 24.171875 6.390625 31.78125 6.390625 \r\nQ 39.453125 6.390625 43.28125 13.890625 \r\nQ 47.125 21.390625 47.125 36.375 \r\nQ 47.125 51.421875 43.28125 58.90625 \r\nQ 39.453125 66.40625 31.78125 66.40625 \r\nz\r\nM 31.78125 74.21875 \r\nQ 44.046875 74.21875 50.515625 64.515625 \r\nQ 56.984375 54.828125 56.984375 36.375 \r\nQ 56.984375 17.96875 50.515625 8.265625 \r\nQ 44.046875 -1.421875 31.78125 -1.421875 \r\nQ 19.53125 -1.421875 13.0625 8.265625 \r\nQ 6.59375 17.96875 6.59375 36.375 \r\nQ 6.59375 54.828125 13.0625 64.515625 \r\nQ 19.53125 74.21875 31.78125 74.21875 \r\nz\r\n\" id=\"DejaVuSans-48\"/>\r\n        <path d=\"M 10.6875 12.40625 \r\nL 21 12.40625 \r\nL 21 0 \r\nL 10.6875 0 \r\nz\r\n\" id=\"DejaVuSans-46\"/>\r\n       </defs>\r\n       <use xlink:href=\"#DejaVuSans-48\"/>\r\n       <use x=\"63.623047\" xlink:href=\"#DejaVuSans-46\"/>\r\n       <use x=\"95.410156\" xlink:href=\"#DejaVuSans-48\"/>\r\n      </g>\r\n     </g>\r\n    </g>\r\n    <g id=\"xtick_2\">\r\n     <g id=\"line2d_3\">\r\n      <path clip-path=\"url(#pe2c7243b95)\" d=\"M 95.676714 224.64 \r\nL 95.676714 7.2 \r\n\" style=\"fill:none;stroke:#b0b0b0;stroke-linecap:square;stroke-width:0.8;\"/>\r\n     </g>\r\n     <g id=\"line2d_4\">\r\n      <g>\r\n       <use style=\"stroke:#000000;stroke-width:0.8;\" x=\"95.676714\" xlink:href=\"#mf8f605507f\" y=\"224.64\"/>\r\n      </g>\r\n     </g>\r\n     <g id=\"text_2\">\r\n      <!-- 0.5 -->\r\n      <g transform=\"translate(87.725152 239.238438)scale(0.1 -0.1)\">\r\n       <defs>\r\n        <path d=\"M 10.796875 72.90625 \r\nL 49.515625 72.90625 \r\nL 49.515625 64.59375 \r\nL 19.828125 64.59375 \r\nL 19.828125 46.734375 \r\nQ 21.96875 47.46875 24.109375 47.828125 \r\nQ 26.265625 48.1875 28.421875 48.1875 \r\nQ 40.625 48.1875 47.75 41.5 \r\nQ 54.890625 34.8125 54.890625 23.390625 \r\nQ 54.890625 11.625 47.5625 5.09375 \r\nQ 40.234375 -1.421875 26.90625 -1.421875 \r\nQ 22.3125 -1.421875 17.546875 -0.640625 \r\nQ 12.796875 0.140625 7.71875 1.703125 \r\nL 7.71875 11.625 \r\nQ 12.109375 9.234375 16.796875 8.0625 \r\nQ 21.484375 6.890625 26.703125 6.890625 \r\nQ 35.15625 6.890625 40.078125 11.328125 \r\nQ 45.015625 15.765625 45.015625 23.390625 \r\nQ 45.015625 31 40.078125 35.4375 \r\nQ 35.15625 39.890625 26.703125 39.890625 \r\nQ 22.75 39.890625 18.8125 39.015625 \r\nQ 14.890625 38.140625 10.796875 36.28125 \r\nz\r\n\" id=\"DejaVuSans-53\"/>\r\n       </defs>\r\n       <use xlink:href=\"#DejaVuSans-48\"/>\r\n       <use x=\"63.623047\" xlink:href=\"#DejaVuSans-46\"/>\r\n       <use x=\"95.410156\" xlink:href=\"#DejaVuSans-53\"/>\r\n      </g>\r\n     </g>\r\n    </g>\r\n    <g id=\"xtick_3\">\r\n     <g id=\"line2d_5\">\r\n      <path clip-path=\"url(#pe2c7243b95)\" d=\"M 138.185602 224.64 \r\nL 138.185602 7.2 \r\n\" style=\"fill:none;stroke:#b0b0b0;stroke-linecap:square;stroke-width:0.8;\"/>\r\n     </g>\r\n     <g id=\"line2d_6\">\r\n      <g>\r\n       <use style=\"stroke:#000000;stroke-width:0.8;\" x=\"138.185602\" xlink:href=\"#mf8f605507f\" y=\"224.64\"/>\r\n      </g>\r\n     </g>\r\n     <g id=\"text_3\">\r\n      <!-- 1.0 -->\r\n      <g transform=\"translate(130.234039 239.238438)scale(0.1 -0.1)\">\r\n       <defs>\r\n        <path d=\"M 12.40625 8.296875 \r\nL 28.515625 8.296875 \r\nL 28.515625 63.921875 \r\nL 10.984375 60.40625 \r\nL 10.984375 69.390625 \r\nL 28.421875 72.90625 \r\nL 38.28125 72.90625 \r\nL 38.28125 8.296875 \r\nL 54.390625 8.296875 \r\nL 54.390625 0 \r\nL 12.40625 0 \r\nz\r\n\" id=\"DejaVuSans-49\"/>\r\n       </defs>\r\n       <use xlink:href=\"#DejaVuSans-49\"/>\r\n       <use x=\"63.623047\" xlink:href=\"#DejaVuSans-46\"/>\r\n       <use x=\"95.410156\" xlink:href=\"#DejaVuSans-48\"/>\r\n      </g>\r\n     </g>\r\n    </g>\r\n    <g id=\"xtick_4\">\r\n     <g id=\"line2d_7\">\r\n      <path clip-path=\"url(#pe2c7243b95)\" d=\"M 180.69449 224.64 \r\nL 180.69449 7.2 \r\n\" style=\"fill:none;stroke:#b0b0b0;stroke-linecap:square;stroke-width:0.8;\"/>\r\n     </g>\r\n     <g id=\"line2d_8\">\r\n      <g>\r\n       <use style=\"stroke:#000000;stroke-width:0.8;\" x=\"180.69449\" xlink:href=\"#mf8f605507f\" y=\"224.64\"/>\r\n      </g>\r\n     </g>\r\n     <g id=\"text_4\">\r\n      <!-- 1.5 -->\r\n      <g transform=\"translate(172.742927 239.238438)scale(0.1 -0.1)\">\r\n       <use xlink:href=\"#DejaVuSans-49\"/>\r\n       <use x=\"63.623047\" xlink:href=\"#DejaVuSans-46\"/>\r\n       <use x=\"95.410156\" xlink:href=\"#DejaVuSans-53\"/>\r\n      </g>\r\n     </g>\r\n    </g>\r\n    <g id=\"xtick_5\">\r\n     <g id=\"line2d_9\">\r\n      <path clip-path=\"url(#pe2c7243b95)\" d=\"M 223.203377 224.64 \r\nL 223.203377 7.2 \r\n\" style=\"fill:none;stroke:#b0b0b0;stroke-linecap:square;stroke-width:0.8;\"/>\r\n     </g>\r\n     <g id=\"line2d_10\">\r\n      <g>\r\n       <use style=\"stroke:#000000;stroke-width:0.8;\" x=\"223.203377\" xlink:href=\"#mf8f605507f\" y=\"224.64\"/>\r\n      </g>\r\n     </g>\r\n     <g id=\"text_5\">\r\n      <!-- 2.0 -->\r\n      <g transform=\"translate(215.251815 239.238438)scale(0.1 -0.1)\">\r\n       <defs>\r\n        <path d=\"M 19.1875 8.296875 \r\nL 53.609375 8.296875 \r\nL 53.609375 0 \r\nL 7.328125 0 \r\nL 7.328125 8.296875 \r\nQ 12.9375 14.109375 22.625 23.890625 \r\nQ 32.328125 33.6875 34.8125 36.53125 \r\nQ 39.546875 41.84375 41.421875 45.53125 \r\nQ 43.3125 49.21875 43.3125 52.78125 \r\nQ 43.3125 58.59375 39.234375 62.25 \r\nQ 35.15625 65.921875 28.609375 65.921875 \r\nQ 23.96875 65.921875 18.8125 64.3125 \r\nQ 13.671875 62.703125 7.8125 59.421875 \r\nL 7.8125 69.390625 \r\nQ 13.765625 71.78125 18.9375 73 \r\nQ 24.125 74.21875 28.421875 74.21875 \r\nQ 39.75 74.21875 46.484375 68.546875 \r\nQ 53.21875 62.890625 53.21875 53.421875 \r\nQ 53.21875 48.921875 51.53125 44.890625 \r\nQ 49.859375 40.875 45.40625 35.40625 \r\nQ 44.1875 33.984375 37.640625 27.21875 \r\nQ 31.109375 20.453125 19.1875 8.296875 \r\nz\r\n\" id=\"DejaVuSans-50\"/>\r\n       </defs>\r\n       <use xlink:href=\"#DejaVuSans-50\"/>\r\n       <use x=\"63.623047\" xlink:href=\"#DejaVuSans-46\"/>\r\n       <use x=\"95.410156\" xlink:href=\"#DejaVuSans-48\"/>\r\n      </g>\r\n     </g>\r\n    </g>\r\n    <g id=\"xtick_6\">\r\n     <g id=\"line2d_11\">\r\n      <path clip-path=\"url(#pe2c7243b95)\" d=\"M 265.712265 224.64 \r\nL 265.712265 7.2 \r\n\" style=\"fill:none;stroke:#b0b0b0;stroke-linecap:square;stroke-width:0.8;\"/>\r\n     </g>\r\n     <g id=\"line2d_12\">\r\n      <g>\r\n       <use style=\"stroke:#000000;stroke-width:0.8;\" x=\"265.712265\" xlink:href=\"#mf8f605507f\" y=\"224.64\"/>\r\n      </g>\r\n     </g>\r\n     <g id=\"text_6\">\r\n      <!-- 2.5 -->\r\n      <g transform=\"translate(257.760703 239.238438)scale(0.1 -0.1)\">\r\n       <use xlink:href=\"#DejaVuSans-50\"/>\r\n       <use x=\"63.623047\" xlink:href=\"#DejaVuSans-46\"/>\r\n       <use x=\"95.410156\" xlink:href=\"#DejaVuSans-53\"/>\r\n      </g>\r\n     </g>\r\n    </g>\r\n    <g id=\"xtick_7\">\r\n     <g id=\"line2d_13\">\r\n      <path clip-path=\"url(#pe2c7243b95)\" d=\"M 308.221153 224.64 \r\nL 308.221153 7.2 \r\n\" style=\"fill:none;stroke:#b0b0b0;stroke-linecap:square;stroke-width:0.8;\"/>\r\n     </g>\r\n     <g id=\"line2d_14\">\r\n      <g>\r\n       <use style=\"stroke:#000000;stroke-width:0.8;\" x=\"308.221153\" xlink:href=\"#mf8f605507f\" y=\"224.64\"/>\r\n      </g>\r\n     </g>\r\n     <g id=\"text_7\">\r\n      <!-- 3.0 -->\r\n      <g transform=\"translate(300.26959 239.238438)scale(0.1 -0.1)\">\r\n       <defs>\r\n        <path d=\"M 40.578125 39.3125 \r\nQ 47.65625 37.796875 51.625 33 \r\nQ 55.609375 28.21875 55.609375 21.1875 \r\nQ 55.609375 10.40625 48.1875 4.484375 \r\nQ 40.765625 -1.421875 27.09375 -1.421875 \r\nQ 22.515625 -1.421875 17.65625 -0.515625 \r\nQ 12.796875 0.390625 7.625 2.203125 \r\nL 7.625 11.71875 \r\nQ 11.71875 9.328125 16.59375 8.109375 \r\nQ 21.484375 6.890625 26.8125 6.890625 \r\nQ 36.078125 6.890625 40.9375 10.546875 \r\nQ 45.796875 14.203125 45.796875 21.1875 \r\nQ 45.796875 27.640625 41.28125 31.265625 \r\nQ 36.765625 34.90625 28.71875 34.90625 \r\nL 20.21875 34.90625 \r\nL 20.21875 43.015625 \r\nL 29.109375 43.015625 \r\nQ 36.375 43.015625 40.234375 45.921875 \r\nQ 44.09375 48.828125 44.09375 54.296875 \r\nQ 44.09375 59.90625 40.109375 62.90625 \r\nQ 36.140625 65.921875 28.71875 65.921875 \r\nQ 24.65625 65.921875 20.015625 65.03125 \r\nQ 15.375 64.15625 9.8125 62.3125 \r\nL 9.8125 71.09375 \r\nQ 15.4375 72.65625 20.34375 73.4375 \r\nQ 25.25 74.21875 29.59375 74.21875 \r\nQ 40.828125 74.21875 47.359375 69.109375 \r\nQ 53.90625 64.015625 53.90625 55.328125 \r\nQ 53.90625 49.265625 50.4375 45.09375 \r\nQ 46.96875 40.921875 40.578125 39.3125 \r\nz\r\n\" id=\"DejaVuSans-51\"/>\r\n       </defs>\r\n       <use xlink:href=\"#DejaVuSans-51\"/>\r\n       <use x=\"63.623047\" xlink:href=\"#DejaVuSans-46\"/>\r\n       <use x=\"95.410156\" xlink:href=\"#DejaVuSans-48\"/>\r\n      </g>\r\n     </g>\r\n    </g>\r\n    <g id=\"xtick_8\">\r\n     <g id=\"line2d_15\">\r\n      <path clip-path=\"url(#pe2c7243b95)\" d=\"M 350.730041 224.64 \r\nL 350.730041 7.2 \r\n\" style=\"fill:none;stroke:#b0b0b0;stroke-linecap:square;stroke-width:0.8;\"/>\r\n     </g>\r\n     <g id=\"line2d_16\">\r\n      <g>\r\n       <use style=\"stroke:#000000;stroke-width:0.8;\" x=\"350.730041\" xlink:href=\"#mf8f605507f\" y=\"224.64\"/>\r\n      </g>\r\n     </g>\r\n     <g id=\"text_8\">\r\n      <!-- 3.5 -->\r\n      <g transform=\"translate(342.778478 239.238438)scale(0.1 -0.1)\">\r\n       <use xlink:href=\"#DejaVuSans-51\"/>\r\n       <use x=\"63.623047\" xlink:href=\"#DejaVuSans-46\"/>\r\n       <use x=\"95.410156\" xlink:href=\"#DejaVuSans-53\"/>\r\n      </g>\r\n     </g>\r\n    </g>\r\n    <g id=\"text_9\">\r\n     <!-- 1e6 -->\r\n     <g transform=\"translate(355.571875 251.916563)scale(0.1 -0.1)\">\r\n      <defs>\r\n       <path d=\"M 56.203125 29.59375 \r\nL 56.203125 25.203125 \r\nL 14.890625 25.203125 \r\nQ 15.484375 15.921875 20.484375 11.0625 \r\nQ 25.484375 6.203125 34.421875 6.203125 \r\nQ 39.59375 6.203125 44.453125 7.46875 \r\nQ 49.3125 8.734375 54.109375 11.28125 \r\nL 54.109375 2.78125 \r\nQ 49.265625 0.734375 44.1875 -0.34375 \r\nQ 39.109375 -1.421875 33.890625 -1.421875 \r\nQ 20.796875 -1.421875 13.15625 6.1875 \r\nQ 5.515625 13.8125 5.515625 26.8125 \r\nQ 5.515625 40.234375 12.765625 48.109375 \r\nQ 20.015625 56 32.328125 56 \r\nQ 43.359375 56 49.78125 48.890625 \r\nQ 56.203125 41.796875 56.203125 29.59375 \r\nz\r\nM 47.21875 32.234375 \r\nQ 47.125 39.59375 43.09375 43.984375 \r\nQ 39.0625 48.390625 32.421875 48.390625 \r\nQ 24.90625 48.390625 20.390625 44.140625 \r\nQ 15.875 39.890625 15.1875 32.171875 \r\nz\r\n\" id=\"DejaVuSans-101\"/>\r\n       <path d=\"M 33.015625 40.375 \r\nQ 26.375 40.375 22.484375 35.828125 \r\nQ 18.609375 31.296875 18.609375 23.390625 \r\nQ 18.609375 15.53125 22.484375 10.953125 \r\nQ 26.375 6.390625 33.015625 6.390625 \r\nQ 39.65625 6.390625 43.53125 10.953125 \r\nQ 47.40625 15.53125 47.40625 23.390625 \r\nQ 47.40625 31.296875 43.53125 35.828125 \r\nQ 39.65625 40.375 33.015625 40.375 \r\nz\r\nM 52.59375 71.296875 \r\nL 52.59375 62.3125 \r\nQ 48.875 64.0625 45.09375 64.984375 \r\nQ 41.3125 65.921875 37.59375 65.921875 \r\nQ 27.828125 65.921875 22.671875 59.328125 \r\nQ 17.53125 52.734375 16.796875 39.40625 \r\nQ 19.671875 43.65625 24.015625 45.921875 \r\nQ 28.375 48.1875 33.59375 48.1875 \r\nQ 44.578125 48.1875 50.953125 41.515625 \r\nQ 57.328125 34.859375 57.328125 23.390625 \r\nQ 57.328125 12.15625 50.6875 5.359375 \r\nQ 44.046875 -1.421875 33.015625 -1.421875 \r\nQ 20.359375 -1.421875 13.671875 8.265625 \r\nQ 6.984375 17.96875 6.984375 36.375 \r\nQ 6.984375 53.65625 15.1875 63.9375 \r\nQ 23.390625 74.21875 37.203125 74.21875 \r\nQ 40.921875 74.21875 44.703125 73.484375 \r\nQ 48.484375 72.75 52.59375 71.296875 \r\nz\r\n\" id=\"DejaVuSans-54\"/>\r\n      </defs>\r\n      <use xlink:href=\"#DejaVuSans-49\"/>\r\n      <use x=\"63.623047\" xlink:href=\"#DejaVuSans-101\"/>\r\n      <use x=\"125.146484\" xlink:href=\"#DejaVuSans-54\"/>\r\n     </g>\r\n    </g>\r\n   </g>\r\n   <g id=\"matplotlib.axis_2\">\r\n    <g id=\"ytick_1\">\r\n     <g id=\"line2d_17\">\r\n      <path clip-path=\"url(#pe2c7243b95)\" d=\"M 39.65 224.64 \r\nL 374.45 224.64 \r\n\" style=\"fill:none;stroke:#b0b0b0;stroke-linecap:square;stroke-width:0.8;\"/>\r\n     </g>\r\n     <g id=\"line2d_18\">\r\n      <defs>\r\n       <path d=\"M 0 0 \r\nL -3.5 0 \r\n\" id=\"mc8b5ce6835\" style=\"stroke:#000000;stroke-width:0.8;\"/>\r\n      </defs>\r\n      <g>\r\n       <use style=\"stroke:#000000;stroke-width:0.8;\" x=\"39.65\" xlink:href=\"#mc8b5ce6835\" y=\"224.64\"/>\r\n      </g>\r\n     </g>\r\n     <g id=\"text_10\">\r\n      <!-- 0 -->\r\n      <g transform=\"translate(26.2875 228.439219)scale(0.1 -0.1)\">\r\n       <use xlink:href=\"#DejaVuSans-48\"/>\r\n      </g>\r\n     </g>\r\n    </g>\r\n    <g id=\"ytick_2\">\r\n     <g id=\"line2d_19\">\r\n      <path clip-path=\"url(#pe2c7243b95)\" d=\"M 39.65 190.444869 \r\nL 374.45 190.444869 \r\n\" style=\"fill:none;stroke:#b0b0b0;stroke-linecap:square;stroke-width:0.8;\"/>\r\n     </g>\r\n     <g id=\"line2d_20\">\r\n      <g>\r\n       <use style=\"stroke:#000000;stroke-width:0.8;\" x=\"39.65\" xlink:href=\"#mc8b5ce6835\" y=\"190.444869\"/>\r\n      </g>\r\n     </g>\r\n     <g id=\"text_11\">\r\n      <!-- 500 -->\r\n      <g transform=\"translate(13.5625 194.244088)scale(0.1 -0.1)\">\r\n       <use xlink:href=\"#DejaVuSans-53\"/>\r\n       <use x=\"63.623047\" xlink:href=\"#DejaVuSans-48\"/>\r\n       <use x=\"127.246094\" xlink:href=\"#DejaVuSans-48\"/>\r\n      </g>\r\n     </g>\r\n    </g>\r\n    <g id=\"ytick_3\">\r\n     <g id=\"line2d_21\">\r\n      <path clip-path=\"url(#pe2c7243b95)\" d=\"M 39.65 156.249738 \r\nL 374.45 156.249738 \r\n\" style=\"fill:none;stroke:#b0b0b0;stroke-linecap:square;stroke-width:0.8;\"/>\r\n     </g>\r\n     <g id=\"line2d_22\">\r\n      <g>\r\n       <use style=\"stroke:#000000;stroke-width:0.8;\" x=\"39.65\" xlink:href=\"#mc8b5ce6835\" y=\"156.249738\"/>\r\n      </g>\r\n     </g>\r\n     <g id=\"text_12\">\r\n      <!-- 1000 -->\r\n      <g transform=\"translate(7.2 160.048956)scale(0.1 -0.1)\">\r\n       <use xlink:href=\"#DejaVuSans-49\"/>\r\n       <use x=\"63.623047\" xlink:href=\"#DejaVuSans-48\"/>\r\n       <use x=\"127.246094\" xlink:href=\"#DejaVuSans-48\"/>\r\n       <use x=\"190.869141\" xlink:href=\"#DejaVuSans-48\"/>\r\n      </g>\r\n     </g>\r\n    </g>\r\n    <g id=\"ytick_4\">\r\n     <g id=\"line2d_23\">\r\n      <path clip-path=\"url(#pe2c7243b95)\" d=\"M 39.65 122.054607 \r\nL 374.45 122.054607 \r\n\" style=\"fill:none;stroke:#b0b0b0;stroke-linecap:square;stroke-width:0.8;\"/>\r\n     </g>\r\n     <g id=\"line2d_24\">\r\n      <g>\r\n       <use style=\"stroke:#000000;stroke-width:0.8;\" x=\"39.65\" xlink:href=\"#mc8b5ce6835\" y=\"122.054607\"/>\r\n      </g>\r\n     </g>\r\n     <g id=\"text_13\">\r\n      <!-- 1500 -->\r\n      <g transform=\"translate(7.2 125.853825)scale(0.1 -0.1)\">\r\n       <use xlink:href=\"#DejaVuSans-49\"/>\r\n       <use x=\"63.623047\" xlink:href=\"#DejaVuSans-53\"/>\r\n       <use x=\"127.246094\" xlink:href=\"#DejaVuSans-48\"/>\r\n       <use x=\"190.869141\" xlink:href=\"#DejaVuSans-48\"/>\r\n      </g>\r\n     </g>\r\n    </g>\r\n    <g id=\"ytick_5\">\r\n     <g id=\"line2d_25\">\r\n      <path clip-path=\"url(#pe2c7243b95)\" d=\"M 39.65 87.859475 \r\nL 374.45 87.859475 \r\n\" style=\"fill:none;stroke:#b0b0b0;stroke-linecap:square;stroke-width:0.8;\"/>\r\n     </g>\r\n     <g id=\"line2d_26\">\r\n      <g>\r\n       <use style=\"stroke:#000000;stroke-width:0.8;\" x=\"39.65\" xlink:href=\"#mc8b5ce6835\" y=\"87.859475\"/>\r\n      </g>\r\n     </g>\r\n     <g id=\"text_14\">\r\n      <!-- 2000 -->\r\n      <g transform=\"translate(7.2 91.658694)scale(0.1 -0.1)\">\r\n       <use xlink:href=\"#DejaVuSans-50\"/>\r\n       <use x=\"63.623047\" xlink:href=\"#DejaVuSans-48\"/>\r\n       <use x=\"127.246094\" xlink:href=\"#DejaVuSans-48\"/>\r\n       <use x=\"190.869141\" xlink:href=\"#DejaVuSans-48\"/>\r\n      </g>\r\n     </g>\r\n    </g>\r\n    <g id=\"ytick_6\">\r\n     <g id=\"line2d_27\">\r\n      <path clip-path=\"url(#pe2c7243b95)\" d=\"M 39.65 53.664344 \r\nL 374.45 53.664344 \r\n\" style=\"fill:none;stroke:#b0b0b0;stroke-linecap:square;stroke-width:0.8;\"/>\r\n     </g>\r\n     <g id=\"line2d_28\">\r\n      <g>\r\n       <use style=\"stroke:#000000;stroke-width:0.8;\" x=\"39.65\" xlink:href=\"#mc8b5ce6835\" y=\"53.664344\"/>\r\n      </g>\r\n     </g>\r\n     <g id=\"text_15\">\r\n      <!-- 2500 -->\r\n      <g transform=\"translate(7.2 57.463563)scale(0.1 -0.1)\">\r\n       <use xlink:href=\"#DejaVuSans-50\"/>\r\n       <use x=\"63.623047\" xlink:href=\"#DejaVuSans-53\"/>\r\n       <use x=\"127.246094\" xlink:href=\"#DejaVuSans-48\"/>\r\n       <use x=\"190.869141\" xlink:href=\"#DejaVuSans-48\"/>\r\n      </g>\r\n     </g>\r\n    </g>\r\n    <g id=\"ytick_7\">\r\n     <g id=\"line2d_29\">\r\n      <path clip-path=\"url(#pe2c7243b95)\" d=\"M 39.65 19.469213 \r\nL 374.45 19.469213 \r\n\" style=\"fill:none;stroke:#b0b0b0;stroke-linecap:square;stroke-width:0.8;\"/>\r\n     </g>\r\n     <g id=\"line2d_30\">\r\n      <g>\r\n       <use style=\"stroke:#000000;stroke-width:0.8;\" x=\"39.65\" xlink:href=\"#mc8b5ce6835\" y=\"19.469213\"/>\r\n      </g>\r\n     </g>\r\n     <g id=\"text_16\">\r\n      <!-- 3000 -->\r\n      <g transform=\"translate(7.2 23.268432)scale(0.1 -0.1)\">\r\n       <use xlink:href=\"#DejaVuSans-51\"/>\r\n       <use x=\"63.623047\" xlink:href=\"#DejaVuSans-48\"/>\r\n       <use x=\"127.246094\" xlink:href=\"#DejaVuSans-48\"/>\r\n       <use x=\"190.869141\" xlink:href=\"#DejaVuSans-48\"/>\r\n      </g>\r\n     </g>\r\n    </g>\r\n   </g>\r\n   <g id=\"patch_13\">\r\n    <path d=\"M 39.65 224.64 \r\nL 39.65 7.2 \r\n\" style=\"fill:none;stroke:#000000;stroke-linecap:square;stroke-linejoin:miter;stroke-width:0.8;\"/>\r\n   </g>\r\n   <g id=\"patch_14\">\r\n    <path d=\"M 374.45 224.64 \r\nL 374.45 7.2 \r\n\" style=\"fill:none;stroke:#000000;stroke-linecap:square;stroke-linejoin:miter;stroke-width:0.8;\"/>\r\n   </g>\r\n   <g id=\"patch_15\">\r\n    <path d=\"M 39.65 224.64 \r\nL 374.45 224.64 \r\n\" style=\"fill:none;stroke:#000000;stroke-linecap:square;stroke-linejoin:miter;stroke-width:0.8;\"/>\r\n   </g>\r\n   <g id=\"patch_16\">\r\n    <path d=\"M 39.65 7.2 \r\nL 374.45 7.2 \r\n\" style=\"fill:none;stroke:#000000;stroke-linecap:square;stroke-linejoin:miter;stroke-width:0.8;\"/>\r\n   </g>\r\n  </g>\r\n </g>\r\n <defs>\r\n  <clipPath id=\"pe2c7243b95\">\r\n   <rect height=\"217.44\" width=\"334.8\" x=\"39.65\" y=\"7.2\"/>\r\n  </clipPath>\r\n </defs>\r\n</svg>\r\n",
      "image/png": "[encoded data removed]"
     },
     "metadata": {
      "needs_background": "light"
     }
    }
   ],
   "source": [
    "dfPureCars.sale_price.hist()\n",
    "# ↓↓ Gerar um histograma da variável target (sale_price) sem qualquer tratamento\n",
    "# ↓↓ Generate a histogram of the target variable (sale_price) without any treatment\n"
   ]
  },
  {
   "cell_type": "code",
   "execution_count": 34,
   "metadata": {},
   "outputs": [],
   "source": [
    "# Aplicação de um regualização de Log na coluna target, gerando um outro coluna\n",
    "# Applying a Log regularization on the target column, generating another column\n",
    "dfPureCars['sale_price_log'] = np.log1p(dfPureCars['sale_price'])"
   ]
  },
  {
   "cell_type": "code",
   "execution_count": 35,
   "metadata": {},
   "outputs": [
    {
     "output_type": "execute_result",
     "data": {
      "text/plain": [
       "<AxesSubplot:>"
      ]
     },
     "metadata": {},
     "execution_count": 35
    },
    {
     "output_type": "display_data",
     "data": {
      "text/plain": "<Figure size 432x288 with 1 Axes>",
      "image/svg+xml": "<?xml version=\"1.0\" encoding=\"utf-8\" standalone=\"no\"?>\r\n<!DOCTYPE svg PUBLIC \"-//W3C//DTD SVG 1.1//EN\"\r\n  \"http://www.w3.org/Graphics/SVG/1.1/DTD/svg11.dtd\">\r\n<!-- Created with matplotlib (https://matplotlib.org/) -->\r\n<svg height=\"248.518125pt\" version=\"1.1\" viewBox=\"0 0 381.65 248.518125\" width=\"381.65pt\" xmlns=\"http://www.w3.org/2000/svg\" xmlns:xlink=\"http://www.w3.org/1999/xlink\">\r\n <metadata>\r\n  <rdf:RDF xmlns:cc=\"http://creativecommons.org/ns#\" xmlns:dc=\"http://purl.org/dc/elements/1.1/\" xmlns:rdf=\"http://www.w3.org/1999/02/22-rdf-syntax-ns#\">\r\n   <cc:Work>\r\n    <dc:type rdf:resource=\"http://purl.org/dc/dcmitype/StillImage\"/>\r\n    <dc:date>2021-07-16T10:06:55.532600</dc:date>\r\n    <dc:format>image/svg+xml</dc:format>\r\n    <dc:creator>\r\n     <cc:Agent>\r\n      <dc:title>Matplotlib v3.3.4, https://matplotlib.org/</dc:title>\r\n     </cc:Agent>\r\n    </dc:creator>\r\n   </cc:Work>\r\n  </rdf:RDF>\r\n </metadata>\r\n <defs>\r\n  <style type=\"text/css\">*{stroke-linecap:butt;stroke-linejoin:round;}</style>\r\n </defs>\r\n <g id=\"figure_1\">\r\n  <g id=\"patch_1\">\r\n   <path d=\"M -0 248.518125 \r\nL 381.65 248.518125 \r\nL 381.65 0 \r\nL -0 0 \r\nz\r\n\" style=\"fill:none;\"/>\r\n  </g>\r\n  <g id=\"axes_1\">\r\n   <g id=\"patch_2\">\r\n    <path d=\"M 39.65 224.64 \r\nL 374.45 224.64 \r\nL 374.45 7.2 \r\nL 39.65 7.2 \r\nz\r\n\" style=\"fill:#ffffff;\"/>\r\n   </g>\r\n   <g id=\"patch_3\">\r\n    <path clip-path=\"url(#pe58f54518a)\" d=\"M 54.868182 224.64 \r\nL 85.304545 224.64 \r\nL 85.304545 224.232511 \r\nL 54.868182 224.232511 \r\nz\r\n\" style=\"fill:#1f77b4;\"/>\r\n   </g>\r\n   <g id=\"patch_4\">\r\n    <path clip-path=\"url(#pe58f54518a)\" d=\"M 85.304545 224.64 \r\nL 115.740909 224.64 \r\nL 115.740909 223.010046 \r\nL 85.304545 223.010046 \r\nz\r\n\" style=\"fill:#1f77b4;\"/>\r\n   </g>\r\n   <g id=\"patch_5\">\r\n    <path clip-path=\"url(#pe58f54518a)\" d=\"M 115.740909 224.64 \r\nL 146.177273 224.64 \r\nL 146.177273 221.624584 \r\nL 115.740909 221.624584 \r\nz\r\n\" style=\"fill:#1f77b4;\"/>\r\n   </g>\r\n   <g id=\"patch_6\">\r\n    <path clip-path=\"url(#pe58f54518a)\" d=\"M 146.177273 224.64 \r\nL 176.613636 224.64 \r\nL 176.613636 213.311816 \r\nL 146.177273 213.311816 \r\nz\r\n\" style=\"fill:#1f77b4;\"/>\r\n   </g>\r\n   <g id=\"patch_7\">\r\n    <path clip-path=\"url(#pe58f54518a)\" d=\"M 176.613636 224.64 \r\nL 207.05 224.64 \r\nL 207.05 131.732596 \r\nL 176.613636 131.732596 \r\nz\r\n\" style=\"fill:#1f77b4;\"/>\r\n   </g>\r\n   <g id=\"patch_8\">\r\n    <path clip-path=\"url(#pe58f54518a)\" d=\"M 207.05 224.64 \r\nL 237.486364 224.64 \r\nL 237.486364 17.554286 \r\nL 207.05 17.554286 \r\nz\r\n\" style=\"fill:#1f77b4;\"/>\r\n   </g>\r\n   <g id=\"patch_9\">\r\n    <path clip-path=\"url(#pe58f54518a)\" d=\"M 237.486364 224.64 \r\nL 267.922727 224.64 \r\nL 267.922727 99.378 \r\nL 237.486364 99.378 \r\nz\r\n\" style=\"fill:#1f77b4;\"/>\r\n   </g>\r\n   <g id=\"patch_10\">\r\n    <path clip-path=\"url(#pe58f54518a)\" d=\"M 267.922727 224.64 \r\nL 298.359091 224.64 \r\nL 298.359091 192.692893 \r\nL 267.922727 192.692893 \r\nz\r\n\" style=\"fill:#1f77b4;\"/>\r\n   </g>\r\n   <g id=\"patch_11\">\r\n    <path clip-path=\"url(#pe58f54518a)\" d=\"M 298.359091 224.64 \r\nL 328.795455 224.64 \r\nL 328.795455 216.571725 \r\nL 298.359091 216.571725 \r\nz\r\n\" style=\"fill:#1f77b4;\"/>\r\n   </g>\r\n   <g id=\"patch_12\">\r\n    <path clip-path=\"url(#pe58f54518a)\" d=\"M 328.795455 224.64 \r\nL 359.231818 224.64 \r\nL 359.231818 224.069516 \r\nL 328.795455 224.069516 \r\nz\r\n\" style=\"fill:#1f77b4;\"/>\r\n   </g>\r\n   <g id=\"matplotlib.axis_1\">\r\n    <g id=\"xtick_1\">\r\n     <g id=\"line2d_1\">\r\n      <path clip-path=\"url(#pe58f54518a)\" d=\"M 60.521982 224.64 \r\nL 60.521982 7.2 \r\n\" style=\"fill:none;stroke:#b0b0b0;stroke-linecap:square;stroke-width:0.8;\"/>\r\n     </g>\r\n     <g id=\"line2d_2\">\r\n      <defs>\r\n       <path d=\"M 0 0 \r\nL 0 3.5 \r\n\" id=\"m8970f300ed\" style=\"stroke:#000000;stroke-width:0.8;\"/>\r\n      </defs>\r\n      <g>\r\n       <use style=\"stroke:#000000;stroke-width:0.8;\" x=\"60.521982\" xlink:href=\"#m8970f300ed\" y=\"224.64\"/>\r\n      </g>\r\n     </g>\r\n     <g id=\"text_1\">\r\n      <!-- 10 -->\r\n      <g transform=\"translate(54.159482 239.238437)scale(0.1 -0.1)\">\r\n       <defs>\r\n        <path d=\"M 12.40625 8.296875 \r\nL 28.515625 8.296875 \r\nL 28.515625 63.921875 \r\nL 10.984375 60.40625 \r\nL 10.984375 69.390625 \r\nL 28.421875 72.90625 \r\nL 38.28125 72.90625 \r\nL 38.28125 8.296875 \r\nL 54.390625 8.296875 \r\nL 54.390625 0 \r\nL 12.40625 0 \r\nz\r\n\" id=\"DejaVuSans-49\"/>\r\n        <path d=\"M 31.78125 66.40625 \r\nQ 24.171875 66.40625 20.328125 58.90625 \r\nQ 16.5 51.421875 16.5 36.375 \r\nQ 16.5 21.390625 20.328125 13.890625 \r\nQ 24.171875 6.390625 31.78125 6.390625 \r\nQ 39.453125 6.390625 43.28125 13.890625 \r\nQ 47.125 21.390625 47.125 36.375 \r\nQ 47.125 51.421875 43.28125 58.90625 \r\nQ 39.453125 66.40625 31.78125 66.40625 \r\nz\r\nM 31.78125 74.21875 \r\nQ 44.046875 74.21875 50.515625 64.515625 \r\nQ 56.984375 54.828125 56.984375 36.375 \r\nQ 56.984375 17.96875 50.515625 8.265625 \r\nQ 44.046875 -1.421875 31.78125 -1.421875 \r\nQ 19.53125 -1.421875 13.0625 8.265625 \r\nQ 6.59375 17.96875 6.59375 36.375 \r\nQ 6.59375 54.828125 13.0625 64.515625 \r\nQ 19.53125 74.21875 31.78125 74.21875 \r\nz\r\n\" id=\"DejaVuSans-48\"/>\r\n       </defs>\r\n       <use xlink:href=\"#DejaVuSans-49\"/>\r\n       <use x=\"63.623047\" xlink:href=\"#DejaVuSans-48\"/>\r\n      </g>\r\n     </g>\r\n    </g>\r\n    <g id=\"xtick_2\">\r\n     <g id=\"line2d_3\">\r\n      <path clip-path=\"url(#pe58f54518a)\" d=\"M 119.133398 224.64 \r\nL 119.133398 7.2 \r\n\" style=\"fill:none;stroke:#b0b0b0;stroke-linecap:square;stroke-width:0.8;\"/>\r\n     </g>\r\n     <g id=\"line2d_4\">\r\n      <g>\r\n       <use style=\"stroke:#000000;stroke-width:0.8;\" x=\"119.133398\" xlink:href=\"#m8970f300ed\" y=\"224.64\"/>\r\n      </g>\r\n     </g>\r\n     <g id=\"text_2\">\r\n      <!-- 11 -->\r\n      <g transform=\"translate(112.770898 239.238437)scale(0.1 -0.1)\">\r\n       <use xlink:href=\"#DejaVuSans-49\"/>\r\n       <use x=\"63.623047\" xlink:href=\"#DejaVuSans-49\"/>\r\n      </g>\r\n     </g>\r\n    </g>\r\n    <g id=\"xtick_3\">\r\n     <g id=\"line2d_5\">\r\n      <path clip-path=\"url(#pe58f54518a)\" d=\"M 177.744813 224.64 \r\nL 177.744813 7.2 \r\n\" style=\"fill:none;stroke:#b0b0b0;stroke-linecap:square;stroke-width:0.8;\"/>\r\n     </g>\r\n     <g id=\"line2d_6\">\r\n      <g>\r\n       <use style=\"stroke:#000000;stroke-width:0.8;\" x=\"177.744813\" xlink:href=\"#m8970f300ed\" y=\"224.64\"/>\r\n      </g>\r\n     </g>\r\n     <g id=\"text_3\">\r\n      <!-- 12 -->\r\n      <g transform=\"translate(171.382313 239.238437)scale(0.1 -0.1)\">\r\n       <defs>\r\n        <path d=\"M 19.1875 8.296875 \r\nL 53.609375 8.296875 \r\nL 53.609375 0 \r\nL 7.328125 0 \r\nL 7.328125 8.296875 \r\nQ 12.9375 14.109375 22.625 23.890625 \r\nQ 32.328125 33.6875 34.8125 36.53125 \r\nQ 39.546875 41.84375 41.421875 45.53125 \r\nQ 43.3125 49.21875 43.3125 52.78125 \r\nQ 43.3125 58.59375 39.234375 62.25 \r\nQ 35.15625 65.921875 28.609375 65.921875 \r\nQ 23.96875 65.921875 18.8125 64.3125 \r\nQ 13.671875 62.703125 7.8125 59.421875 \r\nL 7.8125 69.390625 \r\nQ 13.765625 71.78125 18.9375 73 \r\nQ 24.125 74.21875 28.421875 74.21875 \r\nQ 39.75 74.21875 46.484375 68.546875 \r\nQ 53.21875 62.890625 53.21875 53.421875 \r\nQ 53.21875 48.921875 51.53125 44.890625 \r\nQ 49.859375 40.875 45.40625 35.40625 \r\nQ 44.1875 33.984375 37.640625 27.21875 \r\nQ 31.109375 20.453125 19.1875 8.296875 \r\nz\r\n\" id=\"DejaVuSans-50\"/>\r\n       </defs>\r\n       <use xlink:href=\"#DejaVuSans-49\"/>\r\n       <use x=\"63.623047\" xlink:href=\"#DejaVuSans-50\"/>\r\n      </g>\r\n     </g>\r\n    </g>\r\n    <g id=\"xtick_4\">\r\n     <g id=\"line2d_7\">\r\n      <path clip-path=\"url(#pe58f54518a)\" d=\"M 236.356228 224.64 \r\nL 236.356228 7.2 \r\n\" style=\"fill:none;stroke:#b0b0b0;stroke-linecap:square;stroke-width:0.8;\"/>\r\n     </g>\r\n     <g id=\"line2d_8\">\r\n      <g>\r\n       <use style=\"stroke:#000000;stroke-width:0.8;\" x=\"236.356228\" xlink:href=\"#m8970f300ed\" y=\"224.64\"/>\r\n      </g>\r\n     </g>\r\n     <g id=\"text_4\">\r\n      <!-- 13 -->\r\n      <g transform=\"translate(229.993728 239.238437)scale(0.1 -0.1)\">\r\n       <defs>\r\n        <path d=\"M 40.578125 39.3125 \r\nQ 47.65625 37.796875 51.625 33 \r\nQ 55.609375 28.21875 55.609375 21.1875 \r\nQ 55.609375 10.40625 48.1875 4.484375 \r\nQ 40.765625 -1.421875 27.09375 -1.421875 \r\nQ 22.515625 -1.421875 17.65625 -0.515625 \r\nQ 12.796875 0.390625 7.625 2.203125 \r\nL 7.625 11.71875 \r\nQ 11.71875 9.328125 16.59375 8.109375 \r\nQ 21.484375 6.890625 26.8125 6.890625 \r\nQ 36.078125 6.890625 40.9375 10.546875 \r\nQ 45.796875 14.203125 45.796875 21.1875 \r\nQ 45.796875 27.640625 41.28125 31.265625 \r\nQ 36.765625 34.90625 28.71875 34.90625 \r\nL 20.21875 34.90625 \r\nL 20.21875 43.015625 \r\nL 29.109375 43.015625 \r\nQ 36.375 43.015625 40.234375 45.921875 \r\nQ 44.09375 48.828125 44.09375 54.296875 \r\nQ 44.09375 59.90625 40.109375 62.90625 \r\nQ 36.140625 65.921875 28.71875 65.921875 \r\nQ 24.65625 65.921875 20.015625 65.03125 \r\nQ 15.375 64.15625 9.8125 62.3125 \r\nL 9.8125 71.09375 \r\nQ 15.4375 72.65625 20.34375 73.4375 \r\nQ 25.25 74.21875 29.59375 74.21875 \r\nQ 40.828125 74.21875 47.359375 69.109375 \r\nQ 53.90625 64.015625 53.90625 55.328125 \r\nQ 53.90625 49.265625 50.4375 45.09375 \r\nQ 46.96875 40.921875 40.578125 39.3125 \r\nz\r\n\" id=\"DejaVuSans-51\"/>\r\n       </defs>\r\n       <use xlink:href=\"#DejaVuSans-49\"/>\r\n       <use x=\"63.623047\" xlink:href=\"#DejaVuSans-51\"/>\r\n      </g>\r\n     </g>\r\n    </g>\r\n    <g id=\"xtick_5\">\r\n     <g id=\"line2d_9\">\r\n      <path clip-path=\"url(#pe58f54518a)\" d=\"M 294.967644 224.64 \r\nL 294.967644 7.2 \r\n\" style=\"fill:none;stroke:#b0b0b0;stroke-linecap:square;stroke-width:0.8;\"/>\r\n     </g>\r\n     <g id=\"line2d_10\">\r\n      <g>\r\n       <use style=\"stroke:#000000;stroke-width:0.8;\" x=\"294.967644\" xlink:href=\"#m8970f300ed\" y=\"224.64\"/>\r\n      </g>\r\n     </g>\r\n     <g id=\"text_5\">\r\n      <!-- 14 -->\r\n      <g transform=\"translate(288.605144 239.238437)scale(0.1 -0.1)\">\r\n       <defs>\r\n        <path d=\"M 37.796875 64.3125 \r\nL 12.890625 25.390625 \r\nL 37.796875 25.390625 \r\nz\r\nM 35.203125 72.90625 \r\nL 47.609375 72.90625 \r\nL 47.609375 25.390625 \r\nL 58.015625 25.390625 \r\nL 58.015625 17.1875 \r\nL 47.609375 17.1875 \r\nL 47.609375 0 \r\nL 37.796875 0 \r\nL 37.796875 17.1875 \r\nL 4.890625 17.1875 \r\nL 4.890625 26.703125 \r\nz\r\n\" id=\"DejaVuSans-52\"/>\r\n       </defs>\r\n       <use xlink:href=\"#DejaVuSans-49\"/>\r\n       <use x=\"63.623047\" xlink:href=\"#DejaVuSans-52\"/>\r\n      </g>\r\n     </g>\r\n    </g>\r\n    <g id=\"xtick_6\">\r\n     <g id=\"line2d_11\">\r\n      <path clip-path=\"url(#pe58f54518a)\" d=\"M 353.579059 224.64 \r\nL 353.579059 7.2 \r\n\" style=\"fill:none;stroke:#b0b0b0;stroke-linecap:square;stroke-width:0.8;\"/>\r\n     </g>\r\n     <g id=\"line2d_12\">\r\n      <g>\r\n       <use style=\"stroke:#000000;stroke-width:0.8;\" x=\"353.579059\" xlink:href=\"#m8970f300ed\" y=\"224.64\"/>\r\n      </g>\r\n     </g>\r\n     <g id=\"text_6\">\r\n      <!-- 15 -->\r\n      <g transform=\"translate(347.216559 239.238437)scale(0.1 -0.1)\">\r\n       <defs>\r\n        <path d=\"M 10.796875 72.90625 \r\nL 49.515625 72.90625 \r\nL 49.515625 64.59375 \r\nL 19.828125 64.59375 \r\nL 19.828125 46.734375 \r\nQ 21.96875 47.46875 24.109375 47.828125 \r\nQ 26.265625 48.1875 28.421875 48.1875 \r\nQ 40.625 48.1875 47.75 41.5 \r\nQ 54.890625 34.8125 54.890625 23.390625 \r\nQ 54.890625 11.625 47.5625 5.09375 \r\nQ 40.234375 -1.421875 26.90625 -1.421875 \r\nQ 22.3125 -1.421875 17.546875 -0.640625 \r\nQ 12.796875 0.140625 7.71875 1.703125 \r\nL 7.71875 11.625 \r\nQ 12.109375 9.234375 16.796875 8.0625 \r\nQ 21.484375 6.890625 26.703125 6.890625 \r\nQ 35.15625 6.890625 40.078125 11.328125 \r\nQ 45.015625 15.765625 45.015625 23.390625 \r\nQ 45.015625 31 40.078125 35.4375 \r\nQ 35.15625 39.890625 26.703125 39.890625 \r\nQ 22.75 39.890625 18.8125 39.015625 \r\nQ 14.890625 38.140625 10.796875 36.28125 \r\nz\r\n\" id=\"DejaVuSans-53\"/>\r\n       </defs>\r\n       <use xlink:href=\"#DejaVuSans-49\"/>\r\n       <use x=\"63.623047\" xlink:href=\"#DejaVuSans-53\"/>\r\n      </g>\r\n     </g>\r\n    </g>\r\n   </g>\r\n   <g id=\"matplotlib.axis_2\">\r\n    <g id=\"ytick_1\">\r\n     <g id=\"line2d_13\">\r\n      <path clip-path=\"url(#pe58f54518a)\" d=\"M 39.65 224.64 \r\nL 374.45 224.64 \r\n\" style=\"fill:none;stroke:#b0b0b0;stroke-linecap:square;stroke-width:0.8;\"/>\r\n     </g>\r\n     <g id=\"line2d_14\">\r\n      <defs>\r\n       <path d=\"M 0 0 \r\nL -3.5 0 \r\n\" id=\"mac328f7c54\" style=\"stroke:#000000;stroke-width:0.8;\"/>\r\n      </defs>\r\n      <g>\r\n       <use style=\"stroke:#000000;stroke-width:0.8;\" x=\"39.65\" xlink:href=\"#mac328f7c54\" y=\"224.64\"/>\r\n      </g>\r\n     </g>\r\n     <g id=\"text_7\">\r\n      <!-- 0 -->\r\n      <g transform=\"translate(26.2875 228.439219)scale(0.1 -0.1)\">\r\n       <use xlink:href=\"#DejaVuSans-48\"/>\r\n      </g>\r\n     </g>\r\n    </g>\r\n    <g id=\"ytick_2\">\r\n     <g id=\"line2d_15\">\r\n      <path clip-path=\"url(#pe58f54518a)\" d=\"M 39.65 183.891138 \r\nL 374.45 183.891138 \r\n\" style=\"fill:none;stroke:#b0b0b0;stroke-linecap:square;stroke-width:0.8;\"/>\r\n     </g>\r\n     <g id=\"line2d_16\">\r\n      <g>\r\n       <use style=\"stroke:#000000;stroke-width:0.8;\" x=\"39.65\" xlink:href=\"#mac328f7c54\" y=\"183.891138\"/>\r\n      </g>\r\n     </g>\r\n     <g id=\"text_8\">\r\n      <!-- 500 -->\r\n      <g transform=\"translate(13.5625 187.690357)scale(0.1 -0.1)\">\r\n       <use xlink:href=\"#DejaVuSans-53\"/>\r\n       <use x=\"63.623047\" xlink:href=\"#DejaVuSans-48\"/>\r\n       <use x=\"127.246094\" xlink:href=\"#DejaVuSans-48\"/>\r\n      </g>\r\n     </g>\r\n    </g>\r\n    <g id=\"ytick_3\">\r\n     <g id=\"line2d_17\">\r\n      <path clip-path=\"url(#pe58f54518a)\" d=\"M 39.65 143.142277 \r\nL 374.45 143.142277 \r\n\" style=\"fill:none;stroke:#b0b0b0;stroke-linecap:square;stroke-width:0.8;\"/>\r\n     </g>\r\n     <g id=\"line2d_18\">\r\n      <g>\r\n       <use style=\"stroke:#000000;stroke-width:0.8;\" x=\"39.65\" xlink:href=\"#mac328f7c54\" y=\"143.142277\"/>\r\n      </g>\r\n     </g>\r\n     <g id=\"text_9\">\r\n      <!-- 1000 -->\r\n      <g transform=\"translate(7.2 146.941496)scale(0.1 -0.1)\">\r\n       <use xlink:href=\"#DejaVuSans-49\"/>\r\n       <use x=\"63.623047\" xlink:href=\"#DejaVuSans-48\"/>\r\n       <use x=\"127.246094\" xlink:href=\"#DejaVuSans-48\"/>\r\n       <use x=\"190.869141\" xlink:href=\"#DejaVuSans-48\"/>\r\n      </g>\r\n     </g>\r\n    </g>\r\n    <g id=\"ytick_4\">\r\n     <g id=\"line2d_19\">\r\n      <path clip-path=\"url(#pe58f54518a)\" d=\"M 39.65 102.393415 \r\nL 374.45 102.393415 \r\n\" style=\"fill:none;stroke:#b0b0b0;stroke-linecap:square;stroke-width:0.8;\"/>\r\n     </g>\r\n     <g id=\"line2d_20\">\r\n      <g>\r\n       <use style=\"stroke:#000000;stroke-width:0.8;\" x=\"39.65\" xlink:href=\"#mac328f7c54\" y=\"102.393415\"/>\r\n      </g>\r\n     </g>\r\n     <g id=\"text_10\">\r\n      <!-- 1500 -->\r\n      <g transform=\"translate(7.2 106.192634)scale(0.1 -0.1)\">\r\n       <use xlink:href=\"#DejaVuSans-49\"/>\r\n       <use x=\"63.623047\" xlink:href=\"#DejaVuSans-53\"/>\r\n       <use x=\"127.246094\" xlink:href=\"#DejaVuSans-48\"/>\r\n       <use x=\"190.869141\" xlink:href=\"#DejaVuSans-48\"/>\r\n      </g>\r\n     </g>\r\n    </g>\r\n    <g id=\"ytick_5\">\r\n     <g id=\"line2d_21\">\r\n      <path clip-path=\"url(#pe58f54518a)\" d=\"M 39.65 61.644554 \r\nL 374.45 61.644554 \r\n\" style=\"fill:none;stroke:#b0b0b0;stroke-linecap:square;stroke-width:0.8;\"/>\r\n     </g>\r\n     <g id=\"line2d_22\">\r\n      <g>\r\n       <use style=\"stroke:#000000;stroke-width:0.8;\" x=\"39.65\" xlink:href=\"#mac328f7c54\" y=\"61.644554\"/>\r\n      </g>\r\n     </g>\r\n     <g id=\"text_11\">\r\n      <!-- 2000 -->\r\n      <g transform=\"translate(7.2 65.443773)scale(0.1 -0.1)\">\r\n       <use xlink:href=\"#DejaVuSans-50\"/>\r\n       <use x=\"63.623047\" xlink:href=\"#DejaVuSans-48\"/>\r\n       <use x=\"127.246094\" xlink:href=\"#DejaVuSans-48\"/>\r\n       <use x=\"190.869141\" xlink:href=\"#DejaVuSans-48\"/>\r\n      </g>\r\n     </g>\r\n    </g>\r\n    <g id=\"ytick_6\">\r\n     <g id=\"line2d_23\">\r\n      <path clip-path=\"url(#pe58f54518a)\" d=\"M 39.65 20.895692 \r\nL 374.45 20.895692 \r\n\" style=\"fill:none;stroke:#b0b0b0;stroke-linecap:square;stroke-width:0.8;\"/>\r\n     </g>\r\n     <g id=\"line2d_24\">\r\n      <g>\r\n       <use style=\"stroke:#000000;stroke-width:0.8;\" x=\"39.65\" xlink:href=\"#mac328f7c54\" y=\"20.895692\"/>\r\n      </g>\r\n     </g>\r\n     <g id=\"text_12\">\r\n      <!-- 2500 -->\r\n      <g transform=\"translate(7.2 24.694911)scale(0.1 -0.1)\">\r\n       <use xlink:href=\"#DejaVuSans-50\"/>\r\n       <use x=\"63.623047\" xlink:href=\"#DejaVuSans-53\"/>\r\n       <use x=\"127.246094\" xlink:href=\"#DejaVuSans-48\"/>\r\n       <use x=\"190.869141\" xlink:href=\"#DejaVuSans-48\"/>\r\n      </g>\r\n     </g>\r\n    </g>\r\n   </g>\r\n   <g id=\"patch_13\">\r\n    <path d=\"M 39.65 224.64 \r\nL 39.65 7.2 \r\n\" style=\"fill:none;stroke:#000000;stroke-linecap:square;stroke-linejoin:miter;stroke-width:0.8;\"/>\r\n   </g>\r\n   <g id=\"patch_14\">\r\n    <path d=\"M 374.45 224.64 \r\nL 374.45 7.2 \r\n\" style=\"fill:none;stroke:#000000;stroke-linecap:square;stroke-linejoin:miter;stroke-width:0.8;\"/>\r\n   </g>\r\n   <g id=\"patch_15\">\r\n    <path d=\"M 39.65 224.64 \r\nL 374.45 224.64 \r\n\" style=\"fill:none;stroke:#000000;stroke-linecap:square;stroke-linejoin:miter;stroke-width:0.8;\"/>\r\n   </g>\r\n   <g id=\"patch_16\">\r\n    <path d=\"M 39.65 7.2 \r\nL 374.45 7.2 \r\n\" style=\"fill:none;stroke:#000000;stroke-linecap:square;stroke-linejoin:miter;stroke-width:0.8;\"/>\r\n   </g>\r\n  </g>\r\n </g>\r\n <defs>\r\n  <clipPath id=\"pe58f54518a\">\r\n   <rect height=\"217.44\" width=\"334.8\" x=\"39.65\" y=\"7.2\"/>\r\n  </clipPath>\r\n </defs>\r\n</svg>\r\n",
      "image/png": "[encoded data removed]"
     },
     "metadata": {
      "needs_background": "light"
     }
    }
   ],
   "source": [
    "dfPureCars['sale_price_log'].hist()\n",
    "# ↓↓ Gerar um histograma da variável target (sale_price) com aplicação de regularização de log\n",
    "#  →→ Podermos ver como fivou parecido como uma distribuição normal ←←\n",
    "\n",
    "# ↓↓ Generate a histogram of the target variable (sale_price) with application of log regularization\n",
    "# →→ We can see how it looks like a normal distribution ←←"
   ]
  },
  {
   "source": [
    "# Categorização das Colunas\n",
    "# Column Categorization"
   ],
   "cell_type": "markdown",
   "metadata": {}
  },
  {
   "cell_type": "code",
   "execution_count": 36,
   "metadata": {},
   "outputs": [
    {
     "output_type": "execute_result",
     "data": {
      "text/plain": [
       "Index(['car_name', 'yr_mfr', 'fuel_type', 'kms_run', 'sale_price', 'city',\n",
       "       'body_type', 'transmission', 'variant', 'assured_buy',\n",
       "       'registered_city', 'registered_state', 'is_hot', 'rto', 'make', 'model',\n",
       "       'total_owners', 'broker_quote', 'sale_price_log'],\n",
       "      dtype='object')"
      ]
     },
     "metadata": {},
     "execution_count": 36
    }
   ],
   "source": [
    "dfPureCars.columns\n",
    "# ↓↓ Lista as colunas do dataframe\n",
    "# ↓↓ Lists dataframe columns"
   ]
  },
  {
   "cell_type": "code",
   "execution_count": 37,
   "metadata": {},
   "outputs": [
    {
     "output_type": "execute_result",
     "data": {
      "text/plain": [
       "car_name             object\n",
       "yr_mfr                int64\n",
       "fuel_type            object\n",
       "kms_run               int64\n",
       "sale_price            int64\n",
       "city                 object\n",
       "body_type            object\n",
       "transmission         object\n",
       "variant              object\n",
       "assured_buy            bool\n",
       "registered_city      object\n",
       "registered_state     object\n",
       "is_hot                 bool\n",
       "rto                  object\n",
       "make                 object\n",
       "model                object\n",
       "total_owners          int64\n",
       "broker_quote          int64\n",
       "sale_price_log      float64\n",
       "dtype: object"
      ]
     },
     "metadata": {},
     "execution_count": 37
    }
   ],
   "source": [
    "dfPureCars.dtypes\n",
    "# ↓↓ Lista os tipos de dados de cada coluna do dataframe\n",
    "# ↓↓ Lists the data types of each column in the dataframe"
   ]
  },
  {
   "cell_type": "code",
   "execution_count": 38,
   "metadata": {},
   "outputs": [],
   "source": [
    "# ↓↓ Transformando as colunas car_name, fuel_type, city, body_type, transmission, variant, assured_buy, registered_city, registered_state, is_hot, rto, make e model EM TIPOS CATEGÓRICOS, ISTO É, CLASSES.\n",
    "\n",
    "# ↓↓ Transforming the car_name, fuel_type, city, body_type, transmission, variant, assured_buy, registered_city, registered_state, is_hot, rto, make, and model columns TO CATEGORICAL TYPES.\n",
    "\n",
    "dfPureCars.car_name = dfPureCars.car_name.astype('category')\n",
    "dfPureCars.fuel_type = dfPureCars.fuel_type.astype('category')\n",
    "dfPureCars.city = dfPureCars.city.astype('category')\n",
    "dfPureCars.body_type = dfPureCars.body_type.astype('category')\n",
    "dfPureCars.transmission = dfPureCars.transmission.astype('category')\n",
    "dfPureCars.variant = dfPureCars.variant.astype('category')\n",
    "dfPureCars.assured_buy = dfPureCars.assured_buy.astype('category')\n",
    "dfPureCars.registered_city = dfPureCars.registered_city.astype('category')\n",
    "dfPureCars.registered_state = dfPureCars.registered_state.astype('category')\n",
    "dfPureCars.is_hot = dfPureCars.is_hot.astype('category')\n",
    "dfPureCars.rto = dfPureCars.rto.astype('category')\n",
    "dfPureCars.make = dfPureCars.make.astype('category')\n",
    "dfPureCars.model = dfPureCars.model.astype('category')\n",
    "\n"
   ]
  },
  {
   "cell_type": "code",
   "execution_count": 39,
   "metadata": {},
   "outputs": [
    {
     "output_type": "execute_result",
     "data": {
      "text/plain": [
       "car_name            category\n",
       "yr_mfr                 int64\n",
       "fuel_type           category\n",
       "kms_run                int64\n",
       "sale_price             int64\n",
       "city                category\n",
       "body_type           category\n",
       "transmission        category\n",
       "variant             category\n",
       "assured_buy         category\n",
       "registered_city     category\n",
       "registered_state    category\n",
       "is_hot              category\n",
       "rto                 category\n",
       "make                category\n",
       "model               category\n",
       "total_owners           int64\n",
       "broker_quote           int64\n",
       "sale_price_log       float64\n",
       "dtype: object"
      ]
     },
     "metadata": {},
     "execution_count": 39
    }
   ],
   "source": [
    "dfPureCars.dtypes\n",
    "# ↓↓ Lista os tipos de dados de cada coluna do dataframe\n",
    "# ↓↓ Lists the data types of each column in the dataframe"
   ]
  },
  {
   "cell_type": "code",
   "execution_count": 40,
   "metadata": {},
   "outputs": [],
   "source": [
    "# ↓↓ Para Cada linha de cada coluna categorica, extrair para outra coluna o código da respectiva categoria daquela linha\n",
    "# ↓↓ For each row of each categorical column, extract to another column the code of the respective category of that row\n",
    "\n",
    "dfPureCars['car_name_cat'] = dfPureCars.car_name.cat.codes\n",
    "dfPureCars['fuel_type_cat'] = dfPureCars.fuel_type.cat.codes\n",
    "dfPureCars['city_cat'] = dfPureCars.city.cat.codes\n",
    "dfPureCars['body_type_cat'] = dfPureCars.body_type.cat.codes\n",
    "dfPureCars['transmission_cat'] = dfPureCars.transmission.cat.codes\n",
    "dfPureCars['variant_cat'] = dfPureCars.variant.cat.codes\n",
    "dfPureCars['assured_buy_cat'] = dfPureCars.assured_buy.cat.codes\n",
    "dfPureCars['registered_city_cat'] = dfPureCars.registered_city.cat.codes\n",
    "dfPureCars['registered_state_cat'] = dfPureCars.registered_state.cat.codes\n",
    "dfPureCars['is_hot_cat'] = dfPureCars.is_hot.cat.codes\n",
    "dfPureCars['rto_cat'] = dfPureCars.rto.cat.codes\n",
    "dfPureCars['make_cat'] = dfPureCars.make.cat.codes\n",
    "dfPureCars['model_cat'] = dfPureCars.model.cat.codes"
   ]
  },
  {
   "cell_type": "code",
   "execution_count": 41,
   "metadata": {},
   "outputs": [
    {
     "output_type": "execute_result",
     "data": {
      "text/plain": [
       "               car_name  car_name_cat\n",
       "0          maruti swift            89\n",
       "1       maruti alto 800            75\n",
       "2     hyundai grand i10            44\n",
       "3          maruti swift            89\n",
       "4     hyundai grand i10            44\n",
       "...                 ...           ...\n",
       "6394    toyota fortuner           148\n",
       "6395        hyundai i20            46\n",
       "6396      toyota innova           149\n",
       "6397    tata indica ev2           129\n",
       "6398  hyundai grand i10            44\n",
       "\n",
       "[5917 rows x 2 columns]"
      ],
      "text/html": "<div>\n<style scoped>\n    .dataframe tbody tr th:only-of-type {\n        vertical-align: middle;\n    }\n\n    .dataframe tbody tr th {\n        vertical-align: top;\n    }\n\n    .dataframe thead th {\n        text-align: right;\n    }\n</style>\n<table border=\"1\" class=\"dataframe\">\n  <thead>\n    <tr style=\"text-align: right;\">\n      <th></th>\n      <th>car_name</th>\n      <th>car_name_cat</th>\n    </tr>\n  </thead>\n  <tbody>\n    <tr>\n      <th>0</th>\n      <td>maruti swift</td>\n      <td>89</td>\n    </tr>\n    <tr>\n      <th>1</th>\n      <td>maruti alto 800</td>\n      <td>75</td>\n    </tr>\n    <tr>\n      <th>2</th>\n      <td>hyundai grand i10</td>\n      <td>44</td>\n    </tr>\n    <tr>\n      <th>3</th>\n      <td>maruti swift</td>\n      <td>89</td>\n    </tr>\n    <tr>\n      <th>4</th>\n      <td>hyundai grand i10</td>\n      <td>44</td>\n    </tr>\n    <tr>\n      <th>...</th>\n      <td>...</td>\n      <td>...</td>\n    </tr>\n    <tr>\n      <th>6394</th>\n      <td>toyota fortuner</td>\n      <td>148</td>\n    </tr>\n    <tr>\n      <th>6395</th>\n      <td>hyundai i20</td>\n      <td>46</td>\n    </tr>\n    <tr>\n      <th>6396</th>\n      <td>toyota innova</td>\n      <td>149</td>\n    </tr>\n    <tr>\n      <th>6397</th>\n      <td>tata indica ev2</td>\n      <td>129</td>\n    </tr>\n    <tr>\n      <th>6398</th>\n      <td>hyundai grand i10</td>\n      <td>44</td>\n    </tr>\n  </tbody>\n</table>\n<p>5917 rows × 2 columns</p>\n</div>"
     },
     "metadata": {},
     "execution_count": 41
    }
   ],
   "source": [
    "# ↓↓ Lista coluna car_name e sua respectiva coluna com o código da categoria criada automática baseado nos seus valores únicos\n",
    "# ↓↓ List car_name column and its respective column with auto created category code based on its unique values\n",
    "dfPureCars[['car_name','car_name_cat']]"
   ]
  },
  {
   "cell_type": "code",
   "execution_count": 42,
   "metadata": {},
   "outputs": [
    {
     "output_type": "stream",
     "name": "stdout",
     "text": [
      "<class 'pandas.core.frame.DataFrame'>\nInt64Index: 5917 entries, 0 to 6398\nData columns (total 32 columns):\n #   Column                Non-Null Count  Dtype   \n---  ------                --------------  -----   \n 0   car_name              5917 non-null   category\n 1   yr_mfr                5917 non-null   int64   \n 2   fuel_type             5917 non-null   category\n 3   kms_run               5917 non-null   int64   \n 4   sale_price            5917 non-null   int64   \n 5   city                  5917 non-null   category\n 6   body_type             5917 non-null   category\n 7   transmission          5917 non-null   category\n 8   variant               5917 non-null   category\n 9   assured_buy           5917 non-null   category\n 10  registered_city       5917 non-null   category\n 11  registered_state      5917 non-null   category\n 12  is_hot                5917 non-null   category\n 13  rto                   5917 non-null   category\n 14  make                  5917 non-null   category\n 15  model                 5917 non-null   category\n 16  total_owners          5917 non-null   int64   \n 17  broker_quote          5917 non-null   int64   \n 18  sale_price_log        5917 non-null   float64 \n 19  car_name_cat          5917 non-null   int16   \n 20  fuel_type_cat         5917 non-null   int8    \n 21  city_cat              5917 non-null   int8    \n 22  body_type_cat         5917 non-null   int8    \n 23  transmission_cat      5917 non-null   int8    \n 24  variant_cat           5917 non-null   int16   \n 25  assured_buy_cat       5917 non-null   int8    \n 26  registered_city_cat   5917 non-null   int16   \n 27  registered_state_cat  5917 non-null   int8    \n 28  is_hot_cat            5917 non-null   int8    \n 29  rto_cat               5917 non-null   int16   \n 30  make_cat              5917 non-null   int8    \n 31  model_cat             5917 non-null   int16   \ndtypes: category(13), float64(1), int16(5), int64(5), int8(8)\nmemory usage: 586.4 KB\n"
     ]
    }
   ],
   "source": [
    "# ↓↓ Lista todas as informações do dataframe\n",
    "# ↓↓ List all dataframe information\n",
    "\n",
    "dfPureCars.info()"
   ]
  },
  {
   "cell_type": "code",
   "execution_count": 43,
   "metadata": {},
   "outputs": [],
   "source": [
    "# ↓↓ Criar um dataset apenas com valores numéricos e sem tratamento (normalizaçao) para utilizção nos modelos\n",
    "# ↓↓ Create a dataset with only numeric values and no treatment (normalization) for use in models\n",
    "X = dfPureCars[['car_name_cat','yr_mfr','fuel_type_cat','kms_run','city_cat','body_type_cat','transmission_cat','variant_cat','assured_buy_cat','registered_city_cat','registered_state_cat','is_hot_cat','rto_cat','make_cat','model_cat','total_owners','broker_quote']]\n"
   ]
  },
  {
   "cell_type": "code",
   "execution_count": 44,
   "metadata": {},
   "outputs": [],
   "source": [
    "# ↓↓ Captura todos os valores da variável target (Alvo) para variável Y\n",
    "# ↓↓ Captures all values from variable target to variable Y\n",
    "Y = dfPureCars['sale_price'].values"
   ]
  },
  {
   "cell_type": "code",
   "execution_count": 45,
   "metadata": {},
   "outputs": [
    {
     "output_type": "execute_result",
     "data": {
      "text/plain": [
       "   car_name_cat  yr_mfr  fuel_type_cat  kms_run  city_cat  body_type_cat  \\\n",
       "0            89    2015              2     8063        11              0   \n",
       "1            75    2016              2    23104        11              0   \n",
       "2            44    2017              2    23402        11              0   \n",
       "3            89    2013              0    39124        11              0   \n",
       "4            44    2015              2    22116        11              0   \n",
       "\n",
       "   transmission_cat  variant_cat  assured_buy_cat  registered_city_cat  \\\n",
       "0                 1          416                1                   58   \n",
       "1                 1          409                1                  142   \n",
       "2                 1          491                1                    1   \n",
       "3                 1          550                1                   58   \n",
       "4                 1          427                0                  140   \n",
       "\n",
       "   registered_state_cat  is_hot_cat  rto_cat  make_cat  model_cat  \\\n",
       "0                     3           1       36        12        131   \n",
       "1                    13           1      223        12         10   \n",
       "2                    13           1      237         7         66   \n",
       "3                     3           1       31        12        131   \n",
       "4                     3           1       28         7         66   \n",
       "\n",
       "   total_owners  broker_quote  \n",
       "0             2        397677  \n",
       "1             1        272935  \n",
       "2             1        469605  \n",
       "3             1        294262  \n",
       "4             1        360716  "
      ],
      "text/html": "<div>\n<style scoped>\n    .dataframe tbody tr th:only-of-type {\n        vertical-align: middle;\n    }\n\n    .dataframe tbody tr th {\n        vertical-align: top;\n    }\n\n    .dataframe thead th {\n        text-align: right;\n    }\n</style>\n<table border=\"1\" class=\"dataframe\">\n  <thead>\n    <tr style=\"text-align: right;\">\n      <th></th>\n      <th>car_name_cat</th>\n      <th>yr_mfr</th>\n      <th>fuel_type_cat</th>\n      <th>kms_run</th>\n      <th>city_cat</th>\n      <th>body_type_cat</th>\n      <th>transmission_cat</th>\n      <th>variant_cat</th>\n      <th>assured_buy_cat</th>\n      <th>registered_city_cat</th>\n      <th>registered_state_cat</th>\n      <th>is_hot_cat</th>\n      <th>rto_cat</th>\n      <th>make_cat</th>\n      <th>model_cat</th>\n      <th>total_owners</th>\n      <th>broker_quote</th>\n    </tr>\n  </thead>\n  <tbody>\n    <tr>\n      <th>0</th>\n      <td>89</td>\n      <td>2015</td>\n      <td>2</td>\n      <td>8063</td>\n      <td>11</td>\n      <td>0</td>\n      <td>1</td>\n      <td>416</td>\n      <td>1</td>\n      <td>58</td>\n      <td>3</td>\n      <td>1</td>\n      <td>36</td>\n      <td>12</td>\n      <td>131</td>\n      <td>2</td>\n      <td>397677</td>\n    </tr>\n    <tr>\n      <th>1</th>\n      <td>75</td>\n      <td>2016</td>\n      <td>2</td>\n      <td>23104</td>\n      <td>11</td>\n      <td>0</td>\n      <td>1</td>\n      <td>409</td>\n      <td>1</td>\n      <td>142</td>\n      <td>13</td>\n      <td>1</td>\n      <td>223</td>\n      <td>12</td>\n      <td>10</td>\n      <td>1</td>\n      <td>272935</td>\n    </tr>\n    <tr>\n      <th>2</th>\n      <td>44</td>\n      <td>2017</td>\n      <td>2</td>\n      <td>23402</td>\n      <td>11</td>\n      <td>0</td>\n      <td>1</td>\n      <td>491</td>\n      <td>1</td>\n      <td>1</td>\n      <td>13</td>\n      <td>1</td>\n      <td>237</td>\n      <td>7</td>\n      <td>66</td>\n      <td>1</td>\n      <td>469605</td>\n    </tr>\n    <tr>\n      <th>3</th>\n      <td>89</td>\n      <td>2013</td>\n      <td>0</td>\n      <td>39124</td>\n      <td>11</td>\n      <td>0</td>\n      <td>1</td>\n      <td>550</td>\n      <td>1</td>\n      <td>58</td>\n      <td>3</td>\n      <td>1</td>\n      <td>31</td>\n      <td>12</td>\n      <td>131</td>\n      <td>1</td>\n      <td>294262</td>\n    </tr>\n    <tr>\n      <th>4</th>\n      <td>44</td>\n      <td>2015</td>\n      <td>2</td>\n      <td>22116</td>\n      <td>11</td>\n      <td>0</td>\n      <td>1</td>\n      <td>427</td>\n      <td>0</td>\n      <td>140</td>\n      <td>3</td>\n      <td>1</td>\n      <td>28</td>\n      <td>7</td>\n      <td>66</td>\n      <td>1</td>\n      <td>360716</td>\n    </tr>\n  </tbody>\n</table>\n</div>"
     },
     "metadata": {},
     "execution_count": 45
    }
   ],
   "source": [
    "X.head()\n",
    "# ↓↓ Visualiza as variáveis independentes armazenadas em X\n",
    "# ↓↓ View independent variables stored in X"
   ]
  },
  {
   "cell_type": "code",
   "execution_count": 46,
   "metadata": {},
   "outputs": [
    {
     "output_type": "execute_result",
     "data": {
      "text/plain": [
       "array([386399, 265499, 477699, ..., 415000, 150000, 350000], dtype=int64)"
      ]
     },
     "metadata": {},
     "execution_count": 46
    }
   ],
   "source": [
    "Y\n",
    "# ↓↓ Visualiza os valores da variável dependente Y em formato de Array\n",
    "# ↓↓ Displays dependent variable Y values in Array format"
   ]
  },
  {
   "cell_type": "code",
   "execution_count": 47,
   "metadata": {},
   "outputs": [],
   "source": [
    "# ↓↓ Adicona os valores da variável target no objeto StasModel\n",
    "# ↓↓ Add the target variable values to the StatsModel object\n",
    "Xc = sm.add_constant(Y)\n",
    "# ↓↓ Cria um modelo de regressão linear com StatsModel\n",
    "# ↓↓ Create a linear regression model with StatsModel\n",
    "modelo = sm.OLS(Y,Xc)\n",
    "# ↓↓ Executa o modelo para aprender a relação do variável Target Y (sale_price) e as variáveis independentes de X\n",
    "# ↓↓ Run the model to learn the relationship of the Target variable Y (sale_price) and the independent variables of X\n",
    "modelo_V1 = modelo.fit()"
   ]
  },
  {
   "cell_type": "code",
   "execution_count": 48,
   "metadata": {},
   "outputs": [
    {
     "output_type": "execute_result",
     "data": {
      "text/plain": [
       "<class 'statsmodels.iolib.summary.Summary'>\n",
       "\"\"\"\n",
       "                            OLS Regression Results                            \n",
       "==============================================================================\n",
       "Dep. Variable:                      y   R-squared:                       1.000\n",
       "Model:                            OLS   Adj. R-squared:                  1.000\n",
       "Method:                 Least Squares   F-statistic:                 7.208e+34\n",
       "Date:                Fri, 16 Jul 2021   Prob (F-statistic):               0.00\n",
       "Time:                        10:07:33   Log-Likelihood:             1.2963e+05\n",
       "No. Observations:                5917   AIC:                        -2.592e+05\n",
       "Df Residuals:                    5915   BIC:                        -2.592e+05\n",
       "Df Model:                           1                                         \n",
       "Covariance Type:            nonrobust                                         \n",
       "==============================================================================\n",
       "                 coef    std err          t      P>|t|      [0.025      0.975]\n",
       "------------------------------------------------------------------------------\n",
       "const       7.185e-11   1.89e-12     38.086      0.000    6.82e-11    7.55e-11\n",
       "x1             1.0000   3.72e-18   2.68e+17      0.000       1.000       1.000\n",
       "==============================================================================\n",
       "Omnibus:                      375.892   Durbin-Watson:                   0.247\n",
       "Prob(Omnibus):                  0.000   Jarque-Bera (JB):              457.544\n",
       "Skew:                          -0.630   Prob(JB):                    4.42e-100\n",
       "Kurtosis:                       3.519   Cond. No.                     9.92e+05\n",
       "==============================================================================\n",
       "\n",
       "Notes:\n",
       "[1] Standard Errors assume that the covariance matrix of the errors is correctly specified.\n",
       "[2] The condition number is large, 9.92e+05. This might indicate that there are\n",
       "strong multicollinearity or other numerical problems.\n",
       "\"\"\""
      ],
      "text/html": "<table class=\"simpletable\">\n<caption>OLS Regression Results</caption>\n<tr>\n  <th>Dep. Variable:</th>            <td>y</td>        <th>  R-squared:         </th>  <td>   1.000</td> \n</tr>\n<tr>\n  <th>Model:</th>                   <td>OLS</td>       <th>  Adj. R-squared:    </th>  <td>   1.000</td> \n</tr>\n<tr>\n  <th>Method:</th>             <td>Least Squares</td>  <th>  F-statistic:       </th>  <td>7.208e+34</td>\n</tr>\n<tr>\n  <th>Date:</th>             <td>Fri, 16 Jul 2021</td> <th>  Prob (F-statistic):</th>   <td>  0.00</td>  \n</tr>\n<tr>\n  <th>Time:</th>                 <td>10:07:33</td>     <th>  Log-Likelihood:    </th> <td>1.2963e+05</td>\n</tr>\n<tr>\n  <th>No. Observations:</th>      <td>  5917</td>      <th>  AIC:               </th> <td>-2.592e+05</td>\n</tr>\n<tr>\n  <th>Df Residuals:</th>          <td>  5915</td>      <th>  BIC:               </th> <td>-2.592e+05</td>\n</tr>\n<tr>\n  <th>Df Model:</th>              <td>     1</td>      <th>                     </th>      <td> </td>    \n</tr>\n<tr>\n  <th>Covariance Type:</th>      <td>nonrobust</td>    <th>                     </th>      <td> </td>    \n</tr>\n</table>\n<table class=\"simpletable\">\n<tr>\n    <td></td>       <th>coef</th>     <th>std err</th>      <th>t</th>      <th>P>|t|</th>  <th>[0.025</th>    <th>0.975]</th>  \n</tr>\n<tr>\n  <th>const</th> <td> 7.185e-11</td> <td> 1.89e-12</td> <td>   38.086</td> <td> 0.000</td> <td> 6.82e-11</td> <td> 7.55e-11</td>\n</tr>\n<tr>\n  <th>x1</th>    <td>    1.0000</td> <td> 3.72e-18</td> <td> 2.68e+17</td> <td> 0.000</td> <td>    1.000</td> <td>    1.000</td>\n</tr>\n</table>\n<table class=\"simpletable\">\n<tr>\n  <th>Omnibus:</th>       <td>375.892</td> <th>  Durbin-Watson:     </th> <td>   0.247</td> \n</tr>\n<tr>\n  <th>Prob(Omnibus):</th> <td> 0.000</td>  <th>  Jarque-Bera (JB):  </th> <td> 457.544</td> \n</tr>\n<tr>\n  <th>Skew:</th>          <td>-0.630</td>  <th>  Prob(JB):          </th> <td>4.42e-100</td>\n</tr>\n<tr>\n  <th>Kurtosis:</th>      <td> 3.519</td>  <th>  Cond. No.          </th> <td>9.92e+05</td> \n</tr>\n</table><br/><br/>Notes:<br/>[1] Standard Errors assume that the covariance matrix of the errors is correctly specified.<br/>[2] The condition number is large, 9.92e+05. This might indicate that there are<br/>strong multicollinearity or other numerical problems."
     },
     "metadata": {},
     "execution_count": 48
    }
   ],
   "source": [
    "modelo_V1.summary()\n",
    "# ↓↓ Lista as informações estatísticas do modelo de Regressão Linear do StatsModel para os dados de X E Y\n",
    "# ↓↓ Lists the StatsModel Linear Regression model statistical information for X and Y data\n",
    "\n",
    "# →→ R-squared:\t1.000 sigfica que as variáveis independentes X explicam 100% da variável dependente ou target Y \n",
    "# ➔ Como isto é muito suspeito, vamos fazer uma nova seleção de variáveis.\n",
    "\n",
    "# →→ R-squared: 1.000 means that the independent variables X explain 100% of the dependent variable or target Y\n",
    "# ➔ As this is very suspicious, let's make a new selection of variables."
   ]
  },
  {
   "cell_type": "code",
   "execution_count": 49,
   "metadata": {},
   "outputs": [],
   "source": [
    "# ↓↓ Gerar a matriz de corretação entre as variávies independentes\n",
    "# ↓↓ Generate the correction matrix between the independent variables\n",
    "matriz_corr = X.corr()\n"
   ]
  },
  {
   "cell_type": "code",
   "execution_count": 50,
   "metadata": {},
   "outputs": [],
   "source": [
    "# ↓↓ Criar um função para gerar um Plot do Tipo HeatMap Correlation Map mostrando o grau de correlação entre as variáveis independentes\n",
    "# ↓↓ Create a function to generate a Plot of Type HeatMap Correlation Map showing the degree of correlation between independent variables\n",
    "def visualize_correlation_matrix(data, hurdle = 0.0):\n",
    "    R = np.corrcoef(data, rowvar = 0)\n",
    "    R[np.where(np.abs(R) < hurdle)] = 0.0\n",
    "    heatmap = plt.pcolor(R, cmap = mpl.cm.coolwarm, alpha = 0.8)\n",
    "    heatmap.axes.set_frame_on(False)\n",
    "    heatmap.axes.set_yticks(np.arange(R.shape[0]) + 0.5, minor = False)\n",
    "    heatmap.axes.set_xticks(np.arange(R.shape[1]) + 0.5, minor = False)\n",
    "    heatmap.axes.set_xticklabels(variables, minor = False)\n",
    "    plt.xticks(rotation=90)\n",
    "    heatmap.axes.set_yticklabels(variables, minor = False)\n",
    "    plt.tick_params(axis = 'both', which = 'both', bottom = 'off', top = 'off', left = 'off', right = 'off') \n",
    "    plt.colorbar()\n",
    "    plt.show()"
   ]
  },
  {
   "cell_type": "code",
   "execution_count": 51,
   "metadata": {},
   "outputs": [
    {
     "output_type": "display_data",
     "data": {
      "text/plain": "<Figure size 432x288 with 2 Axes>",
      "image/svg+xml": "<?xml version=\"1.0\" encoding=\"utf-8\" standalone=\"no\"?>\r\n<!DOCTYPE svg PUBLIC \"-//W3C//DTD SVG 1.1//EN\"\r\n  \"http://www.w3.org/Graphics/SVG/1.1/DTD/svg11.dtd\">\r\n<!-- Created with matplotlib (https://matplotlib.org/) -->\r\n<svg height=\"344.353281pt\" version=\"1.1\" viewBox=\"0 0 441.469188 344.353281\" width=\"441.469188pt\" xmlns=\"http://www.w3.org/2000/svg\" xmlns:xlink=\"http://www.w3.org/1999/xlink\">\r\n <metadata>\r\n  <rdf:RDF xmlns:cc=\"http://creativecommons.org/ns#\" xmlns:dc=\"http://purl.org/dc/elements/1.1/\" xmlns:rdf=\"http://www.w3.org/1999/02/22-rdf-syntax-ns#\">\r\n   <cc:Work>\r\n    <dc:type rdf:resource=\"http://purl.org/dc/dcmitype/StillImage\"/>\r\n    <dc:date>2021-07-16T10:07:41.167397</dc:date>\r\n    <dc:format>image/svg+xml</dc:format>\r\n    <dc:creator>\r\n     <cc:Agent>\r\n      <dc:title>Matplotlib v3.3.4, https://matplotlib.org/</dc:title>\r\n     </cc:Agent>\r\n    </dc:creator>\r\n   </cc:Work>\r\n  </rdf:RDF>\r\n </metadata>\r\n <defs>\r\n  <style type=\"text/css\">*{stroke-linecap:butt;stroke-linejoin:round;}</style>\r\n </defs>\r\n <g id=\"figure_1\">\r\n  <g id=\"patch_1\">\r\n   <path d=\"M 0 344.353281 \r\nL 441.469187 344.353281 \r\nL 441.469187 0 \r\nL 0 0 \r\nz\r\n\" style=\"fill:none;\"/>\r\n  </g>\r\n  <g id=\"axes_1\">\r\n   <g id=\"PolyCollection_1\">\r\n    <path clip-path=\"url(#p44e93de451)\" d=\"M 115.914062 228.439219 \r\nL 115.914062 215.648631 \r\nL 131.669357 215.648631 \r\nL 131.669357 228.439219 \r\nL 115.914062 228.439219 \r\nz\r\n\" style=\"fill:#b40426;fill-opacity:0.8;\"/>\r\n    <path clip-path=\"url(#p44e93de451)\" d=\"M 131.669357 228.439219 \r\nL 131.669357 215.648631 \r\nL 147.424651 215.648631 \r\nL 147.424651 228.439219 \r\nL 131.669357 228.439219 \r\nz\r\n\" style=\"fill:#3b4cc0;fill-opacity:0.8;\"/>\r\n    <path clip-path=\"url(#p44e93de451)\" d=\"M 147.424651 228.439219 \r\nL 147.424651 215.648631 \r\nL 163.179945 215.648631 \r\nL 163.179945 228.439219 \r\nL 147.424651 228.439219 \r\nz\r\n\" style=\"fill:#3b4cc0;fill-opacity:0.8;\"/>\r\n    <path clip-path=\"url(#p44e93de451)\" d=\"M 163.179945 228.439219 \r\nL 163.179945 215.648631 \r\nL 178.935239 215.648631 \r\nL 178.935239 228.439219 \r\nL 163.179945 228.439219 \r\nz\r\n\" style=\"fill:#3b4cc0;fill-opacity:0.8;\"/>\r\n    <path clip-path=\"url(#p44e93de451)\" d=\"M 178.935239 228.439219 \r\nL 178.935239 215.648631 \r\nL 194.690533 215.648631 \r\nL 194.690533 228.439219 \r\nL 178.935239 228.439219 \r\nz\r\n\" style=\"fill:#3b4cc0;fill-opacity:0.8;\"/>\r\n    <path clip-path=\"url(#p44e93de451)\" d=\"M 194.690533 228.439219 \r\nL 194.690533 215.648631 \r\nL 210.445827 215.648631 \r\nL 210.445827 228.439219 \r\nL 194.690533 228.439219 \r\nz\r\n\" style=\"fill:#3b4cc0;fill-opacity:0.8;\"/>\r\n    <path clip-path=\"url(#p44e93de451)\" d=\"M 210.445827 228.439219 \r\nL 210.445827 215.648631 \r\nL 226.201121 215.648631 \r\nL 226.201121 228.439219 \r\nL 210.445827 228.439219 \r\nz\r\n\" style=\"fill:#3b4cc0;fill-opacity:0.8;\"/>\r\n    <path clip-path=\"url(#p44e93de451)\" d=\"M 226.201121 228.439219 \r\nL 226.201121 215.648631 \r\nL 241.956415 215.648631 \r\nL 241.956415 228.439219 \r\nL 226.201121 228.439219 \r\nz\r\n\" style=\"fill:#3b4cc0;fill-opacity:0.8;\"/>\r\n    <path clip-path=\"url(#p44e93de451)\" d=\"M 241.956415 228.439219 \r\nL 241.956415 215.648631 \r\nL 257.71171 215.648631 \r\nL 257.71171 228.439219 \r\nL 241.956415 228.439219 \r\nz\r\n\" style=\"fill:#3b4cc0;fill-opacity:0.8;\"/>\r\n    <path clip-path=\"url(#p44e93de451)\" d=\"M 257.71171 228.439219 \r\nL 257.71171 215.648631 \r\nL 273.467004 215.648631 \r\nL 273.467004 228.439219 \r\nL 257.71171 228.439219 \r\nz\r\n\" style=\"fill:#3b4cc0;fill-opacity:0.8;\"/>\r\n    <path clip-path=\"url(#p44e93de451)\" d=\"M 273.467004 228.439219 \r\nL 273.467004 215.648631 \r\nL 289.222298 215.648631 \r\nL 289.222298 228.439219 \r\nL 273.467004 228.439219 \r\nz\r\n\" style=\"fill:#3b4cc0;fill-opacity:0.8;\"/>\r\n    <path clip-path=\"url(#p44e93de451)\" d=\"M 289.222298 228.439219 \r\nL 289.222298 215.648631 \r\nL 304.977592 215.648631 \r\nL 304.977592 228.439219 \r\nL 289.222298 228.439219 \r\nz\r\n\" style=\"fill:#3b4cc0;fill-opacity:0.8;\"/>\r\n    <path clip-path=\"url(#p44e93de451)\" d=\"M 304.977592 228.439219 \r\nL 304.977592 215.648631 \r\nL 320.732886 215.648631 \r\nL 320.732886 228.439219 \r\nL 304.977592 228.439219 \r\nz\r\n\" style=\"fill:#3b4cc0;fill-opacity:0.8;\"/>\r\n    <path clip-path=\"url(#p44e93de451)\" d=\"M 320.732886 228.439219 \r\nL 320.732886 215.648631 \r\nL 336.48818 215.648631 \r\nL 336.48818 228.439219 \r\nL 320.732886 228.439219 \r\nz\r\n\" style=\"fill:#b8122a;fill-opacity:0.8;\"/>\r\n    <path clip-path=\"url(#p44e93de451)\" d=\"M 336.48818 228.439219 \r\nL 336.48818 215.648631 \r\nL 352.243474 215.648631 \r\nL 352.243474 228.439219 \r\nL 336.48818 228.439219 \r\nz\r\n\" style=\"fill:#3b4cc0;fill-opacity:0.8;\"/>\r\n    <path clip-path=\"url(#p44e93de451)\" d=\"M 352.243474 228.439219 \r\nL 352.243474 215.648631 \r\nL 367.998768 215.648631 \r\nL 367.998768 228.439219 \r\nL 352.243474 228.439219 \r\nz\r\n\" style=\"fill:#3b4cc0;fill-opacity:0.8;\"/>\r\n    <path clip-path=\"url(#p44e93de451)\" d=\"M 367.998768 228.439219 \r\nL 367.998768 215.648631 \r\nL 383.754063 215.648631 \r\nL 383.754063 228.439219 \r\nL 367.998768 228.439219 \r\nz\r\n\" style=\"fill:#3b4cc0;fill-opacity:0.8;\"/>\r\n    <path clip-path=\"url(#p44e93de451)\" d=\"M 115.914062 215.648631 \r\nL 115.914062 202.858042 \r\nL 131.669357 202.858042 \r\nL 131.669357 215.648631 \r\nL 115.914062 215.648631 \r\nz\r\n\" style=\"fill:#3b4cc0;fill-opacity:0.8;\"/>\r\n    <path clip-path=\"url(#p44e93de451)\" d=\"M 131.669357 215.648631 \r\nL 131.669357 202.858042 \r\nL 147.424651 202.858042 \r\nL 147.424651 215.648631 \r\nL 131.669357 215.648631 \r\nz\r\n\" style=\"fill:#b40426;fill-opacity:0.8;\"/>\r\n    <path clip-path=\"url(#p44e93de451)\" d=\"M 147.424651 215.648631 \r\nL 147.424651 202.858042 \r\nL 163.179945 202.858042 \r\nL 163.179945 215.648631 \r\nL 147.424651 215.648631 \r\nz\r\n\" style=\"fill:#3b4cc0;fill-opacity:0.8;\"/>\r\n    <path clip-path=\"url(#p44e93de451)\" d=\"M 163.179945 215.648631 \r\nL 163.179945 202.858042 \r\nL 178.935239 202.858042 \r\nL 178.935239 215.648631 \r\nL 163.179945 215.648631 \r\nz\r\n\" style=\"fill:#3b4cc0;fill-opacity:0.8;\"/>\r\n    <path clip-path=\"url(#p44e93de451)\" d=\"M 178.935239 215.648631 \r\nL 178.935239 202.858042 \r\nL 194.690533 202.858042 \r\nL 194.690533 215.648631 \r\nL 178.935239 215.648631 \r\nz\r\n\" style=\"fill:#3b4cc0;fill-opacity:0.8;\"/>\r\n    <path clip-path=\"url(#p44e93de451)\" d=\"M 194.690533 215.648631 \r\nL 194.690533 202.858042 \r\nL 210.445827 202.858042 \r\nL 210.445827 215.648631 \r\nL 194.690533 215.648631 \r\nz\r\n\" style=\"fill:#3b4cc0;fill-opacity:0.8;\"/>\r\n    <path clip-path=\"url(#p44e93de451)\" d=\"M 210.445827 215.648631 \r\nL 210.445827 202.858042 \r\nL 226.201121 202.858042 \r\nL 226.201121 215.648631 \r\nL 210.445827 215.648631 \r\nz\r\n\" style=\"fill:#3b4cc0;fill-opacity:0.8;\"/>\r\n    <path clip-path=\"url(#p44e93de451)\" d=\"M 226.201121 215.648631 \r\nL 226.201121 202.858042 \r\nL 241.956415 202.858042 \r\nL 241.956415 215.648631 \r\nL 226.201121 215.648631 \r\nz\r\n\" style=\"fill:#3b4cc0;fill-opacity:0.8;\"/>\r\n    <path clip-path=\"url(#p44e93de451)\" d=\"M 241.956415 215.648631 \r\nL 241.956415 202.858042 \r\nL 257.71171 202.858042 \r\nL 257.71171 215.648631 \r\nL 241.956415 215.648631 \r\nz\r\n\" style=\"fill:#3b4cc0;fill-opacity:0.8;\"/>\r\n    <path clip-path=\"url(#p44e93de451)\" d=\"M 257.71171 215.648631 \r\nL 257.71171 202.858042 \r\nL 273.467004 202.858042 \r\nL 273.467004 215.648631 \r\nL 257.71171 215.648631 \r\nz\r\n\" style=\"fill:#3b4cc0;fill-opacity:0.8;\"/>\r\n    <path clip-path=\"url(#p44e93de451)\" d=\"M 273.467004 215.648631 \r\nL 273.467004 202.858042 \r\nL 289.222298 202.858042 \r\nL 289.222298 215.648631 \r\nL 273.467004 215.648631 \r\nz\r\n\" style=\"fill:#3b4cc0;fill-opacity:0.8;\"/>\r\n    <path clip-path=\"url(#p44e93de451)\" d=\"M 289.222298 215.648631 \r\nL 289.222298 202.858042 \r\nL 304.977592 202.858042 \r\nL 304.977592 215.648631 \r\nL 289.222298 215.648631 \r\nz\r\n\" style=\"fill:#3b4cc0;fill-opacity:0.8;\"/>\r\n    <path clip-path=\"url(#p44e93de451)\" d=\"M 304.977592 215.648631 \r\nL 304.977592 202.858042 \r\nL 320.732886 202.858042 \r\nL 320.732886 215.648631 \r\nL 304.977592 215.648631 \r\nz\r\n\" style=\"fill:#3b4cc0;fill-opacity:0.8;\"/>\r\n    <path clip-path=\"url(#p44e93de451)\" d=\"M 320.732886 215.648631 \r\nL 320.732886 202.858042 \r\nL 336.48818 202.858042 \r\nL 336.48818 215.648631 \r\nL 320.732886 215.648631 \r\nz\r\n\" style=\"fill:#3b4cc0;fill-opacity:0.8;\"/>\r\n    <path clip-path=\"url(#p44e93de451)\" d=\"M 336.48818 215.648631 \r\nL 336.48818 202.858042 \r\nL 352.243474 202.858042 \r\nL 352.243474 215.648631 \r\nL 336.48818 215.648631 \r\nz\r\n\" style=\"fill:#3b4cc0;fill-opacity:0.8;\"/>\r\n    <path clip-path=\"url(#p44e93de451)\" d=\"M 352.243474 215.648631 \r\nL 352.243474 202.858042 \r\nL 367.998768 202.858042 \r\nL 367.998768 215.648631 \r\nL 352.243474 215.648631 \r\nz\r\n\" style=\"fill:#3b4cc0;fill-opacity:0.8;\"/>\r\n    <path clip-path=\"url(#p44e93de451)\" d=\"M 367.998768 215.648631 \r\nL 367.998768 202.858042 \r\nL 383.754063 202.858042 \r\nL 383.754063 215.648631 \r\nL 367.998768 215.648631 \r\nz\r\n\" style=\"fill:#e2dad5;fill-opacity:0.8;\"/>\r\n    <path clip-path=\"url(#p44e93de451)\" d=\"M 115.914062 202.858042 \r\nL 115.914062 190.067454 \r\nL 131.669357 190.067454 \r\nL 131.669357 202.858042 \r\nL 115.914062 202.858042 \r\nz\r\n\" style=\"fill:#3b4cc0;fill-opacity:0.8;\"/>\r\n    <path clip-path=\"url(#p44e93de451)\" d=\"M 131.669357 202.858042 \r\nL 131.669357 190.067454 \r\nL 147.424651 190.067454 \r\nL 147.424651 202.858042 \r\nL 131.669357 202.858042 \r\nz\r\n\" style=\"fill:#3b4cc0;fill-opacity:0.8;\"/>\r\n    <path clip-path=\"url(#p44e93de451)\" d=\"M 147.424651 202.858042 \r\nL 147.424651 190.067454 \r\nL 163.179945 190.067454 \r\nL 163.179945 202.858042 \r\nL 147.424651 202.858042 \r\nz\r\n\" style=\"fill:#b40426;fill-opacity:0.8;\"/>\r\n    <path clip-path=\"url(#p44e93de451)\" d=\"M 163.179945 202.858042 \r\nL 163.179945 190.067454 \r\nL 178.935239 190.067454 \r\nL 178.935239 202.858042 \r\nL 163.179945 202.858042 \r\nz\r\n\" style=\"fill:#3b4cc0;fill-opacity:0.8;\"/>\r\n    <path clip-path=\"url(#p44e93de451)\" d=\"M 178.935239 202.858042 \r\nL 178.935239 190.067454 \r\nL 194.690533 190.067454 \r\nL 194.690533 202.858042 \r\nL 178.935239 202.858042 \r\nz\r\n\" style=\"fill:#3b4cc0;fill-opacity:0.8;\"/>\r\n    <path clip-path=\"url(#p44e93de451)\" d=\"M 194.690533 202.858042 \r\nL 194.690533 190.067454 \r\nL 210.445827 190.067454 \r\nL 210.445827 202.858042 \r\nL 194.690533 202.858042 \r\nz\r\n\" style=\"fill:#3b4cc0;fill-opacity:0.8;\"/>\r\n    <path clip-path=\"url(#p44e93de451)\" d=\"M 210.445827 202.858042 \r\nL 210.445827 190.067454 \r\nL 226.201121 190.067454 \r\nL 226.201121 202.858042 \r\nL 210.445827 202.858042 \r\nz\r\n\" style=\"fill:#3b4cc0;fill-opacity:0.8;\"/>\r\n    <path clip-path=\"url(#p44e93de451)\" d=\"M 226.201121 202.858042 \r\nL 226.201121 190.067454 \r\nL 241.956415 190.067454 \r\nL 241.956415 202.858042 \r\nL 226.201121 202.858042 \r\nz\r\n\" style=\"fill:#3b4cc0;fill-opacity:0.8;\"/>\r\n    <path clip-path=\"url(#p44e93de451)\" d=\"M 241.956415 202.858042 \r\nL 241.956415 190.067454 \r\nL 257.71171 190.067454 \r\nL 257.71171 202.858042 \r\nL 241.956415 202.858042 \r\nz\r\n\" style=\"fill:#3b4cc0;fill-opacity:0.8;\"/>\r\n    <path clip-path=\"url(#p44e93de451)\" d=\"M 257.71171 202.858042 \r\nL 257.71171 190.067454 \r\nL 273.467004 190.067454 \r\nL 273.467004 202.858042 \r\nL 257.71171 202.858042 \r\nz\r\n\" style=\"fill:#3b4cc0;fill-opacity:0.8;\"/>\r\n    <path clip-path=\"url(#p44e93de451)\" d=\"M 273.467004 202.858042 \r\nL 273.467004 190.067454 \r\nL 289.222298 190.067454 \r\nL 289.222298 202.858042 \r\nL 273.467004 202.858042 \r\nz\r\n\" style=\"fill:#3b4cc0;fill-opacity:0.8;\"/>\r\n    <path clip-path=\"url(#p44e93de451)\" d=\"M 289.222298 202.858042 \r\nL 289.222298 190.067454 \r\nL 304.977592 190.067454 \r\nL 304.977592 202.858042 \r\nL 289.222298 202.858042 \r\nz\r\n\" style=\"fill:#3b4cc0;fill-opacity:0.8;\"/>\r\n    <path clip-path=\"url(#p44e93de451)\" d=\"M 304.977592 202.858042 \r\nL 304.977592 190.067454 \r\nL 320.732886 190.067454 \r\nL 320.732886 202.858042 \r\nL 304.977592 202.858042 \r\nz\r\n\" style=\"fill:#3b4cc0;fill-opacity:0.8;\"/>\r\n    <path clip-path=\"url(#p44e93de451)\" d=\"M 320.732886 202.858042 \r\nL 320.732886 190.067454 \r\nL 336.48818 190.067454 \r\nL 336.48818 202.858042 \r\nL 320.732886 202.858042 \r\nz\r\n\" style=\"fill:#3b4cc0;fill-opacity:0.8;\"/>\r\n    <path clip-path=\"url(#p44e93de451)\" d=\"M 336.48818 202.858042 \r\nL 336.48818 190.067454 \r\nL 352.243474 190.067454 \r\nL 352.243474 202.858042 \r\nL 336.48818 202.858042 \r\nz\r\n\" style=\"fill:#3b4cc0;fill-opacity:0.8;\"/>\r\n    <path clip-path=\"url(#p44e93de451)\" d=\"M 352.243474 202.858042 \r\nL 352.243474 190.067454 \r\nL 367.998768 190.067454 \r\nL 367.998768 202.858042 \r\nL 352.243474 202.858042 \r\nz\r\n\" style=\"fill:#3b4cc0;fill-opacity:0.8;\"/>\r\n    <path clip-path=\"url(#p44e93de451)\" d=\"M 367.998768 202.858042 \r\nL 367.998768 190.067454 \r\nL 383.754063 190.067454 \r\nL 383.754063 202.858042 \r\nL 367.998768 202.858042 \r\nz\r\n\" style=\"fill:#3b4cc0;fill-opacity:0.8;\"/>\r\n    <path clip-path=\"url(#p44e93de451)\" d=\"M 115.914062 190.067454 \r\nL 115.914062 177.276866 \r\nL 131.669357 177.276866 \r\nL 131.669357 190.067454 \r\nL 115.914062 190.067454 \r\nz\r\n\" style=\"fill:#3b4cc0;fill-opacity:0.8;\"/>\r\n    <path clip-path=\"url(#p44e93de451)\" d=\"M 131.669357 190.067454 \r\nL 131.669357 177.276866 \r\nL 147.424651 177.276866 \r\nL 147.424651 190.067454 \r\nL 131.669357 190.067454 \r\nz\r\n\" style=\"fill:#3b4cc0;fill-opacity:0.8;\"/>\r\n    <path clip-path=\"url(#p44e93de451)\" d=\"M 147.424651 190.067454 \r\nL 147.424651 177.276866 \r\nL 163.179945 177.276866 \r\nL 163.179945 190.067454 \r\nL 147.424651 190.067454 \r\nz\r\n\" style=\"fill:#3b4cc0;fill-opacity:0.8;\"/>\r\n    <path clip-path=\"url(#p44e93de451)\" d=\"M 163.179945 190.067454 \r\nL 163.179945 177.276866 \r\nL 178.935239 177.276866 \r\nL 178.935239 190.067454 \r\nL 163.179945 190.067454 \r\nz\r\n\" style=\"fill:#b40426;fill-opacity:0.8;\"/>\r\n    <path clip-path=\"url(#p44e93de451)\" d=\"M 178.935239 190.067454 \r\nL 178.935239 177.276866 \r\nL 194.690533 177.276866 \r\nL 194.690533 190.067454 \r\nL 178.935239 190.067454 \r\nz\r\n\" style=\"fill:#3b4cc0;fill-opacity:0.8;\"/>\r\n    <path clip-path=\"url(#p44e93de451)\" d=\"M 194.690533 190.067454 \r\nL 194.690533 177.276866 \r\nL 210.445827 177.276866 \r\nL 210.445827 190.067454 \r\nL 194.690533 190.067454 \r\nz\r\n\" style=\"fill:#3b4cc0;fill-opacity:0.8;\"/>\r\n    <path clip-path=\"url(#p44e93de451)\" d=\"M 210.445827 190.067454 \r\nL 210.445827 177.276866 \r\nL 226.201121 177.276866 \r\nL 226.201121 190.067454 \r\nL 210.445827 190.067454 \r\nz\r\n\" style=\"fill:#3b4cc0;fill-opacity:0.8;\"/>\r\n    <path clip-path=\"url(#p44e93de451)\" d=\"M 226.201121 190.067454 \r\nL 226.201121 177.276866 \r\nL 241.956415 177.276866 \r\nL 241.956415 190.067454 \r\nL 226.201121 190.067454 \r\nz\r\n\" style=\"fill:#3b4cc0;fill-opacity:0.8;\"/>\r\n    <path clip-path=\"url(#p44e93de451)\" d=\"M 241.956415 190.067454 \r\nL 241.956415 177.276866 \r\nL 257.71171 177.276866 \r\nL 257.71171 190.067454 \r\nL 241.956415 190.067454 \r\nz\r\n\" style=\"fill:#3b4cc0;fill-opacity:0.8;\"/>\r\n    <path clip-path=\"url(#p44e93de451)\" d=\"M 257.71171 190.067454 \r\nL 257.71171 177.276866 \r\nL 273.467004 177.276866 \r\nL 273.467004 190.067454 \r\nL 257.71171 190.067454 \r\nz\r\n\" style=\"fill:#3b4cc0;fill-opacity:0.8;\"/>\r\n    <path clip-path=\"url(#p44e93de451)\" d=\"M 273.467004 190.067454 \r\nL 273.467004 177.276866 \r\nL 289.222298 177.276866 \r\nL 289.222298 190.067454 \r\nL 273.467004 190.067454 \r\nz\r\n\" style=\"fill:#3b4cc0;fill-opacity:0.8;\"/>\r\n    <path clip-path=\"url(#p44e93de451)\" d=\"M 289.222298 190.067454 \r\nL 289.222298 177.276866 \r\nL 304.977592 177.276866 \r\nL 304.977592 190.067454 \r\nL 289.222298 190.067454 \r\nz\r\n\" style=\"fill:#3b4cc0;fill-opacity:0.8;\"/>\r\n    <path clip-path=\"url(#p44e93de451)\" d=\"M 304.977592 190.067454 \r\nL 304.977592 177.276866 \r\nL 320.732886 177.276866 \r\nL 320.732886 190.067454 \r\nL 304.977592 190.067454 \r\nz\r\n\" style=\"fill:#3b4cc0;fill-opacity:0.8;\"/>\r\n    <path clip-path=\"url(#p44e93de451)\" d=\"M 320.732886 190.067454 \r\nL 320.732886 177.276866 \r\nL 336.48818 177.276866 \r\nL 336.48818 190.067454 \r\nL 320.732886 190.067454 \r\nz\r\n\" style=\"fill:#3b4cc0;fill-opacity:0.8;\"/>\r\n    <path clip-path=\"url(#p44e93de451)\" d=\"M 336.48818 190.067454 \r\nL 336.48818 177.276866 \r\nL 352.243474 177.276866 \r\nL 352.243474 190.067454 \r\nL 336.48818 190.067454 \r\nz\r\n\" style=\"fill:#3b4cc0;fill-opacity:0.8;\"/>\r\n    <path clip-path=\"url(#p44e93de451)\" d=\"M 352.243474 190.067454 \r\nL 352.243474 177.276866 \r\nL 367.998768 177.276866 \r\nL 367.998768 190.067454 \r\nL 352.243474 190.067454 \r\nz\r\n\" style=\"fill:#3b4cc0;fill-opacity:0.8;\"/>\r\n    <path clip-path=\"url(#p44e93de451)\" d=\"M 367.998768 190.067454 \r\nL 367.998768 177.276866 \r\nL 383.754063 177.276866 \r\nL 383.754063 190.067454 \r\nL 367.998768 190.067454 \r\nz\r\n\" style=\"fill:#3b4cc0;fill-opacity:0.8;\"/>\r\n    <path clip-path=\"url(#p44e93de451)\" d=\"M 115.914062 177.276866 \r\nL 115.914062 164.486278 \r\nL 131.669357 164.486278 \r\nL 131.669357 177.276866 \r\nL 115.914062 177.276866 \r\nz\r\n\" style=\"fill:#3b4cc0;fill-opacity:0.8;\"/>\r\n    <path clip-path=\"url(#p44e93de451)\" d=\"M 131.669357 177.276866 \r\nL 131.669357 164.486278 \r\nL 147.424651 164.486278 \r\nL 147.424651 177.276866 \r\nL 131.669357 177.276866 \r\nz\r\n\" style=\"fill:#3b4cc0;fill-opacity:0.8;\"/>\r\n    <path clip-path=\"url(#p44e93de451)\" d=\"M 147.424651 177.276866 \r\nL 147.424651 164.486278 \r\nL 163.179945 164.486278 \r\nL 163.179945 177.276866 \r\nL 147.424651 177.276866 \r\nz\r\n\" style=\"fill:#3b4cc0;fill-opacity:0.8;\"/>\r\n    <path clip-path=\"url(#p44e93de451)\" d=\"M 163.179945 177.276866 \r\nL 163.179945 164.486278 \r\nL 178.935239 164.486278 \r\nL 178.935239 177.276866 \r\nL 163.179945 177.276866 \r\nz\r\n\" style=\"fill:#3b4cc0;fill-opacity:0.8;\"/>\r\n    <path clip-path=\"url(#p44e93de451)\" d=\"M 178.935239 177.276866 \r\nL 178.935239 164.486278 \r\nL 194.690533 164.486278 \r\nL 194.690533 177.276866 \r\nL 178.935239 177.276866 \r\nz\r\n\" style=\"fill:#b40426;fill-opacity:0.8;\"/>\r\n    <path clip-path=\"url(#p44e93de451)\" d=\"M 194.690533 177.276866 \r\nL 194.690533 164.486278 \r\nL 210.445827 164.486278 \r\nL 210.445827 177.276866 \r\nL 194.690533 177.276866 \r\nz\r\n\" style=\"fill:#3b4cc0;fill-opacity:0.8;\"/>\r\n    <path clip-path=\"url(#p44e93de451)\" d=\"M 210.445827 177.276866 \r\nL 210.445827 164.486278 \r\nL 226.201121 164.486278 \r\nL 226.201121 177.276866 \r\nL 210.445827 177.276866 \r\nz\r\n\" style=\"fill:#3b4cc0;fill-opacity:0.8;\"/>\r\n    <path clip-path=\"url(#p44e93de451)\" d=\"M 226.201121 177.276866 \r\nL 226.201121 164.486278 \r\nL 241.956415 164.486278 \r\nL 241.956415 177.276866 \r\nL 226.201121 177.276866 \r\nz\r\n\" style=\"fill:#3b4cc0;fill-opacity:0.8;\"/>\r\n    <path clip-path=\"url(#p44e93de451)\" d=\"M 241.956415 177.276866 \r\nL 241.956415 164.486278 \r\nL 257.71171 164.486278 \r\nL 257.71171 177.276866 \r\nL 241.956415 177.276866 \r\nz\r\n\" style=\"fill:#3b4cc0;fill-opacity:0.8;\"/>\r\n    <path clip-path=\"url(#p44e93de451)\" d=\"M 257.71171 177.276866 \r\nL 257.71171 164.486278 \r\nL 273.467004 164.486278 \r\nL 273.467004 177.276866 \r\nL 257.71171 177.276866 \r\nz\r\n\" style=\"fill:#f5c0a7;fill-opacity:0.8;\"/>\r\n    <path clip-path=\"url(#p44e93de451)\" d=\"M 273.467004 177.276866 \r\nL 273.467004 164.486278 \r\nL 289.222298 164.486278 \r\nL 289.222298 177.276866 \r\nL 273.467004 177.276866 \r\nz\r\n\" style=\"fill:#3b4cc0;fill-opacity:0.8;\"/>\r\n    <path clip-path=\"url(#p44e93de451)\" d=\"M 289.222298 177.276866 \r\nL 289.222298 164.486278 \r\nL 304.977592 164.486278 \r\nL 304.977592 177.276866 \r\nL 289.222298 177.276866 \r\nz\r\n\" style=\"fill:#3b4cc0;fill-opacity:0.8;\"/>\r\n    <path clip-path=\"url(#p44e93de451)\" d=\"M 304.977592 177.276866 \r\nL 304.977592 164.486278 \r\nL 320.732886 164.486278 \r\nL 320.732886 177.276866 \r\nL 304.977592 177.276866 \r\nz\r\n\" style=\"fill:#3b4cc0;fill-opacity:0.8;\"/>\r\n    <path clip-path=\"url(#p44e93de451)\" d=\"M 320.732886 177.276866 \r\nL 320.732886 164.486278 \r\nL 336.48818 164.486278 \r\nL 336.48818 177.276866 \r\nL 320.732886 177.276866 \r\nz\r\n\" style=\"fill:#3b4cc0;fill-opacity:0.8;\"/>\r\n    <path clip-path=\"url(#p44e93de451)\" d=\"M 336.48818 177.276866 \r\nL 336.48818 164.486278 \r\nL 352.243474 164.486278 \r\nL 352.243474 177.276866 \r\nL 336.48818 177.276866 \r\nz\r\n\" style=\"fill:#3b4cc0;fill-opacity:0.8;\"/>\r\n    <path clip-path=\"url(#p44e93de451)\" d=\"M 352.243474 177.276866 \r\nL 352.243474 164.486278 \r\nL 367.998768 164.486278 \r\nL 367.998768 177.276866 \r\nL 352.243474 177.276866 \r\nz\r\n\" style=\"fill:#3b4cc0;fill-opacity:0.8;\"/>\r\n    <path clip-path=\"url(#p44e93de451)\" d=\"M 367.998768 177.276866 \r\nL 367.998768 164.486278 \r\nL 383.754063 164.486278 \r\nL 383.754063 177.276866 \r\nL 367.998768 177.276866 \r\nz\r\n\" style=\"fill:#3b4cc0;fill-opacity:0.8;\"/>\r\n    <path clip-path=\"url(#p44e93de451)\" d=\"M 115.914062 164.486278 \r\nL 115.914062 151.695689 \r\nL 131.669357 151.695689 \r\nL 131.669357 164.486278 \r\nL 115.914062 164.486278 \r\nz\r\n\" style=\"fill:#3b4cc0;fill-opacity:0.8;\"/>\r\n    <path clip-path=\"url(#p44e93de451)\" d=\"M 131.669357 164.486278 \r\nL 131.669357 151.695689 \r\nL 147.424651 151.695689 \r\nL 147.424651 164.486278 \r\nL 131.669357 164.486278 \r\nz\r\n\" style=\"fill:#3b4cc0;fill-opacity:0.8;\"/>\r\n    <path clip-path=\"url(#p44e93de451)\" d=\"M 147.424651 164.486278 \r\nL 147.424651 151.695689 \r\nL 163.179945 151.695689 \r\nL 163.179945 164.486278 \r\nL 147.424651 164.486278 \r\nz\r\n\" style=\"fill:#3b4cc0;fill-opacity:0.8;\"/>\r\n    <path clip-path=\"url(#p44e93de451)\" d=\"M 163.179945 164.486278 \r\nL 163.179945 151.695689 \r\nL 178.935239 151.695689 \r\nL 178.935239 164.486278 \r\nL 163.179945 164.486278 \r\nz\r\n\" style=\"fill:#3b4cc0;fill-opacity:0.8;\"/>\r\n    <path clip-path=\"url(#p44e93de451)\" d=\"M 178.935239 164.486278 \r\nL 178.935239 151.695689 \r\nL 194.690533 151.695689 \r\nL 194.690533 164.486278 \r\nL 178.935239 164.486278 \r\nz\r\n\" style=\"fill:#3b4cc0;fill-opacity:0.8;\"/>\r\n    <path clip-path=\"url(#p44e93de451)\" d=\"M 194.690533 164.486278 \r\nL 194.690533 151.695689 \r\nL 210.445827 151.695689 \r\nL 210.445827 164.486278 \r\nL 194.690533 164.486278 \r\nz\r\n\" style=\"fill:#b40426;fill-opacity:0.8;\"/>\r\n    <path clip-path=\"url(#p44e93de451)\" d=\"M 210.445827 164.486278 \r\nL 210.445827 151.695689 \r\nL 226.201121 151.695689 \r\nL 226.201121 164.486278 \r\nL 210.445827 164.486278 \r\nz\r\n\" style=\"fill:#3b4cc0;fill-opacity:0.8;\"/>\r\n    <path clip-path=\"url(#p44e93de451)\" d=\"M 226.201121 164.486278 \r\nL 226.201121 151.695689 \r\nL 241.956415 151.695689 \r\nL 241.956415 164.486278 \r\nL 226.201121 164.486278 \r\nz\r\n\" style=\"fill:#3b4cc0;fill-opacity:0.8;\"/>\r\n    <path clip-path=\"url(#p44e93de451)\" d=\"M 241.956415 164.486278 \r\nL 241.956415 151.695689 \r\nL 257.71171 151.695689 \r\nL 257.71171 164.486278 \r\nL 241.956415 164.486278 \r\nz\r\n\" style=\"fill:#3b4cc0;fill-opacity:0.8;\"/>\r\n    <path clip-path=\"url(#p44e93de451)\" d=\"M 257.71171 164.486278 \r\nL 257.71171 151.695689 \r\nL 273.467004 151.695689 \r\nL 273.467004 164.486278 \r\nL 257.71171 164.486278 \r\nz\r\n\" style=\"fill:#3b4cc0;fill-opacity:0.8;\"/>\r\n    <path clip-path=\"url(#p44e93de451)\" d=\"M 273.467004 164.486278 \r\nL 273.467004 151.695689 \r\nL 289.222298 151.695689 \r\nL 289.222298 164.486278 \r\nL 273.467004 164.486278 \r\nz\r\n\" style=\"fill:#3b4cc0;fill-opacity:0.8;\"/>\r\n    <path clip-path=\"url(#p44e93de451)\" d=\"M 289.222298 164.486278 \r\nL 289.222298 151.695689 \r\nL 304.977592 151.695689 \r\nL 304.977592 164.486278 \r\nL 289.222298 164.486278 \r\nz\r\n\" style=\"fill:#3b4cc0;fill-opacity:0.8;\"/>\r\n    <path clip-path=\"url(#p44e93de451)\" d=\"M 304.977592 164.486278 \r\nL 304.977592 151.695689 \r\nL 320.732886 151.695689 \r\nL 320.732886 164.486278 \r\nL 304.977592 164.486278 \r\nz\r\n\" style=\"fill:#3b4cc0;fill-opacity:0.8;\"/>\r\n    <path clip-path=\"url(#p44e93de451)\" d=\"M 320.732886 164.486278 \r\nL 320.732886 151.695689 \r\nL 336.48818 151.695689 \r\nL 336.48818 164.486278 \r\nL 320.732886 164.486278 \r\nz\r\n\" style=\"fill:#3b4cc0;fill-opacity:0.8;\"/>\r\n    <path clip-path=\"url(#p44e93de451)\" d=\"M 336.48818 164.486278 \r\nL 336.48818 151.695689 \r\nL 352.243474 151.695689 \r\nL 352.243474 164.486278 \r\nL 336.48818 164.486278 \r\nz\r\n\" style=\"fill:#3b4cc0;fill-opacity:0.8;\"/>\r\n    <path clip-path=\"url(#p44e93de451)\" d=\"M 352.243474 164.486278 \r\nL 352.243474 151.695689 \r\nL 367.998768 151.695689 \r\nL 367.998768 164.486278 \r\nL 352.243474 164.486278 \r\nz\r\n\" style=\"fill:#3b4cc0;fill-opacity:0.8;\"/>\r\n    <path clip-path=\"url(#p44e93de451)\" d=\"M 367.998768 164.486278 \r\nL 367.998768 151.695689 \r\nL 383.754063 151.695689 \r\nL 383.754063 164.486278 \r\nL 367.998768 164.486278 \r\nz\r\n\" style=\"fill:#3b4cc0;fill-opacity:0.8;\"/>\r\n    <path clip-path=\"url(#p44e93de451)\" d=\"M 115.914062 151.695689 \r\nL 115.914062 138.905101 \r\nL 131.669357 138.905101 \r\nL 131.669357 151.695689 \r\nL 115.914062 151.695689 \r\nz\r\n\" style=\"fill:#3b4cc0;fill-opacity:0.8;\"/>\r\n    <path clip-path=\"url(#p44e93de451)\" d=\"M 131.669357 151.695689 \r\nL 131.669357 138.905101 \r\nL 147.424651 138.905101 \r\nL 147.424651 151.695689 \r\nL 131.669357 151.695689 \r\nz\r\n\" style=\"fill:#3b4cc0;fill-opacity:0.8;\"/>\r\n    <path clip-path=\"url(#p44e93de451)\" d=\"M 147.424651 151.695689 \r\nL 147.424651 138.905101 \r\nL 163.179945 138.905101 \r\nL 163.179945 151.695689 \r\nL 147.424651 151.695689 \r\nz\r\n\" style=\"fill:#3b4cc0;fill-opacity:0.8;\"/>\r\n    <path clip-path=\"url(#p44e93de451)\" d=\"M 163.179945 151.695689 \r\nL 163.179945 138.905101 \r\nL 178.935239 138.905101 \r\nL 178.935239 151.695689 \r\nL 163.179945 151.695689 \r\nz\r\n\" style=\"fill:#3b4cc0;fill-opacity:0.8;\"/>\r\n    <path clip-path=\"url(#p44e93de451)\" d=\"M 178.935239 151.695689 \r\nL 178.935239 138.905101 \r\nL 194.690533 138.905101 \r\nL 194.690533 151.695689 \r\nL 178.935239 151.695689 \r\nz\r\n\" style=\"fill:#3b4cc0;fill-opacity:0.8;\"/>\r\n    <path clip-path=\"url(#p44e93de451)\" d=\"M 194.690533 151.695689 \r\nL 194.690533 138.905101 \r\nL 210.445827 138.905101 \r\nL 210.445827 151.695689 \r\nL 194.690533 151.695689 \r\nz\r\n\" style=\"fill:#3b4cc0;fill-opacity:0.8;\"/>\r\n    <path clip-path=\"url(#p44e93de451)\" d=\"M 210.445827 151.695689 \r\nL 210.445827 138.905101 \r\nL 226.201121 138.905101 \r\nL 226.201121 151.695689 \r\nL 210.445827 151.695689 \r\nz\r\n\" style=\"fill:#b40426;fill-opacity:0.8;\"/>\r\n    <path clip-path=\"url(#p44e93de451)\" d=\"M 226.201121 151.695689 \r\nL 226.201121 138.905101 \r\nL 241.956415 138.905101 \r\nL 241.956415 151.695689 \r\nL 226.201121 151.695689 \r\nz\r\n\" style=\"fill:#3b4cc0;fill-opacity:0.8;\"/>\r\n    <path clip-path=\"url(#p44e93de451)\" d=\"M 241.956415 151.695689 \r\nL 241.956415 138.905101 \r\nL 257.71171 138.905101 \r\nL 257.71171 151.695689 \r\nL 241.956415 151.695689 \r\nz\r\n\" style=\"fill:#3b4cc0;fill-opacity:0.8;\"/>\r\n    <path clip-path=\"url(#p44e93de451)\" d=\"M 257.71171 151.695689 \r\nL 257.71171 138.905101 \r\nL 273.467004 138.905101 \r\nL 273.467004 151.695689 \r\nL 257.71171 151.695689 \r\nz\r\n\" style=\"fill:#3b4cc0;fill-opacity:0.8;\"/>\r\n    <path clip-path=\"url(#p44e93de451)\" d=\"M 273.467004 151.695689 \r\nL 273.467004 138.905101 \r\nL 289.222298 138.905101 \r\nL 289.222298 151.695689 \r\nL 273.467004 151.695689 \r\nz\r\n\" style=\"fill:#3b4cc0;fill-opacity:0.8;\"/>\r\n    <path clip-path=\"url(#p44e93de451)\" d=\"M 289.222298 151.695689 \r\nL 289.222298 138.905101 \r\nL 304.977592 138.905101 \r\nL 304.977592 151.695689 \r\nL 289.222298 151.695689 \r\nz\r\n\" style=\"fill:#3b4cc0;fill-opacity:0.8;\"/>\r\n    <path clip-path=\"url(#p44e93de451)\" d=\"M 304.977592 151.695689 \r\nL 304.977592 138.905101 \r\nL 320.732886 138.905101 \r\nL 320.732886 151.695689 \r\nL 304.977592 151.695689 \r\nz\r\n\" style=\"fill:#3b4cc0;fill-opacity:0.8;\"/>\r\n    <path clip-path=\"url(#p44e93de451)\" d=\"M 320.732886 151.695689 \r\nL 320.732886 138.905101 \r\nL 336.48818 138.905101 \r\nL 336.48818 151.695689 \r\nL 320.732886 151.695689 \r\nz\r\n\" style=\"fill:#3b4cc0;fill-opacity:0.8;\"/>\r\n    <path clip-path=\"url(#p44e93de451)\" d=\"M 336.48818 151.695689 \r\nL 336.48818 138.905101 \r\nL 352.243474 138.905101 \r\nL 352.243474 151.695689 \r\nL 336.48818 151.695689 \r\nz\r\n\" style=\"fill:#3b4cc0;fill-opacity:0.8;\"/>\r\n    <path clip-path=\"url(#p44e93de451)\" d=\"M 352.243474 151.695689 \r\nL 352.243474 138.905101 \r\nL 367.998768 138.905101 \r\nL 367.998768 151.695689 \r\nL 352.243474 151.695689 \r\nz\r\n\" style=\"fill:#3b4cc0;fill-opacity:0.8;\"/>\r\n    <path clip-path=\"url(#p44e93de451)\" d=\"M 367.998768 151.695689 \r\nL 367.998768 138.905101 \r\nL 383.754063 138.905101 \r\nL 383.754063 151.695689 \r\nL 367.998768 151.695689 \r\nz\r\n\" style=\"fill:#3b4cc0;fill-opacity:0.8;\"/>\r\n    <path clip-path=\"url(#p44e93de451)\" d=\"M 115.914062 138.905101 \r\nL 115.914062 126.114513 \r\nL 131.669357 126.114513 \r\nL 131.669357 138.905101 \r\nL 115.914062 138.905101 \r\nz\r\n\" style=\"fill:#3b4cc0;fill-opacity:0.8;\"/>\r\n    <path clip-path=\"url(#p44e93de451)\" d=\"M 131.669357 138.905101 \r\nL 131.669357 126.114513 \r\nL 147.424651 126.114513 \r\nL 147.424651 138.905101 \r\nL 131.669357 138.905101 \r\nz\r\n\" style=\"fill:#3b4cc0;fill-opacity:0.8;\"/>\r\n    <path clip-path=\"url(#p44e93de451)\" d=\"M 147.424651 138.905101 \r\nL 147.424651 126.114513 \r\nL 163.179945 126.114513 \r\nL 163.179945 138.905101 \r\nL 147.424651 138.905101 \r\nz\r\n\" style=\"fill:#3b4cc0;fill-opacity:0.8;\"/>\r\n    <path clip-path=\"url(#p44e93de451)\" d=\"M 163.179945 138.905101 \r\nL 163.179945 126.114513 \r\nL 178.935239 126.114513 \r\nL 178.935239 138.905101 \r\nL 163.179945 138.905101 \r\nz\r\n\" style=\"fill:#3b4cc0;fill-opacity:0.8;\"/>\r\n    <path clip-path=\"url(#p44e93de451)\" d=\"M 178.935239 138.905101 \r\nL 178.935239 126.114513 \r\nL 194.690533 126.114513 \r\nL 194.690533 138.905101 \r\nL 178.935239 138.905101 \r\nz\r\n\" style=\"fill:#3b4cc0;fill-opacity:0.8;\"/>\r\n    <path clip-path=\"url(#p44e93de451)\" d=\"M 194.690533 138.905101 \r\nL 194.690533 126.114513 \r\nL 210.445827 126.114513 \r\nL 210.445827 138.905101 \r\nL 194.690533 138.905101 \r\nz\r\n\" style=\"fill:#3b4cc0;fill-opacity:0.8;\"/>\r\n    <path clip-path=\"url(#p44e93de451)\" d=\"M 210.445827 138.905101 \r\nL 210.445827 126.114513 \r\nL 226.201121 126.114513 \r\nL 226.201121 138.905101 \r\nL 210.445827 138.905101 \r\nz\r\n\" style=\"fill:#3b4cc0;fill-opacity:0.8;\"/>\r\n    <path clip-path=\"url(#p44e93de451)\" d=\"M 226.201121 138.905101 \r\nL 226.201121 126.114513 \r\nL 241.956415 126.114513 \r\nL 241.956415 138.905101 \r\nL 226.201121 138.905101 \r\nz\r\n\" style=\"fill:#b40426;fill-opacity:0.8;\"/>\r\n    <path clip-path=\"url(#p44e93de451)\" d=\"M 241.956415 138.905101 \r\nL 241.956415 126.114513 \r\nL 257.71171 126.114513 \r\nL 257.71171 138.905101 \r\nL 241.956415 138.905101 \r\nz\r\n\" style=\"fill:#3b4cc0;fill-opacity:0.8;\"/>\r\n    <path clip-path=\"url(#p44e93de451)\" d=\"M 257.71171 138.905101 \r\nL 257.71171 126.114513 \r\nL 273.467004 126.114513 \r\nL 273.467004 138.905101 \r\nL 257.71171 138.905101 \r\nz\r\n\" style=\"fill:#3b4cc0;fill-opacity:0.8;\"/>\r\n    <path clip-path=\"url(#p44e93de451)\" d=\"M 273.467004 138.905101 \r\nL 273.467004 126.114513 \r\nL 289.222298 126.114513 \r\nL 289.222298 138.905101 \r\nL 273.467004 138.905101 \r\nz\r\n\" style=\"fill:#3b4cc0;fill-opacity:0.8;\"/>\r\n    <path clip-path=\"url(#p44e93de451)\" d=\"M 289.222298 138.905101 \r\nL 289.222298 126.114513 \r\nL 304.977592 126.114513 \r\nL 304.977592 138.905101 \r\nL 289.222298 138.905101 \r\nz\r\n\" style=\"fill:#3b4cc0;fill-opacity:0.8;\"/>\r\n    <path clip-path=\"url(#p44e93de451)\" d=\"M 304.977592 138.905101 \r\nL 304.977592 126.114513 \r\nL 320.732886 126.114513 \r\nL 320.732886 138.905101 \r\nL 304.977592 138.905101 \r\nz\r\n\" style=\"fill:#3b4cc0;fill-opacity:0.8;\"/>\r\n    <path clip-path=\"url(#p44e93de451)\" d=\"M 320.732886 138.905101 \r\nL 320.732886 126.114513 \r\nL 336.48818 126.114513 \r\nL 336.48818 138.905101 \r\nL 320.732886 138.905101 \r\nz\r\n\" style=\"fill:#3b4cc0;fill-opacity:0.8;\"/>\r\n    <path clip-path=\"url(#p44e93de451)\" d=\"M 336.48818 138.905101 \r\nL 336.48818 126.114513 \r\nL 352.243474 126.114513 \r\nL 352.243474 138.905101 \r\nL 336.48818 138.905101 \r\nz\r\n\" style=\"fill:#3b4cc0;fill-opacity:0.8;\"/>\r\n    <path clip-path=\"url(#p44e93de451)\" d=\"M 352.243474 138.905101 \r\nL 352.243474 126.114513 \r\nL 367.998768 126.114513 \r\nL 367.998768 138.905101 \r\nL 352.243474 138.905101 \r\nz\r\n\" style=\"fill:#3b4cc0;fill-opacity:0.8;\"/>\r\n    <path clip-path=\"url(#p44e93de451)\" d=\"M 367.998768 138.905101 \r\nL 367.998768 126.114513 \r\nL 383.754063 126.114513 \r\nL 383.754063 138.905101 \r\nL 367.998768 138.905101 \r\nz\r\n\" style=\"fill:#3b4cc0;fill-opacity:0.8;\"/>\r\n    <path clip-path=\"url(#p44e93de451)\" d=\"M 115.914062 126.114513 \r\nL 115.914062 113.323925 \r\nL 131.669357 113.323925 \r\nL 131.669357 126.114513 \r\nL 115.914062 126.114513 \r\nz\r\n\" style=\"fill:#3b4cc0;fill-opacity:0.8;\"/>\r\n    <path clip-path=\"url(#p44e93de451)\" d=\"M 131.669357 126.114513 \r\nL 131.669357 113.323925 \r\nL 147.424651 113.323925 \r\nL 147.424651 126.114513 \r\nL 131.669357 126.114513 \r\nz\r\n\" style=\"fill:#3b4cc0;fill-opacity:0.8;\"/>\r\n    <path clip-path=\"url(#p44e93de451)\" d=\"M 147.424651 126.114513 \r\nL 147.424651 113.323925 \r\nL 163.179945 113.323925 \r\nL 163.179945 126.114513 \r\nL 147.424651 126.114513 \r\nz\r\n\" style=\"fill:#3b4cc0;fill-opacity:0.8;\"/>\r\n    <path clip-path=\"url(#p44e93de451)\" d=\"M 163.179945 126.114513 \r\nL 163.179945 113.323925 \r\nL 178.935239 113.323925 \r\nL 178.935239 126.114513 \r\nL 163.179945 126.114513 \r\nz\r\n\" style=\"fill:#3b4cc0;fill-opacity:0.8;\"/>\r\n    <path clip-path=\"url(#p44e93de451)\" d=\"M 178.935239 126.114513 \r\nL 178.935239 113.323925 \r\nL 194.690533 113.323925 \r\nL 194.690533 126.114513 \r\nL 178.935239 126.114513 \r\nz\r\n\" style=\"fill:#3b4cc0;fill-opacity:0.8;\"/>\r\n    <path clip-path=\"url(#p44e93de451)\" d=\"M 194.690533 126.114513 \r\nL 194.690533 113.323925 \r\nL 210.445827 113.323925 \r\nL 210.445827 126.114513 \r\nL 194.690533 126.114513 \r\nz\r\n\" style=\"fill:#3b4cc0;fill-opacity:0.8;\"/>\r\n    <path clip-path=\"url(#p44e93de451)\" d=\"M 210.445827 126.114513 \r\nL 210.445827 113.323925 \r\nL 226.201121 113.323925 \r\nL 226.201121 126.114513 \r\nL 210.445827 126.114513 \r\nz\r\n\" style=\"fill:#3b4cc0;fill-opacity:0.8;\"/>\r\n    <path clip-path=\"url(#p44e93de451)\" d=\"M 226.201121 126.114513 \r\nL 226.201121 113.323925 \r\nL 241.956415 113.323925 \r\nL 241.956415 126.114513 \r\nL 226.201121 126.114513 \r\nz\r\n\" style=\"fill:#3b4cc0;fill-opacity:0.8;\"/>\r\n    <path clip-path=\"url(#p44e93de451)\" d=\"M 241.956415 126.114513 \r\nL 241.956415 113.323925 \r\nL 257.71171 113.323925 \r\nL 257.71171 126.114513 \r\nL 241.956415 126.114513 \r\nz\r\n\" style=\"fill:#b40426;fill-opacity:0.8;\"/>\r\n    <path clip-path=\"url(#p44e93de451)\" d=\"M 257.71171 126.114513 \r\nL 257.71171 113.323925 \r\nL 273.467004 113.323925 \r\nL 273.467004 126.114513 \r\nL 257.71171 126.114513 \r\nz\r\n\" style=\"fill:#3b4cc0;fill-opacity:0.8;\"/>\r\n    <path clip-path=\"url(#p44e93de451)\" d=\"M 273.467004 126.114513 \r\nL 273.467004 113.323925 \r\nL 289.222298 113.323925 \r\nL 289.222298 126.114513 \r\nL 273.467004 126.114513 \r\nz\r\n\" style=\"fill:#3b4cc0;fill-opacity:0.8;\"/>\r\n    <path clip-path=\"url(#p44e93de451)\" d=\"M 289.222298 126.114513 \r\nL 289.222298 113.323925 \r\nL 304.977592 113.323925 \r\nL 304.977592 126.114513 \r\nL 289.222298 126.114513 \r\nz\r\n\" style=\"fill:#3b4cc0;fill-opacity:0.8;\"/>\r\n    <path clip-path=\"url(#p44e93de451)\" d=\"M 304.977592 126.114513 \r\nL 304.977592 113.323925 \r\nL 320.732886 113.323925 \r\nL 320.732886 126.114513 \r\nL 304.977592 126.114513 \r\nz\r\n\" style=\"fill:#3b4cc0;fill-opacity:0.8;\"/>\r\n    <path clip-path=\"url(#p44e93de451)\" d=\"M 320.732886 126.114513 \r\nL 320.732886 113.323925 \r\nL 336.48818 113.323925 \r\nL 336.48818 126.114513 \r\nL 320.732886 126.114513 \r\nz\r\n\" style=\"fill:#3b4cc0;fill-opacity:0.8;\"/>\r\n    <path clip-path=\"url(#p44e93de451)\" d=\"M 336.48818 126.114513 \r\nL 336.48818 113.323925 \r\nL 352.243474 113.323925 \r\nL 352.243474 126.114513 \r\nL 336.48818 126.114513 \r\nz\r\n\" style=\"fill:#3b4cc0;fill-opacity:0.8;\"/>\r\n    <path clip-path=\"url(#p44e93de451)\" d=\"M 352.243474 126.114513 \r\nL 352.243474 113.323925 \r\nL 367.998768 113.323925 \r\nL 367.998768 126.114513 \r\nL 352.243474 126.114513 \r\nz\r\n\" style=\"fill:#3b4cc0;fill-opacity:0.8;\"/>\r\n    <path clip-path=\"url(#p44e93de451)\" d=\"M 367.998768 126.114513 \r\nL 367.998768 113.323925 \r\nL 383.754063 113.323925 \r\nL 383.754063 126.114513 \r\nL 367.998768 126.114513 \r\nz\r\n\" style=\"fill:#3b4cc0;fill-opacity:0.8;\"/>\r\n    <path clip-path=\"url(#p44e93de451)\" d=\"M 115.914062 113.323925 \r\nL 115.914062 100.533336 \r\nL 131.669357 100.533336 \r\nL 131.669357 113.323925 \r\nL 115.914062 113.323925 \r\nz\r\n\" style=\"fill:#3b4cc0;fill-opacity:0.8;\"/>\r\n    <path clip-path=\"url(#p44e93de451)\" d=\"M 131.669357 113.323925 \r\nL 131.669357 100.533336 \r\nL 147.424651 100.533336 \r\nL 147.424651 113.323925 \r\nL 131.669357 113.323925 \r\nz\r\n\" style=\"fill:#3b4cc0;fill-opacity:0.8;\"/>\r\n    <path clip-path=\"url(#p44e93de451)\" d=\"M 147.424651 113.323925 \r\nL 147.424651 100.533336 \r\nL 163.179945 100.533336 \r\nL 163.179945 113.323925 \r\nL 147.424651 113.323925 \r\nz\r\n\" style=\"fill:#3b4cc0;fill-opacity:0.8;\"/>\r\n    <path clip-path=\"url(#p44e93de451)\" d=\"M 163.179945 113.323925 \r\nL 163.179945 100.533336 \r\nL 178.935239 100.533336 \r\nL 178.935239 113.323925 \r\nL 163.179945 113.323925 \r\nz\r\n\" style=\"fill:#3b4cc0;fill-opacity:0.8;\"/>\r\n    <path clip-path=\"url(#p44e93de451)\" d=\"M 178.935239 113.323925 \r\nL 178.935239 100.533336 \r\nL 194.690533 100.533336 \r\nL 194.690533 113.323925 \r\nL 178.935239 113.323925 \r\nz\r\n\" style=\"fill:#f5c0a7;fill-opacity:0.8;\"/>\r\n    <path clip-path=\"url(#p44e93de451)\" d=\"M 194.690533 113.323925 \r\nL 194.690533 100.533336 \r\nL 210.445827 100.533336 \r\nL 210.445827 113.323925 \r\nL 194.690533 113.323925 \r\nz\r\n\" style=\"fill:#3b4cc0;fill-opacity:0.8;\"/>\r\n    <path clip-path=\"url(#p44e93de451)\" d=\"M 210.445827 113.323925 \r\nL 210.445827 100.533336 \r\nL 226.201121 100.533336 \r\nL 226.201121 113.323925 \r\nL 210.445827 113.323925 \r\nz\r\n\" style=\"fill:#3b4cc0;fill-opacity:0.8;\"/>\r\n    <path clip-path=\"url(#p44e93de451)\" d=\"M 226.201121 113.323925 \r\nL 226.201121 100.533336 \r\nL 241.956415 100.533336 \r\nL 241.956415 113.323925 \r\nL 226.201121 113.323925 \r\nz\r\n\" style=\"fill:#3b4cc0;fill-opacity:0.8;\"/>\r\n    <path clip-path=\"url(#p44e93de451)\" d=\"M 241.956415 113.323925 \r\nL 241.956415 100.533336 \r\nL 257.71171 100.533336 \r\nL 257.71171 113.323925 \r\nL 241.956415 113.323925 \r\nz\r\n\" style=\"fill:#3b4cc0;fill-opacity:0.8;\"/>\r\n    <path clip-path=\"url(#p44e93de451)\" d=\"M 257.71171 113.323925 \r\nL 257.71171 100.533336 \r\nL 273.467004 100.533336 \r\nL 273.467004 113.323925 \r\nL 257.71171 113.323925 \r\nz\r\n\" style=\"fill:#b40426;fill-opacity:0.8;\"/>\r\n    <path clip-path=\"url(#p44e93de451)\" d=\"M 273.467004 113.323925 \r\nL 273.467004 100.533336 \r\nL 289.222298 100.533336 \r\nL 289.222298 113.323925 \r\nL 273.467004 113.323925 \r\nz\r\n\" style=\"fill:#3b4cc0;fill-opacity:0.8;\"/>\r\n    <path clip-path=\"url(#p44e93de451)\" d=\"M 289.222298 113.323925 \r\nL 289.222298 100.533336 \r\nL 304.977592 100.533336 \r\nL 304.977592 113.323925 \r\nL 289.222298 113.323925 \r\nz\r\n\" style=\"fill:#3b4cc0;fill-opacity:0.8;\"/>\r\n    <path clip-path=\"url(#p44e93de451)\" d=\"M 304.977592 113.323925 \r\nL 304.977592 100.533336 \r\nL 320.732886 100.533336 \r\nL 320.732886 113.323925 \r\nL 304.977592 113.323925 \r\nz\r\n\" style=\"fill:#3b4cc0;fill-opacity:0.8;\"/>\r\n    <path clip-path=\"url(#p44e93de451)\" d=\"M 320.732886 113.323925 \r\nL 320.732886 100.533336 \r\nL 336.48818 100.533336 \r\nL 336.48818 113.323925 \r\nL 320.732886 113.323925 \r\nz\r\n\" style=\"fill:#3b4cc0;fill-opacity:0.8;\"/>\r\n    <path clip-path=\"url(#p44e93de451)\" d=\"M 336.48818 113.323925 \r\nL 336.48818 100.533336 \r\nL 352.243474 100.533336 \r\nL 352.243474 113.323925 \r\nL 336.48818 113.323925 \r\nz\r\n\" style=\"fill:#3b4cc0;fill-opacity:0.8;\"/>\r\n    <path clip-path=\"url(#p44e93de451)\" d=\"M 352.243474 113.323925 \r\nL 352.243474 100.533336 \r\nL 367.998768 100.533336 \r\nL 367.998768 113.323925 \r\nL 352.243474 113.323925 \r\nz\r\n\" style=\"fill:#3b4cc0;fill-opacity:0.8;\"/>\r\n    <path clip-path=\"url(#p44e93de451)\" d=\"M 367.998768 113.323925 \r\nL 367.998768 100.533336 \r\nL 383.754063 100.533336 \r\nL 383.754063 113.323925 \r\nL 367.998768 113.323925 \r\nz\r\n\" style=\"fill:#3b4cc0;fill-opacity:0.8;\"/>\r\n    <path clip-path=\"url(#p44e93de451)\" d=\"M 115.914062 100.533336 \r\nL 115.914062 87.742748 \r\nL 131.669357 87.742748 \r\nL 131.669357 100.533336 \r\nL 115.914062 100.533336 \r\nz\r\n\" style=\"fill:#3b4cc0;fill-opacity:0.8;\"/>\r\n    <path clip-path=\"url(#p44e93de451)\" d=\"M 131.669357 100.533336 \r\nL 131.669357 87.742748 \r\nL 147.424651 87.742748 \r\nL 147.424651 100.533336 \r\nL 131.669357 100.533336 \r\nz\r\n\" style=\"fill:#3b4cc0;fill-opacity:0.8;\"/>\r\n    <path clip-path=\"url(#p44e93de451)\" d=\"M 147.424651 100.533336 \r\nL 147.424651 87.742748 \r\nL 163.179945 87.742748 \r\nL 163.179945 100.533336 \r\nL 147.424651 100.533336 \r\nz\r\n\" style=\"fill:#3b4cc0;fill-opacity:0.8;\"/>\r\n    <path clip-path=\"url(#p44e93de451)\" d=\"M 163.179945 100.533336 \r\nL 163.179945 87.742748 \r\nL 178.935239 87.742748 \r\nL 178.935239 100.533336 \r\nL 163.179945 100.533336 \r\nz\r\n\" style=\"fill:#3b4cc0;fill-opacity:0.8;\"/>\r\n    <path clip-path=\"url(#p44e93de451)\" d=\"M 178.935239 100.533336 \r\nL 178.935239 87.742748 \r\nL 194.690533 87.742748 \r\nL 194.690533 100.533336 \r\nL 178.935239 100.533336 \r\nz\r\n\" style=\"fill:#3b4cc0;fill-opacity:0.8;\"/>\r\n    <path clip-path=\"url(#p44e93de451)\" d=\"M 194.690533 100.533336 \r\nL 194.690533 87.742748 \r\nL 210.445827 87.742748 \r\nL 210.445827 100.533336 \r\nL 194.690533 100.533336 \r\nz\r\n\" style=\"fill:#3b4cc0;fill-opacity:0.8;\"/>\r\n    <path clip-path=\"url(#p44e93de451)\" d=\"M 210.445827 100.533336 \r\nL 210.445827 87.742748 \r\nL 226.201121 87.742748 \r\nL 226.201121 100.533336 \r\nL 210.445827 100.533336 \r\nz\r\n\" style=\"fill:#3b4cc0;fill-opacity:0.8;\"/>\r\n    <path clip-path=\"url(#p44e93de451)\" d=\"M 226.201121 100.533336 \r\nL 226.201121 87.742748 \r\nL 241.956415 87.742748 \r\nL 241.956415 100.533336 \r\nL 226.201121 100.533336 \r\nz\r\n\" style=\"fill:#3b4cc0;fill-opacity:0.8;\"/>\r\n    <path clip-path=\"url(#p44e93de451)\" d=\"M 241.956415 100.533336 \r\nL 241.956415 87.742748 \r\nL 257.71171 87.742748 \r\nL 257.71171 100.533336 \r\nL 241.956415 100.533336 \r\nz\r\n\" style=\"fill:#3b4cc0;fill-opacity:0.8;\"/>\r\n    <path clip-path=\"url(#p44e93de451)\" d=\"M 257.71171 100.533336 \r\nL 257.71171 87.742748 \r\nL 273.467004 87.742748 \r\nL 273.467004 100.533336 \r\nL 257.71171 100.533336 \r\nz\r\n\" style=\"fill:#3b4cc0;fill-opacity:0.8;\"/>\r\n    <path clip-path=\"url(#p44e93de451)\" d=\"M 273.467004 100.533336 \r\nL 273.467004 87.742748 \r\nL 289.222298 87.742748 \r\nL 289.222298 100.533336 \r\nL 273.467004 100.533336 \r\nz\r\n\" style=\"fill:#b40426;fill-opacity:0.8;\"/>\r\n    <path clip-path=\"url(#p44e93de451)\" d=\"M 289.222298 100.533336 \r\nL 289.222298 87.742748 \r\nL 304.977592 87.742748 \r\nL 304.977592 100.533336 \r\nL 289.222298 100.533336 \r\nz\r\n\" style=\"fill:#3b4cc0;fill-opacity:0.8;\"/>\r\n    <path clip-path=\"url(#p44e93de451)\" d=\"M 304.977592 100.533336 \r\nL 304.977592 87.742748 \r\nL 320.732886 87.742748 \r\nL 320.732886 100.533336 \r\nL 304.977592 100.533336 \r\nz\r\n\" style=\"fill:#f29072;fill-opacity:0.8;\"/>\r\n    <path clip-path=\"url(#p44e93de451)\" d=\"M 320.732886 100.533336 \r\nL 320.732886 87.742748 \r\nL 336.48818 87.742748 \r\nL 336.48818 100.533336 \r\nL 320.732886 100.533336 \r\nz\r\n\" style=\"fill:#3b4cc0;fill-opacity:0.8;\"/>\r\n    <path clip-path=\"url(#p44e93de451)\" d=\"M 336.48818 100.533336 \r\nL 336.48818 87.742748 \r\nL 352.243474 87.742748 \r\nL 352.243474 100.533336 \r\nL 336.48818 100.533336 \r\nz\r\n\" style=\"fill:#3b4cc0;fill-opacity:0.8;\"/>\r\n    <path clip-path=\"url(#p44e93de451)\" d=\"M 352.243474 100.533336 \r\nL 352.243474 87.742748 \r\nL 367.998768 87.742748 \r\nL 367.998768 100.533336 \r\nL 352.243474 100.533336 \r\nz\r\n\" style=\"fill:#3b4cc0;fill-opacity:0.8;\"/>\r\n    <path clip-path=\"url(#p44e93de451)\" d=\"M 367.998768 100.533336 \r\nL 367.998768 87.742748 \r\nL 383.754063 87.742748 \r\nL 383.754063 100.533336 \r\nL 367.998768 100.533336 \r\nz\r\n\" style=\"fill:#3b4cc0;fill-opacity:0.8;\"/>\r\n    <path clip-path=\"url(#p44e93de451)\" d=\"M 115.914062 87.742748 \r\nL 115.914062 74.95216 \r\nL 131.669357 74.95216 \r\nL 131.669357 87.742748 \r\nL 115.914062 87.742748 \r\nz\r\n\" style=\"fill:#3b4cc0;fill-opacity:0.8;\"/>\r\n    <path clip-path=\"url(#p44e93de451)\" d=\"M 131.669357 87.742748 \r\nL 131.669357 74.95216 \r\nL 147.424651 74.95216 \r\nL 147.424651 87.742748 \r\nL 131.669357 87.742748 \r\nz\r\n\" style=\"fill:#3b4cc0;fill-opacity:0.8;\"/>\r\n    <path clip-path=\"url(#p44e93de451)\" d=\"M 147.424651 87.742748 \r\nL 147.424651 74.95216 \r\nL 163.179945 74.95216 \r\nL 163.179945 87.742748 \r\nL 147.424651 87.742748 \r\nz\r\n\" style=\"fill:#3b4cc0;fill-opacity:0.8;\"/>\r\n    <path clip-path=\"url(#p44e93de451)\" d=\"M 163.179945 87.742748 \r\nL 163.179945 74.95216 \r\nL 178.935239 74.95216 \r\nL 178.935239 87.742748 \r\nL 163.179945 87.742748 \r\nz\r\n\" style=\"fill:#3b4cc0;fill-opacity:0.8;\"/>\r\n    <path clip-path=\"url(#p44e93de451)\" d=\"M 178.935239 87.742748 \r\nL 178.935239 74.95216 \r\nL 194.690533 74.95216 \r\nL 194.690533 87.742748 \r\nL 178.935239 87.742748 \r\nz\r\n\" style=\"fill:#3b4cc0;fill-opacity:0.8;\"/>\r\n    <path clip-path=\"url(#p44e93de451)\" d=\"M 194.690533 87.742748 \r\nL 194.690533 74.95216 \r\nL 210.445827 74.95216 \r\nL 210.445827 87.742748 \r\nL 194.690533 87.742748 \r\nz\r\n\" style=\"fill:#3b4cc0;fill-opacity:0.8;\"/>\r\n    <path clip-path=\"url(#p44e93de451)\" d=\"M 210.445827 87.742748 \r\nL 210.445827 74.95216 \r\nL 226.201121 74.95216 \r\nL 226.201121 87.742748 \r\nL 210.445827 87.742748 \r\nz\r\n\" style=\"fill:#3b4cc0;fill-opacity:0.8;\"/>\r\n    <path clip-path=\"url(#p44e93de451)\" d=\"M 226.201121 87.742748 \r\nL 226.201121 74.95216 \r\nL 241.956415 74.95216 \r\nL 241.956415 87.742748 \r\nL 226.201121 87.742748 \r\nz\r\n\" style=\"fill:#3b4cc0;fill-opacity:0.8;\"/>\r\n    <path clip-path=\"url(#p44e93de451)\" d=\"M 241.956415 87.742748 \r\nL 241.956415 74.95216 \r\nL 257.71171 74.95216 \r\nL 257.71171 87.742748 \r\nL 241.956415 87.742748 \r\nz\r\n\" style=\"fill:#3b4cc0;fill-opacity:0.8;\"/>\r\n    <path clip-path=\"url(#p44e93de451)\" d=\"M 257.71171 87.742748 \r\nL 257.71171 74.95216 \r\nL 273.467004 74.95216 \r\nL 273.467004 87.742748 \r\nL 257.71171 87.742748 \r\nz\r\n\" style=\"fill:#3b4cc0;fill-opacity:0.8;\"/>\r\n    <path clip-path=\"url(#p44e93de451)\" d=\"M 273.467004 87.742748 \r\nL 273.467004 74.95216 \r\nL 289.222298 74.95216 \r\nL 289.222298 87.742748 \r\nL 273.467004 87.742748 \r\nz\r\n\" style=\"fill:#3b4cc0;fill-opacity:0.8;\"/>\r\n    <path clip-path=\"url(#p44e93de451)\" d=\"M 289.222298 87.742748 \r\nL 289.222298 74.95216 \r\nL 304.977592 74.95216 \r\nL 304.977592 87.742748 \r\nL 289.222298 87.742748 \r\nz\r\n\" style=\"fill:#b40426;fill-opacity:0.8;\"/>\r\n    <path clip-path=\"url(#p44e93de451)\" d=\"M 304.977592 87.742748 \r\nL 304.977592 74.95216 \r\nL 320.732886 74.95216 \r\nL 320.732886 87.742748 \r\nL 304.977592 87.742748 \r\nz\r\n\" style=\"fill:#3b4cc0;fill-opacity:0.8;\"/>\r\n    <path clip-path=\"url(#p44e93de451)\" d=\"M 320.732886 87.742748 \r\nL 320.732886 74.95216 \r\nL 336.48818 74.95216 \r\nL 336.48818 87.742748 \r\nL 320.732886 87.742748 \r\nz\r\n\" style=\"fill:#3b4cc0;fill-opacity:0.8;\"/>\r\n    <path clip-path=\"url(#p44e93de451)\" d=\"M 336.48818 87.742748 \r\nL 336.48818 74.95216 \r\nL 352.243474 74.95216 \r\nL 352.243474 87.742748 \r\nL 336.48818 87.742748 \r\nz\r\n\" style=\"fill:#3b4cc0;fill-opacity:0.8;\"/>\r\n    <path clip-path=\"url(#p44e93de451)\" d=\"M 352.243474 87.742748 \r\nL 352.243474 74.95216 \r\nL 367.998768 74.95216 \r\nL 367.998768 87.742748 \r\nL 352.243474 87.742748 \r\nz\r\n\" style=\"fill:#3b4cc0;fill-opacity:0.8;\"/>\r\n    <path clip-path=\"url(#p44e93de451)\" d=\"M 367.998768 87.742748 \r\nL 367.998768 74.95216 \r\nL 383.754063 74.95216 \r\nL 383.754063 87.742748 \r\nL 367.998768 87.742748 \r\nz\r\n\" style=\"fill:#3b4cc0;fill-opacity:0.8;\"/>\r\n    <path clip-path=\"url(#p44e93de451)\" d=\"M 115.914062 74.95216 \r\nL 115.914062 62.161572 \r\nL 131.669357 62.161572 \r\nL 131.669357 74.95216 \r\nL 115.914062 74.95216 \r\nz\r\n\" style=\"fill:#3b4cc0;fill-opacity:0.8;\"/>\r\n    <path clip-path=\"url(#p44e93de451)\" d=\"M 131.669357 74.95216 \r\nL 131.669357 62.161572 \r\nL 147.424651 62.161572 \r\nL 147.424651 74.95216 \r\nL 131.669357 74.95216 \r\nz\r\n\" style=\"fill:#3b4cc0;fill-opacity:0.8;\"/>\r\n    <path clip-path=\"url(#p44e93de451)\" d=\"M 147.424651 74.95216 \r\nL 147.424651 62.161572 \r\nL 163.179945 62.161572 \r\nL 163.179945 74.95216 \r\nL 147.424651 74.95216 \r\nz\r\n\" style=\"fill:#3b4cc0;fill-opacity:0.8;\"/>\r\n    <path clip-path=\"url(#p44e93de451)\" d=\"M 163.179945 74.95216 \r\nL 163.179945 62.161572 \r\nL 178.935239 62.161572 \r\nL 178.935239 74.95216 \r\nL 163.179945 74.95216 \r\nz\r\n\" style=\"fill:#3b4cc0;fill-opacity:0.8;\"/>\r\n    <path clip-path=\"url(#p44e93de451)\" d=\"M 178.935239 74.95216 \r\nL 178.935239 62.161572 \r\nL 194.690533 62.161572 \r\nL 194.690533 74.95216 \r\nL 178.935239 74.95216 \r\nz\r\n\" style=\"fill:#3b4cc0;fill-opacity:0.8;\"/>\r\n    <path clip-path=\"url(#p44e93de451)\" d=\"M 194.690533 74.95216 \r\nL 194.690533 62.161572 \r\nL 210.445827 62.161572 \r\nL 210.445827 74.95216 \r\nL 194.690533 74.95216 \r\nz\r\n\" style=\"fill:#3b4cc0;fill-opacity:0.8;\"/>\r\n    <path clip-path=\"url(#p44e93de451)\" d=\"M 210.445827 74.95216 \r\nL 210.445827 62.161572 \r\nL 226.201121 62.161572 \r\nL 226.201121 74.95216 \r\nL 210.445827 74.95216 \r\nz\r\n\" style=\"fill:#3b4cc0;fill-opacity:0.8;\"/>\r\n    <path clip-path=\"url(#p44e93de451)\" d=\"M 226.201121 74.95216 \r\nL 226.201121 62.161572 \r\nL 241.956415 62.161572 \r\nL 241.956415 74.95216 \r\nL 226.201121 74.95216 \r\nz\r\n\" style=\"fill:#3b4cc0;fill-opacity:0.8;\"/>\r\n    <path clip-path=\"url(#p44e93de451)\" d=\"M 241.956415 74.95216 \r\nL 241.956415 62.161572 \r\nL 257.71171 62.161572 \r\nL 257.71171 74.95216 \r\nL 241.956415 74.95216 \r\nz\r\n\" style=\"fill:#3b4cc0;fill-opacity:0.8;\"/>\r\n    <path clip-path=\"url(#p44e93de451)\" d=\"M 257.71171 74.95216 \r\nL 257.71171 62.161572 \r\nL 273.467004 62.161572 \r\nL 273.467004 74.95216 \r\nL 257.71171 74.95216 \r\nz\r\n\" style=\"fill:#3b4cc0;fill-opacity:0.8;\"/>\r\n    <path clip-path=\"url(#p44e93de451)\" d=\"M 273.467004 74.95216 \r\nL 273.467004 62.161572 \r\nL 289.222298 62.161572 \r\nL 289.222298 74.95216 \r\nL 273.467004 74.95216 \r\nz\r\n\" style=\"fill:#f29072;fill-opacity:0.8;\"/>\r\n    <path clip-path=\"url(#p44e93de451)\" d=\"M 289.222298 74.95216 \r\nL 289.222298 62.161572 \r\nL 304.977592 62.161572 \r\nL 304.977592 74.95216 \r\nL 289.222298 74.95216 \r\nz\r\n\" style=\"fill:#3b4cc0;fill-opacity:0.8;\"/>\r\n    <path clip-path=\"url(#p44e93de451)\" d=\"M 304.977592 74.95216 \r\nL 304.977592 62.161572 \r\nL 320.732886 62.161572 \r\nL 320.732886 74.95216 \r\nL 304.977592 74.95216 \r\nz\r\n\" style=\"fill:#b40426;fill-opacity:0.8;\"/>\r\n    <path clip-path=\"url(#p44e93de451)\" d=\"M 320.732886 74.95216 \r\nL 320.732886 62.161572 \r\nL 336.48818 62.161572 \r\nL 336.48818 74.95216 \r\nL 320.732886 74.95216 \r\nz\r\n\" style=\"fill:#3b4cc0;fill-opacity:0.8;\"/>\r\n    <path clip-path=\"url(#p44e93de451)\" d=\"M 336.48818 74.95216 \r\nL 336.48818 62.161572 \r\nL 352.243474 62.161572 \r\nL 352.243474 74.95216 \r\nL 336.48818 74.95216 \r\nz\r\n\" style=\"fill:#3b4cc0;fill-opacity:0.8;\"/>\r\n    <path clip-path=\"url(#p44e93de451)\" d=\"M 352.243474 74.95216 \r\nL 352.243474 62.161572 \r\nL 367.998768 62.161572 \r\nL 367.998768 74.95216 \r\nL 352.243474 74.95216 \r\nz\r\n\" style=\"fill:#3b4cc0;fill-opacity:0.8;\"/>\r\n    <path clip-path=\"url(#p44e93de451)\" d=\"M 367.998768 74.95216 \r\nL 367.998768 62.161572 \r\nL 383.754063 62.161572 \r\nL 383.754063 74.95216 \r\nL 367.998768 74.95216 \r\nz\r\n\" style=\"fill:#3b4cc0;fill-opacity:0.8;\"/>\r\n    <path clip-path=\"url(#p44e93de451)\" d=\"M 115.914062 62.161572 \r\nL 115.914062 49.370983 \r\nL 131.669357 49.370983 \r\nL 131.669357 62.161572 \r\nL 115.914062 62.161572 \r\nz\r\n\" style=\"fill:#b8122a;fill-opacity:0.8;\"/>\r\n    <path clip-path=\"url(#p44e93de451)\" d=\"M 131.669357 62.161572 \r\nL 131.669357 49.370983 \r\nL 147.424651 49.370983 \r\nL 147.424651 62.161572 \r\nL 131.669357 62.161572 \r\nz\r\n\" style=\"fill:#3b4cc0;fill-opacity:0.8;\"/>\r\n    <path clip-path=\"url(#p44e93de451)\" d=\"M 147.424651 62.161572 \r\nL 147.424651 49.370983 \r\nL 163.179945 49.370983 \r\nL 163.179945 62.161572 \r\nL 147.424651 62.161572 \r\nz\r\n\" style=\"fill:#3b4cc0;fill-opacity:0.8;\"/>\r\n    <path clip-path=\"url(#p44e93de451)\" d=\"M 163.179945 62.161572 \r\nL 163.179945 49.370983 \r\nL 178.935239 49.370983 \r\nL 178.935239 62.161572 \r\nL 163.179945 62.161572 \r\nz\r\n\" style=\"fill:#3b4cc0;fill-opacity:0.8;\"/>\r\n    <path clip-path=\"url(#p44e93de451)\" d=\"M 178.935239 62.161572 \r\nL 178.935239 49.370983 \r\nL 194.690533 49.370983 \r\nL 194.690533 62.161572 \r\nL 178.935239 62.161572 \r\nz\r\n\" style=\"fill:#3b4cc0;fill-opacity:0.8;\"/>\r\n    <path clip-path=\"url(#p44e93de451)\" d=\"M 194.690533 62.161572 \r\nL 194.690533 49.370983 \r\nL 210.445827 49.370983 \r\nL 210.445827 62.161572 \r\nL 194.690533 62.161572 \r\nz\r\n\" style=\"fill:#3b4cc0;fill-opacity:0.8;\"/>\r\n    <path clip-path=\"url(#p44e93de451)\" d=\"M 210.445827 62.161572 \r\nL 210.445827 49.370983 \r\nL 226.201121 49.370983 \r\nL 226.201121 62.161572 \r\nL 210.445827 62.161572 \r\nz\r\n\" style=\"fill:#3b4cc0;fill-opacity:0.8;\"/>\r\n    <path clip-path=\"url(#p44e93de451)\" d=\"M 226.201121 62.161572 \r\nL 226.201121 49.370983 \r\nL 241.956415 49.370983 \r\nL 241.956415 62.161572 \r\nL 226.201121 62.161572 \r\nz\r\n\" style=\"fill:#3b4cc0;fill-opacity:0.8;\"/>\r\n    <path clip-path=\"url(#p44e93de451)\" d=\"M 241.956415 62.161572 \r\nL 241.956415 49.370983 \r\nL 257.71171 49.370983 \r\nL 257.71171 62.161572 \r\nL 241.956415 62.161572 \r\nz\r\n\" style=\"fill:#3b4cc0;fill-opacity:0.8;\"/>\r\n    <path clip-path=\"url(#p44e93de451)\" d=\"M 257.71171 62.161572 \r\nL 257.71171 49.370983 \r\nL 273.467004 49.370983 \r\nL 273.467004 62.161572 \r\nL 257.71171 62.161572 \r\nz\r\n\" style=\"fill:#3b4cc0;fill-opacity:0.8;\"/>\r\n    <path clip-path=\"url(#p44e93de451)\" d=\"M 273.467004 62.161572 \r\nL 273.467004 49.370983 \r\nL 289.222298 49.370983 \r\nL 289.222298 62.161572 \r\nL 273.467004 62.161572 \r\nz\r\n\" style=\"fill:#3b4cc0;fill-opacity:0.8;\"/>\r\n    <path clip-path=\"url(#p44e93de451)\" d=\"M 289.222298 62.161572 \r\nL 289.222298 49.370983 \r\nL 304.977592 49.370983 \r\nL 304.977592 62.161572 \r\nL 289.222298 62.161572 \r\nz\r\n\" style=\"fill:#3b4cc0;fill-opacity:0.8;\"/>\r\n    <path clip-path=\"url(#p44e93de451)\" d=\"M 304.977592 62.161572 \r\nL 304.977592 49.370983 \r\nL 320.732886 49.370983 \r\nL 320.732886 62.161572 \r\nL 304.977592 62.161572 \r\nz\r\n\" style=\"fill:#3b4cc0;fill-opacity:0.8;\"/>\r\n    <path clip-path=\"url(#p44e93de451)\" d=\"M 320.732886 62.161572 \r\nL 320.732886 49.370983 \r\nL 336.48818 49.370983 \r\nL 336.48818 62.161572 \r\nL 320.732886 62.161572 \r\nz\r\n\" style=\"fill:#b40426;fill-opacity:0.8;\"/>\r\n    <path clip-path=\"url(#p44e93de451)\" d=\"M 336.48818 62.161572 \r\nL 336.48818 49.370983 \r\nL 352.243474 49.370983 \r\nL 352.243474 62.161572 \r\nL 336.48818 62.161572 \r\nz\r\n\" style=\"fill:#3b4cc0;fill-opacity:0.8;\"/>\r\n    <path clip-path=\"url(#p44e93de451)\" d=\"M 352.243474 62.161572 \r\nL 352.243474 49.370983 \r\nL 367.998768 49.370983 \r\nL 367.998768 62.161572 \r\nL 352.243474 62.161572 \r\nz\r\n\" style=\"fill:#3b4cc0;fill-opacity:0.8;\"/>\r\n    <path clip-path=\"url(#p44e93de451)\" d=\"M 367.998768 62.161572 \r\nL 367.998768 49.370983 \r\nL 383.754063 49.370983 \r\nL 383.754063 62.161572 \r\nL 367.998768 62.161572 \r\nz\r\n\" style=\"fill:#3b4cc0;fill-opacity:0.8;\"/>\r\n    <path clip-path=\"url(#p44e93de451)\" d=\"M 115.914062 49.370983 \r\nL 115.914062 36.580395 \r\nL 131.669357 36.580395 \r\nL 131.669357 49.370983 \r\nL 115.914062 49.370983 \r\nz\r\n\" style=\"fill:#3b4cc0;fill-opacity:0.8;\"/>\r\n    <path clip-path=\"url(#p44e93de451)\" d=\"M 131.669357 49.370983 \r\nL 131.669357 36.580395 \r\nL 147.424651 36.580395 \r\nL 147.424651 49.370983 \r\nL 131.669357 49.370983 \r\nz\r\n\" style=\"fill:#3b4cc0;fill-opacity:0.8;\"/>\r\n    <path clip-path=\"url(#p44e93de451)\" d=\"M 147.424651 49.370983 \r\nL 147.424651 36.580395 \r\nL 163.179945 36.580395 \r\nL 163.179945 49.370983 \r\nL 147.424651 49.370983 \r\nz\r\n\" style=\"fill:#3b4cc0;fill-opacity:0.8;\"/>\r\n    <path clip-path=\"url(#p44e93de451)\" d=\"M 163.179945 49.370983 \r\nL 163.179945 36.580395 \r\nL 178.935239 36.580395 \r\nL 178.935239 49.370983 \r\nL 163.179945 49.370983 \r\nz\r\n\" style=\"fill:#3b4cc0;fill-opacity:0.8;\"/>\r\n    <path clip-path=\"url(#p44e93de451)\" d=\"M 178.935239 49.370983 \r\nL 178.935239 36.580395 \r\nL 194.690533 36.580395 \r\nL 194.690533 49.370983 \r\nL 178.935239 49.370983 \r\nz\r\n\" style=\"fill:#3b4cc0;fill-opacity:0.8;\"/>\r\n    <path clip-path=\"url(#p44e93de451)\" d=\"M 194.690533 49.370983 \r\nL 194.690533 36.580395 \r\nL 210.445827 36.580395 \r\nL 210.445827 49.370983 \r\nL 194.690533 49.370983 \r\nz\r\n\" style=\"fill:#3b4cc0;fill-opacity:0.8;\"/>\r\n    <path clip-path=\"url(#p44e93de451)\" d=\"M 210.445827 49.370983 \r\nL 210.445827 36.580395 \r\nL 226.201121 36.580395 \r\nL 226.201121 49.370983 \r\nL 210.445827 49.370983 \r\nz\r\n\" style=\"fill:#3b4cc0;fill-opacity:0.8;\"/>\r\n    <path clip-path=\"url(#p44e93de451)\" d=\"M 226.201121 49.370983 \r\nL 226.201121 36.580395 \r\nL 241.956415 36.580395 \r\nL 241.956415 49.370983 \r\nL 226.201121 49.370983 \r\nz\r\n\" style=\"fill:#3b4cc0;fill-opacity:0.8;\"/>\r\n    <path clip-path=\"url(#p44e93de451)\" d=\"M 241.956415 49.370983 \r\nL 241.956415 36.580395 \r\nL 257.71171 36.580395 \r\nL 257.71171 49.370983 \r\nL 241.956415 49.370983 \r\nz\r\n\" style=\"fill:#3b4cc0;fill-opacity:0.8;\"/>\r\n    <path clip-path=\"url(#p44e93de451)\" d=\"M 257.71171 49.370983 \r\nL 257.71171 36.580395 \r\nL 273.467004 36.580395 \r\nL 273.467004 49.370983 \r\nL 257.71171 49.370983 \r\nz\r\n\" style=\"fill:#3b4cc0;fill-opacity:0.8;\"/>\r\n    <path clip-path=\"url(#p44e93de451)\" d=\"M 273.467004 49.370983 \r\nL 273.467004 36.580395 \r\nL 289.222298 36.580395 \r\nL 289.222298 49.370983 \r\nL 273.467004 49.370983 \r\nz\r\n\" style=\"fill:#3b4cc0;fill-opacity:0.8;\"/>\r\n    <path clip-path=\"url(#p44e93de451)\" d=\"M 289.222298 49.370983 \r\nL 289.222298 36.580395 \r\nL 304.977592 36.580395 \r\nL 304.977592 49.370983 \r\nL 289.222298 49.370983 \r\nz\r\n\" style=\"fill:#3b4cc0;fill-opacity:0.8;\"/>\r\n    <path clip-path=\"url(#p44e93de451)\" d=\"M 304.977592 49.370983 \r\nL 304.977592 36.580395 \r\nL 320.732886 36.580395 \r\nL 320.732886 49.370983 \r\nL 304.977592 49.370983 \r\nz\r\n\" style=\"fill:#3b4cc0;fill-opacity:0.8;\"/>\r\n    <path clip-path=\"url(#p44e93de451)\" d=\"M 320.732886 49.370983 \r\nL 320.732886 36.580395 \r\nL 336.48818 36.580395 \r\nL 336.48818 49.370983 \r\nL 320.732886 49.370983 \r\nz\r\n\" style=\"fill:#3b4cc0;fill-opacity:0.8;\"/>\r\n    <path clip-path=\"url(#p44e93de451)\" d=\"M 336.48818 49.370983 \r\nL 336.48818 36.580395 \r\nL 352.243474 36.580395 \r\nL 352.243474 49.370983 \r\nL 336.48818 49.370983 \r\nz\r\n\" style=\"fill:#b40426;fill-opacity:0.8;\"/>\r\n    <path clip-path=\"url(#p44e93de451)\" d=\"M 352.243474 49.370983 \r\nL 352.243474 36.580395 \r\nL 367.998768 36.580395 \r\nL 367.998768 49.370983 \r\nL 352.243474 49.370983 \r\nz\r\n\" style=\"fill:#3b4cc0;fill-opacity:0.8;\"/>\r\n    <path clip-path=\"url(#p44e93de451)\" d=\"M 367.998768 49.370983 \r\nL 367.998768 36.580395 \r\nL 383.754063 36.580395 \r\nL 383.754063 49.370983 \r\nL 367.998768 49.370983 \r\nz\r\n\" style=\"fill:#3b4cc0;fill-opacity:0.8;\"/>\r\n    <path clip-path=\"url(#p44e93de451)\" d=\"M 115.914062 36.580395 \r\nL 115.914062 23.789807 \r\nL 131.669357 23.789807 \r\nL 131.669357 36.580395 \r\nL 115.914062 36.580395 \r\nz\r\n\" style=\"fill:#3b4cc0;fill-opacity:0.8;\"/>\r\n    <path clip-path=\"url(#p44e93de451)\" d=\"M 131.669357 36.580395 \r\nL 131.669357 23.789807 \r\nL 147.424651 23.789807 \r\nL 147.424651 36.580395 \r\nL 131.669357 36.580395 \r\nz\r\n\" style=\"fill:#3b4cc0;fill-opacity:0.8;\"/>\r\n    <path clip-path=\"url(#p44e93de451)\" d=\"M 147.424651 36.580395 \r\nL 147.424651 23.789807 \r\nL 163.179945 23.789807 \r\nL 163.179945 36.580395 \r\nL 147.424651 36.580395 \r\nz\r\n\" style=\"fill:#3b4cc0;fill-opacity:0.8;\"/>\r\n    <path clip-path=\"url(#p44e93de451)\" d=\"M 163.179945 36.580395 \r\nL 163.179945 23.789807 \r\nL 178.935239 23.789807 \r\nL 178.935239 36.580395 \r\nL 163.179945 36.580395 \r\nz\r\n\" style=\"fill:#3b4cc0;fill-opacity:0.8;\"/>\r\n    <path clip-path=\"url(#p44e93de451)\" d=\"M 178.935239 36.580395 \r\nL 178.935239 23.789807 \r\nL 194.690533 23.789807 \r\nL 194.690533 36.580395 \r\nL 178.935239 36.580395 \r\nz\r\n\" style=\"fill:#3b4cc0;fill-opacity:0.8;\"/>\r\n    <path clip-path=\"url(#p44e93de451)\" d=\"M 194.690533 36.580395 \r\nL 194.690533 23.789807 \r\nL 210.445827 23.789807 \r\nL 210.445827 36.580395 \r\nL 194.690533 36.580395 \r\nz\r\n\" style=\"fill:#3b4cc0;fill-opacity:0.8;\"/>\r\n    <path clip-path=\"url(#p44e93de451)\" d=\"M 210.445827 36.580395 \r\nL 210.445827 23.789807 \r\nL 226.201121 23.789807 \r\nL 226.201121 36.580395 \r\nL 210.445827 36.580395 \r\nz\r\n\" style=\"fill:#3b4cc0;fill-opacity:0.8;\"/>\r\n    <path clip-path=\"url(#p44e93de451)\" d=\"M 226.201121 36.580395 \r\nL 226.201121 23.789807 \r\nL 241.956415 23.789807 \r\nL 241.956415 36.580395 \r\nL 226.201121 36.580395 \r\nz\r\n\" style=\"fill:#3b4cc0;fill-opacity:0.8;\"/>\r\n    <path clip-path=\"url(#p44e93de451)\" d=\"M 241.956415 36.580395 \r\nL 241.956415 23.789807 \r\nL 257.71171 23.789807 \r\nL 257.71171 36.580395 \r\nL 241.956415 36.580395 \r\nz\r\n\" style=\"fill:#3b4cc0;fill-opacity:0.8;\"/>\r\n    <path clip-path=\"url(#p44e93de451)\" d=\"M 257.71171 36.580395 \r\nL 257.71171 23.789807 \r\nL 273.467004 23.789807 \r\nL 273.467004 36.580395 \r\nL 257.71171 36.580395 \r\nz\r\n\" style=\"fill:#3b4cc0;fill-opacity:0.8;\"/>\r\n    <path clip-path=\"url(#p44e93de451)\" d=\"M 273.467004 36.580395 \r\nL 273.467004 23.789807 \r\nL 289.222298 23.789807 \r\nL 289.222298 36.580395 \r\nL 273.467004 36.580395 \r\nz\r\n\" style=\"fill:#3b4cc0;fill-opacity:0.8;\"/>\r\n    <path clip-path=\"url(#p44e93de451)\" d=\"M 289.222298 36.580395 \r\nL 289.222298 23.789807 \r\nL 304.977592 23.789807 \r\nL 304.977592 36.580395 \r\nL 289.222298 36.580395 \r\nz\r\n\" style=\"fill:#3b4cc0;fill-opacity:0.8;\"/>\r\n    <path clip-path=\"url(#p44e93de451)\" d=\"M 304.977592 36.580395 \r\nL 304.977592 23.789807 \r\nL 320.732886 23.789807 \r\nL 320.732886 36.580395 \r\nL 304.977592 36.580395 \r\nz\r\n\" style=\"fill:#3b4cc0;fill-opacity:0.8;\"/>\r\n    <path clip-path=\"url(#p44e93de451)\" d=\"M 320.732886 36.580395 \r\nL 320.732886 23.789807 \r\nL 336.48818 23.789807 \r\nL 336.48818 36.580395 \r\nL 320.732886 36.580395 \r\nz\r\n\" style=\"fill:#3b4cc0;fill-opacity:0.8;\"/>\r\n    <path clip-path=\"url(#p44e93de451)\" d=\"M 336.48818 36.580395 \r\nL 336.48818 23.789807 \r\nL 352.243474 23.789807 \r\nL 352.243474 36.580395 \r\nL 336.48818 36.580395 \r\nz\r\n\" style=\"fill:#3b4cc0;fill-opacity:0.8;\"/>\r\n    <path clip-path=\"url(#p44e93de451)\" d=\"M 352.243474 36.580395 \r\nL 352.243474 23.789807 \r\nL 367.998768 23.789807 \r\nL 367.998768 36.580395 \r\nL 352.243474 36.580395 \r\nz\r\n\" style=\"fill:#b40426;fill-opacity:0.8;\"/>\r\n    <path clip-path=\"url(#p44e93de451)\" d=\"M 367.998768 36.580395 \r\nL 367.998768 23.789807 \r\nL 383.754063 23.789807 \r\nL 383.754063 36.580395 \r\nL 367.998768 36.580395 \r\nz\r\n\" style=\"fill:#3b4cc0;fill-opacity:0.8;\"/>\r\n    <path clip-path=\"url(#p44e93de451)\" d=\"M 115.914062 23.789807 \r\nL 115.914062 10.999219 \r\nL 131.669357 10.999219 \r\nL 131.669357 23.789807 \r\nL 115.914062 23.789807 \r\nz\r\n\" style=\"fill:#3b4cc0;fill-opacity:0.8;\"/>\r\n    <path clip-path=\"url(#p44e93de451)\" d=\"M 131.669357 23.789807 \r\nL 131.669357 10.999219 \r\nL 147.424651 10.999219 \r\nL 147.424651 23.789807 \r\nL 131.669357 23.789807 \r\nz\r\n\" style=\"fill:#e2dad5;fill-opacity:0.8;\"/>\r\n    <path clip-path=\"url(#p44e93de451)\" d=\"M 147.424651 23.789807 \r\nL 147.424651 10.999219 \r\nL 163.179945 10.999219 \r\nL 163.179945 23.789807 \r\nL 147.424651 23.789807 \r\nz\r\n\" style=\"fill:#3b4cc0;fill-opacity:0.8;\"/>\r\n    <path clip-path=\"url(#p44e93de451)\" d=\"M 163.179945 23.789807 \r\nL 163.179945 10.999219 \r\nL 178.935239 10.999219 \r\nL 178.935239 23.789807 \r\nL 163.179945 23.789807 \r\nz\r\n\" style=\"fill:#3b4cc0;fill-opacity:0.8;\"/>\r\n    <path clip-path=\"url(#p44e93de451)\" d=\"M 178.935239 23.789807 \r\nL 178.935239 10.999219 \r\nL 194.690533 10.999219 \r\nL 194.690533 23.789807 \r\nL 178.935239 23.789807 \r\nz\r\n\" style=\"fill:#3b4cc0;fill-opacity:0.8;\"/>\r\n    <path clip-path=\"url(#p44e93de451)\" d=\"M 194.690533 23.789807 \r\nL 194.690533 10.999219 \r\nL 210.445827 10.999219 \r\nL 210.445827 23.789807 \r\nL 194.690533 23.789807 \r\nz\r\n\" style=\"fill:#3b4cc0;fill-opacity:0.8;\"/>\r\n    <path clip-path=\"url(#p44e93de451)\" d=\"M 210.445827 23.789807 \r\nL 210.445827 10.999219 \r\nL 226.201121 10.999219 \r\nL 226.201121 23.789807 \r\nL 210.445827 23.789807 \r\nz\r\n\" style=\"fill:#3b4cc0;fill-opacity:0.8;\"/>\r\n    <path clip-path=\"url(#p44e93de451)\" d=\"M 226.201121 23.789807 \r\nL 226.201121 10.999219 \r\nL 241.956415 10.999219 \r\nL 241.956415 23.789807 \r\nL 226.201121 23.789807 \r\nz\r\n\" style=\"fill:#3b4cc0;fill-opacity:0.8;\"/>\r\n    <path clip-path=\"url(#p44e93de451)\" d=\"M 241.956415 23.789807 \r\nL 241.956415 10.999219 \r\nL 257.71171 10.999219 \r\nL 257.71171 23.789807 \r\nL 241.956415 23.789807 \r\nz\r\n\" style=\"fill:#3b4cc0;fill-opacity:0.8;\"/>\r\n    <path clip-path=\"url(#p44e93de451)\" d=\"M 257.71171 23.789807 \r\nL 257.71171 10.999219 \r\nL 273.467004 10.999219 \r\nL 273.467004 23.789807 \r\nL 257.71171 23.789807 \r\nz\r\n\" style=\"fill:#3b4cc0;fill-opacity:0.8;\"/>\r\n    <path clip-path=\"url(#p44e93de451)\" d=\"M 273.467004 23.789807 \r\nL 273.467004 10.999219 \r\nL 289.222298 10.999219 \r\nL 289.222298 23.789807 \r\nL 273.467004 23.789807 \r\nz\r\n\" style=\"fill:#3b4cc0;fill-opacity:0.8;\"/>\r\n    <path clip-path=\"url(#p44e93de451)\" d=\"M 289.222298 23.789807 \r\nL 289.222298 10.999219 \r\nL 304.977592 10.999219 \r\nL 304.977592 23.789807 \r\nL 289.222298 23.789807 \r\nz\r\n\" style=\"fill:#3b4cc0;fill-opacity:0.8;\"/>\r\n    <path clip-path=\"url(#p44e93de451)\" d=\"M 304.977592 23.789807 \r\nL 304.977592 10.999219 \r\nL 320.732886 10.999219 \r\nL 320.732886 23.789807 \r\nL 304.977592 23.789807 \r\nz\r\n\" style=\"fill:#3b4cc0;fill-opacity:0.8;\"/>\r\n    <path clip-path=\"url(#p44e93de451)\" d=\"M 320.732886 23.789807 \r\nL 320.732886 10.999219 \r\nL 336.48818 10.999219 \r\nL 336.48818 23.789807 \r\nL 320.732886 23.789807 \r\nz\r\n\" style=\"fill:#3b4cc0;fill-opacity:0.8;\"/>\r\n    <path clip-path=\"url(#p44e93de451)\" d=\"M 336.48818 23.789807 \r\nL 336.48818 10.999219 \r\nL 352.243474 10.999219 \r\nL 352.243474 23.789807 \r\nL 336.48818 23.789807 \r\nz\r\n\" style=\"fill:#3b4cc0;fill-opacity:0.8;\"/>\r\n    <path clip-path=\"url(#p44e93de451)\" d=\"M 352.243474 23.789807 \r\nL 352.243474 10.999219 \r\nL 367.998768 10.999219 \r\nL 367.998768 23.789807 \r\nL 352.243474 23.789807 \r\nz\r\n\" style=\"fill:#3b4cc0;fill-opacity:0.8;\"/>\r\n    <path clip-path=\"url(#p44e93de451)\" d=\"M 367.998768 23.789807 \r\nL 367.998768 10.999219 \r\nL 383.754063 10.999219 \r\nL 383.754063 23.789807 \r\nL 367.998768 23.789807 \r\nz\r\n\" style=\"fill:#b40426;fill-opacity:0.8;\"/>\r\n   </g>\r\n   <g id=\"matplotlib.axis_1\">\r\n    <g id=\"xtick_1\">\r\n     <g id=\"line2d_1\">\r\n      <defs>\r\n       <path d=\"M 0 0 \r\nL 0 3.5 \r\n\" id=\"md5fd839a18\" style=\"stroke:#000000;stroke-width:0.8;\"/>\r\n      </defs>\r\n      <g>\r\n       <use style=\"stroke:#000000;stroke-width:0.8;\" x=\"123.79171\" xlink:href=\"#md5fd839a18\" y=\"228.439219\"/>\r\n      </g>\r\n     </g>\r\n     <g id=\"line2d_2\">\r\n      <defs>\r\n       <path d=\"M 0 0 \r\nL 0 -3.5 \r\n\" id=\"m794a13b23e\" style=\"stroke:#000000;stroke-width:0.8;\"/>\r\n      </defs>\r\n      <g>\r\n       <use style=\"stroke:#000000;stroke-width:0.8;\" x=\"123.79171\" xlink:href=\"#m794a13b23e\" y=\"10.999219\"/>\r\n      </g>\r\n     </g>\r\n     <g id=\"text_1\">\r\n      <!-- car_name_cat -->\r\n      <g transform=\"translate(126.27296 305.082969)rotate(-90)scale(0.1 -0.1)\">\r\n       <defs>\r\n        <path d=\"M 48.78125 52.59375 \r\nL 48.78125 44.1875 \r\nQ 44.96875 46.296875 41.140625 47.34375 \r\nQ 37.3125 48.390625 33.40625 48.390625 \r\nQ 24.65625 48.390625 19.8125 42.84375 \r\nQ 14.984375 37.3125 14.984375 27.296875 \r\nQ 14.984375 17.28125 19.8125 11.734375 \r\nQ 24.65625 6.203125 33.40625 6.203125 \r\nQ 37.3125 6.203125 41.140625 7.25 \r\nQ 44.96875 8.296875 48.78125 10.40625 \r\nL 48.78125 2.09375 \r\nQ 45.015625 0.34375 40.984375 -0.53125 \r\nQ 36.96875 -1.421875 32.421875 -1.421875 \r\nQ 20.0625 -1.421875 12.78125 6.34375 \r\nQ 5.515625 14.109375 5.515625 27.296875 \r\nQ 5.515625 40.671875 12.859375 48.328125 \r\nQ 20.21875 56 33.015625 56 \r\nQ 37.15625 56 41.109375 55.140625 \r\nQ 45.0625 54.296875 48.78125 52.59375 \r\nz\r\n\" id=\"DejaVuSans-99\"/>\r\n        <path d=\"M 34.28125 27.484375 \r\nQ 23.390625 27.484375 19.1875 25 \r\nQ 14.984375 22.515625 14.984375 16.5 \r\nQ 14.984375 11.71875 18.140625 8.90625 \r\nQ 21.296875 6.109375 26.703125 6.109375 \r\nQ 34.1875 6.109375 38.703125 11.40625 \r\nQ 43.21875 16.703125 43.21875 25.484375 \r\nL 43.21875 27.484375 \r\nz\r\nM 52.203125 31.203125 \r\nL 52.203125 0 \r\nL 43.21875 0 \r\nL 43.21875 8.296875 \r\nQ 40.140625 3.328125 35.546875 0.953125 \r\nQ 30.953125 -1.421875 24.3125 -1.421875 \r\nQ 15.921875 -1.421875 10.953125 3.296875 \r\nQ 6 8.015625 6 15.921875 \r\nQ 6 25.140625 12.171875 29.828125 \r\nQ 18.359375 34.515625 30.609375 34.515625 \r\nL 43.21875 34.515625 \r\nL 43.21875 35.40625 \r\nQ 43.21875 41.609375 39.140625 45 \r\nQ 35.0625 48.390625 27.6875 48.390625 \r\nQ 23 48.390625 18.546875 47.265625 \r\nQ 14.109375 46.140625 10.015625 43.890625 \r\nL 10.015625 52.203125 \r\nQ 14.9375 54.109375 19.578125 55.046875 \r\nQ 24.21875 56 28.609375 56 \r\nQ 40.484375 56 46.34375 49.84375 \r\nQ 52.203125 43.703125 52.203125 31.203125 \r\nz\r\n\" id=\"DejaVuSans-97\"/>\r\n        <path d=\"M 41.109375 46.296875 \r\nQ 39.59375 47.171875 37.8125 47.578125 \r\nQ 36.03125 48 33.890625 48 \r\nQ 26.265625 48 22.1875 43.046875 \r\nQ 18.109375 38.09375 18.109375 28.8125 \r\nL 18.109375 0 \r\nL 9.078125 0 \r\nL 9.078125 54.6875 \r\nL 18.109375 54.6875 \r\nL 18.109375 46.1875 \r\nQ 20.953125 51.171875 25.484375 53.578125 \r\nQ 30.03125 56 36.53125 56 \r\nQ 37.453125 56 38.578125 55.875 \r\nQ 39.703125 55.765625 41.0625 55.515625 \r\nz\r\n\" id=\"DejaVuSans-114\"/>\r\n        <path d=\"M 50.984375 -16.609375 \r\nL 50.984375 -23.578125 \r\nL -0.984375 -23.578125 \r\nL -0.984375 -16.609375 \r\nz\r\n\" id=\"DejaVuSans-95\"/>\r\n        <path d=\"M 54.890625 33.015625 \r\nL 54.890625 0 \r\nL 45.90625 0 \r\nL 45.90625 32.71875 \r\nQ 45.90625 40.484375 42.875 44.328125 \r\nQ 39.84375 48.1875 33.796875 48.1875 \r\nQ 26.515625 48.1875 22.3125 43.546875 \r\nQ 18.109375 38.921875 18.109375 30.90625 \r\nL 18.109375 0 \r\nL 9.078125 0 \r\nL 9.078125 54.6875 \r\nL 18.109375 54.6875 \r\nL 18.109375 46.1875 \r\nQ 21.34375 51.125 25.703125 53.5625 \r\nQ 30.078125 56 35.796875 56 \r\nQ 45.21875 56 50.046875 50.171875 \r\nQ 54.890625 44.34375 54.890625 33.015625 \r\nz\r\n\" id=\"DejaVuSans-110\"/>\r\n        <path d=\"M 52 44.1875 \r\nQ 55.375 50.25 60.0625 53.125 \r\nQ 64.75 56 71.09375 56 \r\nQ 79.640625 56 84.28125 50.015625 \r\nQ 88.921875 44.046875 88.921875 33.015625 \r\nL 88.921875 0 \r\nL 79.890625 0 \r\nL 79.890625 32.71875 \r\nQ 79.890625 40.578125 77.09375 44.375 \r\nQ 74.3125 48.1875 68.609375 48.1875 \r\nQ 61.625 48.1875 57.5625 43.546875 \r\nQ 53.515625 38.921875 53.515625 30.90625 \r\nL 53.515625 0 \r\nL 44.484375 0 \r\nL 44.484375 32.71875 \r\nQ 44.484375 40.625 41.703125 44.40625 \r\nQ 38.921875 48.1875 33.109375 48.1875 \r\nQ 26.21875 48.1875 22.15625 43.53125 \r\nQ 18.109375 38.875 18.109375 30.90625 \r\nL 18.109375 0 \r\nL 9.078125 0 \r\nL 9.078125 54.6875 \r\nL 18.109375 54.6875 \r\nL 18.109375 46.1875 \r\nQ 21.1875 51.21875 25.484375 53.609375 \r\nQ 29.78125 56 35.6875 56 \r\nQ 41.65625 56 45.828125 52.96875 \r\nQ 50 49.953125 52 44.1875 \r\nz\r\n\" id=\"DejaVuSans-109\"/>\r\n        <path d=\"M 56.203125 29.59375 \r\nL 56.203125 25.203125 \r\nL 14.890625 25.203125 \r\nQ 15.484375 15.921875 20.484375 11.0625 \r\nQ 25.484375 6.203125 34.421875 6.203125 \r\nQ 39.59375 6.203125 44.453125 7.46875 \r\nQ 49.3125 8.734375 54.109375 11.28125 \r\nL 54.109375 2.78125 \r\nQ 49.265625 0.734375 44.1875 -0.34375 \r\nQ 39.109375 -1.421875 33.890625 -1.421875 \r\nQ 20.796875 -1.421875 13.15625 6.1875 \r\nQ 5.515625 13.8125 5.515625 26.8125 \r\nQ 5.515625 40.234375 12.765625 48.109375 \r\nQ 20.015625 56 32.328125 56 \r\nQ 43.359375 56 49.78125 48.890625 \r\nQ 56.203125 41.796875 56.203125 29.59375 \r\nz\r\nM 47.21875 32.234375 \r\nQ 47.125 39.59375 43.09375 43.984375 \r\nQ 39.0625 48.390625 32.421875 48.390625 \r\nQ 24.90625 48.390625 20.390625 44.140625 \r\nQ 15.875 39.890625 15.1875 32.171875 \r\nz\r\n\" id=\"DejaVuSans-101\"/>\r\n        <path d=\"M 18.3125 70.21875 \r\nL 18.3125 54.6875 \r\nL 36.8125 54.6875 \r\nL 36.8125 47.703125 \r\nL 18.3125 47.703125 \r\nL 18.3125 18.015625 \r\nQ 18.3125 11.328125 20.140625 9.421875 \r\nQ 21.96875 7.515625 27.59375 7.515625 \r\nL 36.8125 7.515625 \r\nL 36.8125 0 \r\nL 27.59375 0 \r\nQ 17.1875 0 13.234375 3.875 \r\nQ 9.28125 7.765625 9.28125 18.015625 \r\nL 9.28125 47.703125 \r\nL 2.6875 47.703125 \r\nL 2.6875 54.6875 \r\nL 9.28125 54.6875 \r\nL 9.28125 70.21875 \r\nz\r\n\" id=\"DejaVuSans-116\"/>\r\n       </defs>\r\n       <use xlink:href=\"#DejaVuSans-99\"/>\r\n       <use x=\"54.980469\" xlink:href=\"#DejaVuSans-97\"/>\r\n       <use x=\"116.259766\" xlink:href=\"#DejaVuSans-114\"/>\r\n       <use x=\"157.373047\" xlink:href=\"#DejaVuSans-95\"/>\r\n       <use x=\"207.373047\" xlink:href=\"#DejaVuSans-110\"/>\r\n       <use x=\"270.751953\" xlink:href=\"#DejaVuSans-97\"/>\r\n       <use x=\"332.03125\" xlink:href=\"#DejaVuSans-109\"/>\r\n       <use x=\"429.443359\" xlink:href=\"#DejaVuSans-101\"/>\r\n       <use x=\"490.966797\" xlink:href=\"#DejaVuSans-95\"/>\r\n       <use x=\"540.966797\" xlink:href=\"#DejaVuSans-99\"/>\r\n       <use x=\"595.947266\" xlink:href=\"#DejaVuSans-97\"/>\r\n       <use x=\"657.226562\" xlink:href=\"#DejaVuSans-116\"/>\r\n      </g>\r\n     </g>\r\n    </g>\r\n    <g id=\"xtick_2\">\r\n     <g id=\"line2d_3\">\r\n      <g>\r\n       <use style=\"stroke:#000000;stroke-width:0.8;\" x=\"139.547004\" xlink:href=\"#md5fd839a18\" y=\"228.439219\"/>\r\n      </g>\r\n     </g>\r\n     <g id=\"line2d_4\">\r\n      <g>\r\n       <use style=\"stroke:#000000;stroke-width:0.8;\" x=\"139.547004\" xlink:href=\"#m794a13b23e\" y=\"10.999219\"/>\r\n      </g>\r\n     </g>\r\n     <g id=\"text_2\">\r\n      <!-- yr_mfr -->\r\n      <g transform=\"translate(142.167316 267.840781)rotate(-90)scale(0.1 -0.1)\">\r\n       <defs>\r\n        <path d=\"M 32.171875 -5.078125 \r\nQ 28.375 -14.84375 24.75 -17.8125 \r\nQ 21.140625 -20.796875 15.09375 -20.796875 \r\nL 7.90625 -20.796875 \r\nL 7.90625 -13.28125 \r\nL 13.1875 -13.28125 \r\nQ 16.890625 -13.28125 18.9375 -11.515625 \r\nQ 21 -9.765625 23.484375 -3.21875 \r\nL 25.09375 0.875 \r\nL 2.984375 54.6875 \r\nL 12.5 54.6875 \r\nL 29.59375 11.921875 \r\nL 46.6875 54.6875 \r\nL 56.203125 54.6875 \r\nz\r\n\" id=\"DejaVuSans-121\"/>\r\n        <path d=\"M 37.109375 75.984375 \r\nL 37.109375 68.5 \r\nL 28.515625 68.5 \r\nQ 23.6875 68.5 21.796875 66.546875 \r\nQ 19.921875 64.59375 19.921875 59.515625 \r\nL 19.921875 54.6875 \r\nL 34.71875 54.6875 \r\nL 34.71875 47.703125 \r\nL 19.921875 47.703125 \r\nL 19.921875 0 \r\nL 10.890625 0 \r\nL 10.890625 47.703125 \r\nL 2.296875 47.703125 \r\nL 2.296875 54.6875 \r\nL 10.890625 54.6875 \r\nL 10.890625 58.5 \r\nQ 10.890625 67.625 15.140625 71.796875 \r\nQ 19.390625 75.984375 28.609375 75.984375 \r\nz\r\n\" id=\"DejaVuSans-102\"/>\r\n       </defs>\r\n       <use xlink:href=\"#DejaVuSans-121\"/>\r\n       <use x=\"59.179688\" xlink:href=\"#DejaVuSans-114\"/>\r\n       <use x=\"100.292969\" xlink:href=\"#DejaVuSans-95\"/>\r\n       <use x=\"150.292969\" xlink:href=\"#DejaVuSans-109\"/>\r\n       <use x=\"247.705078\" xlink:href=\"#DejaVuSans-102\"/>\r\n       <use x=\"282.910156\" xlink:href=\"#DejaVuSans-114\"/>\r\n      </g>\r\n     </g>\r\n    </g>\r\n    <g id=\"xtick_3\">\r\n     <g id=\"line2d_5\">\r\n      <g>\r\n       <use style=\"stroke:#000000;stroke-width:0.8;\" x=\"155.302298\" xlink:href=\"#md5fd839a18\" y=\"228.439219\"/>\r\n      </g>\r\n     </g>\r\n     <g id=\"line2d_6\">\r\n      <g>\r\n       <use style=\"stroke:#000000;stroke-width:0.8;\" x=\"155.302298\" xlink:href=\"#m794a13b23e\" y=\"10.999219\"/>\r\n      </g>\r\n     </g>\r\n     <g id=\"text_3\">\r\n      <!-- fuel_type_cat -->\r\n      <g transform=\"translate(157.92261 302.115781)rotate(-90)scale(0.1 -0.1)\">\r\n       <defs>\r\n        <path d=\"M 8.5 21.578125 \r\nL 8.5 54.6875 \r\nL 17.484375 54.6875 \r\nL 17.484375 21.921875 \r\nQ 17.484375 14.15625 20.5 10.265625 \r\nQ 23.53125 6.390625 29.59375 6.390625 \r\nQ 36.859375 6.390625 41.078125 11.03125 \r\nQ 45.3125 15.671875 45.3125 23.6875 \r\nL 45.3125 54.6875 \r\nL 54.296875 54.6875 \r\nL 54.296875 0 \r\nL 45.3125 0 \r\nL 45.3125 8.40625 \r\nQ 42.046875 3.421875 37.71875 1 \r\nQ 33.40625 -1.421875 27.6875 -1.421875 \r\nQ 18.265625 -1.421875 13.375 4.4375 \r\nQ 8.5 10.296875 8.5 21.578125 \r\nz\r\nM 31.109375 56 \r\nz\r\n\" id=\"DejaVuSans-117\"/>\r\n        <path d=\"M 9.421875 75.984375 \r\nL 18.40625 75.984375 \r\nL 18.40625 0 \r\nL 9.421875 0 \r\nz\r\n\" id=\"DejaVuSans-108\"/>\r\n        <path d=\"M 18.109375 8.203125 \r\nL 18.109375 -20.796875 \r\nL 9.078125 -20.796875 \r\nL 9.078125 54.6875 \r\nL 18.109375 54.6875 \r\nL 18.109375 46.390625 \r\nQ 20.953125 51.265625 25.265625 53.625 \r\nQ 29.59375 56 35.59375 56 \r\nQ 45.5625 56 51.78125 48.09375 \r\nQ 58.015625 40.1875 58.015625 27.296875 \r\nQ 58.015625 14.40625 51.78125 6.484375 \r\nQ 45.5625 -1.421875 35.59375 -1.421875 \r\nQ 29.59375 -1.421875 25.265625 0.953125 \r\nQ 20.953125 3.328125 18.109375 8.203125 \r\nz\r\nM 48.6875 27.296875 \r\nQ 48.6875 37.203125 44.609375 42.84375 \r\nQ 40.53125 48.484375 33.40625 48.484375 \r\nQ 26.265625 48.484375 22.1875 42.84375 \r\nQ 18.109375 37.203125 18.109375 27.296875 \r\nQ 18.109375 17.390625 22.1875 11.75 \r\nQ 26.265625 6.109375 33.40625 6.109375 \r\nQ 40.53125 6.109375 44.609375 11.75 \r\nQ 48.6875 17.390625 48.6875 27.296875 \r\nz\r\n\" id=\"DejaVuSans-112\"/>\r\n       </defs>\r\n       <use xlink:href=\"#DejaVuSans-102\"/>\r\n       <use x=\"35.205078\" xlink:href=\"#DejaVuSans-117\"/>\r\n       <use x=\"98.583984\" xlink:href=\"#DejaVuSans-101\"/>\r\n       <use x=\"160.107422\" xlink:href=\"#DejaVuSans-108\"/>\r\n       <use x=\"187.890625\" xlink:href=\"#DejaVuSans-95\"/>\r\n       <use x=\"237.890625\" xlink:href=\"#DejaVuSans-116\"/>\r\n       <use x=\"277.099609\" xlink:href=\"#DejaVuSans-121\"/>\r\n       <use x=\"336.279297\" xlink:href=\"#DejaVuSans-112\"/>\r\n       <use x=\"399.755859\" xlink:href=\"#DejaVuSans-101\"/>\r\n       <use x=\"461.279297\" xlink:href=\"#DejaVuSans-95\"/>\r\n       <use x=\"511.279297\" xlink:href=\"#DejaVuSans-99\"/>\r\n       <use x=\"566.259766\" xlink:href=\"#DejaVuSans-97\"/>\r\n       <use x=\"627.539062\" xlink:href=\"#DejaVuSans-116\"/>\r\n      </g>\r\n     </g>\r\n    </g>\r\n    <g id=\"xtick_4\">\r\n     <g id=\"line2d_7\">\r\n      <g>\r\n       <use style=\"stroke:#000000;stroke-width:0.8;\" x=\"171.057592\" xlink:href=\"#md5fd839a18\" y=\"228.439219\"/>\r\n      </g>\r\n     </g>\r\n     <g id=\"line2d_8\">\r\n      <g>\r\n       <use style=\"stroke:#000000;stroke-width:0.8;\" x=\"171.057592\" xlink:href=\"#m794a13b23e\" y=\"10.999219\"/>\r\n      </g>\r\n     </g>\r\n     <g id=\"text_4\">\r\n      <!-- kms_run -->\r\n      <g transform=\"translate(173.677904 277.965781)rotate(-90)scale(0.1 -0.1)\">\r\n       <defs>\r\n        <path d=\"M 9.078125 75.984375 \r\nL 18.109375 75.984375 \r\nL 18.109375 31.109375 \r\nL 44.921875 54.6875 \r\nL 56.390625 54.6875 \r\nL 27.390625 29.109375 \r\nL 57.625 0 \r\nL 45.90625 0 \r\nL 18.109375 26.703125 \r\nL 18.109375 0 \r\nL 9.078125 0 \r\nz\r\n\" id=\"DejaVuSans-107\"/>\r\n        <path d=\"M 44.28125 53.078125 \r\nL 44.28125 44.578125 \r\nQ 40.484375 46.53125 36.375 47.5 \r\nQ 32.28125 48.484375 27.875 48.484375 \r\nQ 21.1875 48.484375 17.84375 46.4375 \r\nQ 14.5 44.390625 14.5 40.28125 \r\nQ 14.5 37.15625 16.890625 35.375 \r\nQ 19.28125 33.59375 26.515625 31.984375 \r\nL 29.59375 31.296875 \r\nQ 39.15625 29.25 43.1875 25.515625 \r\nQ 47.21875 21.78125 47.21875 15.09375 \r\nQ 47.21875 7.46875 41.1875 3.015625 \r\nQ 35.15625 -1.421875 24.609375 -1.421875 \r\nQ 20.21875 -1.421875 15.453125 -0.5625 \r\nQ 10.6875 0.296875 5.421875 2 \r\nL 5.421875 11.28125 \r\nQ 10.40625 8.6875 15.234375 7.390625 \r\nQ 20.0625 6.109375 24.8125 6.109375 \r\nQ 31.15625 6.109375 34.5625 8.28125 \r\nQ 37.984375 10.453125 37.984375 14.40625 \r\nQ 37.984375 18.0625 35.515625 20.015625 \r\nQ 33.0625 21.96875 24.703125 23.78125 \r\nL 21.578125 24.515625 \r\nQ 13.234375 26.265625 9.515625 29.90625 \r\nQ 5.8125 33.546875 5.8125 39.890625 \r\nQ 5.8125 47.609375 11.28125 51.796875 \r\nQ 16.75 56 26.8125 56 \r\nQ 31.78125 56 36.171875 55.265625 \r\nQ 40.578125 54.546875 44.28125 53.078125 \r\nz\r\n\" id=\"DejaVuSans-115\"/>\r\n       </defs>\r\n       <use xlink:href=\"#DejaVuSans-107\"/>\r\n       <use x=\"57.910156\" xlink:href=\"#DejaVuSans-109\"/>\r\n       <use x=\"155.322266\" xlink:href=\"#DejaVuSans-115\"/>\r\n       <use x=\"207.421875\" xlink:href=\"#DejaVuSans-95\"/>\r\n       <use x=\"257.421875\" xlink:href=\"#DejaVuSans-114\"/>\r\n       <use x=\"298.535156\" xlink:href=\"#DejaVuSans-117\"/>\r\n       <use x=\"361.914062\" xlink:href=\"#DejaVuSans-110\"/>\r\n      </g>\r\n     </g>\r\n    </g>\r\n    <g id=\"xtick_5\">\r\n     <g id=\"line2d_9\">\r\n      <g>\r\n       <use style=\"stroke:#000000;stroke-width:0.8;\" x=\"186.812886\" xlink:href=\"#md5fd839a18\" y=\"228.439219\"/>\r\n      </g>\r\n     </g>\r\n     <g id=\"line2d_10\">\r\n      <g>\r\n       <use style=\"stroke:#000000;stroke-width:0.8;\" x=\"186.812886\" xlink:href=\"#m794a13b23e\" y=\"10.999219\"/>\r\n      </g>\r\n     </g>\r\n     <g id=\"text_5\">\r\n      <!-- city_cat -->\r\n      <g transform=\"translate(189.433199 274.101719)rotate(-90)scale(0.1 -0.1)\">\r\n       <defs>\r\n        <path d=\"M 9.421875 54.6875 \r\nL 18.40625 54.6875 \r\nL 18.40625 0 \r\nL 9.421875 0 \r\nz\r\nM 9.421875 75.984375 \r\nL 18.40625 75.984375 \r\nL 18.40625 64.59375 \r\nL 9.421875 64.59375 \r\nz\r\n\" id=\"DejaVuSans-105\"/>\r\n       </defs>\r\n       <use xlink:href=\"#DejaVuSans-99\"/>\r\n       <use x=\"54.980469\" xlink:href=\"#DejaVuSans-105\"/>\r\n       <use x=\"82.763672\" xlink:href=\"#DejaVuSans-116\"/>\r\n       <use x=\"121.972656\" xlink:href=\"#DejaVuSans-121\"/>\r\n       <use x=\"181.152344\" xlink:href=\"#DejaVuSans-95\"/>\r\n       <use x=\"231.152344\" xlink:href=\"#DejaVuSans-99\"/>\r\n       <use x=\"286.132812\" xlink:href=\"#DejaVuSans-97\"/>\r\n       <use x=\"347.412109\" xlink:href=\"#DejaVuSans-116\"/>\r\n      </g>\r\n     </g>\r\n    </g>\r\n    <g id=\"xtick_6\">\r\n     <g id=\"line2d_11\">\r\n      <g>\r\n       <use style=\"stroke:#000000;stroke-width:0.8;\" x=\"202.56818\" xlink:href=\"#md5fd839a18\" y=\"228.439219\"/>\r\n      </g>\r\n     </g>\r\n     <g id=\"line2d_12\">\r\n      <g>\r\n       <use style=\"stroke:#000000;stroke-width:0.8;\" x=\"202.56818\" xlink:href=\"#m794a13b23e\" y=\"10.999219\"/>\r\n      </g>\r\n     </g>\r\n     <g id=\"text_6\">\r\n      <!-- body_type_cat -->\r\n      <g transform=\"translate(205.188493 308.061094)rotate(-90)scale(0.1 -0.1)\">\r\n       <defs>\r\n        <path d=\"M 48.6875 27.296875 \r\nQ 48.6875 37.203125 44.609375 42.84375 \r\nQ 40.53125 48.484375 33.40625 48.484375 \r\nQ 26.265625 48.484375 22.1875 42.84375 \r\nQ 18.109375 37.203125 18.109375 27.296875 \r\nQ 18.109375 17.390625 22.1875 11.75 \r\nQ 26.265625 6.109375 33.40625 6.109375 \r\nQ 40.53125 6.109375 44.609375 11.75 \r\nQ 48.6875 17.390625 48.6875 27.296875 \r\nz\r\nM 18.109375 46.390625 \r\nQ 20.953125 51.265625 25.265625 53.625 \r\nQ 29.59375 56 35.59375 56 \r\nQ 45.5625 56 51.78125 48.09375 \r\nQ 58.015625 40.1875 58.015625 27.296875 \r\nQ 58.015625 14.40625 51.78125 6.484375 \r\nQ 45.5625 -1.421875 35.59375 -1.421875 \r\nQ 29.59375 -1.421875 25.265625 0.953125 \r\nQ 20.953125 3.328125 18.109375 8.203125 \r\nL 18.109375 0 \r\nL 9.078125 0 \r\nL 9.078125 75.984375 \r\nL 18.109375 75.984375 \r\nz\r\n\" id=\"DejaVuSans-98\"/>\r\n        <path d=\"M 30.609375 48.390625 \r\nQ 23.390625 48.390625 19.1875 42.75 \r\nQ 14.984375 37.109375 14.984375 27.296875 \r\nQ 14.984375 17.484375 19.15625 11.84375 \r\nQ 23.34375 6.203125 30.609375 6.203125 \r\nQ 37.796875 6.203125 41.984375 11.859375 \r\nQ 46.1875 17.53125 46.1875 27.296875 \r\nQ 46.1875 37.015625 41.984375 42.703125 \r\nQ 37.796875 48.390625 30.609375 48.390625 \r\nz\r\nM 30.609375 56 \r\nQ 42.328125 56 49.015625 48.375 \r\nQ 55.71875 40.765625 55.71875 27.296875 \r\nQ 55.71875 13.875 49.015625 6.21875 \r\nQ 42.328125 -1.421875 30.609375 -1.421875 \r\nQ 18.84375 -1.421875 12.171875 6.21875 \r\nQ 5.515625 13.875 5.515625 27.296875 \r\nQ 5.515625 40.765625 12.171875 48.375 \r\nQ 18.84375 56 30.609375 56 \r\nz\r\n\" id=\"DejaVuSans-111\"/>\r\n        <path d=\"M 45.40625 46.390625 \r\nL 45.40625 75.984375 \r\nL 54.390625 75.984375 \r\nL 54.390625 0 \r\nL 45.40625 0 \r\nL 45.40625 8.203125 \r\nQ 42.578125 3.328125 38.25 0.953125 \r\nQ 33.9375 -1.421875 27.875 -1.421875 \r\nQ 17.96875 -1.421875 11.734375 6.484375 \r\nQ 5.515625 14.40625 5.515625 27.296875 \r\nQ 5.515625 40.1875 11.734375 48.09375 \r\nQ 17.96875 56 27.875 56 \r\nQ 33.9375 56 38.25 53.625 \r\nQ 42.578125 51.265625 45.40625 46.390625 \r\nz\r\nM 14.796875 27.296875 \r\nQ 14.796875 17.390625 18.875 11.75 \r\nQ 22.953125 6.109375 30.078125 6.109375 \r\nQ 37.203125 6.109375 41.296875 11.75 \r\nQ 45.40625 17.390625 45.40625 27.296875 \r\nQ 45.40625 37.203125 41.296875 42.84375 \r\nQ 37.203125 48.484375 30.078125 48.484375 \r\nQ 22.953125 48.484375 18.875 42.84375 \r\nQ 14.796875 37.203125 14.796875 27.296875 \r\nz\r\n\" id=\"DejaVuSans-100\"/>\r\n       </defs>\r\n       <use xlink:href=\"#DejaVuSans-98\"/>\r\n       <use x=\"63.476562\" xlink:href=\"#DejaVuSans-111\"/>\r\n       <use x=\"124.658203\" xlink:href=\"#DejaVuSans-100\"/>\r\n       <use x=\"188.134766\" xlink:href=\"#DejaVuSans-121\"/>\r\n       <use x=\"247.314453\" xlink:href=\"#DejaVuSans-95\"/>\r\n       <use x=\"297.314453\" xlink:href=\"#DejaVuSans-116\"/>\r\n       <use x=\"336.523438\" xlink:href=\"#DejaVuSans-121\"/>\r\n       <use x=\"395.703125\" xlink:href=\"#DejaVuSans-112\"/>\r\n       <use x=\"459.179688\" xlink:href=\"#DejaVuSans-101\"/>\r\n       <use x=\"520.703125\" xlink:href=\"#DejaVuSans-95\"/>\r\n       <use x=\"570.703125\" xlink:href=\"#DejaVuSans-99\"/>\r\n       <use x=\"625.683594\" xlink:href=\"#DejaVuSans-97\"/>\r\n       <use x=\"686.962891\" xlink:href=\"#DejaVuSans-116\"/>\r\n      </g>\r\n     </g>\r\n    </g>\r\n    <g id=\"xtick_7\">\r\n     <g id=\"line2d_13\">\r\n      <g>\r\n       <use style=\"stroke:#000000;stroke-width:0.8;\" x=\"218.323474\" xlink:href=\"#md5fd839a18\" y=\"228.439219\"/>\r\n      </g>\r\n     </g>\r\n     <g id=\"line2d_14\">\r\n      <g>\r\n       <use style=\"stroke:#000000;stroke-width:0.8;\" x=\"218.323474\" xlink:href=\"#m794a13b23e\" y=\"10.999219\"/>\r\n      </g>\r\n     </g>\r\n     <g id=\"text_7\">\r\n      <!-- transmission_cat -->\r\n      <g transform=\"translate(220.943787 319.864219)rotate(-90)scale(0.1 -0.1)\">\r\n       <use xlink:href=\"#DejaVuSans-116\"/>\r\n       <use x=\"39.208984\" xlink:href=\"#DejaVuSans-114\"/>\r\n       <use x=\"80.322266\" xlink:href=\"#DejaVuSans-97\"/>\r\n       <use x=\"141.601562\" xlink:href=\"#DejaVuSans-110\"/>\r\n       <use x=\"204.980469\" xlink:href=\"#DejaVuSans-115\"/>\r\n       <use x=\"257.080078\" xlink:href=\"#DejaVuSans-109\"/>\r\n       <use x=\"354.492188\" xlink:href=\"#DejaVuSans-105\"/>\r\n       <use x=\"382.275391\" xlink:href=\"#DejaVuSans-115\"/>\r\n       <use x=\"434.375\" xlink:href=\"#DejaVuSans-115\"/>\r\n       <use x=\"486.474609\" xlink:href=\"#DejaVuSans-105\"/>\r\n       <use x=\"514.257812\" xlink:href=\"#DejaVuSans-111\"/>\r\n       <use x=\"575.439453\" xlink:href=\"#DejaVuSans-110\"/>\r\n       <use x=\"638.818359\" xlink:href=\"#DejaVuSans-95\"/>\r\n       <use x=\"688.818359\" xlink:href=\"#DejaVuSans-99\"/>\r\n       <use x=\"743.798828\" xlink:href=\"#DejaVuSans-97\"/>\r\n       <use x=\"805.078125\" xlink:href=\"#DejaVuSans-116\"/>\r\n      </g>\r\n     </g>\r\n    </g>\r\n    <g id=\"xtick_8\">\r\n     <g id=\"line2d_15\">\r\n      <g>\r\n       <use style=\"stroke:#000000;stroke-width:0.8;\" x=\"234.078768\" xlink:href=\"#md5fd839a18\" y=\"228.439219\"/>\r\n      </g>\r\n     </g>\r\n     <g id=\"line2d_16\">\r\n      <g>\r\n       <use style=\"stroke:#000000;stroke-width:0.8;\" x=\"234.078768\" xlink:href=\"#m794a13b23e\" y=\"10.999219\"/>\r\n      </g>\r\n     </g>\r\n     <g id=\"text_8\">\r\n      <!-- variant_cat -->\r\n      <g transform=\"translate(236.699081 291.307969)rotate(-90)scale(0.1 -0.1)\">\r\n       <defs>\r\n        <path d=\"M 2.984375 54.6875 \r\nL 12.5 54.6875 \r\nL 29.59375 8.796875 \r\nL 46.6875 54.6875 \r\nL 56.203125 54.6875 \r\nL 35.6875 0 \r\nL 23.484375 0 \r\nz\r\n\" id=\"DejaVuSans-118\"/>\r\n       </defs>\r\n       <use xlink:href=\"#DejaVuSans-118\"/>\r\n       <use x=\"59.179688\" xlink:href=\"#DejaVuSans-97\"/>\r\n       <use x=\"120.458984\" xlink:href=\"#DejaVuSans-114\"/>\r\n       <use x=\"161.572266\" xlink:href=\"#DejaVuSans-105\"/>\r\n       <use x=\"189.355469\" xlink:href=\"#DejaVuSans-97\"/>\r\n       <use x=\"250.634766\" xlink:href=\"#DejaVuSans-110\"/>\r\n       <use x=\"314.013672\" xlink:href=\"#DejaVuSans-116\"/>\r\n       <use x=\"353.222656\" xlink:href=\"#DejaVuSans-95\"/>\r\n       <use x=\"403.222656\" xlink:href=\"#DejaVuSans-99\"/>\r\n       <use x=\"458.203125\" xlink:href=\"#DejaVuSans-97\"/>\r\n       <use x=\"519.482422\" xlink:href=\"#DejaVuSans-116\"/>\r\n      </g>\r\n     </g>\r\n    </g>\r\n    <g id=\"xtick_9\">\r\n     <g id=\"line2d_17\">\r\n      <g>\r\n       <use style=\"stroke:#000000;stroke-width:0.8;\" x=\"249.834063\" xlink:href=\"#md5fd839a18\" y=\"228.439219\"/>\r\n      </g>\r\n     </g>\r\n     <g id=\"line2d_18\">\r\n      <g>\r\n       <use style=\"stroke:#000000;stroke-width:0.8;\" x=\"249.834063\" xlink:href=\"#m794a13b23e\" y=\"10.999219\"/>\r\n      </g>\r\n     </g>\r\n     <g id=\"text_9\">\r\n      <!-- assured_buy_cat -->\r\n      <g transform=\"translate(252.454375 318.862656)rotate(-90)scale(0.1 -0.1)\">\r\n       <use xlink:href=\"#DejaVuSans-97\"/>\r\n       <use x=\"61.279297\" xlink:href=\"#DejaVuSans-115\"/>\r\n       <use x=\"113.378906\" xlink:href=\"#DejaVuSans-115\"/>\r\n       <use x=\"165.478516\" xlink:href=\"#DejaVuSans-117\"/>\r\n       <use x=\"228.857422\" xlink:href=\"#DejaVuSans-114\"/>\r\n       <use x=\"267.720703\" xlink:href=\"#DejaVuSans-101\"/>\r\n       <use x=\"329.244141\" xlink:href=\"#DejaVuSans-100\"/>\r\n       <use x=\"392.720703\" xlink:href=\"#DejaVuSans-95\"/>\r\n       <use x=\"442.720703\" xlink:href=\"#DejaVuSans-98\"/>\r\n       <use x=\"506.197266\" xlink:href=\"#DejaVuSans-117\"/>\r\n       <use x=\"569.576172\" xlink:href=\"#DejaVuSans-121\"/>\r\n       <use x=\"628.755859\" xlink:href=\"#DejaVuSans-95\"/>\r\n       <use x=\"678.755859\" xlink:href=\"#DejaVuSans-99\"/>\r\n       <use x=\"733.736328\" xlink:href=\"#DejaVuSans-97\"/>\r\n       <use x=\"795.015625\" xlink:href=\"#DejaVuSans-116\"/>\r\n      </g>\r\n     </g>\r\n    </g>\r\n    <g id=\"xtick_10\">\r\n     <g id=\"line2d_19\">\r\n      <g>\r\n       <use style=\"stroke:#000000;stroke-width:0.8;\" x=\"265.589357\" xlink:href=\"#md5fd839a18\" y=\"228.439219\"/>\r\n      </g>\r\n     </g>\r\n     <g id=\"line2d_20\">\r\n      <g>\r\n       <use style=\"stroke:#000000;stroke-width:0.8;\" x=\"265.589357\" xlink:href=\"#m794a13b23e\" y=\"10.999219\"/>\r\n      </g>\r\n     </g>\r\n     <g id=\"text_10\">\r\n      <!-- registered_city_cat -->\r\n      <g transform=\"translate(268.209669 329.937656)rotate(-90)scale(0.1 -0.1)\">\r\n       <defs>\r\n        <path d=\"M 45.40625 27.984375 \r\nQ 45.40625 37.75 41.375 43.109375 \r\nQ 37.359375 48.484375 30.078125 48.484375 \r\nQ 22.859375 48.484375 18.828125 43.109375 \r\nQ 14.796875 37.75 14.796875 27.984375 \r\nQ 14.796875 18.265625 18.828125 12.890625 \r\nQ 22.859375 7.515625 30.078125 7.515625 \r\nQ 37.359375 7.515625 41.375 12.890625 \r\nQ 45.40625 18.265625 45.40625 27.984375 \r\nz\r\nM 54.390625 6.78125 \r\nQ 54.390625 -7.171875 48.1875 -13.984375 \r\nQ 42 -20.796875 29.203125 -20.796875 \r\nQ 24.46875 -20.796875 20.265625 -20.09375 \r\nQ 16.0625 -19.390625 12.109375 -17.921875 \r\nL 12.109375 -9.1875 \r\nQ 16.0625 -11.328125 19.921875 -12.34375 \r\nQ 23.78125 -13.375 27.78125 -13.375 \r\nQ 36.625 -13.375 41.015625 -8.765625 \r\nQ 45.40625 -4.15625 45.40625 5.171875 \r\nL 45.40625 9.625 \r\nQ 42.625 4.78125 38.28125 2.390625 \r\nQ 33.9375 0 27.875 0 \r\nQ 17.828125 0 11.671875 7.65625 \r\nQ 5.515625 15.328125 5.515625 27.984375 \r\nQ 5.515625 40.671875 11.671875 48.328125 \r\nQ 17.828125 56 27.875 56 \r\nQ 33.9375 56 38.28125 53.609375 \r\nQ 42.625 51.21875 45.40625 46.390625 \r\nL 45.40625 54.6875 \r\nL 54.390625 54.6875 \r\nz\r\n\" id=\"DejaVuSans-103\"/>\r\n       </defs>\r\n       <use xlink:href=\"#DejaVuSans-114\"/>\r\n       <use x=\"38.863281\" xlink:href=\"#DejaVuSans-101\"/>\r\n       <use x=\"100.386719\" xlink:href=\"#DejaVuSans-103\"/>\r\n       <use x=\"163.863281\" xlink:href=\"#DejaVuSans-105\"/>\r\n       <use x=\"191.646484\" xlink:href=\"#DejaVuSans-115\"/>\r\n       <use x=\"243.746094\" xlink:href=\"#DejaVuSans-116\"/>\r\n       <use x=\"282.955078\" xlink:href=\"#DejaVuSans-101\"/>\r\n       <use x=\"344.478516\" xlink:href=\"#DejaVuSans-114\"/>\r\n       <use x=\"383.341797\" xlink:href=\"#DejaVuSans-101\"/>\r\n       <use x=\"444.865234\" xlink:href=\"#DejaVuSans-100\"/>\r\n       <use x=\"508.341797\" xlink:href=\"#DejaVuSans-95\"/>\r\n       <use x=\"558.341797\" xlink:href=\"#DejaVuSans-99\"/>\r\n       <use x=\"613.322266\" xlink:href=\"#DejaVuSans-105\"/>\r\n       <use x=\"641.105469\" xlink:href=\"#DejaVuSans-116\"/>\r\n       <use x=\"680.314453\" xlink:href=\"#DejaVuSans-121\"/>\r\n       <use x=\"739.494141\" xlink:href=\"#DejaVuSans-95\"/>\r\n       <use x=\"789.494141\" xlink:href=\"#DejaVuSans-99\"/>\r\n       <use x=\"844.474609\" xlink:href=\"#DejaVuSans-97\"/>\r\n       <use x=\"905.753906\" xlink:href=\"#DejaVuSans-116\"/>\r\n      </g>\r\n     </g>\r\n    </g>\r\n    <g id=\"xtick_11\">\r\n     <g id=\"line2d_21\">\r\n      <g>\r\n       <use style=\"stroke:#000000;stroke-width:0.8;\" x=\"281.344651\" xlink:href=\"#md5fd839a18\" y=\"228.439219\"/>\r\n      </g>\r\n     </g>\r\n     <g id=\"line2d_22\">\r\n      <g>\r\n       <use style=\"stroke:#000000;stroke-width:0.8;\" x=\"281.344651\" xlink:href=\"#m794a13b23e\" y=\"10.999219\"/>\r\n      </g>\r\n     </g>\r\n     <g id=\"text_11\">\r\n      <!-- registered_state_cat -->\r\n      <g transform=\"translate(283.964963 337.153281)rotate(-90)scale(0.1 -0.1)\">\r\n       <use xlink:href=\"#DejaVuSans-114\"/>\r\n       <use x=\"38.863281\" xlink:href=\"#DejaVuSans-101\"/>\r\n       <use x=\"100.386719\" xlink:href=\"#DejaVuSans-103\"/>\r\n       <use x=\"163.863281\" xlink:href=\"#DejaVuSans-105\"/>\r\n       <use x=\"191.646484\" xlink:href=\"#DejaVuSans-115\"/>\r\n       <use x=\"243.746094\" xlink:href=\"#DejaVuSans-116\"/>\r\n       <use x=\"282.955078\" xlink:href=\"#DejaVuSans-101\"/>\r\n       <use x=\"344.478516\" xlink:href=\"#DejaVuSans-114\"/>\r\n       <use x=\"383.341797\" xlink:href=\"#DejaVuSans-101\"/>\r\n       <use x=\"444.865234\" xlink:href=\"#DejaVuSans-100\"/>\r\n       <use x=\"508.341797\" xlink:href=\"#DejaVuSans-95\"/>\r\n       <use x=\"558.341797\" xlink:href=\"#DejaVuSans-115\"/>\r\n       <use x=\"610.441406\" xlink:href=\"#DejaVuSans-116\"/>\r\n       <use x=\"649.650391\" xlink:href=\"#DejaVuSans-97\"/>\r\n       <use x=\"710.929688\" xlink:href=\"#DejaVuSans-116\"/>\r\n       <use x=\"750.138672\" xlink:href=\"#DejaVuSans-101\"/>\r\n       <use x=\"811.662109\" xlink:href=\"#DejaVuSans-95\"/>\r\n       <use x=\"861.662109\" xlink:href=\"#DejaVuSans-99\"/>\r\n       <use x=\"916.642578\" xlink:href=\"#DejaVuSans-97\"/>\r\n       <use x=\"977.921875\" xlink:href=\"#DejaVuSans-116\"/>\r\n      </g>\r\n     </g>\r\n    </g>\r\n    <g id=\"xtick_12\">\r\n     <g id=\"line2d_23\">\r\n      <g>\r\n       <use style=\"stroke:#000000;stroke-width:0.8;\" x=\"297.099945\" xlink:href=\"#md5fd839a18\" y=\"228.439219\"/>\r\n      </g>\r\n     </g>\r\n     <g id=\"line2d_24\">\r\n      <g>\r\n       <use style=\"stroke:#000000;stroke-width:0.8;\" x=\"297.099945\" xlink:href=\"#m794a13b23e\" y=\"10.999219\"/>\r\n      </g>\r\n     </g>\r\n     <g id=\"text_12\">\r\n      <!-- is_hot_cat -->\r\n      <g transform=\"translate(299.720257 285.350156)rotate(-90)scale(0.1 -0.1)\">\r\n       <defs>\r\n        <path d=\"M 54.890625 33.015625 \r\nL 54.890625 0 \r\nL 45.90625 0 \r\nL 45.90625 32.71875 \r\nQ 45.90625 40.484375 42.875 44.328125 \r\nQ 39.84375 48.1875 33.796875 48.1875 \r\nQ 26.515625 48.1875 22.3125 43.546875 \r\nQ 18.109375 38.921875 18.109375 30.90625 \r\nL 18.109375 0 \r\nL 9.078125 0 \r\nL 9.078125 75.984375 \r\nL 18.109375 75.984375 \r\nL 18.109375 46.1875 \r\nQ 21.34375 51.125 25.703125 53.5625 \r\nQ 30.078125 56 35.796875 56 \r\nQ 45.21875 56 50.046875 50.171875 \r\nQ 54.890625 44.34375 54.890625 33.015625 \r\nz\r\n\" id=\"DejaVuSans-104\"/>\r\n       </defs>\r\n       <use xlink:href=\"#DejaVuSans-105\"/>\r\n       <use x=\"27.783203\" xlink:href=\"#DejaVuSans-115\"/>\r\n       <use x=\"79.882812\" xlink:href=\"#DejaVuSans-95\"/>\r\n       <use x=\"129.882812\" xlink:href=\"#DejaVuSans-104\"/>\r\n       <use x=\"193.261719\" xlink:href=\"#DejaVuSans-111\"/>\r\n       <use x=\"254.443359\" xlink:href=\"#DejaVuSans-116\"/>\r\n       <use x=\"293.652344\" xlink:href=\"#DejaVuSans-95\"/>\r\n       <use x=\"343.652344\" xlink:href=\"#DejaVuSans-99\"/>\r\n       <use x=\"398.632812\" xlink:href=\"#DejaVuSans-97\"/>\r\n       <use x=\"459.912109\" xlink:href=\"#DejaVuSans-116\"/>\r\n      </g>\r\n     </g>\r\n    </g>\r\n    <g id=\"xtick_13\">\r\n     <g id=\"line2d_25\">\r\n      <g>\r\n       <use style=\"stroke:#000000;stroke-width:0.8;\" x=\"312.855239\" xlink:href=\"#md5fd839a18\" y=\"228.439219\"/>\r\n      </g>\r\n     </g>\r\n     <g id=\"line2d_26\">\r\n      <g>\r\n       <use style=\"stroke:#000000;stroke-width:0.8;\" x=\"312.855239\" xlink:href=\"#m794a13b23e\" y=\"10.999219\"/>\r\n      </g>\r\n     </g>\r\n     <g id=\"text_13\">\r\n      <!-- rto_cat -->\r\n      <g transform=\"translate(315.336489 270.136094)rotate(-90)scale(0.1 -0.1)\">\r\n       <use xlink:href=\"#DejaVuSans-114\"/>\r\n       <use x=\"41.113281\" xlink:href=\"#DejaVuSans-116\"/>\r\n       <use x=\"80.322266\" xlink:href=\"#DejaVuSans-111\"/>\r\n       <use x=\"141.503906\" xlink:href=\"#DejaVuSans-95\"/>\r\n       <use x=\"191.503906\" xlink:href=\"#DejaVuSans-99\"/>\r\n       <use x=\"246.484375\" xlink:href=\"#DejaVuSans-97\"/>\r\n       <use x=\"307.763672\" xlink:href=\"#DejaVuSans-116\"/>\r\n      </g>\r\n     </g>\r\n    </g>\r\n    <g id=\"xtick_14\">\r\n     <g id=\"line2d_27\">\r\n      <g>\r\n       <use style=\"stroke:#000000;stroke-width:0.8;\" x=\"328.610533\" xlink:href=\"#md5fd839a18\" y=\"228.439219\"/>\r\n      </g>\r\n     </g>\r\n     <g id=\"line2d_28\">\r\n      <g>\r\n       <use style=\"stroke:#000000;stroke-width:0.8;\" x=\"328.610533\" xlink:href=\"#m794a13b23e\" y=\"10.999219\"/>\r\n      </g>\r\n     </g>\r\n     <g id=\"text_14\">\r\n      <!-- make_cat -->\r\n      <g transform=\"translate(331.230846 283.436094)rotate(-90)scale(0.1 -0.1)\">\r\n       <use xlink:href=\"#DejaVuSans-109\"/>\r\n       <use x=\"97.412109\" xlink:href=\"#DejaVuSans-97\"/>\r\n       <use x=\"158.691406\" xlink:href=\"#DejaVuSans-107\"/>\r\n       <use x=\"212.976562\" xlink:href=\"#DejaVuSans-101\"/>\r\n       <use x=\"274.5\" xlink:href=\"#DejaVuSans-95\"/>\r\n       <use x=\"324.5\" xlink:href=\"#DejaVuSans-99\"/>\r\n       <use x=\"379.480469\" xlink:href=\"#DejaVuSans-97\"/>\r\n       <use x=\"440.759766\" xlink:href=\"#DejaVuSans-116\"/>\r\n      </g>\r\n     </g>\r\n    </g>\r\n    <g id=\"xtick_15\">\r\n     <g id=\"line2d_29\">\r\n      <g>\r\n       <use style=\"stroke:#000000;stroke-width:0.8;\" x=\"344.365827\" xlink:href=\"#md5fd839a18\" y=\"228.439219\"/>\r\n      </g>\r\n     </g>\r\n     <g id=\"line2d_30\">\r\n      <g>\r\n       <use style=\"stroke:#000000;stroke-width:0.8;\" x=\"344.365827\" xlink:href=\"#m794a13b23e\" y=\"10.999219\"/>\r\n      </g>\r\n     </g>\r\n     <g id=\"text_15\">\r\n      <!-- model_cat -->\r\n      <g transform=\"translate(346.98614 287.125156)rotate(-90)scale(0.1 -0.1)\">\r\n       <use xlink:href=\"#DejaVuSans-109\"/>\r\n       <use x=\"97.412109\" xlink:href=\"#DejaVuSans-111\"/>\r\n       <use x=\"158.59375\" xlink:href=\"#DejaVuSans-100\"/>\r\n       <use x=\"222.070312\" xlink:href=\"#DejaVuSans-101\"/>\r\n       <use x=\"283.59375\" xlink:href=\"#DejaVuSans-108\"/>\r\n       <use x=\"311.376953\" xlink:href=\"#DejaVuSans-95\"/>\r\n       <use x=\"361.376953\" xlink:href=\"#DejaVuSans-99\"/>\r\n       <use x=\"416.357422\" xlink:href=\"#DejaVuSans-97\"/>\r\n       <use x=\"477.636719\" xlink:href=\"#DejaVuSans-116\"/>\r\n      </g>\r\n     </g>\r\n    </g>\r\n    <g id=\"xtick_16\">\r\n     <g id=\"line2d_31\">\r\n      <g>\r\n       <use style=\"stroke:#000000;stroke-width:0.8;\" x=\"360.121121\" xlink:href=\"#md5fd839a18\" y=\"228.439219\"/>\r\n      </g>\r\n     </g>\r\n     <g id=\"line2d_32\">\r\n      <g>\r\n       <use style=\"stroke:#000000;stroke-width:0.8;\" x=\"360.121121\" xlink:href=\"#m794a13b23e\" y=\"10.999219\"/>\r\n      </g>\r\n     </g>\r\n     <g id=\"text_16\">\r\n      <!-- total_owners -->\r\n      <g transform=\"translate(362.741434 299.412656)rotate(-90)scale(0.1 -0.1)\">\r\n       <defs>\r\n        <path d=\"M 4.203125 54.6875 \r\nL 13.1875 54.6875 \r\nL 24.421875 12.015625 \r\nL 35.59375 54.6875 \r\nL 46.1875 54.6875 \r\nL 57.421875 12.015625 \r\nL 68.609375 54.6875 \r\nL 77.59375 54.6875 \r\nL 63.28125 0 \r\nL 52.6875 0 \r\nL 40.921875 44.828125 \r\nL 29.109375 0 \r\nL 18.5 0 \r\nz\r\n\" id=\"DejaVuSans-119\"/>\r\n       </defs>\r\n       <use xlink:href=\"#DejaVuSans-116\"/>\r\n       <use x=\"39.208984\" xlink:href=\"#DejaVuSans-111\"/>\r\n       <use x=\"100.390625\" xlink:href=\"#DejaVuSans-116\"/>\r\n       <use x=\"139.599609\" xlink:href=\"#DejaVuSans-97\"/>\r\n       <use x=\"200.878906\" xlink:href=\"#DejaVuSans-108\"/>\r\n       <use x=\"228.662109\" xlink:href=\"#DejaVuSans-95\"/>\r\n       <use x=\"278.662109\" xlink:href=\"#DejaVuSans-111\"/>\r\n       <use x=\"339.84375\" xlink:href=\"#DejaVuSans-119\"/>\r\n       <use x=\"421.630859\" xlink:href=\"#DejaVuSans-110\"/>\r\n       <use x=\"485.009766\" xlink:href=\"#DejaVuSans-101\"/>\r\n       <use x=\"546.533203\" xlink:href=\"#DejaVuSans-114\"/>\r\n       <use x=\"587.646484\" xlink:href=\"#DejaVuSans-115\"/>\r\n      </g>\r\n     </g>\r\n    </g>\r\n    <g id=\"xtick_17\">\r\n     <g id=\"line2d_33\">\r\n      <g>\r\n       <use style=\"stroke:#000000;stroke-width:0.8;\" x=\"375.876415\" xlink:href=\"#md5fd839a18\" y=\"228.439219\"/>\r\n      </g>\r\n     </g>\r\n     <g id=\"line2d_34\">\r\n      <g>\r\n       <use style=\"stroke:#000000;stroke-width:0.8;\" x=\"375.876415\" xlink:href=\"#m794a13b23e\" y=\"10.999219\"/>\r\n      </g>\r\n     </g>\r\n     <g id=\"text_17\">\r\n      <!-- broker_quote -->\r\n      <g transform=\"translate(378.496728 301.362656)rotate(-90)scale(0.1 -0.1)\">\r\n       <defs>\r\n        <path d=\"M 14.796875 27.296875 \r\nQ 14.796875 17.390625 18.875 11.75 \r\nQ 22.953125 6.109375 30.078125 6.109375 \r\nQ 37.203125 6.109375 41.296875 11.75 \r\nQ 45.40625 17.390625 45.40625 27.296875 \r\nQ 45.40625 37.203125 41.296875 42.84375 \r\nQ 37.203125 48.484375 30.078125 48.484375 \r\nQ 22.953125 48.484375 18.875 42.84375 \r\nQ 14.796875 37.203125 14.796875 27.296875 \r\nz\r\nM 45.40625 8.203125 \r\nQ 42.578125 3.328125 38.25 0.953125 \r\nQ 33.9375 -1.421875 27.875 -1.421875 \r\nQ 17.96875 -1.421875 11.734375 6.484375 \r\nQ 5.515625 14.40625 5.515625 27.296875 \r\nQ 5.515625 40.1875 11.734375 48.09375 \r\nQ 17.96875 56 27.875 56 \r\nQ 33.9375 56 38.25 53.625 \r\nQ 42.578125 51.265625 45.40625 46.390625 \r\nL 45.40625 54.6875 \r\nL 54.390625 54.6875 \r\nL 54.390625 -20.796875 \r\nL 45.40625 -20.796875 \r\nz\r\n\" id=\"DejaVuSans-113\"/>\r\n       </defs>\r\n       <use xlink:href=\"#DejaVuSans-98\"/>\r\n       <use x=\"63.476562\" xlink:href=\"#DejaVuSans-114\"/>\r\n       <use x=\"102.339844\" xlink:href=\"#DejaVuSans-111\"/>\r\n       <use x=\"163.521484\" xlink:href=\"#DejaVuSans-107\"/>\r\n       <use x=\"217.806641\" xlink:href=\"#DejaVuSans-101\"/>\r\n       <use x=\"279.330078\" xlink:href=\"#DejaVuSans-114\"/>\r\n       <use x=\"320.443359\" xlink:href=\"#DejaVuSans-95\"/>\r\n       <use x=\"370.443359\" xlink:href=\"#DejaVuSans-113\"/>\r\n       <use x=\"433.919922\" xlink:href=\"#DejaVuSans-117\"/>\r\n       <use x=\"497.298828\" xlink:href=\"#DejaVuSans-111\"/>\r\n       <use x=\"558.480469\" xlink:href=\"#DejaVuSans-116\"/>\r\n       <use x=\"597.689453\" xlink:href=\"#DejaVuSans-101\"/>\r\n      </g>\r\n     </g>\r\n    </g>\r\n   </g>\r\n   <g id=\"matplotlib.axis_2\">\r\n    <g id=\"ytick_1\">\r\n     <g id=\"line2d_35\">\r\n      <defs>\r\n       <path d=\"M 0 0 \r\nL -3.5 0 \r\n\" id=\"m037a0ea427\" style=\"stroke:#000000;stroke-width:0.8;\"/>\r\n      </defs>\r\n      <g>\r\n       <use style=\"stroke:#000000;stroke-width:0.8;\" x=\"115.914062\" xlink:href=\"#m037a0ea427\" y=\"222.043925\"/>\r\n      </g>\r\n     </g>\r\n     <g id=\"line2d_36\">\r\n      <defs>\r\n       <path d=\"M 0 0 \r\nL 3.5 0 \r\n\" id=\"m9fa60bee99\" style=\"stroke:#000000;stroke-width:0.8;\"/>\r\n      </defs>\r\n      <g>\r\n       <use style=\"stroke:#000000;stroke-width:0.8;\" x=\"383.754063\" xlink:href=\"#m9fa60bee99\" y=\"222.043925\"/>\r\n      </g>\r\n     </g>\r\n     <g id=\"text_18\">\r\n      <!-- car_name_cat -->\r\n      <g transform=\"translate(39.270313 225.704081)scale(0.1 -0.1)\">\r\n       <use xlink:href=\"#DejaVuSans-99\"/>\r\n       <use x=\"54.980469\" xlink:href=\"#DejaVuSans-97\"/>\r\n       <use x=\"116.259766\" xlink:href=\"#DejaVuSans-114\"/>\r\n       <use x=\"157.373047\" xlink:href=\"#DejaVuSans-95\"/>\r\n       <use x=\"207.373047\" xlink:href=\"#DejaVuSans-110\"/>\r\n       <use x=\"270.751953\" xlink:href=\"#DejaVuSans-97\"/>\r\n       <use x=\"332.03125\" xlink:href=\"#DejaVuSans-109\"/>\r\n       <use x=\"429.443359\" xlink:href=\"#DejaVuSans-101\"/>\r\n       <use x=\"490.966797\" xlink:href=\"#DejaVuSans-95\"/>\r\n       <use x=\"540.966797\" xlink:href=\"#DejaVuSans-99\"/>\r\n       <use x=\"595.947266\" xlink:href=\"#DejaVuSans-97\"/>\r\n       <use x=\"657.226562\" xlink:href=\"#DejaVuSans-116\"/>\r\n      </g>\r\n     </g>\r\n    </g>\r\n    <g id=\"ytick_2\">\r\n     <g id=\"line2d_37\">\r\n      <g>\r\n       <use style=\"stroke:#000000;stroke-width:0.8;\" x=\"115.914062\" xlink:href=\"#m037a0ea427\" y=\"209.253336\"/>\r\n      </g>\r\n     </g>\r\n     <g id=\"line2d_38\">\r\n      <g>\r\n       <use style=\"stroke:#000000;stroke-width:0.8;\" x=\"383.754063\" xlink:href=\"#m9fa60bee99\" y=\"209.253336\"/>\r\n      </g>\r\n     </g>\r\n     <g id=\"text_19\">\r\n      <!-- yr_mfr -->\r\n      <g transform=\"translate(76.5125 213.052555)scale(0.1 -0.1)\">\r\n       <use xlink:href=\"#DejaVuSans-121\"/>\r\n       <use x=\"59.179688\" xlink:href=\"#DejaVuSans-114\"/>\r\n       <use x=\"100.292969\" xlink:href=\"#DejaVuSans-95\"/>\r\n       <use x=\"150.292969\" xlink:href=\"#DejaVuSans-109\"/>\r\n       <use x=\"247.705078\" xlink:href=\"#DejaVuSans-102\"/>\r\n       <use x=\"282.910156\" xlink:href=\"#DejaVuSans-114\"/>\r\n      </g>\r\n     </g>\r\n    </g>\r\n    <g id=\"ytick_3\">\r\n     <g id=\"line2d_39\">\r\n      <g>\r\n       <use style=\"stroke:#000000;stroke-width:0.8;\" x=\"115.914062\" xlink:href=\"#m037a0ea427\" y=\"196.462748\"/>\r\n      </g>\r\n     </g>\r\n     <g id=\"line2d_40\">\r\n      <g>\r\n       <use style=\"stroke:#000000;stroke-width:0.8;\" x=\"383.754063\" xlink:href=\"#m9fa60bee99\" y=\"196.462748\"/>\r\n      </g>\r\n     </g>\r\n     <g id=\"text_20\">\r\n      <!-- fuel_type_cat -->\r\n      <g transform=\"translate(42.2375 200.261967)scale(0.1 -0.1)\">\r\n       <use xlink:href=\"#DejaVuSans-102\"/>\r\n       <use x=\"35.205078\" xlink:href=\"#DejaVuSans-117\"/>\r\n       <use x=\"98.583984\" xlink:href=\"#DejaVuSans-101\"/>\r\n       <use x=\"160.107422\" xlink:href=\"#DejaVuSans-108\"/>\r\n       <use x=\"187.890625\" xlink:href=\"#DejaVuSans-95\"/>\r\n       <use x=\"237.890625\" xlink:href=\"#DejaVuSans-116\"/>\r\n       <use x=\"277.099609\" xlink:href=\"#DejaVuSans-121\"/>\r\n       <use x=\"336.279297\" xlink:href=\"#DejaVuSans-112\"/>\r\n       <use x=\"399.755859\" xlink:href=\"#DejaVuSans-101\"/>\r\n       <use x=\"461.279297\" xlink:href=\"#DejaVuSans-95\"/>\r\n       <use x=\"511.279297\" xlink:href=\"#DejaVuSans-99\"/>\r\n       <use x=\"566.259766\" xlink:href=\"#DejaVuSans-97\"/>\r\n       <use x=\"627.539062\" xlink:href=\"#DejaVuSans-116\"/>\r\n      </g>\r\n     </g>\r\n    </g>\r\n    <g id=\"ytick_4\">\r\n     <g id=\"line2d_41\">\r\n      <g>\r\n       <use style=\"stroke:#000000;stroke-width:0.8;\" x=\"115.914062\" xlink:href=\"#m037a0ea427\" y=\"183.67216\"/>\r\n      </g>\r\n     </g>\r\n     <g id=\"line2d_42\">\r\n      <g>\r\n       <use style=\"stroke:#000000;stroke-width:0.8;\" x=\"383.754063\" xlink:href=\"#m9fa60bee99\" y=\"183.67216\"/>\r\n      </g>\r\n     </g>\r\n     <g id=\"text_21\">\r\n      <!-- kms_run -->\r\n      <g transform=\"translate(66.3875 187.471379)scale(0.1 -0.1)\">\r\n       <use xlink:href=\"#DejaVuSans-107\"/>\r\n       <use x=\"57.910156\" xlink:href=\"#DejaVuSans-109\"/>\r\n       <use x=\"155.322266\" xlink:href=\"#DejaVuSans-115\"/>\r\n       <use x=\"207.421875\" xlink:href=\"#DejaVuSans-95\"/>\r\n       <use x=\"257.421875\" xlink:href=\"#DejaVuSans-114\"/>\r\n       <use x=\"298.535156\" xlink:href=\"#DejaVuSans-117\"/>\r\n       <use x=\"361.914062\" xlink:href=\"#DejaVuSans-110\"/>\r\n      </g>\r\n     </g>\r\n    </g>\r\n    <g id=\"ytick_5\">\r\n     <g id=\"line2d_43\">\r\n      <g>\r\n       <use style=\"stroke:#000000;stroke-width:0.8;\" x=\"115.914062\" xlink:href=\"#m037a0ea427\" y=\"170.881572\"/>\r\n      </g>\r\n     </g>\r\n     <g id=\"line2d_44\">\r\n      <g>\r\n       <use style=\"stroke:#000000;stroke-width:0.8;\" x=\"383.754063\" xlink:href=\"#m9fa60bee99\" y=\"170.881572\"/>\r\n      </g>\r\n     </g>\r\n     <g id=\"text_22\">\r\n      <!-- city_cat -->\r\n      <g transform=\"translate(70.251563 174.68079)scale(0.1 -0.1)\">\r\n       <use xlink:href=\"#DejaVuSans-99\"/>\r\n       <use x=\"54.980469\" xlink:href=\"#DejaVuSans-105\"/>\r\n       <use x=\"82.763672\" xlink:href=\"#DejaVuSans-116\"/>\r\n       <use x=\"121.972656\" xlink:href=\"#DejaVuSans-121\"/>\r\n       <use x=\"181.152344\" xlink:href=\"#DejaVuSans-95\"/>\r\n       <use x=\"231.152344\" xlink:href=\"#DejaVuSans-99\"/>\r\n       <use x=\"286.132812\" xlink:href=\"#DejaVuSans-97\"/>\r\n       <use x=\"347.412109\" xlink:href=\"#DejaVuSans-116\"/>\r\n      </g>\r\n     </g>\r\n    </g>\r\n    <g id=\"ytick_6\">\r\n     <g id=\"line2d_45\">\r\n      <g>\r\n       <use style=\"stroke:#000000;stroke-width:0.8;\" x=\"115.914062\" xlink:href=\"#m037a0ea427\" y=\"158.090983\"/>\r\n      </g>\r\n     </g>\r\n     <g id=\"line2d_46\">\r\n      <g>\r\n       <use style=\"stroke:#000000;stroke-width:0.8;\" x=\"383.754063\" xlink:href=\"#m9fa60bee99\" y=\"158.090983\"/>\r\n      </g>\r\n     </g>\r\n     <g id=\"text_23\">\r\n      <!-- body_type_cat -->\r\n      <g transform=\"translate(36.292187 161.890202)scale(0.1 -0.1)\">\r\n       <use xlink:href=\"#DejaVuSans-98\"/>\r\n       <use x=\"63.476562\" xlink:href=\"#DejaVuSans-111\"/>\r\n       <use x=\"124.658203\" xlink:href=\"#DejaVuSans-100\"/>\r\n       <use x=\"188.134766\" xlink:href=\"#DejaVuSans-121\"/>\r\n       <use x=\"247.314453\" xlink:href=\"#DejaVuSans-95\"/>\r\n       <use x=\"297.314453\" xlink:href=\"#DejaVuSans-116\"/>\r\n       <use x=\"336.523438\" xlink:href=\"#DejaVuSans-121\"/>\r\n       <use x=\"395.703125\" xlink:href=\"#DejaVuSans-112\"/>\r\n       <use x=\"459.179688\" xlink:href=\"#DejaVuSans-101\"/>\r\n       <use x=\"520.703125\" xlink:href=\"#DejaVuSans-95\"/>\r\n       <use x=\"570.703125\" xlink:href=\"#DejaVuSans-99\"/>\r\n       <use x=\"625.683594\" xlink:href=\"#DejaVuSans-97\"/>\r\n       <use x=\"686.962891\" xlink:href=\"#DejaVuSans-116\"/>\r\n      </g>\r\n     </g>\r\n    </g>\r\n    <g id=\"ytick_7\">\r\n     <g id=\"line2d_47\">\r\n      <g>\r\n       <use style=\"stroke:#000000;stroke-width:0.8;\" x=\"115.914062\" xlink:href=\"#m037a0ea427\" y=\"145.300395\"/>\r\n      </g>\r\n     </g>\r\n     <g id=\"line2d_48\">\r\n      <g>\r\n       <use style=\"stroke:#000000;stroke-width:0.8;\" x=\"383.754063\" xlink:href=\"#m9fa60bee99\" y=\"145.300395\"/>\r\n      </g>\r\n     </g>\r\n     <g id=\"text_24\">\r\n      <!-- transmission_cat -->\r\n      <g transform=\"translate(24.489062 149.099614)scale(0.1 -0.1)\">\r\n       <use xlink:href=\"#DejaVuSans-116\"/>\r\n       <use x=\"39.208984\" xlink:href=\"#DejaVuSans-114\"/>\r\n       <use x=\"80.322266\" xlink:href=\"#DejaVuSans-97\"/>\r\n       <use x=\"141.601562\" xlink:href=\"#DejaVuSans-110\"/>\r\n       <use x=\"204.980469\" xlink:href=\"#DejaVuSans-115\"/>\r\n       <use x=\"257.080078\" xlink:href=\"#DejaVuSans-109\"/>\r\n       <use x=\"354.492188\" xlink:href=\"#DejaVuSans-105\"/>\r\n       <use x=\"382.275391\" xlink:href=\"#DejaVuSans-115\"/>\r\n       <use x=\"434.375\" xlink:href=\"#DejaVuSans-115\"/>\r\n       <use x=\"486.474609\" xlink:href=\"#DejaVuSans-105\"/>\r\n       <use x=\"514.257812\" xlink:href=\"#DejaVuSans-111\"/>\r\n       <use x=\"575.439453\" xlink:href=\"#DejaVuSans-110\"/>\r\n       <use x=\"638.818359\" xlink:href=\"#DejaVuSans-95\"/>\r\n       <use x=\"688.818359\" xlink:href=\"#DejaVuSans-99\"/>\r\n       <use x=\"743.798828\" xlink:href=\"#DejaVuSans-97\"/>\r\n       <use x=\"805.078125\" xlink:href=\"#DejaVuSans-116\"/>\r\n      </g>\r\n     </g>\r\n    </g>\r\n    <g id=\"ytick_8\">\r\n     <g id=\"line2d_49\">\r\n      <g>\r\n       <use style=\"stroke:#000000;stroke-width:0.8;\" x=\"115.914062\" xlink:href=\"#m037a0ea427\" y=\"132.509807\"/>\r\n      </g>\r\n     </g>\r\n     <g id=\"line2d_50\">\r\n      <g>\r\n       <use style=\"stroke:#000000;stroke-width:0.8;\" x=\"383.754063\" xlink:href=\"#m9fa60bee99\" y=\"132.509807\"/>\r\n      </g>\r\n     </g>\r\n     <g id=\"text_25\">\r\n      <!-- variant_cat -->\r\n      <g transform=\"translate(53.045312 136.309026)scale(0.1 -0.1)\">\r\n       <use xlink:href=\"#DejaVuSans-118\"/>\r\n       <use x=\"59.179688\" xlink:href=\"#DejaVuSans-97\"/>\r\n       <use x=\"120.458984\" xlink:href=\"#DejaVuSans-114\"/>\r\n       <use x=\"161.572266\" xlink:href=\"#DejaVuSans-105\"/>\r\n       <use x=\"189.355469\" xlink:href=\"#DejaVuSans-97\"/>\r\n       <use x=\"250.634766\" xlink:href=\"#DejaVuSans-110\"/>\r\n       <use x=\"314.013672\" xlink:href=\"#DejaVuSans-116\"/>\r\n       <use x=\"353.222656\" xlink:href=\"#DejaVuSans-95\"/>\r\n       <use x=\"403.222656\" xlink:href=\"#DejaVuSans-99\"/>\r\n       <use x=\"458.203125\" xlink:href=\"#DejaVuSans-97\"/>\r\n       <use x=\"519.482422\" xlink:href=\"#DejaVuSans-116\"/>\r\n      </g>\r\n     </g>\r\n    </g>\r\n    <g id=\"ytick_9\">\r\n     <g id=\"line2d_51\">\r\n      <g>\r\n       <use style=\"stroke:#000000;stroke-width:0.8;\" x=\"115.914062\" xlink:href=\"#m037a0ea427\" y=\"119.719219\"/>\r\n      </g>\r\n     </g>\r\n     <g id=\"line2d_52\">\r\n      <g>\r\n       <use style=\"stroke:#000000;stroke-width:0.8;\" x=\"383.754063\" xlink:href=\"#m9fa60bee99\" y=\"119.719219\"/>\r\n      </g>\r\n     </g>\r\n     <g id=\"text_26\">\r\n      <!-- assured_buy_cat -->\r\n      <g transform=\"translate(25.490625 123.518438)scale(0.1 -0.1)\">\r\n       <use xlink:href=\"#DejaVuSans-97\"/>\r\n       <use x=\"61.279297\" xlink:href=\"#DejaVuSans-115\"/>\r\n       <use x=\"113.378906\" xlink:href=\"#DejaVuSans-115\"/>\r\n       <use x=\"165.478516\" xlink:href=\"#DejaVuSans-117\"/>\r\n       <use x=\"228.857422\" xlink:href=\"#DejaVuSans-114\"/>\r\n       <use x=\"267.720703\" xlink:href=\"#DejaVuSans-101\"/>\r\n       <use x=\"329.244141\" xlink:href=\"#DejaVuSans-100\"/>\r\n       <use x=\"392.720703\" xlink:href=\"#DejaVuSans-95\"/>\r\n       <use x=\"442.720703\" xlink:href=\"#DejaVuSans-98\"/>\r\n       <use x=\"506.197266\" xlink:href=\"#DejaVuSans-117\"/>\r\n       <use x=\"569.576172\" xlink:href=\"#DejaVuSans-121\"/>\r\n       <use x=\"628.755859\" xlink:href=\"#DejaVuSans-95\"/>\r\n       <use x=\"678.755859\" xlink:href=\"#DejaVuSans-99\"/>\r\n       <use x=\"733.736328\" xlink:href=\"#DejaVuSans-97\"/>\r\n       <use x=\"795.015625\" xlink:href=\"#DejaVuSans-116\"/>\r\n      </g>\r\n     </g>\r\n    </g>\r\n    <g id=\"ytick_10\">\r\n     <g id=\"line2d_53\">\r\n      <g>\r\n       <use style=\"stroke:#000000;stroke-width:0.8;\" x=\"115.914062\" xlink:href=\"#m037a0ea427\" y=\"106.928631\"/>\r\n      </g>\r\n     </g>\r\n     <g id=\"line2d_54\">\r\n      <g>\r\n       <use style=\"stroke:#000000;stroke-width:0.8;\" x=\"383.754063\" xlink:href=\"#m9fa60bee99\" y=\"106.928631\"/>\r\n      </g>\r\n     </g>\r\n     <g id=\"text_27\">\r\n      <!-- registered_city_cat -->\r\n      <g transform=\"translate(14.415625 110.727849)scale(0.1 -0.1)\">\r\n       <use xlink:href=\"#DejaVuSans-114\"/>\r\n       <use x=\"38.863281\" xlink:href=\"#DejaVuSans-101\"/>\r\n       <use x=\"100.386719\" xlink:href=\"#DejaVuSans-103\"/>\r\n       <use x=\"163.863281\" xlink:href=\"#DejaVuSans-105\"/>\r\n       <use x=\"191.646484\" xlink:href=\"#DejaVuSans-115\"/>\r\n       <use x=\"243.746094\" xlink:href=\"#DejaVuSans-116\"/>\r\n       <use x=\"282.955078\" xlink:href=\"#DejaVuSans-101\"/>\r\n       <use x=\"344.478516\" xlink:href=\"#DejaVuSans-114\"/>\r\n       <use x=\"383.341797\" xlink:href=\"#DejaVuSans-101\"/>\r\n       <use x=\"444.865234\" xlink:href=\"#DejaVuSans-100\"/>\r\n       <use x=\"508.341797\" xlink:href=\"#DejaVuSans-95\"/>\r\n       <use x=\"558.341797\" xlink:href=\"#DejaVuSans-99\"/>\r\n       <use x=\"613.322266\" xlink:href=\"#DejaVuSans-105\"/>\r\n       <use x=\"641.105469\" xlink:href=\"#DejaVuSans-116\"/>\r\n       <use x=\"680.314453\" xlink:href=\"#DejaVuSans-121\"/>\r\n       <use x=\"739.494141\" xlink:href=\"#DejaVuSans-95\"/>\r\n       <use x=\"789.494141\" xlink:href=\"#DejaVuSans-99\"/>\r\n       <use x=\"844.474609\" xlink:href=\"#DejaVuSans-97\"/>\r\n       <use x=\"905.753906\" xlink:href=\"#DejaVuSans-116\"/>\r\n      </g>\r\n     </g>\r\n    </g>\r\n    <g id=\"ytick_11\">\r\n     <g id=\"line2d_55\">\r\n      <g>\r\n       <use style=\"stroke:#000000;stroke-width:0.8;\" x=\"115.914062\" xlink:href=\"#m037a0ea427\" y=\"94.138042\"/>\r\n      </g>\r\n     </g>\r\n     <g id=\"line2d_56\">\r\n      <g>\r\n       <use style=\"stroke:#000000;stroke-width:0.8;\" x=\"383.754063\" xlink:href=\"#m9fa60bee99\" y=\"94.138042\"/>\r\n      </g>\r\n     </g>\r\n     <g id=\"text_28\">\r\n      <!-- registered_state_cat -->\r\n      <g transform=\"translate(7.2 97.937261)scale(0.1 -0.1)\">\r\n       <use xlink:href=\"#DejaVuSans-114\"/>\r\n       <use x=\"38.863281\" xlink:href=\"#DejaVuSans-101\"/>\r\n       <use x=\"100.386719\" xlink:href=\"#DejaVuSans-103\"/>\r\n       <use x=\"163.863281\" xlink:href=\"#DejaVuSans-105\"/>\r\n       <use x=\"191.646484\" xlink:href=\"#DejaVuSans-115\"/>\r\n       <use x=\"243.746094\" xlink:href=\"#DejaVuSans-116\"/>\r\n       <use x=\"282.955078\" xlink:href=\"#DejaVuSans-101\"/>\r\n       <use x=\"344.478516\" xlink:href=\"#DejaVuSans-114\"/>\r\n       <use x=\"383.341797\" xlink:href=\"#DejaVuSans-101\"/>\r\n       <use x=\"444.865234\" xlink:href=\"#DejaVuSans-100\"/>\r\n       <use x=\"508.341797\" xlink:href=\"#DejaVuSans-95\"/>\r\n       <use x=\"558.341797\" xlink:href=\"#DejaVuSans-115\"/>\r\n       <use x=\"610.441406\" xlink:href=\"#DejaVuSans-116\"/>\r\n       <use x=\"649.650391\" xlink:href=\"#DejaVuSans-97\"/>\r\n       <use x=\"710.929688\" xlink:href=\"#DejaVuSans-116\"/>\r\n       <use x=\"750.138672\" xlink:href=\"#DejaVuSans-101\"/>\r\n       <use x=\"811.662109\" xlink:href=\"#DejaVuSans-95\"/>\r\n       <use x=\"861.662109\" xlink:href=\"#DejaVuSans-99\"/>\r\n       <use x=\"916.642578\" xlink:href=\"#DejaVuSans-97\"/>\r\n       <use x=\"977.921875\" xlink:href=\"#DejaVuSans-116\"/>\r\n      </g>\r\n     </g>\r\n    </g>\r\n    <g id=\"ytick_12\">\r\n     <g id=\"line2d_57\">\r\n      <g>\r\n       <use style=\"stroke:#000000;stroke-width:0.8;\" x=\"115.914062\" xlink:href=\"#m037a0ea427\" y=\"81.347454\"/>\r\n      </g>\r\n     </g>\r\n     <g id=\"line2d_58\">\r\n      <g>\r\n       <use style=\"stroke:#000000;stroke-width:0.8;\" x=\"383.754063\" xlink:href=\"#m9fa60bee99\" y=\"81.347454\"/>\r\n      </g>\r\n     </g>\r\n     <g id=\"text_29\">\r\n      <!-- is_hot_cat -->\r\n      <g transform=\"translate(59.003125 85.146673)scale(0.1 -0.1)\">\r\n       <use xlink:href=\"#DejaVuSans-105\"/>\r\n       <use x=\"27.783203\" xlink:href=\"#DejaVuSans-115\"/>\r\n       <use x=\"79.882812\" xlink:href=\"#DejaVuSans-95\"/>\r\n       <use x=\"129.882812\" xlink:href=\"#DejaVuSans-104\"/>\r\n       <use x=\"193.261719\" xlink:href=\"#DejaVuSans-111\"/>\r\n       <use x=\"254.443359\" xlink:href=\"#DejaVuSans-116\"/>\r\n       <use x=\"293.652344\" xlink:href=\"#DejaVuSans-95\"/>\r\n       <use x=\"343.652344\" xlink:href=\"#DejaVuSans-99\"/>\r\n       <use x=\"398.632812\" xlink:href=\"#DejaVuSans-97\"/>\r\n       <use x=\"459.912109\" xlink:href=\"#DejaVuSans-116\"/>\r\n      </g>\r\n     </g>\r\n    </g>\r\n    <g id=\"ytick_13\">\r\n     <g id=\"line2d_59\">\r\n      <g>\r\n       <use style=\"stroke:#000000;stroke-width:0.8;\" x=\"115.914062\" xlink:href=\"#m037a0ea427\" y=\"68.556866\"/>\r\n      </g>\r\n     </g>\r\n     <g id=\"line2d_60\">\r\n      <g>\r\n       <use style=\"stroke:#000000;stroke-width:0.8;\" x=\"383.754063\" xlink:href=\"#m9fa60bee99\" y=\"68.556866\"/>\r\n      </g>\r\n     </g>\r\n     <g id=\"text_30\">\r\n      <!-- rto_cat -->\r\n      <g transform=\"translate(74.217187 72.217022)scale(0.1 -0.1)\">\r\n       <use xlink:href=\"#DejaVuSans-114\"/>\r\n       <use x=\"41.113281\" xlink:href=\"#DejaVuSans-116\"/>\r\n       <use x=\"80.322266\" xlink:href=\"#DejaVuSans-111\"/>\r\n       <use x=\"141.503906\" xlink:href=\"#DejaVuSans-95\"/>\r\n       <use x=\"191.503906\" xlink:href=\"#DejaVuSans-99\"/>\r\n       <use x=\"246.484375\" xlink:href=\"#DejaVuSans-97\"/>\r\n       <use x=\"307.763672\" xlink:href=\"#DejaVuSans-116\"/>\r\n      </g>\r\n     </g>\r\n    </g>\r\n    <g id=\"ytick_14\">\r\n     <g id=\"line2d_61\">\r\n      <g>\r\n       <use style=\"stroke:#000000;stroke-width:0.8;\" x=\"115.914062\" xlink:href=\"#m037a0ea427\" y=\"55.766278\"/>\r\n      </g>\r\n     </g>\r\n     <g id=\"line2d_62\">\r\n      <g>\r\n       <use style=\"stroke:#000000;stroke-width:0.8;\" x=\"383.754063\" xlink:href=\"#m9fa60bee99\" y=\"55.766278\"/>\r\n      </g>\r\n     </g>\r\n     <g id=\"text_31\">\r\n      <!-- make_cat -->\r\n      <g transform=\"translate(60.917187 59.565496)scale(0.1 -0.1)\">\r\n       <use xlink:href=\"#DejaVuSans-109\"/>\r\n       <use x=\"97.412109\" xlink:href=\"#DejaVuSans-97\"/>\r\n       <use x=\"158.691406\" xlink:href=\"#DejaVuSans-107\"/>\r\n       <use x=\"212.976562\" xlink:href=\"#DejaVuSans-101\"/>\r\n       <use x=\"274.5\" xlink:href=\"#DejaVuSans-95\"/>\r\n       <use x=\"324.5\" xlink:href=\"#DejaVuSans-99\"/>\r\n       <use x=\"379.480469\" xlink:href=\"#DejaVuSans-97\"/>\r\n       <use x=\"440.759766\" xlink:href=\"#DejaVuSans-116\"/>\r\n      </g>\r\n     </g>\r\n    </g>\r\n    <g id=\"ytick_15\">\r\n     <g id=\"line2d_63\">\r\n      <g>\r\n       <use style=\"stroke:#000000;stroke-width:0.8;\" x=\"115.914062\" xlink:href=\"#m037a0ea427\" y=\"42.975689\"/>\r\n      </g>\r\n     </g>\r\n     <g id=\"line2d_64\">\r\n      <g>\r\n       <use style=\"stroke:#000000;stroke-width:0.8;\" x=\"383.754063\" xlink:href=\"#m9fa60bee99\" y=\"42.975689\"/>\r\n      </g>\r\n     </g>\r\n     <g id=\"text_32\">\r\n      <!-- model_cat -->\r\n      <g transform=\"translate(57.228125 46.774908)scale(0.1 -0.1)\">\r\n       <use xlink:href=\"#DejaVuSans-109\"/>\r\n       <use x=\"97.412109\" xlink:href=\"#DejaVuSans-111\"/>\r\n       <use x=\"158.59375\" xlink:href=\"#DejaVuSans-100\"/>\r\n       <use x=\"222.070312\" xlink:href=\"#DejaVuSans-101\"/>\r\n       <use x=\"283.59375\" xlink:href=\"#DejaVuSans-108\"/>\r\n       <use x=\"311.376953\" xlink:href=\"#DejaVuSans-95\"/>\r\n       <use x=\"361.376953\" xlink:href=\"#DejaVuSans-99\"/>\r\n       <use x=\"416.357422\" xlink:href=\"#DejaVuSans-97\"/>\r\n       <use x=\"477.636719\" xlink:href=\"#DejaVuSans-116\"/>\r\n      </g>\r\n     </g>\r\n    </g>\r\n    <g id=\"ytick_16\">\r\n     <g id=\"line2d_65\">\r\n      <g>\r\n       <use style=\"stroke:#000000;stroke-width:0.8;\" x=\"115.914062\" xlink:href=\"#m037a0ea427\" y=\"30.185101\"/>\r\n      </g>\r\n     </g>\r\n     <g id=\"line2d_66\">\r\n      <g>\r\n       <use style=\"stroke:#000000;stroke-width:0.8;\" x=\"383.754063\" xlink:href=\"#m9fa60bee99\" y=\"30.185101\"/>\r\n      </g>\r\n     </g>\r\n     <g id=\"text_33\">\r\n      <!-- total_owners -->\r\n      <g transform=\"translate(44.940625 33.98432)scale(0.1 -0.1)\">\r\n       <use xlink:href=\"#DejaVuSans-116\"/>\r\n       <use x=\"39.208984\" xlink:href=\"#DejaVuSans-111\"/>\r\n       <use x=\"100.390625\" xlink:href=\"#DejaVuSans-116\"/>\r\n       <use x=\"139.599609\" xlink:href=\"#DejaVuSans-97\"/>\r\n       <use x=\"200.878906\" xlink:href=\"#DejaVuSans-108\"/>\r\n       <use x=\"228.662109\" xlink:href=\"#DejaVuSans-95\"/>\r\n       <use x=\"278.662109\" xlink:href=\"#DejaVuSans-111\"/>\r\n       <use x=\"339.84375\" xlink:href=\"#DejaVuSans-119\"/>\r\n       <use x=\"421.630859\" xlink:href=\"#DejaVuSans-110\"/>\r\n       <use x=\"485.009766\" xlink:href=\"#DejaVuSans-101\"/>\r\n       <use x=\"546.533203\" xlink:href=\"#DejaVuSans-114\"/>\r\n       <use x=\"587.646484\" xlink:href=\"#DejaVuSans-115\"/>\r\n      </g>\r\n     </g>\r\n    </g>\r\n    <g id=\"ytick_17\">\r\n     <g id=\"line2d_67\">\r\n      <g>\r\n       <use style=\"stroke:#000000;stroke-width:0.8;\" x=\"115.914062\" xlink:href=\"#m037a0ea427\" y=\"17.394513\"/>\r\n      </g>\r\n     </g>\r\n     <g id=\"line2d_68\">\r\n      <g>\r\n       <use style=\"stroke:#000000;stroke-width:0.8;\" x=\"383.754063\" xlink:href=\"#m9fa60bee99\" y=\"17.394513\"/>\r\n      </g>\r\n     </g>\r\n     <g id=\"text_34\">\r\n      <!-- broker_quote -->\r\n      <g transform=\"translate(42.990625 21.193732)scale(0.1 -0.1)\">\r\n       <use xlink:href=\"#DejaVuSans-98\"/>\r\n       <use x=\"63.476562\" xlink:href=\"#DejaVuSans-114\"/>\r\n       <use x=\"102.339844\" xlink:href=\"#DejaVuSans-111\"/>\r\n       <use x=\"163.521484\" xlink:href=\"#DejaVuSans-107\"/>\r\n       <use x=\"217.806641\" xlink:href=\"#DejaVuSans-101\"/>\r\n       <use x=\"279.330078\" xlink:href=\"#DejaVuSans-114\"/>\r\n       <use x=\"320.443359\" xlink:href=\"#DejaVuSans-95\"/>\r\n       <use x=\"370.443359\" xlink:href=\"#DejaVuSans-113\"/>\r\n       <use x=\"433.919922\" xlink:href=\"#DejaVuSans-117\"/>\r\n       <use x=\"497.298828\" xlink:href=\"#DejaVuSans-111\"/>\r\n       <use x=\"558.480469\" xlink:href=\"#DejaVuSans-116\"/>\r\n       <use x=\"597.689453\" xlink:href=\"#DejaVuSans-101\"/>\r\n      </g>\r\n     </g>\r\n    </g>\r\n   </g>\r\n  </g>\r\n  <g id=\"axes_2\">\r\n   <g id=\"patch_2\">\r\n    <path clip-path=\"url(#p271957d921)\" d=\"M 400.494063 228.439219 \r\nL 400.494063 227.589844 \r\nL 400.494063 11.848594 \r\nL 400.494063 10.999219 \r\nL 411.366063 10.999219 \r\nL 411.366063 11.848594 \r\nL 411.366063 227.589844 \r\nL 411.366063 228.439219 \r\nz\r\n\" style=\"fill:#ffffff;stroke:#ffffff;stroke-linejoin:miter;stroke-width:0.01;\"/>\r\n   </g>\r\n   <image height=\"217\" id=\"image6b3b9dff0b\" transform=\"scale(1 -1)translate(0 -217)\" width=\"11\" x=\"400\" xlink:href=\"data:image/png;base64,\r\niVBORw0KGgoAAAANSUhEUgAAAAsAAADZCAYAAAD2WsoCAAABk0lEQVR4nN3XwW0lMQyDYVmeQ3pKDSk6RS12gfdsp4X5DgRmM2dBIH9SBmZ8fn3/qZvfNXrcna1rjIZh2tywec75ITL+ZWSQwRZ0fTUYHC0GRTPRGBQ3DCfjpvITOhmOGSQZuQSb0Fn5fz2NcZ9GC41k+W/P1jVb4qbrvi852w2QMVvijtHAPstmQTdnpZ4CoyHDZLDBYHel4qZLofLLZowbaGBFU8Mko/vIy/+QbhwYpvKbQZAB/rhIIGMOiJvKTzJyBonzHPsJNAzd7dGqq83gAYMVi1s2I7oYDZNBfSbOYrBScePBxmjUegQNGj47tLmP0Dg7ReOkaKBBiltCEYMVi3vsWNyxBP9HGpWLmzbvd6r8mxJM0aDNQ2jUb6dRK0WjHkJjwXXXfsR114bNJ0bj5GjEunHeYpAecwmF4j60WdAdi1uuO2bwUDdk8449BTmDJ1d+ids052jQ5lj5kzRS6NYLfv/p5U8alOuW8u9FcT+iz3ulaByhQTJyBs+KlZ9ovEXzixKE4fVXDL7gumMGfwDgek1EmcmZYQAAAABJRU5ErkJggg==\" y=\"-11\"/>\r\n   <g id=\"matplotlib.axis_3\"/>\r\n   <g id=\"matplotlib.axis_4\">\r\n    <g id=\"ytick_18\">\r\n     <g id=\"line2d_69\">\r\n      <g>\r\n       <use style=\"stroke:#000000;stroke-width:0.8;\" x=\"411.366063\" xlink:href=\"#m9fa60bee99\" y=\"228.439219\"/>\r\n      </g>\r\n     </g>\r\n     <g id=\"text_35\">\r\n      <!-- 0.0 -->\r\n      <g transform=\"translate(418.366063 232.238437)scale(0.1 -0.1)\">\r\n       <defs>\r\n        <path d=\"M 31.78125 66.40625 \r\nQ 24.171875 66.40625 20.328125 58.90625 \r\nQ 16.5 51.421875 16.5 36.375 \r\nQ 16.5 21.390625 20.328125 13.890625 \r\nQ 24.171875 6.390625 31.78125 6.390625 \r\nQ 39.453125 6.390625 43.28125 13.890625 \r\nQ 47.125 21.390625 47.125 36.375 \r\nQ 47.125 51.421875 43.28125 58.90625 \r\nQ 39.453125 66.40625 31.78125 66.40625 \r\nz\r\nM 31.78125 74.21875 \r\nQ 44.046875 74.21875 50.515625 64.515625 \r\nQ 56.984375 54.828125 56.984375 36.375 \r\nQ 56.984375 17.96875 50.515625 8.265625 \r\nQ 44.046875 -1.421875 31.78125 -1.421875 \r\nQ 19.53125 -1.421875 13.0625 8.265625 \r\nQ 6.59375 17.96875 6.59375 36.375 \r\nQ 6.59375 54.828125 13.0625 64.515625 \r\nQ 19.53125 74.21875 31.78125 74.21875 \r\nz\r\n\" id=\"DejaVuSans-48\"/>\r\n        <path d=\"M 10.6875 12.40625 \r\nL 21 12.40625 \r\nL 21 0 \r\nL 10.6875 0 \r\nz\r\n\" id=\"DejaVuSans-46\"/>\r\n       </defs>\r\n       <use xlink:href=\"#DejaVuSans-48\"/>\r\n       <use x=\"63.623047\" xlink:href=\"#DejaVuSans-46\"/>\r\n       <use x=\"95.410156\" xlink:href=\"#DejaVuSans-48\"/>\r\n      </g>\r\n     </g>\r\n    </g>\r\n    <g id=\"ytick_19\">\r\n     <g id=\"line2d_70\">\r\n      <g>\r\n       <use style=\"stroke:#000000;stroke-width:0.8;\" x=\"411.366063\" xlink:href=\"#m9fa60bee99\" y=\"184.951219\"/>\r\n      </g>\r\n     </g>\r\n     <g id=\"text_36\">\r\n      <!-- 0.2 -->\r\n      <g transform=\"translate(418.366063 188.750437)scale(0.1 -0.1)\">\r\n       <defs>\r\n        <path d=\"M 19.1875 8.296875 \r\nL 53.609375 8.296875 \r\nL 53.609375 0 \r\nL 7.328125 0 \r\nL 7.328125 8.296875 \r\nQ 12.9375 14.109375 22.625 23.890625 \r\nQ 32.328125 33.6875 34.8125 36.53125 \r\nQ 39.546875 41.84375 41.421875 45.53125 \r\nQ 43.3125 49.21875 43.3125 52.78125 \r\nQ 43.3125 58.59375 39.234375 62.25 \r\nQ 35.15625 65.921875 28.609375 65.921875 \r\nQ 23.96875 65.921875 18.8125 64.3125 \r\nQ 13.671875 62.703125 7.8125 59.421875 \r\nL 7.8125 69.390625 \r\nQ 13.765625 71.78125 18.9375 73 \r\nQ 24.125 74.21875 28.421875 74.21875 \r\nQ 39.75 74.21875 46.484375 68.546875 \r\nQ 53.21875 62.890625 53.21875 53.421875 \r\nQ 53.21875 48.921875 51.53125 44.890625 \r\nQ 49.859375 40.875 45.40625 35.40625 \r\nQ 44.1875 33.984375 37.640625 27.21875 \r\nQ 31.109375 20.453125 19.1875 8.296875 \r\nz\r\n\" id=\"DejaVuSans-50\"/>\r\n       </defs>\r\n       <use xlink:href=\"#DejaVuSans-48\"/>\r\n       <use x=\"63.623047\" xlink:href=\"#DejaVuSans-46\"/>\r\n       <use x=\"95.410156\" xlink:href=\"#DejaVuSans-50\"/>\r\n      </g>\r\n     </g>\r\n    </g>\r\n    <g id=\"ytick_20\">\r\n     <g id=\"line2d_71\">\r\n      <g>\r\n       <use style=\"stroke:#000000;stroke-width:0.8;\" x=\"411.366063\" xlink:href=\"#m9fa60bee99\" y=\"141.463219\"/>\r\n      </g>\r\n     </g>\r\n     <g id=\"text_37\">\r\n      <!-- 0.4 -->\r\n      <g transform=\"translate(418.366063 145.262437)scale(0.1 -0.1)\">\r\n       <defs>\r\n        <path d=\"M 37.796875 64.3125 \r\nL 12.890625 25.390625 \r\nL 37.796875 25.390625 \r\nz\r\nM 35.203125 72.90625 \r\nL 47.609375 72.90625 \r\nL 47.609375 25.390625 \r\nL 58.015625 25.390625 \r\nL 58.015625 17.1875 \r\nL 47.609375 17.1875 \r\nL 47.609375 0 \r\nL 37.796875 0 \r\nL 37.796875 17.1875 \r\nL 4.890625 17.1875 \r\nL 4.890625 26.703125 \r\nz\r\n\" id=\"DejaVuSans-52\"/>\r\n       </defs>\r\n       <use xlink:href=\"#DejaVuSans-48\"/>\r\n       <use x=\"63.623047\" xlink:href=\"#DejaVuSans-46\"/>\r\n       <use x=\"95.410156\" xlink:href=\"#DejaVuSans-52\"/>\r\n      </g>\r\n     </g>\r\n    </g>\r\n    <g id=\"ytick_21\">\r\n     <g id=\"line2d_72\">\r\n      <g>\r\n       <use style=\"stroke:#000000;stroke-width:0.8;\" x=\"411.366063\" xlink:href=\"#m9fa60bee99\" y=\"97.975219\"/>\r\n      </g>\r\n     </g>\r\n     <g id=\"text_38\">\r\n      <!-- 0.6 -->\r\n      <g transform=\"translate(418.366063 101.774437)scale(0.1 -0.1)\">\r\n       <defs>\r\n        <path d=\"M 33.015625 40.375 \r\nQ 26.375 40.375 22.484375 35.828125 \r\nQ 18.609375 31.296875 18.609375 23.390625 \r\nQ 18.609375 15.53125 22.484375 10.953125 \r\nQ 26.375 6.390625 33.015625 6.390625 \r\nQ 39.65625 6.390625 43.53125 10.953125 \r\nQ 47.40625 15.53125 47.40625 23.390625 \r\nQ 47.40625 31.296875 43.53125 35.828125 \r\nQ 39.65625 40.375 33.015625 40.375 \r\nz\r\nM 52.59375 71.296875 \r\nL 52.59375 62.3125 \r\nQ 48.875 64.0625 45.09375 64.984375 \r\nQ 41.3125 65.921875 37.59375 65.921875 \r\nQ 27.828125 65.921875 22.671875 59.328125 \r\nQ 17.53125 52.734375 16.796875 39.40625 \r\nQ 19.671875 43.65625 24.015625 45.921875 \r\nQ 28.375 48.1875 33.59375 48.1875 \r\nQ 44.578125 48.1875 50.953125 41.515625 \r\nQ 57.328125 34.859375 57.328125 23.390625 \r\nQ 57.328125 12.15625 50.6875 5.359375 \r\nQ 44.046875 -1.421875 33.015625 -1.421875 \r\nQ 20.359375 -1.421875 13.671875 8.265625 \r\nQ 6.984375 17.96875 6.984375 36.375 \r\nQ 6.984375 53.65625 15.1875 63.9375 \r\nQ 23.390625 74.21875 37.203125 74.21875 \r\nQ 40.921875 74.21875 44.703125 73.484375 \r\nQ 48.484375 72.75 52.59375 71.296875 \r\nz\r\n\" id=\"DejaVuSans-54\"/>\r\n       </defs>\r\n       <use xlink:href=\"#DejaVuSans-48\"/>\r\n       <use x=\"63.623047\" xlink:href=\"#DejaVuSans-46\"/>\r\n       <use x=\"95.410156\" xlink:href=\"#DejaVuSans-54\"/>\r\n      </g>\r\n     </g>\r\n    </g>\r\n    <g id=\"ytick_22\">\r\n     <g id=\"line2d_73\">\r\n      <g>\r\n       <use style=\"stroke:#000000;stroke-width:0.8;\" x=\"411.366063\" xlink:href=\"#m9fa60bee99\" y=\"54.487219\"/>\r\n      </g>\r\n     </g>\r\n     <g id=\"text_39\">\r\n      <!-- 0.8 -->\r\n      <g transform=\"translate(418.366063 58.286438)scale(0.1 -0.1)\">\r\n       <defs>\r\n        <path d=\"M 31.78125 34.625 \r\nQ 24.75 34.625 20.71875 30.859375 \r\nQ 16.703125 27.09375 16.703125 20.515625 \r\nQ 16.703125 13.921875 20.71875 10.15625 \r\nQ 24.75 6.390625 31.78125 6.390625 \r\nQ 38.8125 6.390625 42.859375 10.171875 \r\nQ 46.921875 13.96875 46.921875 20.515625 \r\nQ 46.921875 27.09375 42.890625 30.859375 \r\nQ 38.875 34.625 31.78125 34.625 \r\nz\r\nM 21.921875 38.8125 \r\nQ 15.578125 40.375 12.03125 44.71875 \r\nQ 8.5 49.078125 8.5 55.328125 \r\nQ 8.5 64.0625 14.71875 69.140625 \r\nQ 20.953125 74.21875 31.78125 74.21875 \r\nQ 42.671875 74.21875 48.875 69.140625 \r\nQ 55.078125 64.0625 55.078125 55.328125 \r\nQ 55.078125 49.078125 51.53125 44.71875 \r\nQ 48 40.375 41.703125 38.8125 \r\nQ 48.828125 37.15625 52.796875 32.3125 \r\nQ 56.78125 27.484375 56.78125 20.515625 \r\nQ 56.78125 9.90625 50.3125 4.234375 \r\nQ 43.84375 -1.421875 31.78125 -1.421875 \r\nQ 19.734375 -1.421875 13.25 4.234375 \r\nQ 6.78125 9.90625 6.78125 20.515625 \r\nQ 6.78125 27.484375 10.78125 32.3125 \r\nQ 14.796875 37.15625 21.921875 38.8125 \r\nz\r\nM 18.3125 54.390625 \r\nQ 18.3125 48.734375 21.84375 45.5625 \r\nQ 25.390625 42.390625 31.78125 42.390625 \r\nQ 38.140625 42.390625 41.71875 45.5625 \r\nQ 45.3125 48.734375 45.3125 54.390625 \r\nQ 45.3125 60.0625 41.71875 63.234375 \r\nQ 38.140625 66.40625 31.78125 66.40625 \r\nQ 25.390625 66.40625 21.84375 63.234375 \r\nQ 18.3125 60.0625 18.3125 54.390625 \r\nz\r\n\" id=\"DejaVuSans-56\"/>\r\n       </defs>\r\n       <use xlink:href=\"#DejaVuSans-48\"/>\r\n       <use x=\"63.623047\" xlink:href=\"#DejaVuSans-46\"/>\r\n       <use x=\"95.410156\" xlink:href=\"#DejaVuSans-56\"/>\r\n      </g>\r\n     </g>\r\n    </g>\r\n    <g id=\"ytick_23\">\r\n     <g id=\"line2d_74\">\r\n      <g>\r\n       <use style=\"stroke:#000000;stroke-width:0.8;\" x=\"411.366063\" xlink:href=\"#m9fa60bee99\" y=\"10.999219\"/>\r\n      </g>\r\n     </g>\r\n     <g id=\"text_40\">\r\n      <!-- 1.0 -->\r\n      <g transform=\"translate(418.366063 14.798438)scale(0.1 -0.1)\">\r\n       <defs>\r\n        <path d=\"M 12.40625 8.296875 \r\nL 28.515625 8.296875 \r\nL 28.515625 63.921875 \r\nL 10.984375 60.40625 \r\nL 10.984375 69.390625 \r\nL 28.421875 72.90625 \r\nL 38.28125 72.90625 \r\nL 38.28125 8.296875 \r\nL 54.390625 8.296875 \r\nL 54.390625 0 \r\nL 12.40625 0 \r\nz\r\n\" id=\"DejaVuSans-49\"/>\r\n       </defs>\r\n       <use xlink:href=\"#DejaVuSans-49\"/>\r\n       <use x=\"63.623047\" xlink:href=\"#DejaVuSans-46\"/>\r\n       <use x=\"95.410156\" xlink:href=\"#DejaVuSans-48\"/>\r\n      </g>\r\n     </g>\r\n    </g>\r\n   </g>\r\n   <g id=\"patch_3\">\r\n    <path d=\"M 400.494063 228.439219 \r\nL 400.494063 227.589844 \r\nL 400.494063 11.848594 \r\nL 400.494063 10.999219 \r\nL 411.366063 10.999219 \r\nL 411.366063 11.848594 \r\nL 411.366063 227.589844 \r\nL 411.366063 228.439219 \r\nz\r\n\" style=\"fill:none;stroke:#000000;stroke-linejoin:miter;stroke-width:0.8;\"/>\r\n   </g>\r\n  </g>\r\n </g>\r\n <defs>\r\n  <clipPath id=\"p44e93de451\">\r\n   <rect height=\"217.44\" width=\"267.84\" x=\"115.914062\" y=\"10.999219\"/>\r\n  </clipPath>\r\n  <clipPath id=\"p271957d921\">\r\n   <rect height=\"217.44\" width=\"10.872\" x=\"400.494063\" y=\"10.999219\"/>\r\n  </clipPath>\r\n </defs>\r\n</svg>\r\n",
      "image/png": "[encoded data removed]"
     },
     "metadata": {
      "needs_background": "light"
     }
    }
   ],
   "source": [
    "variables = X.columns ; variables\n",
    "visualize_correlation_matrix(X, hurdle = 0.5)\n",
    "# ↓↓ Executa a função mostra o gráfico de correlação\n",
    "# Vemos claramente que Make_Cat e Car_Name_Cat tem altússima correlação e podemos até eliminar uma delas.\n",
    "# Vemos claramente que rto_cat tem alta correlação com registered_state_cat e podemos até eliminar uma delas.\n",
    "# Vemos claramente que registered_city_cat tem city_cat e podemos até eliminar uma delas.\n",
    "\n",
    "# ↓↓ Execute the function shows the correlation graph\n",
    "# We clearly see that Make_Cat and Car_Name_Cat have very high correlation and we can even eliminate one of them.\n",
    "# We clearly see that rto_cat has a high correlation with registered_state_cat and we can even drop one of them.\n",
    "# We clearly see that registered_city_cat has city_cat and we can even drop one of them.\n"
   ]
  },
  {
   "source": [
    "# Importância dos Atributos\n",
    "# Importance of Attributes"
   ],
   "cell_type": "markdown",
   "metadata": {}
  },
  {
   "cell_type": "code",
   "execution_count": 52,
   "metadata": {},
   "outputs": [],
   "source": [
    "# ↓↓ Cria um modelo de regressão liner do SciKit Learn, sem normalizar os dados\n",
    "# ↓↓ Creates a SciKit Learn liner regression model without normalizing the data\n",
    "LnrRgrModel = linear_model.LinearRegression(normalize=False, fit_intercept=True)"
   ]
  },
  {
   "cell_type": "code",
   "execution_count": 53,
   "metadata": {},
   "outputs": [
    {
     "output_type": "execute_result",
     "data": {
      "text/plain": [
       "LinearRegression()"
      ]
     },
     "metadata": {},
     "execution_count": 53
    }
   ],
   "source": [
    "# ↓↓ Executar modelo com os dados independentes X e a variável dependente Y\n",
    "# ↓↓ Run model with independent data X and dependent variable Y\n",
    "LnrRgrModel.fit(X,Y)"
   ]
  },
  {
   "cell_type": "code",
   "execution_count": 54,
   "metadata": {},
   "outputs": [
    {
     "output_type": "stream",
     "name": "stdout",
     "text": [
      "109567.468 is_hot_cat\n24205.584 transmission_cat\n19181.001 make_cat\n8212.436 fuel_type_cat\n3203.401 total_owners\n3053.379 yr_mfr\n2637.571 car_name_cat\n2173.279 body_type_cat\n1907.967 registered_state_cat\n1309.898 assured_buy_cat\n1128.599 city_cat\n320.496 model_cat\n73.697 rto_cat\n29.024 variant_cat\n11.265 registered_city_cat\n 0.911 broker_quote\n 0.041 kms_run\n"
     ]
    }
   ],
   "source": [
    "# ↓↓ Imprimindo os coeficientes de importância de cada variável independente em relação a variável target. Valores maiores são melhores.\n",
    "# ↓↓ Printing the importance coefficients of each independent variable in relation to the target variable. Larger values are better.\n",
    "for coef, var in sorted(zip(map(abs, LnrRgrModel.coef_), X.columns), reverse = True):\n",
    "    print (\"%6.3f %s\" % (coef,var))"
   ]
  },
  {
   "source": [
    "# Normalizando para Rever a Importancia dos Atributos\n",
    "# Normalizing to Review Importance of Attributes"
   ],
   "cell_type": "markdown",
   "metadata": {}
  },
  {
   "cell_type": "code",
   "execution_count": 55,
   "metadata": {},
   "outputs": [],
   "source": [
    "# ↓↓ Aplicação de padronização, isto é, colocá-los em mesma escala, para verificar se a importância de cada fica a mesma\n",
    "# ↓↓ Application of standardization, that is, putting them on the same scale, to verify that the importance of each remains the same\n",
    "standardization = StandardScaler()\n",
    "Stand_coef_linear_reg = make_pipeline(standardization, LnrRgrModel)"
   ]
  },
  {
   "cell_type": "code",
   "execution_count": 56,
   "metadata": {},
   "outputs": [
    {
     "output_type": "execute_result",
     "data": {
      "text/plain": [
       "Pipeline(steps=[('standardscaler', StandardScaler()),\n",
       "                ('linearregression', LinearRegression())])"
      ]
     },
     "metadata": {},
     "execution_count": 56
    }
   ],
   "source": [
    "# ↓↓ Treinamento do modelo com dados padronizados, isto é na mesma escala.\n",
    "# ↓↓ Model training with standardized data, ie on the same scale.\n",
    "Stand_coef_linear_reg.fit(X,Y)"
   ]
  },
  {
   "cell_type": "code",
   "execution_count": 57,
   "metadata": {},
   "outputs": [
    {
     "output_type": "stream",
     "name": "stdout",
     "text": [
      "240959.587 broker_quote\n93243.583 car_name_cat\n89694.089 make_cat\n29425.789 is_hot_cat\n15308.791 model_cat\n9099.958 yr_mfr\n8280.478 fuel_type_cat\n6993.940 transmission_cat\n5994.509 registered_state_cat\n5104.410 variant_cat\n4640.907 city_cat\n4440.130 rto_cat\n3525.711 body_type_cat\n1862.577 total_owners\n1688.314 kms_run\n582.071 registered_city_cat\n493.805 assured_buy_cat\n"
     ]
    }
   ],
   "source": [
    "# ↓↓ Imprimindo as variáveis e seus respectivos coeficientes de importância usando dados normalizados\n",
    "# ↓↓ Printing the variables and their respective importance coefficients using normalized data\n",
    "for coef, var in sorted(zip(map(abs, Stand_coef_linear_reg.steps[1][1].coef_), X.columns), reverse = True):\n",
    "    print (\"%6.3f %s\" % (coef,var))"
   ]
  },
  {
   "cell_type": "code",
   "execution_count": null,
   "metadata": {},
   "outputs": [],
   "source": [
    "# ↑↑ Percebemos que a importância de algumas variáveis mudou muito após a padronização e vamos levar em consideração este ranking de importância para o modelo preditivo.\n",
    "\n",
    "# ↑↑ We realized that the importance of some variables changed a lot after standardization and we will take into account this ranking of importance for the predictive model."
   ]
  },
  {
   "source": [
    "## Usando R squared\n",
    "## Using R squared"
   ],
   "cell_type": "markdown",
   "metadata": {}
  },
  {
   "cell_type": "code",
   "execution_count": 58,
   "metadata": {},
   "outputs": [],
   "source": [
    "# ↓↓ Criando um  modelo de regressão linear para avaliação do nível de erro do modelo\n",
    "# ↓↓ Creating a linear regression model to assess the model's level of error\n",
    "modeloR2 = linear_model.LinearRegression(normalize = False, fit_intercept = True)"
   ]
  },
  {
   "cell_type": "code",
   "execution_count": 59,
   "metadata": {},
   "outputs": [],
   "source": [
    "# ↓↓ Criando um função para avaliar o nível de erro do modelo pelo parâmetro R2 (Erro Médio ao Quadrado)\n",
    "# ↓↓ Creating a function to evaluate the model's error level by parameter R2 (Mean Squared Error)\n",
    "def r2_est(X,y):\n",
    "    return r2_score(Y, modeloR2.fit(X,Y).predict(X))"
   ]
  },
  {
   "cell_type": "code",
   "execution_count": 60,
   "metadata": {},
   "outputs": [
    {
     "output_type": "stream",
     "name": "stdout",
     "text": [
      "Coeficiente R2: 0.935\n"
     ]
    }
   ],
   "source": [
    "# ↓↓ Executando a Função e extraindo o score de erro do modelo\n",
    "# ↓↓ Running the Function and extracting the model error score\n",
    "print ('Coeficiente R2: %0.3f' %  r2_est(X,Y))"
   ]
  },
  {
   "cell_type": "code",
   "execution_count": null,
   "metadata": {},
   "outputs": [],
   "source": [
    "# ↑↑ Pelo coeficiente R2 de valor 0.935, o modelo explica 94% da correlação das variáveis independente para variável target!\n",
    "# ↑↑ By the R2 coefficient of value 0.935, the model explains 94% of the correlation of the independent variables to the target variable!"
   ]
  },
  {
   "cell_type": "code",
   "execution_count": 61,
   "metadata": {},
   "outputs": [],
   "source": [
    "# ↓↓ Trabalhando apenas om as features mais importantes segundo o coeficiente de importância baseado em dados normalizados\n",
    "# ↓↓ Working only with the most important features according to the importance coefficient based on normalized data\n",
    "X1 = dfPureCars[['car_name_cat','make_cat','is_hot_cat','model_cat','yr_mfr','fuel_type_cat','broker_quote']]"
   ]
  },
  {
   "cell_type": "code",
   "execution_count": 63,
   "metadata": {},
   "outputs": [
    {
     "output_type": "execute_result",
     "data": {
      "text/plain": [
       "Pipeline(steps=[('standardscaler', StandardScaler()),\n",
       "                ('linearregression', LinearRegression())])"
      ]
     },
     "metadata": {},
     "execution_count": 63
    }
   ],
   "source": [
    "# ↓↓ Aplicação de padronização, isto é, colocá-los em mesma escala, para verificar se a importância de cada fica a mesma\n",
    "# ↓↓ Application of standardization, that is, putting them on the same scale, to verify that the importance of each remains the same\n",
    "Stand_coef_linear_reg_Final = make_pipeline(standardization, modeloR2_V2)\n",
    "Stand_coef_linear_reg_Final.fit(X1, Y)"
   ]
  },
  {
   "cell_type": "code",
   "execution_count": 64,
   "metadata": {},
   "outputs": [],
   "source": [
    "# ↓↓ Criando uma função para testar o modelo com dados normalizados e obter o coeficiente de erro médio ao quadrado\n",
    "# ↓↓ Creating a function to test the model with normalized data and get the mean squared error coefficient\n",
    "def r2_est_final(X,y):\n",
    "    return r2_score(Y, Stand_coef_linear_reg_Final.fit(X,y).predict(X))"
   ]
  },
  {
   "cell_type": "code",
   "execution_count": 67,
   "metadata": {},
   "outputs": [
    {
     "output_type": "stream",
     "name": "stdout",
     "text": [
      "Coeficiente R2: 0.934\n"
     ]
    }
   ],
   "source": [
    "print ('Coeficiente R2: %0.3f' %  r2_est_final(X1,Y))"
   ]
  },
  {
   "source": [
    "# Testando Modelo Criado com Dados de Teste\n",
    "# Testing Model Created with Test Data"
   ],
   "cell_type": "markdown",
   "metadata": {}
  },
  {
   "cell_type": "code",
   "execution_count": 94,
   "metadata": {},
   "outputs": [],
   "source": [
    "# ↓↓ Lendo dos dados de teste do arquivo CSV\n",
    "# ↓↓ Reading test data from CSV file\n",
    "df_Ind_Cars_Tst = pd.read_csv(\"data/test.csv\",header=0)"
   ]
  },
  {
   "cell_type": "code",
   "execution_count": 93,
   "metadata": {},
   "outputs": [
    {
     "output_type": "execute_result",
     "data": {
      "text/plain": [
       "   id            car_name  yr_mfr fuel_type  kms_run  sale_price       city  \\\n",
       "0   1  maruti swift dzire    2012    petrol    69029      364299       pune   \n",
       "1   2         hyundai eon    2013    petrol    45721      216799    gurgaon   \n",
       "2   3         honda amaze    2013    diesel    37395      387399       pune   \n",
       "3   4         hyundai i20    2012    petrol    37652      364699  bengaluru   \n",
       "4   5       hyundai creta    2017    diesel    53648     1082011    lucknow   \n",
       "\n",
       "   times_viewed  body_type transmission  ... total_owners  broker_quote  \\\n",
       "0          2068      sedan       manual  ...            3        363529   \n",
       "1           903  hatchback       manual  ...            1        205738   \n",
       "2          2809      sedan       manual  ...            1        382667   \n",
       "3          1054  hatchback       manual  ...            3        335740   \n",
       "4          2927        suv    automatic  ...            1       1119840   \n",
       "\n",
       "  original_price car_rating            ad_created_on fitness_certificate  \\\n",
       "0       365029.0      great  2021-03-16T05:00:49.555                True   \n",
       "1            NaN      great  2021-03-10T12:08:11.905                True   \n",
       "2            NaN      great  2021-03-15T12:03:30.041                True   \n",
       "3            NaN      great  2021-04-09T11:16:26.157                True   \n",
       "4      1125840.0      great  2021-04-01T07:24:31.712                True   \n",
       "\n",
       "  emi_starts_from booking_down_pymnt reserved warranty_avail  \n",
       "0            8462              54645    False          False  \n",
       "1            5036              32520    False          False  \n",
       "2            8998              58110     True          False  \n",
       "3            8471              54705     True          False  \n",
       "4           25132             162302    False          False  \n",
       "\n",
       "[5 rows x 30 columns]"
      ],
      "text/html": "<div>\n<style scoped>\n    .dataframe tbody tr th:only-of-type {\n        vertical-align: middle;\n    }\n\n    .dataframe tbody tr th {\n        vertical-align: top;\n    }\n\n    .dataframe thead th {\n        text-align: right;\n    }\n</style>\n<table border=\"1\" class=\"dataframe\">\n  <thead>\n    <tr style=\"text-align: right;\">\n      <th></th>\n      <th>id</th>\n      <th>car_name</th>\n      <th>yr_mfr</th>\n      <th>fuel_type</th>\n      <th>kms_run</th>\n      <th>sale_price</th>\n      <th>city</th>\n      <th>times_viewed</th>\n      <th>body_type</th>\n      <th>transmission</th>\n      <th>...</th>\n      <th>total_owners</th>\n      <th>broker_quote</th>\n      <th>original_price</th>\n      <th>car_rating</th>\n      <th>ad_created_on</th>\n      <th>fitness_certificate</th>\n      <th>emi_starts_from</th>\n      <th>booking_down_pymnt</th>\n      <th>reserved</th>\n      <th>warranty_avail</th>\n    </tr>\n  </thead>\n  <tbody>\n    <tr>\n      <th>0</th>\n      <td>1</td>\n      <td>maruti swift dzire</td>\n      <td>2012</td>\n      <td>petrol</td>\n      <td>69029</td>\n      <td>364299</td>\n      <td>pune</td>\n      <td>2068</td>\n      <td>sedan</td>\n      <td>manual</td>\n      <td>...</td>\n      <td>3</td>\n      <td>363529</td>\n      <td>365029.0</td>\n      <td>great</td>\n      <td>2021-03-16T05:00:49.555</td>\n      <td>True</td>\n      <td>8462</td>\n      <td>54645</td>\n      <td>False</td>\n      <td>False</td>\n    </tr>\n    <tr>\n      <th>1</th>\n      <td>2</td>\n      <td>hyundai eon</td>\n      <td>2013</td>\n      <td>petrol</td>\n      <td>45721</td>\n      <td>216799</td>\n      <td>gurgaon</td>\n      <td>903</td>\n      <td>hatchback</td>\n      <td>manual</td>\n      <td>...</td>\n      <td>1</td>\n      <td>205738</td>\n      <td>NaN</td>\n      <td>great</td>\n      <td>2021-03-10T12:08:11.905</td>\n      <td>True</td>\n      <td>5036</td>\n      <td>32520</td>\n      <td>False</td>\n      <td>False</td>\n    </tr>\n    <tr>\n      <th>2</th>\n      <td>3</td>\n      <td>honda amaze</td>\n      <td>2013</td>\n      <td>diesel</td>\n      <td>37395</td>\n      <td>387399</td>\n      <td>pune</td>\n      <td>2809</td>\n      <td>sedan</td>\n      <td>manual</td>\n      <td>...</td>\n      <td>1</td>\n      <td>382667</td>\n      <td>NaN</td>\n      <td>great</td>\n      <td>2021-03-15T12:03:30.041</td>\n      <td>True</td>\n      <td>8998</td>\n      <td>58110</td>\n      <td>True</td>\n      <td>False</td>\n    </tr>\n    <tr>\n      <th>3</th>\n      <td>4</td>\n      <td>hyundai i20</td>\n      <td>2012</td>\n      <td>petrol</td>\n      <td>37652</td>\n      <td>364699</td>\n      <td>bengaluru</td>\n      <td>1054</td>\n      <td>hatchback</td>\n      <td>manual</td>\n      <td>...</td>\n      <td>3</td>\n      <td>335740</td>\n      <td>NaN</td>\n      <td>great</td>\n      <td>2021-04-09T11:16:26.157</td>\n      <td>True</td>\n      <td>8471</td>\n      <td>54705</td>\n      <td>True</td>\n      <td>False</td>\n    </tr>\n    <tr>\n      <th>4</th>\n      <td>5</td>\n      <td>hyundai creta</td>\n      <td>2017</td>\n      <td>diesel</td>\n      <td>53648</td>\n      <td>1082011</td>\n      <td>lucknow</td>\n      <td>2927</td>\n      <td>suv</td>\n      <td>automatic</td>\n      <td>...</td>\n      <td>1</td>\n      <td>1119840</td>\n      <td>1125840.0</td>\n      <td>great</td>\n      <td>2021-04-01T07:24:31.712</td>\n      <td>True</td>\n      <td>25132</td>\n      <td>162302</td>\n      <td>False</td>\n      <td>False</td>\n    </tr>\n  </tbody>\n</table>\n<p>5 rows × 30 columns</p>\n</div>"
     },
     "metadata": {},
     "execution_count": 93
    }
   ],
   "source": [
    "# ↓↓ Visualizando os dados\n",
    "# ↓↓ Viewing data\n",
    "df_Ind_Cars_Tst.head()"
   ]
  },
  {
   "cell_type": "code",
   "execution_count": 96,
   "metadata": {},
   "outputs": [
    {
     "output_type": "execute_result",
     "data": {
      "text/plain": [
       "Index(['id', 'car_name', 'yr_mfr', 'fuel_type', 'kms_run', 'sale_price',\n",
       "       'city', 'times_viewed', 'body_type', 'transmission', 'variant',\n",
       "       'assured_buy', 'registered_city', 'registered_state', 'is_hot', 'rto',\n",
       "       'source', 'make', 'model', 'car_availability', 'total_owners',\n",
       "       'broker_quote', 'original_price', 'car_rating', 'ad_created_on',\n",
       "       'fitness_certificate', 'emi_starts_from', 'booking_down_pymnt',\n",
       "       'reserved', 'warranty_avail'],\n",
       "      dtype='object')"
      ]
     },
     "metadata": {},
     "execution_count": 96
    }
   ],
   "source": [
    "# ↓↓ Listando as colunas do dataFrame de dados de teste\n",
    "# ↓↓ Listing the Test Data DataFrame Columns\n",
    "df_Ind_Cars_Tst.columns"
   ]
  },
  {
   "cell_type": "code",
   "execution_count": 97,
   "metadata": {},
   "outputs": [
    {
     "output_type": "execute_result",
     "data": {
      "text/plain": [
       "               car_name  yr_mfr     fuel_type  kms_run  sale_price       city  \\\n",
       "0    maruti swift dzire    2012        petrol    69029      364299       pune   \n",
       "1           hyundai eon    2013        petrol    45721      216799    gurgaon   \n",
       "2           honda amaze    2013        diesel    37395      387399       pune   \n",
       "3           hyundai i20    2012        petrol    37652      364699  bengaluru   \n",
       "4         hyundai creta    2017        diesel    53648     1082011    lucknow   \n",
       "..                  ...     ...           ...      ...         ...        ...   \n",
       "995          maruti 800    2002  petrol & lpg    77323       35000  ahmedabad   \n",
       "996         honda amaze    2018        diesel    53486      604299  ghaziabad   \n",
       "997        maruti ignis    2018        petrol     8854      562599    chennai   \n",
       "998         honda amaze    2015        petrol    46300      400499       pune   \n",
       "999     maruti alto k10    2016        petrol    27245      284099  new delhi   \n",
       "\n",
       "     body_type transmission                variant  assured_buy  \\\n",
       "0        sedan       manual          vxi 1.2 bs iv         True   \n",
       "1    hatchback       manual               era plus         True   \n",
       "2        sedan       manual         1.5 smt i dtec         True   \n",
       "3    hatchback       manual            magna o 1.2         True   \n",
       "4          suv    automatic  1.6 crdi sx plus auto         True   \n",
       "..         ...          ...                    ...          ...   \n",
       "995  hatchback       manual                     ac        False   \n",
       "996      sedan          NaN       1.5 v cvt i-dtec         True   \n",
       "997  hatchback       manual          delta 1.2 k12         True   \n",
       "998      sedan       manual         1.2 smt i vtec         True   \n",
       "999  hatchback       manual                    lxi         True   \n",
       "\n",
       "    registered_city registered_state  is_hot   rto     make        model  \\\n",
       "0              pune      maharashtra    True  mh12   maruti  swift dzire   \n",
       "1             delhi            delhi    True  dl7c  hyundai          eon   \n",
       "2            mumbai      maharashtra    True  mh02    honda        amaze   \n",
       "3         bengaluru        karnataka    True  ka53  hyundai          i20   \n",
       "4           lucknow    uttar pradesh    True  up32  hyundai        creta   \n",
       "..              ...              ...     ...   ...      ...          ...   \n",
       "995       ahmedabad          gujarat   False  gj1h   maruti          800   \n",
       "996       ghaziabad    uttar pradesh    True  up14    honda        amaze   \n",
       "997         chennai       tamil nadu    True  tn07   maruti        ignis   \n",
       "998            pune      maharashtra    True  mh12    honda        amaze   \n",
       "999           delhi            delhi    True  dl8c   maruti     alto k10   \n",
       "\n",
       "     total_owners  broker_quote  original_price  \n",
       "0               3        363529        365029.0  \n",
       "1               1        205738             NaN  \n",
       "2               1        382667             NaN  \n",
       "3               3        335740             NaN  \n",
       "4               1       1119840       1125840.0  \n",
       "..            ...           ...             ...  \n",
       "995             2             0             NaN  \n",
       "996             1        630810        787750.0  \n",
       "997             1        549440             NaN  \n",
       "998             1        383419             NaN  \n",
       "999             1        286515        369885.0  \n",
       "\n",
       "[1000 rows x 19 columns]"
      ],
      "text/html": "<div>\n<style scoped>\n    .dataframe tbody tr th:only-of-type {\n        vertical-align: middle;\n    }\n\n    .dataframe tbody tr th {\n        vertical-align: top;\n    }\n\n    .dataframe thead th {\n        text-align: right;\n    }\n</style>\n<table border=\"1\" class=\"dataframe\">\n  <thead>\n    <tr style=\"text-align: right;\">\n      <th></th>\n      <th>car_name</th>\n      <th>yr_mfr</th>\n      <th>fuel_type</th>\n      <th>kms_run</th>\n      <th>sale_price</th>\n      <th>city</th>\n      <th>body_type</th>\n      <th>transmission</th>\n      <th>variant</th>\n      <th>assured_buy</th>\n      <th>registered_city</th>\n      <th>registered_state</th>\n      <th>is_hot</th>\n      <th>rto</th>\n      <th>make</th>\n      <th>model</th>\n      <th>total_owners</th>\n      <th>broker_quote</th>\n      <th>original_price</th>\n    </tr>\n  </thead>\n  <tbody>\n    <tr>\n      <th>0</th>\n      <td>maruti swift dzire</td>\n      <td>2012</td>\n      <td>petrol</td>\n      <td>69029</td>\n      <td>364299</td>\n      <td>pune</td>\n      <td>sedan</td>\n      <td>manual</td>\n      <td>vxi 1.2 bs iv</td>\n      <td>True</td>\n      <td>pune</td>\n      <td>maharashtra</td>\n      <td>True</td>\n      <td>mh12</td>\n      <td>maruti</td>\n      <td>swift dzire</td>\n      <td>3</td>\n      <td>363529</td>\n      <td>365029.0</td>\n    </tr>\n    <tr>\n      <th>1</th>\n      <td>hyundai eon</td>\n      <td>2013</td>\n      <td>petrol</td>\n      <td>45721</td>\n      <td>216799</td>\n      <td>gurgaon</td>\n      <td>hatchback</td>\n      <td>manual</td>\n      <td>era plus</td>\n      <td>True</td>\n      <td>delhi</td>\n      <td>delhi</td>\n      <td>True</td>\n      <td>dl7c</td>\n      <td>hyundai</td>\n      <td>eon</td>\n      <td>1</td>\n      <td>205738</td>\n      <td>NaN</td>\n    </tr>\n    <tr>\n      <th>2</th>\n      <td>honda amaze</td>\n      <td>2013</td>\n      <td>diesel</td>\n      <td>37395</td>\n      <td>387399</td>\n      <td>pune</td>\n      <td>sedan</td>\n      <td>manual</td>\n      <td>1.5 smt i dtec</td>\n      <td>True</td>\n      <td>mumbai</td>\n      <td>maharashtra</td>\n      <td>True</td>\n      <td>mh02</td>\n      <td>honda</td>\n      <td>amaze</td>\n      <td>1</td>\n      <td>382667</td>\n      <td>NaN</td>\n    </tr>\n    <tr>\n      <th>3</th>\n      <td>hyundai i20</td>\n      <td>2012</td>\n      <td>petrol</td>\n      <td>37652</td>\n      <td>364699</td>\n      <td>bengaluru</td>\n      <td>hatchback</td>\n      <td>manual</td>\n      <td>magna o 1.2</td>\n      <td>True</td>\n      <td>bengaluru</td>\n      <td>karnataka</td>\n      <td>True</td>\n      <td>ka53</td>\n      <td>hyundai</td>\n      <td>i20</td>\n      <td>3</td>\n      <td>335740</td>\n      <td>NaN</td>\n    </tr>\n    <tr>\n      <th>4</th>\n      <td>hyundai creta</td>\n      <td>2017</td>\n      <td>diesel</td>\n      <td>53648</td>\n      <td>1082011</td>\n      <td>lucknow</td>\n      <td>suv</td>\n      <td>automatic</td>\n      <td>1.6 crdi sx plus auto</td>\n      <td>True</td>\n      <td>lucknow</td>\n      <td>uttar pradesh</td>\n      <td>True</td>\n      <td>up32</td>\n      <td>hyundai</td>\n      <td>creta</td>\n      <td>1</td>\n      <td>1119840</td>\n      <td>1125840.0</td>\n    </tr>\n    <tr>\n      <th>...</th>\n      <td>...</td>\n      <td>...</td>\n      <td>...</td>\n      <td>...</td>\n      <td>...</td>\n      <td>...</td>\n      <td>...</td>\n      <td>...</td>\n      <td>...</td>\n      <td>...</td>\n      <td>...</td>\n      <td>...</td>\n      <td>...</td>\n      <td>...</td>\n      <td>...</td>\n      <td>...</td>\n      <td>...</td>\n      <td>...</td>\n      <td>...</td>\n    </tr>\n    <tr>\n      <th>995</th>\n      <td>maruti 800</td>\n      <td>2002</td>\n      <td>petrol &amp; lpg</td>\n      <td>77323</td>\n      <td>35000</td>\n      <td>ahmedabad</td>\n      <td>hatchback</td>\n      <td>manual</td>\n      <td>ac</td>\n      <td>False</td>\n      <td>ahmedabad</td>\n      <td>gujarat</td>\n      <td>False</td>\n      <td>gj1h</td>\n      <td>maruti</td>\n      <td>800</td>\n      <td>2</td>\n      <td>0</td>\n      <td>NaN</td>\n    </tr>\n    <tr>\n      <th>996</th>\n      <td>honda amaze</td>\n      <td>2018</td>\n      <td>diesel</td>\n      <td>53486</td>\n      <td>604299</td>\n      <td>ghaziabad</td>\n      <td>sedan</td>\n      <td>NaN</td>\n      <td>1.5 v cvt i-dtec</td>\n      <td>True</td>\n      <td>ghaziabad</td>\n      <td>uttar pradesh</td>\n      <td>True</td>\n      <td>up14</td>\n      <td>honda</td>\n      <td>amaze</td>\n      <td>1</td>\n      <td>630810</td>\n      <td>787750.0</td>\n    </tr>\n    <tr>\n      <th>997</th>\n      <td>maruti ignis</td>\n      <td>2018</td>\n      <td>petrol</td>\n      <td>8854</td>\n      <td>562599</td>\n      <td>chennai</td>\n      <td>hatchback</td>\n      <td>manual</td>\n      <td>delta 1.2 k12</td>\n      <td>True</td>\n      <td>chennai</td>\n      <td>tamil nadu</td>\n      <td>True</td>\n      <td>tn07</td>\n      <td>maruti</td>\n      <td>ignis</td>\n      <td>1</td>\n      <td>549440</td>\n      <td>NaN</td>\n    </tr>\n    <tr>\n      <th>998</th>\n      <td>honda amaze</td>\n      <td>2015</td>\n      <td>petrol</td>\n      <td>46300</td>\n      <td>400499</td>\n      <td>pune</td>\n      <td>sedan</td>\n      <td>manual</td>\n      <td>1.2 smt i vtec</td>\n      <td>True</td>\n      <td>pune</td>\n      <td>maharashtra</td>\n      <td>True</td>\n      <td>mh12</td>\n      <td>honda</td>\n      <td>amaze</td>\n      <td>1</td>\n      <td>383419</td>\n      <td>NaN</td>\n    </tr>\n    <tr>\n      <th>999</th>\n      <td>maruti alto k10</td>\n      <td>2016</td>\n      <td>petrol</td>\n      <td>27245</td>\n      <td>284099</td>\n      <td>new delhi</td>\n      <td>hatchback</td>\n      <td>manual</td>\n      <td>lxi</td>\n      <td>True</td>\n      <td>delhi</td>\n      <td>delhi</td>\n      <td>True</td>\n      <td>dl8c</td>\n      <td>maruti</td>\n      <td>alto k10</td>\n      <td>1</td>\n      <td>286515</td>\n      <td>369885.0</td>\n    </tr>\n  </tbody>\n</table>\n<p>1000 rows × 19 columns</p>\n</div>"
     },
     "metadata": {},
     "execution_count": 97
    }
   ],
   "source": [
    "# ↓↓ Excluindo as mesmas colunas que foram excluídas da arquivo de treinamento\n",
    "# ↓↓ Deleting the same columns that were deleted from the training file\n",
    "df_Ind_Cars_Tst.drop(columns=['id','car_availability','source','emi_starts_from','booking_down_pymnt','ad_created_on','reserved','car_rating','fitness_certificate','warranty_avail','times_viewed'], inplace=True, axis=1) ; df_Ind_Cars_Tst"
   ]
  },
  {
   "cell_type": "code",
   "execution_count": 98,
   "metadata": {},
   "outputs": [],
   "source": [
    "# ↓↓ Excluindo as linhas com valores ausentes\n",
    "# ↓↓ Deleting Rows with Missing Values\n",
    "df_Ind_Cars_Tst = df_Ind_Cars_Tst.dropna()"
   ]
  },
  {
   "cell_type": "code",
   "execution_count": 99,
   "metadata": {},
   "outputs": [
    {
     "output_type": "execute_result",
     "data": {
      "text/plain": [
       "car_name                0\n",
       "yr_mfr                  0\n",
       "fuel_type               0\n",
       "kms_run                 0\n",
       "sale_price              0\n",
       "city                    0\n",
       "body_type               0\n",
       "transmission            0\n",
       "variant                 0\n",
       "assured_buy             0\n",
       "registered_city         0\n",
       "registered_state        0\n",
       "is_hot                  0\n",
       "rto                     0\n",
       "make                    0\n",
       "model                   0\n",
       "total_owners            0\n",
       "broker_quote            0\n",
       "sale_price_log          0\n",
       "car_name_cat            0\n",
       "fuel_type_cat           0\n",
       "city_cat                0\n",
       "body_type_cat           0\n",
       "transmission_cat        0\n",
       "variant_cat             0\n",
       "assured_buy_cat         0\n",
       "registered_city_cat     0\n",
       "registered_state_cat    0\n",
       "is_hot_cat              0\n",
       "rto_cat                 0\n",
       "make_cat                0\n",
       "model_cat               0\n",
       "dtype: int64"
      ]
     },
     "metadata": {},
     "execution_count": 99
    }
   ],
   "source": [
    "# ↓↓ Listando e vericando se ainda existem valores ausentes nas colunas\n",
    "# ↓↓ Listing and checking if there are still missing values in columns\n",
    "dfPureCars.isna().sum()"
   ]
  },
  {
   "cell_type": "code",
   "execution_count": 100,
   "metadata": {},
   "outputs": [],
   "source": [
    "# ↓↓ Categoria apenas as colunas mais importantes para o modelo\n",
    "# ↓↓ Category only the most important columns for the model\n",
    "df_Ind_Cars_Tst.car_name = df_Ind_Cars_Tst.car_name.astype('category')\n",
    "df_Ind_Cars_Tst.make = df_Ind_Cars_Tst.make.astype('category')\n",
    "df_Ind_Cars_Tst.is_hot = df_Ind_Cars_Tst.is_hot.astype('category')\n",
    "df_Ind_Cars_Tst.model = df_Ind_Cars_Tst.model.astype('category')\n",
    "df_Ind_Cars_Tst.fuel_type = df_Ind_Cars_Tst.fuel_type.astype('category')\n"
   ]
  },
  {
   "cell_type": "code",
   "execution_count": 101,
   "metadata": {},
   "outputs": [],
   "source": [
    "# ↓↓ Captura os códigos em outra coluna para todas as colunas categoricas mais importantes\n",
    "# ↓↓ Captures codes in another column for all the most important categorical columns\n",
    "df_Ind_Cars_Tst['car_name_cat'] = df_Ind_Cars_Tst.car_name.cat.codes\n",
    "df_Ind_Cars_Tst['make_cat'] = df_Ind_Cars_Tst.make.cat.codes\n",
    "df_Ind_Cars_Tst['is_hot_cat'] = df_Ind_Cars_Tst.is_hot.cat.codes\n",
    "df_Ind_Cars_Tst['model_cat'] = df_Ind_Cars_Tst.model.cat.codes\n",
    "df_Ind_Cars_Tst['fuel_type_cat'] = df_Ind_Cars_Tst.fuel_type.cat.codes"
   ]
  },
  {
   "cell_type": "code",
   "execution_count": 102,
   "metadata": {},
   "outputs": [],
   "source": [
    "# ↓↓ Criando dataset com apenas as colunas mais importantes conforme o modelo treinando espera\n",
    "# ↓↓ Creating dataset with only the most important columns as the training model expects\n",
    "dfIndCarsTest = df_Ind_Cars_Tst[['car_name_cat','make_cat','is_hot_cat','model_cat','yr_mfr','fuel_type_cat','broker_quote','sale_price']]"
   ]
  },
  {
   "cell_type": "code",
   "execution_count": 104,
   "metadata": {},
   "outputs": [
    {
     "output_type": "execute_result",
     "data": {
      "text/plain": [
       "   car_name_cat  make_cat  is_hot_cat  model_cat  yr_mfr  fuel_type_cat  \\\n",
       "0            49         7           0         63    2012              1   \n",
       "4            16         4           0         21    2017              0   \n",
       "6            20         4           0         38    2010              1   \n",
       "7            37         7           0          6    2014              1   \n",
       "9            37         7           0          6    2013              1   \n",
       "\n",
       "   broker_quote  sale_price  \n",
       "0        363529      364299  \n",
       "4       1119840     1082011  \n",
       "6        255175      286399  \n",
       "7        280943      283299  \n",
       "9        208701      205299  "
      ],
      "text/html": "<div>\n<style scoped>\n    .dataframe tbody tr th:only-of-type {\n        vertical-align: middle;\n    }\n\n    .dataframe tbody tr th {\n        vertical-align: top;\n    }\n\n    .dataframe thead th {\n        text-align: right;\n    }\n</style>\n<table border=\"1\" class=\"dataframe\">\n  <thead>\n    <tr style=\"text-align: right;\">\n      <th></th>\n      <th>car_name_cat</th>\n      <th>make_cat</th>\n      <th>is_hot_cat</th>\n      <th>model_cat</th>\n      <th>yr_mfr</th>\n      <th>fuel_type_cat</th>\n      <th>broker_quote</th>\n      <th>sale_price</th>\n    </tr>\n  </thead>\n  <tbody>\n    <tr>\n      <th>0</th>\n      <td>49</td>\n      <td>7</td>\n      <td>0</td>\n      <td>63</td>\n      <td>2012</td>\n      <td>1</td>\n      <td>363529</td>\n      <td>364299</td>\n    </tr>\n    <tr>\n      <th>4</th>\n      <td>16</td>\n      <td>4</td>\n      <td>0</td>\n      <td>21</td>\n      <td>2017</td>\n      <td>0</td>\n      <td>1119840</td>\n      <td>1082011</td>\n    </tr>\n    <tr>\n      <th>6</th>\n      <td>20</td>\n      <td>4</td>\n      <td>0</td>\n      <td>38</td>\n      <td>2010</td>\n      <td>1</td>\n      <td>255175</td>\n      <td>286399</td>\n    </tr>\n    <tr>\n      <th>7</th>\n      <td>37</td>\n      <td>7</td>\n      <td>0</td>\n      <td>6</td>\n      <td>2014</td>\n      <td>1</td>\n      <td>280943</td>\n      <td>283299</td>\n    </tr>\n    <tr>\n      <th>9</th>\n      <td>37</td>\n      <td>7</td>\n      <td>0</td>\n      <td>6</td>\n      <td>2013</td>\n      <td>1</td>\n      <td>208701</td>\n      <td>205299</td>\n    </tr>\n  </tbody>\n</table>\n</div>"
     },
     "metadata": {},
     "execution_count": 104
    }
   ],
   "source": [
    "# ↓↓ Visualizando primeiras linhas do dataset\n",
    "# ↓↓ Viewing first rows of dataset\n",
    "dfIndCarsTest.head()\n"
   ]
  },
  {
   "source": [
    "### Fazendo Previsões com o Modelo de Regressão Linear Múltipla\n",
    "#### Usando os features mais importantes 'car_name_cat','make_cat','is_hot_cat','model_cat','yr_mfr','fuel_type_cat','broker_quote'\n",
    "\n",
    "### Making Predictions with the Multiple Linear Regression Model\n",
    "#### Using the most important features 'car_name_cat','make_cat','is_hot_cat','model_cat','yr_mfr','fuel_type_cat','broker_quote'"
   ],
   "cell_type": "markdown",
   "metadata": {}
  },
  {
   "cell_type": "code",
   "execution_count": 105,
   "metadata": {},
   "outputs": [],
   "source": [
    "# ↓↓ Extraindo apenas as variáveis independentes do Dataset de Teste após categorização aplicada\n",
    "# ↓↓ Extracting only independent variables from the Test Dataset after applied categorization\n",
    "X_More_Import= dfIndCarsTest[['car_name_cat','make_cat','is_hot_cat','model_cat','yr_mfr','fuel_type_cat','broker_quote']]\n",
    "\n",
    "# ↓↓ Extraindo a variável target, isto é, sale_price\n",
    "# ↓↓ Extracting the target variable, ie sale_price\n",
    "Target = dfIndCarsTest['sale_price'].values"
   ]
  },
  {
   "cell_type": "code",
   "execution_count": 106,
   "metadata": {},
   "outputs": [
    {
     "output_type": "execute_result",
     "data": {
      "text/plain": [
       "     car_name_cat  make_cat  is_hot_cat  model_cat  yr_mfr  fuel_type_cat  \\\n",
       "0              49         7           0         63    2012              1   \n",
       "4              16         4           0         21    2017              0   \n",
       "6              20         4           0         38    2010              1   \n",
       "7              37         7           0          6    2014              1   \n",
       "9              37         7           0          6    2013              1   \n",
       "..            ...       ...         ...        ...     ...            ...   \n",
       "988            37         7           0          6    2017              1   \n",
       "992            36         7           0          5    2015              1   \n",
       "993            37         7           0          6    2010              1   \n",
       "994            76        14           0         45    2012              1   \n",
       "999            37         7           0          6    2016              1   \n",
       "\n",
       "     broker_quote  \n",
       "0          363529  \n",
       "4         1119840  \n",
       "6          255175  \n",
       "7          280943  \n",
       "9          208701  \n",
       "..            ...  \n",
       "988        302687  \n",
       "992        234575  \n",
       "993        174955  \n",
       "994        450466  \n",
       "999        286515  \n",
       "\n",
       "[496 rows x 7 columns]"
      ],
      "text/html": "<div>\n<style scoped>\n    .dataframe tbody tr th:only-of-type {\n        vertical-align: middle;\n    }\n\n    .dataframe tbody tr th {\n        vertical-align: top;\n    }\n\n    .dataframe thead th {\n        text-align: right;\n    }\n</style>\n<table border=\"1\" class=\"dataframe\">\n  <thead>\n    <tr style=\"text-align: right;\">\n      <th></th>\n      <th>car_name_cat</th>\n      <th>make_cat</th>\n      <th>is_hot_cat</th>\n      <th>model_cat</th>\n      <th>yr_mfr</th>\n      <th>fuel_type_cat</th>\n      <th>broker_quote</th>\n    </tr>\n  </thead>\n  <tbody>\n    <tr>\n      <th>0</th>\n      <td>49</td>\n      <td>7</td>\n      <td>0</td>\n      <td>63</td>\n      <td>2012</td>\n      <td>1</td>\n      <td>363529</td>\n    </tr>\n    <tr>\n      <th>4</th>\n      <td>16</td>\n      <td>4</td>\n      <td>0</td>\n      <td>21</td>\n      <td>2017</td>\n      <td>0</td>\n      <td>1119840</td>\n    </tr>\n    <tr>\n      <th>6</th>\n      <td>20</td>\n      <td>4</td>\n      <td>0</td>\n      <td>38</td>\n      <td>2010</td>\n      <td>1</td>\n      <td>255175</td>\n    </tr>\n    <tr>\n      <th>7</th>\n      <td>37</td>\n      <td>7</td>\n      <td>0</td>\n      <td>6</td>\n      <td>2014</td>\n      <td>1</td>\n      <td>280943</td>\n    </tr>\n    <tr>\n      <th>9</th>\n      <td>37</td>\n      <td>7</td>\n      <td>0</td>\n      <td>6</td>\n      <td>2013</td>\n      <td>1</td>\n      <td>208701</td>\n    </tr>\n    <tr>\n      <th>...</th>\n      <td>...</td>\n      <td>...</td>\n      <td>...</td>\n      <td>...</td>\n      <td>...</td>\n      <td>...</td>\n      <td>...</td>\n    </tr>\n    <tr>\n      <th>988</th>\n      <td>37</td>\n      <td>7</td>\n      <td>0</td>\n      <td>6</td>\n      <td>2017</td>\n      <td>1</td>\n      <td>302687</td>\n    </tr>\n    <tr>\n      <th>992</th>\n      <td>36</td>\n      <td>7</td>\n      <td>0</td>\n      <td>5</td>\n      <td>2015</td>\n      <td>1</td>\n      <td>234575</td>\n    </tr>\n    <tr>\n      <th>993</th>\n      <td>37</td>\n      <td>7</td>\n      <td>0</td>\n      <td>6</td>\n      <td>2010</td>\n      <td>1</td>\n      <td>174955</td>\n    </tr>\n    <tr>\n      <th>994</th>\n      <td>76</td>\n      <td>14</td>\n      <td>0</td>\n      <td>45</td>\n      <td>2012</td>\n      <td>1</td>\n      <td>450466</td>\n    </tr>\n    <tr>\n      <th>999</th>\n      <td>37</td>\n      <td>7</td>\n      <td>0</td>\n      <td>6</td>\n      <td>2016</td>\n      <td>1</td>\n      <td>286515</td>\n    </tr>\n  </tbody>\n</table>\n<p>496 rows × 7 columns</p>\n</div>"
     },
     "metadata": {},
     "execution_count": 106
    }
   ],
   "source": [
    "# ↓↓ Listando as variáveis independentes e seus valores\n",
    "# ↓↓ Listing independent variables and their values\n",
    "X_More_Import"
   ]
  },
  {
   "cell_type": "code",
   "execution_count": 107,
   "metadata": {},
   "outputs": [
    {
     "output_type": "execute_result",
     "data": {
      "text/plain": [
       "array([ 364299, 1082011,  286399,  283299,  205299,  715299,  499099,\n",
       "        203899,  157399,  383999,  620299,  210099,  387899,  305099,\n",
       "        504899,   89099,  802199, 1389758,  394099,  546199,  288499,\n",
       "        570399,  237199,  560999,  465599,  386799,  626999,  567199,\n",
       "        520499,  249599,  487499, 1248358,  410599,  366799,  415699,\n",
       "        401799,  182199,  312499, 1490758,  639499,  102499,  673999,\n",
       "        371899,  595999,  444499, 1367538,  227099,  328099,  450399,\n",
       "        359899, 1129683,  490999,  234399,  481199,  324199,  574999,\n",
       "        157299,  373799,  766599,  333799,  336999,  340699,  563799,\n",
       "        197799,  916099,  265699,  424499,  386499,  858799,  310299,\n",
       "        521099,  674199,  193499, 1914453,  620199,  461099,  251199,\n",
       "        668999,  674299,  423899,  392099,  437299, 1184223,  460099,\n",
       "        595999,  604999,  622599,  472799,  286099,  671999,  306999,\n",
       "       1972932,  241499,  312699,  524699,  212999,  517499,  788399,\n",
       "        364899,  235999,  315299,  325299,  432099,  209599,  773199,\n",
       "        803399,  557099,  201899,  625199,  338099,  552599,  371499,\n",
       "        637399,  386599,  221899,  723199,  593599,  324199,  659499,\n",
       "        207499,  622999,  772499,  421099,  252199, 1182304,  257499,\n",
       "        469999,  335099,  238299,  280799,  292799,  490799,  277099,\n",
       "        822899,  855999,  419699,  680199,  541799,  333299,  202799,\n",
       "        660199,  506299,  517199,  380199,  537599,  200399,  252999,\n",
       "        768199,  731399,  740799,  246999,  182099,  545999,  409299,\n",
       "        365099,  973399,  269099,  180699,  548599,  289799,  481099,\n",
       "        411499,  384299,  187099,  623899,  259599,  567099,  386599,\n",
       "        367699,  356599,  709499,  456899,  206999,  394499,  238599,\n",
       "        279599,  435099,  691699,  658899,  790299,  555899,  260299,\n",
       "        623799,  777299,  936699,  614099,  189499,  690699,  476499,\n",
       "        489599,  575099,  474499,  480399,  291999,  343299,  324599,\n",
       "        884399,  304399,  522599,  511499,  533399,  354099,  366399,\n",
       "        623899,  707799,  806099,  606699,  352299,  357399,  298599,\n",
       "        246699,  523899,  283099,  581099,  959399,  378999,  358799,\n",
       "        536099,  387199,  664599,  358399,  452399,  263199,  695599,\n",
       "        479999,  510899,  478299,  485399,  685399,  400699,  981199,\n",
       "        420099,  274299,  921799,  618799,  811699, 1651146,  408899,\n",
       "        453799,  256399,  302099,  547899,  200799,  422299,  370299,\n",
       "        662399,  478899,  363499,  288699,  383699,  377899,  435599,\n",
       "        417799,  507799, 1105948,  291999,  376799,  337399,  476899,\n",
       "        531499,  552599,  669799, 1021411,  156899,  218999,  812499,\n",
       "        317399, 1063528,  405099,  385499, 1189172,  383199,  668299,\n",
       "        928599,  529899,  252499,  492199,  523499,  492399,  302499,\n",
       "        248999,  301199,  592499,  268799,  403499,  251899,  323099,\n",
       "        186999,  341999,  312199,  351499,  274399,  240499,  287299,\n",
       "        358699,  415299,  684199,  270699,  570599,  290299,  259099,\n",
       "        381699,  435899,  291599,  133199,  405499,  483299,  248099,\n",
       "        615799,  549299,  758099,  297499,  329099,  326599,  342699,\n",
       "        312299,  391899,  305599,  669799,  388799,  439399,  272399,\n",
       "        272199,  355799,  393299,  655599,  401899,  505799,  145799,\n",
       "        219899,  607799,  310299,  293099,  482099,  444499,  565699,\n",
       "        397099,  572699,  307199,  350599,  607899,  103599,  567499,\n",
       "        304399,  359199,  427299,  507899,  257999,  278699,  865399,\n",
       "       1445409,  825999,  694799,  323299,  385399, 1646803,  314999,\n",
       "        313899,  285699,  338399,  431999,  257199, 1708615,  298599,\n",
       "        313999,  209999,  476299,  336299,  508499,  411499,  719499,\n",
       "        240599,  273199,  420099,  648899,  534599,  702299,  239999,\n",
       "        321099,  230999,  231899,  181399,  826299,  391699,  224499,\n",
       "        223999,  358899,  555699,  285199,  548299,  360699,  263899,\n",
       "        531599,  208499,  243099,  224399,  259099,  317499,  678399,\n",
       "        298099,  248999,  323499,  210699,  681899,  285899,  176099,\n",
       "        369999,  447599,  900799,  432099,  238799,  618199,  238599,\n",
       "        703899,  732299,  346499,  582299,  761399,  237199,  246499,\n",
       "        376099,  302399,  251799,  559399,  508499,  228299,  423899,\n",
       "       1052216,  733899,  880799,  453399,  252799,  397499,  347699,\n",
       "        457099,  987199,  256099,  607399,  504699,  371199,  386299,\n",
       "        475399,  460999,  275599,  491399,  322699,  559599,  676899,\n",
       "        705499,  291699,  261699,  589399,  438099,  788499, 2571559,\n",
       "        300399,  556199,  504299,  888899,  231699,  255199,  201799,\n",
       "        771599,  562399,  216199,  797399,  491399,  397899,  316699,\n",
       "        425699,  133199,  323699,  244799,  615099,  426399,  237499,\n",
       "        582599,  456999,  325799,  493599,  443599,  422099,  441799,\n",
       "        416599,  526899,  387199,  603699,  449199,  829399,  258499,\n",
       "        535399,  294299,  232199,  189699,  448699,  284099], dtype=int64)"
      ]
     },
     "metadata": {},
     "execution_count": 107
    }
   ],
   "source": [
    "# ↓↓ Listando os valores da variável target\n",
    "# ↓↓ Listing the target variable values\n",
    "Target"
   ]
  },
  {
   "cell_type": "code",
   "execution_count": 109,
   "metadata": {},
   "outputs": [
    {
     "output_type": "stream",
     "name": "stdout",
     "text": [
      "Coeficiente R2: 0.934\n"
     ]
    }
   ],
   "source": [
    "# ↓↓ Executando o modelo com dados de teste, isto é, que ele nunca tinha visto e calculando no nível de erro da base de teste.\n",
    "# ↓↓ Running the model with test data, that is, that he had never seen and calculating at the test base error level.\n",
    "print ('Coeficiente R2: %0.3f' %  r2_est_final(X_More_Import,Target))"
   ]
  },
  {
   "cell_type": "code",
   "execution_count": null,
   "metadata": {},
   "outputs": [],
   "source": [
    "# ↑↑ Obtendo um valor novamente de 0.934, isto é, um nível ótimo.\n",
    "# ↑↑ Getting a value again of 0.934, that is, an optimal level."
   ]
  }
 ]
}